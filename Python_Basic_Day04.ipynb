{
 "cells": [
  {
   "cell_type": "markdown",
   "id": "d2625fed",
   "metadata": {},
   "source": [
    "# OOP"
   ]
  },
  {
   "cell_type": "markdown",
   "id": "ecc51997",
   "metadata": {},
   "source": [
    "## class"
   ]
  },
  {
   "cell_type": "code",
   "execution_count": 1,
   "id": "0d92a2c3",
   "metadata": {},
   "outputs": [
    {
     "name": "stdout",
     "output_type": "stream",
     "text": [
      "I have 5 heads and I'm Black\n",
      "I also have 4 heads and I'm Yellow\n",
      "I got 3 heads and I'm Red\n"
     ]
    }
   ],
   "source": [
    "class Monster:\n",
    "    def __init__(self, color, heads):\n",
    "        self.color = color\n",
    "        self.heads = heads\n",
    "\n",
    "fogthing = Monster(\"Black\", 5)\n",
    "mournsnake = Monster(\"Yellow\", 4)\n",
    "tangleface = Monster(\"Red\", 3)\n",
    "\n",
    "print('I have ' + str(fogthing.heads) + ' heads and I\\'m ' + fogthing.color)\n",
    "print('I also have ' + str(mournsnake.heads) + ' heads and I\\'m ' + mournsnake.color)\n",
    "print('I got ' + str(tangleface.heads) + ' heads and I\\'m ' + tangleface.color)"
   ]
  },
  {
   "cell_type": "code",
   "execution_count": 2,
   "id": "121a4a63",
   "metadata": {},
   "outputs": [
    {
     "name": "stdout",
     "output_type": "stream",
     "text": [
      "I am a 4 headed monster.\n",
      "Just attacked a Hero, Mu...hahahaha!!!\n"
     ]
    }
   ],
   "source": [
    "class Monster:\n",
    "    def __init__(self, color, heads):\n",
    "        self.color = color\n",
    "        self.heads = heads\n",
    "\n",
    "    def attack(self):\n",
    "        print(\"Just attacked a Hero, Mu...hahahaha!!!\")\n",
    "\n",
    "mournsnake = Monster(\"Yellow\", 4)\n",
    "print('I am a ' + str(mournsnake.heads) + ' headed monster.')\n",
    "mournsnake.attack()"
   ]
  },
  {
   "cell_type": "code",
   "execution_count": 3,
   "id": "b8fdc23c",
   "metadata": {},
   "outputs": [
    {
     "name": "stdout",
     "output_type": "stream",
     "text": [
      "I am a 4 headed negative character\n",
      "I am a 3 headed negative character\n"
     ]
    }
   ],
   "source": [
    "class Monster:\n",
    "    identity = \"negative character\"\n",
    "\n",
    "    def __init__(self, color, heads):\n",
    "        self.color = color\n",
    "        self.heads = heads\n",
    "\n",
    "    def attack(self):\n",
    "        print(\"Just attacked a Hero, Mu...hahahaha!!!\")\n",
    "\n",
    "\n",
    "mournsnake = Monster(\"Yellow\", 4)\n",
    "tangleface = Monster(\"Red\", 3)\n",
    "\n",
    "print('I am a ' + str(mournsnake.heads) + ' headed ' + mournsnake.identity)\n",
    "print('I am a ' + str(tangleface.heads) + ' headed ' + tangleface.identity)"
   ]
  },
  {
   "cell_type": "markdown",
   "id": "7facd10b",
   "metadata": {},
   "source": [
    "## inheritance"
   ]
  },
  {
   "cell_type": "code",
   "execution_count": 4,
   "id": "572692c8",
   "metadata": {},
   "outputs": [
    {
     "name": "stdout",
     "output_type": "stream",
     "text": [
      "I am attacking...\n",
      "Grrrrrrrrrr\n",
      "\n",
      "I am attacking...\n",
      "Hiiissssshhhh\n",
      "\n"
     ]
    }
   ],
   "source": [
    "class Monster:\n",
    "    def __init__(self, name, color):\n",
    "        self.name = name\n",
    "        self.color = color\n",
    "\n",
    "    def attack(self):\n",
    "        print('I am attacking...')\n",
    "\n",
    "\n",
    "class Fogthing(Monster):\n",
    "    def make_sound(self):\n",
    "        print('Grrrrrrrrrr\\n')\n",
    "\n",
    "\n",
    "class Mournsnake(Monster):\n",
    "    def make_sound(self):\n",
    "        print('Hiiissssshhhh\\n')\n",
    "\n",
    "\n",
    "fogthing = Fogthing(\"Fogthing\", \"Yellow\")\n",
    "fogthing.attack()\n",
    "fogthing.make_sound()\n",
    "\n",
    "mournsnake = Mournsnake(\"Mournsnake\", \"Red\")\n",
    "mournsnake.attack()\n",
    "mournsnake.make_sound()"
   ]
  },
  {
   "cell_type": "code",
   "execution_count": 5,
   "id": "61e0814f",
   "metadata": {},
   "outputs": [
    {
     "name": "stdout",
     "output_type": "stream",
     "text": [
      "I am killing...\n",
      "Grrrrrrrrrr\n",
      "\n"
     ]
    }
   ],
   "source": [
    "#overriding\n",
    "class Monster:\n",
    "    def __init__(self, name, color):\n",
    "        self.name = name\n",
    "        self.color = color\n",
    "\n",
    "    def attack(self):\n",
    "        print('I am attacking...')\n",
    "\n",
    "\n",
    "class Fogthing(Monster):\n",
    "    def attack(self):\n",
    "        print('I am killing...')\n",
    "\n",
    "    def make_sound(self):\n",
    "        print('Grrrrrrrrrr\\n')\n",
    "\n",
    "\n",
    "fogthing = Fogthing(\"Fogthing\", \"Yellow\")\n",
    "fogthing.attack()\n",
    "fogthing.make_sound()"
   ]
  },
  {
   "cell_type": "code",
   "execution_count": 1,
   "id": "8f69c7a5",
   "metadata": {},
   "outputs": [
    {
     "name": "stdout",
     "output_type": "stream",
     "text": [
      "I am from class A\n",
      "[<class '__main__.C'>, <class '__main__.A'>, <class '__main__.B'>, <class 'object'>]\n"
     ]
    }
   ],
   "source": [
    "#multiple inheritance\n",
    "class A:\n",
    "    def where(self):\n",
    "        print(\"I am from class A\")\n",
    "\n",
    "\n",
    "class B:\n",
    "    def where(self):\n",
    "        print(\"I am from class B\")\n",
    "\n",
    "\n",
    "class C(A, B):\n",
    "    pass\n",
    "\n",
    "an_instance_of_c = C()\n",
    "an_instance_of_c.where()\n",
    "\n",
    "print(C.mro())"
   ]
  },
  {
   "cell_type": "code",
   "execution_count": 7,
   "id": "97491fdd",
   "metadata": {},
   "outputs": [
    {
     "name": "stdout",
     "output_type": "stream",
     "text": [
      "2\n",
      "1\n"
     ]
    }
   ],
   "source": [
    "#super method\n",
    "class A:\n",
    "    def spam(self):\n",
    "        print(1)\n",
    "\n",
    "class B(A):\n",
    "    def spam(self):\n",
    "        print(2)\n",
    "        super().spam()\n",
    "\n",
    "B().spam()"
   ]
  },
  {
   "cell_type": "markdown",
   "id": "61de99c0",
   "metadata": {},
   "source": [
    "## magic methods / dunder methods"
   ]
  },
  {
   "cell_type": "code",
   "execution_count": 2,
   "id": "9f2c1f8a",
   "metadata": {},
   "outputs": [
    {
     "data": {
      "text/plain": [
       "['__abs__',\n",
       " '__add__',\n",
       " '__and__',\n",
       " '__bool__',\n",
       " '__ceil__',\n",
       " '__class__',\n",
       " '__delattr__',\n",
       " '__dir__',\n",
       " '__divmod__',\n",
       " '__doc__',\n",
       " '__eq__',\n",
       " '__float__',\n",
       " '__floor__',\n",
       " '__floordiv__',\n",
       " '__format__',\n",
       " '__ge__',\n",
       " '__getattribute__',\n",
       " '__getnewargs__',\n",
       " '__gt__',\n",
       " '__hash__',\n",
       " '__index__',\n",
       " '__init__',\n",
       " '__init_subclass__',\n",
       " '__int__',\n",
       " '__invert__',\n",
       " '__le__',\n",
       " '__lshift__',\n",
       " '__lt__',\n",
       " '__mod__',\n",
       " '__mul__',\n",
       " '__ne__',\n",
       " '__neg__',\n",
       " '__new__',\n",
       " '__or__',\n",
       " '__pos__',\n",
       " '__pow__',\n",
       " '__radd__',\n",
       " '__rand__',\n",
       " '__rdivmod__',\n",
       " '__reduce__',\n",
       " '__reduce_ex__',\n",
       " '__repr__',\n",
       " '__rfloordiv__',\n",
       " '__rlshift__',\n",
       " '__rmod__',\n",
       " '__rmul__',\n",
       " '__ror__',\n",
       " '__round__',\n",
       " '__rpow__',\n",
       " '__rrshift__',\n",
       " '__rshift__',\n",
       " '__rsub__',\n",
       " '__rtruediv__',\n",
       " '__rxor__',\n",
       " '__setattr__',\n",
       " '__sizeof__',\n",
       " '__str__',\n",
       " '__sub__',\n",
       " '__subclasshook__',\n",
       " '__truediv__',\n",
       " '__trunc__',\n",
       " '__xor__',\n",
       " 'as_integer_ratio',\n",
       " 'bit_length',\n",
       " 'conjugate',\n",
       " 'denominator',\n",
       " 'from_bytes',\n",
       " 'imag',\n",
       " 'numerator',\n",
       " 'real',\n",
       " 'to_bytes']"
      ]
     },
     "execution_count": 2,
     "metadata": {},
     "output_type": "execute_result"
    }
   ],
   "source": [
    "dir(int)"
   ]
  },
  {
   "cell_type": "markdown",
   "id": "d56f365d",
   "metadata": {},
   "source": [
    "## operator overloading"
   ]
  },
  {
   "cell_type": "code",
   "execution_count": 3,
   "id": "0419af29",
   "metadata": {},
   "outputs": [
    {
     "name": "stdout",
     "output_type": "stream",
     "text": [
      "10\n"
     ]
    }
   ],
   "source": [
    "class MyNum():\n",
    "    def __init__(self, value):\n",
    "        self.value = value\n",
    "\n",
    "    def __add__(self, other):\n",
    "        return (self.value * 2) + (other.value * 2)\n",
    "\n",
    "\n",
    "a = MyNum(2)\n",
    "b = MyNum(3)\n",
    "\n",
    "c = a + b\n",
    "\n",
    "print(c)"
   ]
  },
  {
   "cell_type": "code",
   "execution_count": 4,
   "id": "84883c8e",
   "metadata": {},
   "outputs": [
    {
     "name": "stdout",
     "output_type": "stream",
     "text": [
      "11\n"
     ]
    }
   ],
   "source": [
    "class MyInt():\n",
    "    def __init__(self, value):\n",
    "        self.__value = value\n",
    "\n",
    "    def __int__(self):\n",
    "        return self.__value\n",
    "\n",
    "    def __add__(self, other):\n",
    "        return self.__value + int(other) * int(other)\n",
    "\n",
    "\n",
    "a = MyInt(2)\n",
    "b = MyInt(3)\n",
    "\n",
    "c = a + b\n",
    "\n",
    "print(c)"
   ]
  },
  {
   "cell_type": "code",
   "execution_count": 5,
   "id": "e8f004a2",
   "metadata": {},
   "outputs": [
    {
     "name": "stdout",
     "output_type": "stream",
     "text": [
      "11\n"
     ]
    }
   ],
   "source": [
    "class MyInt():\n",
    "    def __init__(self, value):\n",
    "        self.__value = value\n",
    "\n",
    "    def __int__(self):\n",
    "        return self.__value\n",
    "\n",
    "\n",
    "    def __iadd__(self, other):\n",
    "        return self.__value + int(other) * int(other)\n",
    "\n",
    "\n",
    "a = MyInt(2)\n",
    "\n",
    "a += MyInt(3)\n",
    "\n",
    "print(a)"
   ]
  },
  {
   "cell_type": "markdown",
   "id": "575fddc5",
   "metadata": {},
   "source": [
    "## object life cycle"
   ]
  },
  {
   "cell_type": "code",
   "execution_count": 8,
   "id": "ca0647d9",
   "metadata": {},
   "outputs": [
    {
     "name": "stdout",
     "output_type": "stream",
     "text": [
      "7\n"
     ]
    }
   ],
   "source": [
    "## Definition\n",
    "class Add:\n",
    "## Initialization\n",
    "    def __init__(self,a,b):\n",
    "        self.a = a\n",
    "        self.b = b\n",
    "    def add(self):\n",
    "        return self.a+self.b\n",
    "obj = Add(3,4)\n",
    "## Access\n",
    "print (obj.add())\n",
    "## Garbage collection"
   ]
  },
  {
   "cell_type": "markdown",
   "id": "3a490bb0",
   "metadata": {},
   "source": [
    "## data hiding"
   ]
  },
  {
   "cell_type": "code",
   "execution_count": 9,
   "id": "cc22b7bc",
   "metadata": {},
   "outputs": [
    {
     "name": "stdout",
     "output_type": "stream",
     "text": [
      "[1, 2, 3]\n",
      "[0, 1, 2, 3]\n",
      "[0, 1, 2]\n",
      "[0, 1, 2]\n"
     ]
    }
   ],
   "source": [
    "class Queue:\n",
    "    def __init__(self, contents):\n",
    "        self._hiddenlist = list(contents)\n",
    "\n",
    "    def push(self, value):\n",
    "        self._hiddenlist.insert(0, value)\n",
    "\n",
    "    def pop(self):\n",
    "        return self._hiddenlist.pop(-1)\n",
    "\n",
    "    def _show_list(self):\n",
    "        return self._hiddenlist\n",
    "\n",
    "\n",
    "queue = Queue([1, 2, 3])\n",
    "print(queue._hiddenlist)\n",
    "\n",
    "queue.push(0)\n",
    "print(queue._hiddenlist)\n",
    "\n",
    "queue.pop()\n",
    "print(queue._hiddenlist)\n",
    "\n",
    "print(queue._show_list())"
   ]
  },
  {
   "cell_type": "code",
   "execution_count": 10,
   "id": "97191284",
   "metadata": {},
   "outputs": [
    {
     "name": "stdout",
     "output_type": "stream",
     "text": [
      "7\n"
     ]
    },
    {
     "ename": "AttributeError",
     "evalue": "'Spam' object has no attribute '__egg'",
     "output_type": "error",
     "traceback": [
      "\u001b[0;31m---------------------------------------------------------------------------\u001b[0m",
      "\u001b[0;31mAttributeError\u001b[0m                            Traceback (most recent call last)",
      "Input \u001b[0;32mIn [10]\u001b[0m, in \u001b[0;36m<cell line: 9>\u001b[0;34m()\u001b[0m\n\u001b[1;32m      7\u001b[0m s \u001b[38;5;241m=\u001b[39m Spam()\n\u001b[1;32m      8\u001b[0m s\u001b[38;5;241m.\u001b[39mprint_egg()\n\u001b[0;32m----> 9\u001b[0m \u001b[38;5;28mprint\u001b[39m(\u001b[43ms\u001b[49m\u001b[38;5;241;43m.\u001b[39;49m\u001b[43m__egg\u001b[49m)\n",
      "\u001b[0;31mAttributeError\u001b[0m: 'Spam' object has no attribute '__egg'"
     ]
    }
   ],
   "source": [
    "class Spam:\n",
    "    __egg = 7\n",
    "\n",
    "    def print_egg(self):\n",
    "        print(self.__egg)\n",
    "\n",
    "s = Spam()\n",
    "s.print_egg()\n",
    "print(s.__egg)"
   ]
  },
  {
   "cell_type": "code",
   "execution_count": 11,
   "id": "768ad44f",
   "metadata": {},
   "outputs": [
    {
     "name": "stdout",
     "output_type": "stream",
     "text": [
      "7\n",
      "7\n"
     ]
    }
   ],
   "source": [
    "class Spam:\n",
    "    __egg = 7\n",
    "\n",
    "    def print_egg(self):\n",
    "        print(self.__egg)\n",
    "\n",
    "s = Spam()\n",
    "s.print_egg()\n",
    "print(s._Spam__egg)"
   ]
  },
  {
   "cell_type": "markdown",
   "id": "c22b4cb9",
   "metadata": {},
   "source": [
    "## class method"
   ]
  },
  {
   "cell_type": "code",
   "execution_count": 12,
   "id": "41989625",
   "metadata": {},
   "outputs": [
    {
     "name": "stdout",
     "output_type": "stream",
     "text": [
      "25\n"
     ]
    }
   ],
   "source": [
    "class Rectangle:\n",
    "    def __init__(self, width, height):\n",
    "        self.width = width\n",
    "        self.height = height\n",
    "\n",
    "    def calculate_area(self):\n",
    "        return self.width * self.height\n",
    "\n",
    "    @classmethod\n",
    "    def new_square(cls, side_length):\n",
    "        return cls(side_length, side_length)\n",
    "\n",
    "square = Rectangle.new_square(5)\n",
    "print(square.calculate_area())"
   ]
  },
  {
   "cell_type": "markdown",
   "id": "bb5c50d9",
   "metadata": {},
   "source": [
    "## static method"
   ]
  },
  {
   "cell_type": "code",
   "execution_count": 14,
   "id": "428ca42c",
   "metadata": {},
   "outputs": [
    {
     "ename": "ValueError",
     "evalue": "No pineapples!",
     "output_type": "error",
     "traceback": [
      "\u001b[0;31m---------------------------------------------------------------------------\u001b[0m",
      "\u001b[0;31mValueError\u001b[0m                                Traceback (most recent call last)",
      "Input \u001b[0;32mIn [14]\u001b[0m, in \u001b[0;36m<cell line: 13>\u001b[0;34m()\u001b[0m\n\u001b[1;32m     10\u001b[0m             \u001b[38;5;28;01mreturn\u001b[39;00m \u001b[38;5;28;01mTrue\u001b[39;00m\n\u001b[1;32m     12\u001b[0m ingredients \u001b[38;5;241m=\u001b[39m [\u001b[38;5;124m\"\u001b[39m\u001b[38;5;124mcheese\u001b[39m\u001b[38;5;124m\"\u001b[39m, \u001b[38;5;124m\"\u001b[39m\u001b[38;5;124monions\u001b[39m\u001b[38;5;124m\"\u001b[39m, \u001b[38;5;124m\"\u001b[39m\u001b[38;5;124mspam\u001b[39m\u001b[38;5;124m\"\u001b[39m, \u001b[38;5;124m\"\u001b[39m\u001b[38;5;124mpineapple\u001b[39m\u001b[38;5;124m\"\u001b[39m]\n\u001b[0;32m---> 13\u001b[0m \u001b[38;5;28;01mif\u001b[39;00m \u001b[38;5;28;43mall\u001b[39;49m\u001b[43m(\u001b[49m\u001b[43mPizza\u001b[49m\u001b[38;5;241;43m.\u001b[39;49m\u001b[43mvalidate_topping\u001b[49m\u001b[43m(\u001b[49m\u001b[43mi\u001b[49m\u001b[43m)\u001b[49m\u001b[43m \u001b[49m\u001b[38;5;28;43;01mfor\u001b[39;49;00m\u001b[43m \u001b[49m\u001b[43mi\u001b[49m\u001b[43m \u001b[49m\u001b[38;5;129;43;01min\u001b[39;49;00m\u001b[43m \u001b[49m\u001b[43mingredients\u001b[49m\u001b[43m)\u001b[49m:\n\u001b[1;32m     14\u001b[0m     pizza \u001b[38;5;241m=\u001b[39m Pizza(ingredients)\n",
      "Input \u001b[0;32mIn [14]\u001b[0m, in \u001b[0;36m<genexpr>\u001b[0;34m(.0)\u001b[0m\n\u001b[1;32m     10\u001b[0m             \u001b[38;5;28;01mreturn\u001b[39;00m \u001b[38;5;28;01mTrue\u001b[39;00m\n\u001b[1;32m     12\u001b[0m ingredients \u001b[38;5;241m=\u001b[39m [\u001b[38;5;124m\"\u001b[39m\u001b[38;5;124mcheese\u001b[39m\u001b[38;5;124m\"\u001b[39m, \u001b[38;5;124m\"\u001b[39m\u001b[38;5;124monions\u001b[39m\u001b[38;5;124m\"\u001b[39m, \u001b[38;5;124m\"\u001b[39m\u001b[38;5;124mspam\u001b[39m\u001b[38;5;124m\"\u001b[39m, \u001b[38;5;124m\"\u001b[39m\u001b[38;5;124mpineapple\u001b[39m\u001b[38;5;124m\"\u001b[39m]\n\u001b[0;32m---> 13\u001b[0m \u001b[38;5;28;01mif\u001b[39;00m \u001b[38;5;28mall\u001b[39m(\u001b[43mPizza\u001b[49m\u001b[38;5;241;43m.\u001b[39;49m\u001b[43mvalidate_topping\u001b[49m\u001b[43m(\u001b[49m\u001b[43mi\u001b[49m\u001b[43m)\u001b[49m \u001b[38;5;28;01mfor\u001b[39;00m i \u001b[38;5;129;01min\u001b[39;00m ingredients):\n\u001b[1;32m     14\u001b[0m     pizza \u001b[38;5;241m=\u001b[39m Pizza(ingredients)\n",
      "Input \u001b[0;32mIn [14]\u001b[0m, in \u001b[0;36mPizza.validate_topping\u001b[0;34m(topping)\u001b[0m\n\u001b[1;32m      5\u001b[0m \u001b[38;5;129m@staticmethod\u001b[39m\n\u001b[1;32m      6\u001b[0m \u001b[38;5;28;01mdef\u001b[39;00m \u001b[38;5;21mvalidate_topping\u001b[39m(topping):\n\u001b[1;32m      7\u001b[0m     \u001b[38;5;28;01mif\u001b[39;00m topping \u001b[38;5;241m==\u001b[39m \u001b[38;5;124m\"\u001b[39m\u001b[38;5;124mpineapple\u001b[39m\u001b[38;5;124m\"\u001b[39m:\n\u001b[0;32m----> 8\u001b[0m         \u001b[38;5;28;01mraise\u001b[39;00m \u001b[38;5;167;01mValueError\u001b[39;00m(\u001b[38;5;124m\"\u001b[39m\u001b[38;5;124mNo pineapples!\u001b[39m\u001b[38;5;124m\"\u001b[39m)\n\u001b[1;32m      9\u001b[0m     \u001b[38;5;28;01melse\u001b[39;00m:\n\u001b[1;32m     10\u001b[0m         \u001b[38;5;28;01mreturn\u001b[39;00m \u001b[38;5;28;01mTrue\u001b[39;00m\n",
      "\u001b[0;31mValueError\u001b[0m: No pineapples!"
     ]
    }
   ],
   "source": [
    "class Pizza:\n",
    "    def __init__(self, toppings):\n",
    "        self.toppings = toppings\n",
    "\n",
    "    @staticmethod\n",
    "    def validate_topping(topping):\n",
    "        if topping == \"pineapple\":\n",
    "            raise ValueError(\"No pineapples!\")\n",
    "        else:\n",
    "            return True\n",
    "\n",
    "ingredients = [\"cheese\", \"onions\", \"spam\", \"pineapple\"]\n",
    "if all(Pizza.validate_topping(i) for i in ingredients):\n",
    "    pizza = Pizza(ingredients)"
   ]
  },
  {
   "cell_type": "markdown",
   "id": "362321e2",
   "metadata": {},
   "source": [
    "## properties"
   ]
  },
  {
   "cell_type": "code",
   "execution_count": 15,
   "id": "b3057595",
   "metadata": {},
   "outputs": [
    {
     "name": "stdout",
     "output_type": "stream",
     "text": [
      "False\n"
     ]
    },
    {
     "ename": "AttributeError",
     "evalue": "can't set attribute",
     "output_type": "error",
     "traceback": [
      "\u001b[0;31m---------------------------------------------------------------------------\u001b[0m",
      "\u001b[0;31mAttributeError\u001b[0m                            Traceback (most recent call last)",
      "Input \u001b[0;32mIn [15]\u001b[0m, in \u001b[0;36m<cell line: 11>\u001b[0;34m()\u001b[0m\n\u001b[1;32m      9\u001b[0m pizza \u001b[38;5;241m=\u001b[39m Pizza([\u001b[38;5;124m\"\u001b[39m\u001b[38;5;124mcheese\u001b[39m\u001b[38;5;124m\"\u001b[39m, \u001b[38;5;124m\"\u001b[39m\u001b[38;5;124mtomato\u001b[39m\u001b[38;5;124m\"\u001b[39m])\n\u001b[1;32m     10\u001b[0m \u001b[38;5;28mprint\u001b[39m(pizza\u001b[38;5;241m.\u001b[39mpineapple_allowed)\n\u001b[0;32m---> 11\u001b[0m \u001b[43mpizza\u001b[49m\u001b[38;5;241;43m.\u001b[39;49m\u001b[43mpineapple_allowed\u001b[49m \u001b[38;5;241m=\u001b[39m \u001b[38;5;28;01mTrue\u001b[39;00m\n",
      "\u001b[0;31mAttributeError\u001b[0m: can't set attribute"
     ]
    }
   ],
   "source": [
    "class Pizza:\n",
    "    def __init__(self, toppings):\n",
    "        self.toppings = toppings\n",
    "\n",
    "    @property\n",
    "    def pineapple_allowed(self):\n",
    "        return False\n",
    "\n",
    "pizza = Pizza([\"cheese\", \"tomato\"])\n",
    "print(pizza.pineapple_allowed)\n",
    "pizza.pineapple_allowed = True"
   ]
  },
  {
   "cell_type": "code",
   "execution_count": 20,
   "id": "7293baee",
   "metadata": {},
   "outputs": [
    {
     "name": "stdout",
     "output_type": "stream",
     "text": [
      "False\n",
      "Enter the password: arif\n"
     ]
    },
    {
     "ename": "ValueError",
     "evalue": "Alert! Intruder!",
     "output_type": "error",
     "traceback": [
      "\u001b[0;31m---------------------------------------------------------------------------\u001b[0m",
      "\u001b[0;31mValueError\u001b[0m                                Traceback (most recent call last)",
      "Input \u001b[0;32mIn [20]\u001b[0m, in \u001b[0;36m<cell line: 22>\u001b[0;34m()\u001b[0m\n\u001b[1;32m     20\u001b[0m pizza \u001b[38;5;241m=\u001b[39m Pizza([\u001b[38;5;124m\"\u001b[39m\u001b[38;5;124mcheese\u001b[39m\u001b[38;5;124m\"\u001b[39m, \u001b[38;5;124m\"\u001b[39m\u001b[38;5;124mtomato\u001b[39m\u001b[38;5;124m\"\u001b[39m])\n\u001b[1;32m     21\u001b[0m \u001b[38;5;28mprint\u001b[39m(pizza\u001b[38;5;241m.\u001b[39mpineapple_allowed)\n\u001b[0;32m---> 22\u001b[0m \u001b[43mpizza\u001b[49m\u001b[38;5;241;43m.\u001b[39;49m\u001b[43mpineapple_allowed\u001b[49m \u001b[38;5;241m=\u001b[39m \u001b[38;5;28;01mTrue\u001b[39;00m\n\u001b[1;32m     23\u001b[0m \u001b[38;5;28mprint\u001b[39m(pizza\u001b[38;5;241m.\u001b[39mpineapple_allowed)\n",
      "Input \u001b[0;32mIn [20]\u001b[0m, in \u001b[0;36mPizza.pineapple_allowed\u001b[0;34m(self, value)\u001b[0m\n\u001b[1;32m     15\u001b[0m     \u001b[38;5;28mself\u001b[39m\u001b[38;5;241m.\u001b[39m_pineapple_allowed \u001b[38;5;241m=\u001b[39m value\n\u001b[1;32m     17\u001b[0m \u001b[38;5;28;01melse\u001b[39;00m:\n\u001b[0;32m---> 18\u001b[0m     \u001b[38;5;28;01mraise\u001b[39;00m \u001b[38;5;167;01mValueError\u001b[39;00m(\u001b[38;5;124m\"\u001b[39m\u001b[38;5;124mAlert! Intruder!\u001b[39m\u001b[38;5;124m\"\u001b[39m)\n",
      "\u001b[0;31mValueError\u001b[0m: Alert! Intruder!"
     ]
    }
   ],
   "source": [
    "class Pizza:\n",
    "    def __init__(self, toppings):\n",
    "        self.toppings = toppings\n",
    "        self._pineapple_allowed = False\n",
    "        \n",
    "    @property\n",
    "    def pineapple_allowed(self):\n",
    "        return self._pineapple_allowed\n",
    "    \n",
    "    @pineapple_allowed.setter\n",
    "    def pineapple_allowed(self, value):\n",
    "        if value:\n",
    "            password = input(\"Enter the password: \")\n",
    "            if password == \"Sw0rdfish\":\n",
    "                self._pineapple_allowed = value\n",
    "                \n",
    "            else:\n",
    "                raise ValueError(\"Alert! Intruder!\")\n",
    "                \n",
    "pizza = Pizza([\"cheese\", \"tomato\"])\n",
    "print(pizza.pineapple_allowed)\n",
    "pizza.pineapple_allowed = True\n",
    "print(pizza.pineapple_allowed)"
   ]
  },
  {
   "cell_type": "code",
   "execution_count": null,
   "id": "f9976bc0",
   "metadata": {},
   "outputs": [],
   "source": []
  }
 ],
 "metadata": {
  "kernelspec": {
   "display_name": "Python 3 (ipykernel)",
   "language": "python",
   "name": "python3"
  },
  "language_info": {
   "codemirror_mode": {
    "name": "ipython",
    "version": 3
   },
   "file_extension": ".py",
   "mimetype": "text/x-python",
   "name": "python",
   "nbconvert_exporter": "python",
   "pygments_lexer": "ipython3",
   "version": "3.8.10"
  }
 },
 "nbformat": 4,
 "nbformat_minor": 5
}
