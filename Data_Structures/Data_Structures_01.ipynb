{
 "cells": [
  {
   "cell_type": "markdown",
   "id": "5c6de5dc",
   "metadata": {},
   "source": [
    "# Data Structures"
   ]
  },
  {
   "cell_type": "markdown",
   "id": "b4fe9b83",
   "metadata": {},
   "source": [
    "## Linked list"
   ]
  },
  {
   "attachments": {
    "linked_list.jpg": {
     "image/jpeg": "[encoded data removed]"
    }
   },
   "cell_type": "markdown",
   "id": "26d6ac1d",
   "metadata": {},
   "source": [
    "A linked list is a linear data structure, in which the elements are not stored at contiguous memory locations. The elements in a linked list are linked using pointers as shown in the below image:\n",
    "\n",
    "![linked_list.jpg](attachment:linked_list.jpg)\n",
    "\n",
    "1. Linked List contains a link element called first\n",
    "2. Each link carries a data field(s) and a link field called next\n",
    "3. Each link is linked with its next link using its next link\n",
    "4. Last link carries a link as null to mark the end of the list\n",
    "\n",
    "### Types of linked list\n",
    "1. Simple Linked List − Item navigation is forward only\n",
    "2. Doubly Linked List − Items can be navigated forward and backward\n",
    "3. Circular Linked List − Last item contains link of the first element as next and the first element has a link to the last element as previous\n",
    "\n",
    "### Basic operations\n",
    "1. Insertion − Adds an element at the beginning of the list\n",
    "2. Deletion − Deletes an element at the beginning of the list\n",
    "3. Search − Searches an element using the given key\n",
    "4. Display − Displays the complete list\n",
    "5. Delete − Deletes an element using the given key\n",
    "\n",
    "\n",
    "Source: https://www.tutorialspoint.com/data_structures_algorithms/linked_list_algorithms.htm"
   ]
  },
  {
   "cell_type": "code",
   "execution_count": 1,
   "id": "ab0d4413",
   "metadata": {},
   "outputs": [
    {
     "name": "stdout",
     "output_type": "stream",
     "text": [
      "Insertion: \n",
      "5-->asd-->ddff-->rtyu-->44-->\n",
      "dfdfgdgdgsdgsdgsg-->5-->mgmgm-->asd-->ddff-->rtyu-->44-->\n",
      "Length of the linked list:  7\n",
      "deletion: \n",
      "dfdfgdgdgsdgsdgsg-->5-->asd-->ddff-->rtyu-->44-->\n"
     ]
    }
   ],
   "source": [
    "#Create node\n",
    "class Node:\n",
    "    def __init__(self, data=None, next=None):\n",
    "        self.data = data\n",
    "        self.next = next\n",
    "\n",
    "        \n",
    "class LinkedList:\n",
    "    #\n",
    "    def __init__(self):\n",
    "        self.head = None\n",
    "        \n",
    "    #Inserts node at the bgining\n",
    "    def insert_at_begining(self, data):\n",
    "        node = Node(data, self.head)\n",
    "        self.head = node\n",
    "        \n",
    "    #Prints linked list\n",
    "    def print(self):\n",
    "        if self.head is None:\n",
    "            print(\"Empty\")\n",
    "            return\n",
    "            \n",
    "        itr = self.head\n",
    "        llstr = ''\n",
    "            \n",
    "            \n",
    "        while itr:\n",
    "            llstr += str(itr.data) + '-->'\n",
    "            itr = itr.next\n",
    "                \n",
    "        print(llstr)\n",
    "        \n",
    "    #Inserts node at the end\n",
    "    def insert_at_end(self, data):\n",
    "        if self.head is None:\n",
    "            self.head = Node(data, None)\n",
    "            return\n",
    "        \n",
    "        itr = self.head\n",
    "        while itr.next:\n",
    "            itr = itr.next\n",
    "            \n",
    "        itr.next = Node(data, None)\n",
    "        \n",
    "    #Inserts list of nodes\n",
    "    def insert_values(self, data_list):\n",
    "        #self.head = None\n",
    "        for data in data_list:\n",
    "            self.insert_at_end(data)\n",
    "            \n",
    "    #Length of list\n",
    "    def get_length(self):\n",
    "        count = 0\n",
    "        itr = self.head\n",
    "        while itr:\n",
    "            count += 1\n",
    "            itr = itr.next\n",
    "            \n",
    "        return count\n",
    "    \n",
    "    #Remove node at given index\n",
    "    def remove_at(self, index):\n",
    "        if index<0 or index>=self.get_length():\n",
    "            raise Exception(\"Invalid index\")\n",
    "            \n",
    "        if index == 0:\n",
    "            self.head = self.head.next\n",
    "            return\n",
    "        \n",
    "        count = 0\n",
    "        itr = self.head\n",
    "        while itr:\n",
    "            if count == index-1:\n",
    "                itr.next = itr.next.next\n",
    "                break\n",
    "            itr = itr.next\n",
    "            count += 1\n",
    "            \n",
    "    #Inserts node at given index\n",
    "    def insert_at(self, index, data):\n",
    "        if index<0 or index>self.get_length():\n",
    "            raise Exception(\"Invalid index\")\n",
    "            \n",
    "        if index == 0:\n",
    "            self.insert_at_begining(data)\n",
    "            return\n",
    "    \n",
    "        count = 0\n",
    "        itr = self.head\n",
    "        while itr:\n",
    "            if count == index-1:\n",
    "                node = Node(data, itr.next)\n",
    "                itr.next = node\n",
    "                break\n",
    "                \n",
    "            itr = itr.next\n",
    "            count += 1\n",
    "            \n",
    "        \n",
    "if __name__ == '__main__':\n",
    "    ll = LinkedList()\n",
    "    print(\"Insertion: \")\n",
    "    ll.insert_at_begining(5)\n",
    "    ll.insert_values([\"asd\", \"ddff\", \"rtyu\"])\n",
    "    ll.insert_at_end(44)\n",
    "    ll.print()\n",
    "    ll.insert_at(0, \"dfdfgdgdgsdgsdgsg\")\n",
    "    ll.insert_at(2, \"mgmgm\")\n",
    "    ll.print()\n",
    "    print(\"Length of the linked list: \", ll.get_length())\n",
    "    print(\"deletion: \")\n",
    "    ll.remove_at(2)\n",
    "    ll.print()"
   ]
  },
  {
   "cell_type": "markdown",
   "id": "30760239",
   "metadata": {},
   "source": [
    "## Stack"
   ]
  },
  {
   "attachments": {
    "stack_representation.jpg": {
     "image/jpeg": "[encoded data removed]"
    }
   },
   "cell_type": "markdown",
   "id": "a1e0a2c4",
   "metadata": {},
   "source": [
    "Stack is a linear data structure which follows a particular order in which the operations are performed. The order may be LIFO(Last In First Out) or FILO(First In Last Out). There are many real-life examples of a stack. Consider an example of plates stacked over one another in the canteen. The plate which is at the top is the first one to be removed, i.e. the plate which has been placed at the bottommost position remains in the stack for the longest period of time. So, it can be simply seen to follow LIFO(Last In First Out)/FILO(First In Last Out) order.\n",
    "\n",
    "![stack_representation.jpg](attachment:stack_representation.jpg)\n",
    "\n",
    "### Basic operations\n",
    "1. push() − Pushing (storing) an element on the stack\n",
    "2. pop() − Removing (accessing) an element from the stack\n",
    "3. peek() − get the top data element of the stack, without removing it\n",
    "4. isFull() − check if stack is full\n",
    "5. isEmpty() − check if stack is empty\n",
    "\n",
    "\n",
    "Source: https://www.tutorialspoint.com/data_structures_algorithms/expression_parsing.htm"
   ]
  },
  {
   "cell_type": "code",
   "execution_count": 2,
   "id": "7fc5feec",
   "metadata": {},
   "outputs": [
    {
     "name": "stdout",
     "output_type": "stream",
     "text": [
      "False\n",
      "True\n",
      "False\n"
     ]
    }
   ],
   "source": [
    "class Stack:\n",
    "    def __init__(self, max_size):\n",
    "        self.top_pointer = -1\n",
    "        self.stack = [None for x in range(max_size)]\n",
    "        \n",
    "    def push(self, new_element):\n",
    "        self.top_pointer = self.top_pointer + 1\n",
    "        self.stack[self.top_pointer] = new_element\n",
    "        \n",
    "    def pop(self):\n",
    "        last_element = self.stack[self.top_pointer]\n",
    "        self.top_pointer = self.top_pointer - 1\n",
    "        return last_element\n",
    "    \n",
    "    def peek(self):\n",
    "        return self.stack[self.top_pointer]\n",
    "    \n",
    "    def is_empty(self):\n",
    "        return self.top_pointer == - 1\n",
    "    \n",
    "    \n",
    "#Paranthesis balance checking using stack    \n",
    "def checkBalance(s):\n",
    "    mystack = Stack(len(s))\n",
    "    if s == \"\":\n",
    "        return True\n",
    "    for c in s:\n",
    "        if c == \"(\" or c == \"{\":\n",
    "            mystack.push(c)\n",
    "        else:\n",
    "            if mystack.is_empty():\n",
    "                return False\n",
    "            if c == \"}\" and mystack.peek() != \"{\":\n",
    "                return False\n",
    "            if c == \")\" and mystack.peek() != \"(\":\n",
    "                return False\n",
    "            mystack.pop()\n",
    "            \n",
    "    if mystack.is_empty():\n",
    "        return True\n",
    "    return False\n",
    "\n",
    "print (checkBalance(\"((}{})\"))\n",
    "print (checkBalance(\"({()})\"))\n",
    "print (checkBalance(\"({)()})\"))\n"
   ]
  },
  {
   "cell_type": "code",
   "execution_count": 22,
   "id": "e27000ce",
   "metadata": {},
   "outputs": [
    {
     "name": "stdout",
     "output_type": "stream",
     "text": [
      "72\n"
     ]
    }
   ],
   "source": [
    "\n",
    "def func_3():\n",
    "\treturn 42\n",
    "\n",
    "def func_2():\n",
    "\tx=20\n",
    "\ty=func_3()\n",
    "\treturn x+y\n",
    "\n",
    "def func_1():\n",
    "\tx=10\n",
    "\ty=func_2()\n",
    "\treturn x+y\n",
    "\n",
    "print (func_1())"
   ]
  },
  {
   "cell_type": "markdown",
   "id": "505c3749",
   "metadata": {},
   "source": [
    "## Queue"
   ]
  },
  {
   "attachments": {
    "fifo.png": {
     "image/png": "[encoded data removed]"
    }
   },
   "cell_type": "markdown",
   "id": "18dd16e8",
   "metadata": {},
   "source": [
    "Queue is an abstract data structure, somewhat similar to Stacks. Unlike stacks, a queue is open at both its ends. One end is always used to insert data (enqueue) and the other is used to remove data (dequeue). Queue follows First-In-First-Out methodology, i.e., the data item stored first will be accessed first.\n",
    "\n",
    "![fifo.png](attachment:fifo.png)\n",
    "\n",
    "### Basic operations\n",
    "1. enqueue() − add (store) an item to the queue\n",
    "2. dequeue() − remove (access) an item from the queue\n",
    "3. peek() − Gets the element at the front of the queue without removing it\n",
    "4. isfull() − Checks if the queue is full\n",
    "5. isempty() − Checks if the queue is empty\n",
    "\n",
    "Source: https://www.tutorialspoint.com/data_structures_algorithms/dsa_queue.htm"
   ]
  },
  {
   "cell_type": "code",
   "execution_count": 7,
   "id": "02a64a68",
   "metadata": {},
   "outputs": [
    {
     "name": "stdout",
     "output_type": "stream",
     "text": [
      "Q is empty\n",
      "None\n",
      "\n",
      "Enqueue: \n",
      "[None, None, 1, None, None]\n",
      "[None, None, 1, 2, None]\n",
      "[None, None, 1, 2, 3]\n",
      "[4, None, 1, 2, 3]\n",
      "[4, 5, 1, 2, 3]\n",
      "\n",
      "Overflow: \n",
      "Q is full\n",
      "None\n",
      "\n",
      "Dequeue: \n",
      "[4, 5, None, 2, 3]\n"
     ]
    }
   ],
   "source": [
    "Q = []\n",
    "head = -1\n",
    "tail = -1\n",
    "capacity = 5\n",
    "starting_point = 2\n",
    "Q = [None for x in range(0, capacity)]\n",
    "\n",
    "def enqueue(value):\n",
    "    global head\n",
    "    global tail\n",
    "    global capacity\n",
    "    global Q\n",
    "    global starting_point\n",
    "    \n",
    "    if(tail+1)%capacity == head:\n",
    "        print('Q is full')\n",
    "        return\n",
    "    if head == -1:\n",
    "        head = starting_point\n",
    "        tail = head\n",
    "        Q[tail] = value\n",
    "    else:\n",
    "        tail = (tail+1)%capacity\n",
    "        Q[tail] = value\n",
    "    return Q\n",
    "def dequeue():\n",
    "    global head\n",
    "    global tail\n",
    "    global capacity\n",
    "    global Q\n",
    "    global starting_point\n",
    "    \n",
    "    if head == -1:\n",
    "        print('Q is empty')\n",
    "        return\n",
    "    Q[head] = None\n",
    "    if head == tail:\n",
    "        head = -1\n",
    "        tail = -1\n",
    "    else:\n",
    "        head = (head+1)%capacity\n",
    "    return Q\n",
    "\n",
    "print(dequeue())\n",
    "print('\\nEnqueue: ')\n",
    "print(enqueue(1))\n",
    "print(enqueue(2))\n",
    "print(enqueue(3))\n",
    "print(enqueue(4))\n",
    "print(enqueue(5))\n",
    "print('\\nOverflow: ')\n",
    "print(enqueue(5))\n",
    "print('\\nDequeue: ')\n",
    "print(dequeue())"
   ]
  },
  {
   "cell_type": "markdown",
   "id": "7bfa12cc",
   "metadata": {},
   "source": [
    "## Deque"
   ]
  },
  {
   "cell_type": "markdown",
   "id": "472dc7e8",
   "metadata": {},
   "source": [
    "A double-ended queue, or deque, has the feature of adding and removing elements from either end. The Deque module is a part of collections library. It has the methods for adding and removing elements which can be invoked directly with arguments. In the below program we import the collections module and declare a deque. Without need of any class we use the in-built implement these methods directly."
   ]
  },
  {
   "cell_type": "code",
   "execution_count": 27,
   "id": "809785fb",
   "metadata": {},
   "outputs": [
    {
     "name": "stdout",
     "output_type": "stream",
     "text": [
      "10\n",
      "12\n",
      "4\n"
     ]
    },
    {
     "data": {
      "text/plain": [
       "[10, 12, 4]"
      ]
     },
     "execution_count": 27,
     "metadata": {},
     "output_type": "execute_result"
    }
   ],
   "source": [
    "from collections import deque\n",
    "def sliding_rmq(arr, m):\n",
    "\t\n",
    "\tDQ = deque()\n",
    "\tres=[]\n",
    "\tfor i,val in enumerate(arr):\n",
    "\t\t\twhile len(DQ) and DQ[0][0]>=val: #DQ[0][0] is the leftmost element of DQ\n",
    "\t\t\t\tDQ.popleft()\n",
    "\t\t\tDQ.appendleft((val,i)) #pushing a pair containing the value and the index\n",
    "\t\t\t\n",
    "\t\t\twhile len(DQ) and DQ[-1][1]<=i-m: #DQ[-1][1] is the index of the rightmost element of DQ\n",
    "\t\t\t\tDQ.pop() #popping the out-of-range elements\n",
    "\t\t\t\n",
    "\t\t\tif i>=m-1: #We got a m size range\n",
    "\t\t\t\tprint (DQ[-1][0]) #print the rightmost element of DQ\n",
    "\t\t\t\tres.append(DQ[-1][0])\n",
    "\t\t\t\n",
    "\treturn res\n",
    "ar = [10, 50, 15, 12, 4]\n",
    "sliding_rmq(ar, 3)"
   ]
  },
  {
   "cell_type": "code",
   "execution_count": 5,
   "id": "d20f9f79",
   "metadata": {},
   "outputs": [
    {
     "name": "stdout",
     "output_type": "stream",
     "text": [
      "deque(['a', 'b', 'c'])\n"
     ]
    }
   ],
   "source": [
    "from collections import deque\n",
    "\n",
    "queue = deque(['a', 'b', 'c'])\n",
    "\n",
    "print(queue)"
   ]
  },
  {
   "cell_type": "code",
   "execution_count": 14,
   "id": "391972c0",
   "metadata": {},
   "outputs": [
    {
     "name": "stdout",
     "output_type": "stream",
     "text": [
      "Deque: deque([1, 2, 3, 2, 4, 1, 4])\n",
      "\n",
      " append at right:  deque([1, 2, 3, 2, 4, 1, 4, 4])\n",
      "\n",
      " append at left:  deque([0, 1, 2, 3, 2, 4, 1, 4, 4])\n",
      "The number 4 first occurs at a position : \n",
      "5\n",
      "The deque after inserting 7 at 6th position is : \n",
      "deque([0, 1, 2, 3, 2, 7, 4, 1, 4, 4])\n",
      "The count of 3 in deque is : \n",
      "3\n",
      "The deque after deleting first occurrence of 4 is : \n",
      "deque([0, 1, 2, 3, 2, 7, 1, 4, 4])\n"
     ]
    }
   ],
   "source": [
    "import collections\n",
    "\n",
    "de = collections.deque([1, 2, 3, 2, 4, 1, 4])\n",
    "print('Deque:', de)\n",
    "\n",
    "de.append(4)\n",
    "print('\\n append at right: ', de)\n",
    "\n",
    "de.appendleft(0)\n",
    "print('\\n append at left: ', de)\n",
    "\n",
    "print (\"The number 4 first occurs at a position : \")\n",
    "print (de.index(4,2,7))\n",
    "\n",
    "de.insert(5,7)\n",
    "print (\"The deque after inserting 7 at 6th position is : \")\n",
    "print (de)\n",
    "\n",
    "print (\"The count of 3 in deque is : \")\n",
    "print (de.count(4))\n",
    "\n",
    "de.remove(4)\n",
    "print (\"The deque after deleting first occurrence of 4 is : \")\n",
    "print (de)"
   ]
  }
 ],
 "metadata": {
  "kernelspec": {
   "display_name": "tenv",
   "language": "python",
   "name": "tenv"
  },
  "language_info": {
   "codemirror_mode": {
    "name": "ipython",
    "version": 3
   },
   "file_extension": ".py",
   "mimetype": "text/x-python",
   "name": "python",
   "nbconvert_exporter": "python",
   "pygments_lexer": "ipython3",
   "version": "3.9.12"
  }
 },
 "nbformat": 4,
 "nbformat_minor": 5
}
