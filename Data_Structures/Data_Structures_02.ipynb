{
 "cells": [
  {
   "cell_type": "markdown",
   "id": "98704d24",
   "metadata": {},
   "source": [
    "## Disjoint Set"
   ]
  },
  {
   "cell_type": "markdown",
   "id": "472822a3",
   "metadata": {},
   "source": [
    "Two sets are disjoint when they have no elements in common. In other words, two disjoint sets are sets whose intersection is an empty set."
   ]
  },
  {
   "cell_type": "code",
   "execution_count": 15,
   "id": "3d9f0cdf",
   "metadata": {},
   "outputs": [
    {
     "name": "stdout",
     "output_type": "stream",
     "text": [
      "[None, 1, 2, 3, 4, 5]\n",
      "3\n"
     ]
    }
   ],
   "source": [
    "element = 5\n",
    "par = [None]*(element+1)\n",
    "\n",
    "def makeset(n):\n",
    "    par[n] = n\n",
    "    return par\n",
    "\n",
    "def find(r):\n",
    "    if par[r] == r: return r\n",
    "    par[r] = find(par[r])\n",
    "    return par[r]\n",
    "\n",
    "def union(a,b):\n",
    "    u = find(a)\n",
    "    v = find(b)\n",
    "    if u == v:\n",
    "        print('already friends')\n",
    "    else:\n",
    "        par[u] = v\n",
    "    \n",
    "for i in range(1, element+1):\n",
    "    makeset(i)\n",
    "    \n",
    "print(makeset(i))\n",
    "print(find(3))"
   ]
  },
  {
   "cell_type": "markdown",
   "id": "1e78e682",
   "metadata": {},
   "source": [
    "### Check if Undirected Graph has a Cycle using Disjoint Set"
   ]
  },
  {
   "cell_type": "code",
   "execution_count": 26,
   "id": "f572f77d",
   "metadata": {},
   "outputs": [
    {
     "name": "stdout",
     "output_type": "stream",
     "text": [
      "Cyclic\n",
      "Cyclic\n"
     ]
    }
   ],
   "source": [
    "class DisjointSet:\n",
    "    \n",
    "    parent = [0,1,2]\n",
    "    \n",
    "    def Find(self, a):\n",
    "        if a == self.parent[a]:\n",
    "            return a\n",
    "        if a != self.parent[a]:\n",
    "            return self.Find(self.parent[a])\n",
    "        \n",
    "    \n",
    "    def Union(self, x, y):\n",
    "        self.parent[x] = y\n",
    "        \n",
    "\n",
    "\n",
    "if __name__ == '__main__':\n",
    "    \n",
    "    ds = DisjointSet()\n",
    "    graph = {\n",
    "        0:[1,2],\n",
    "        1:[2],\n",
    "        2:[1]        \n",
    "    }\n",
    "    \n",
    "    for i in graph:\n",
    "        for j in graph[i]:\n",
    "            x = ds.Find(i) #parent of node\n",
    "            y = ds.Find(j) #parent of neighbor\n",
    "            if x == y:\n",
    "                print('Cyclic')\n",
    "            ds.Union(x,y)"
   ]
  },
  {
   "cell_type": "markdown",
   "id": "b5a128eb",
   "metadata": {},
   "source": [
    "## Array Compression"
   ]
  },
  {
   "cell_type": "code",
   "execution_count": 1,
   "id": "b259f239",
   "metadata": {},
   "outputs": [
    {
     "name": "stdout",
     "output_type": "stream",
     "text": [
      "1 3 - 9 "
     ]
    }
   ],
   "source": [
    "def compressArr(arr, n):\n",
    "    i = 0\n",
    "    j = 0\n",
    "    arr.sort()\n",
    "    while (i < n):\n",
    "\n",
    "        j = i\n",
    "\n",
    "        # Entering the while loop means that (i+1)th element is consecutive to i th element\n",
    "        while ((j + 1 < n) and (arr[j + 1] == arr[j] + 1)):  \n",
    "            j += 1\n",
    " \n",
    "\n",
    "        if (i == j):\n",
    "            print(arr[i], end=\" \")\n",
    " \n",
    "            i+=1\n",
    "        else:\n",
    "            print(arr[i], \"-\", arr[j], end=\" \")\n",
    " \n",
    "            i = j + 1\n",
    " \n",
    "n = 8\n",
    "arr = [ 1, 3, 4, 5, 6, 9, 8, 7 ]\n",
    "compressArr(arr, n)\n",
    " "
   ]
  }
 ],
 "metadata": {
  "kernelspec": {
   "display_name": "tenv",
   "language": "python",
   "name": "tenv"
  },
  "language_info": {
   "codemirror_mode": {
    "name": "ipython",
    "version": 3
   },
   "file_extension": ".py",
   "mimetype": "text/x-python",
   "name": "python",
   "nbconvert_exporter": "python",
   "pygments_lexer": "ipython3",
   "version": "3.9.12"
  }
 },
 "nbformat": 4,
 "nbformat_minor": 5
}
