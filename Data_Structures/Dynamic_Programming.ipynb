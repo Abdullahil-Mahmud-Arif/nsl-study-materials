{
 "cells": [
  {
   "cell_type": "markdown",
   "id": "0510507c",
   "metadata": {},
   "source": [
    "# Dynamic Programming\n",
    "Dynamic programming solves problems by combining the solutions to sub-problems. It is applicable when the sub-problem is not independent, that is when sub-problems share sub-problems. Therefore, a dynamic programming algorithm solves every sub-problem just once and then saves its answers in a table, thereby avoiding the work of recomputing the answer every time the subproblem is encountered.\n",
    "\n",
    "The development of a dynamic programming algorithm can be broken into the sequence of four steps:\n",
    "\n",
    "1. Characterize the structure of an optimal solution\n",
    "2. Recursively define the value of the optimal solution\n",
    "3. Compute the value of an optimal solution in a bottom-up fashion\n",
    "4. Construct an optimal solution from computed information"
   ]
  },
  {
   "cell_type": "markdown",
   "id": "f94f5dcc",
   "metadata": {},
   "source": [
    "## Fibonacci numbers"
   ]
  },
  {
   "cell_type": "markdown",
   "id": "5427cc42",
   "metadata": {},
   "source": [
    "### Recursive solution"
   ]
  },
  {
   "cell_type": "code",
   "execution_count": 15,
   "id": "07b17318",
   "metadata": {},
   "outputs": [],
   "source": [
    "def fib(n):\n",
    "    \n",
    "    if n == 1 or n == 2: result = 1\n",
    "    else: result = fib(n-1) + fib(n-2)\n",
    "    \n",
    "    return result\n",
    "        "
   ]
  },
  {
   "cell_type": "code",
   "execution_count": 16,
   "id": "e163c442",
   "metadata": {},
   "outputs": [
    {
     "data": {
      "text/plain": [
       "21"
      ]
     },
     "execution_count": 16,
     "metadata": {},
     "output_type": "execute_result"
    }
   ],
   "source": [
    "fib(8)"
   ]
  },
  {
   "cell_type": "code",
   "execution_count": 40,
   "id": "fa7af81d",
   "metadata": {},
   "outputs": [
    {
     "data": {
      "text/plain": [
       "102334155"
      ]
     },
     "execution_count": 40,
     "metadata": {},
     "output_type": "execute_result"
    }
   ],
   "source": [
    "#already takes too long\n",
    "fib(40)"
   ]
  },
  {
   "cell_type": "markdown",
   "id": "3260e05a",
   "metadata": {},
   "source": [
    "### Memoized solution"
   ]
  },
  {
   "cell_type": "code",
   "execution_count": 34,
   "id": "3e5c4f13",
   "metadata": {},
   "outputs": [],
   "source": [
    "def fib_2(n, memo):\n",
    "    if memo[n] is not None:\n",
    "        return memo[n]\n",
    "    if n == 1 or n ==2:\n",
    "        result = 1\n",
    "    else:\n",
    "        result = fib_2(n-1, memo) + fib_2(n-2, memo)\n",
    "    memo[n] = result\n",
    "    return result\n",
    "\n",
    "def fib_memo(n):\n",
    "    memo = [None] * (n+1)\n",
    "    return fib_2(n, memo)"
   ]
  },
  {
   "cell_type": "code",
   "execution_count": 35,
   "id": "489af47f",
   "metadata": {},
   "outputs": [
    {
     "data": {
      "text/plain": [
       "5"
      ]
     },
     "execution_count": 35,
     "metadata": {},
     "output_type": "execute_result"
    }
   ],
   "source": [
    "fib_memo(5)"
   ]
  },
  {
   "cell_type": "code",
   "execution_count": 67,
   "id": "f69c501d",
   "metadata": {},
   "outputs": [
    {
     "data": {
      "text/plain": [
       "102334155"
      ]
     },
     "execution_count": 67,
     "metadata": {},
     "output_type": "execute_result"
    }
   ],
   "source": [
    "#noticeable improvement\n",
    "fib_memo(40)"
   ]
  },
  {
   "cell_type": "code",
   "execution_count": 68,
   "id": "bcce0dc2",
   "metadata": {},
   "outputs": [
    {
     "data": {
      "text/plain": [
       "577805698622219372279657425217864433354252842022035393245741001901808074935236517949101646144944879561066295711498706976230979570467137967672962181511058610229433980939370977652531078099338415908022141671193496593530908171180891726755612009538900934537850358046433964698560833949466074106427241013924771158352679983374980034262157662302686851755127721746090589697180453795806319551091366366874908483453659326010669589045245107138616890506944232668084588348927651898742127100742017430967821753994136500387433105866209601732619520598443271629657211323832682053225567555740794521730086055219309451419016440280312709088688189"
      ]
     },
     "execution_count": 68,
     "metadata": {},
     "output_type": "execute_result"
    }
   ],
   "source": [
    "# after this point recursion error occurs\n",
    "fib_memo(2972)"
   ]
  },
  {
   "cell_type": "markdown",
   "id": "6adea5d5",
   "metadata": {},
   "source": [
    "### Bottom up solution"
   ]
  },
  {
   "cell_type": "code",
   "execution_count": 2,
   "id": "971926b8",
   "metadata": {},
   "outputs": [],
   "source": [
    "def fib_bottom_up(n):\n",
    "    if n == 1 or n == 2: return 1\n",
    "    \n",
    "    bottom_up = [None] * (n+1)\n",
    "    bottom_up[1] = 1\n",
    "    bottom_up[2] = 1\n",
    "    for i in range(3, n+1): \n",
    "        bottom_up[i] = bottom_up[i-1] + bottom_up[i-2]\n",
    "    return bottom_up[n]"
   ]
  },
  {
   "cell_type": "code",
   "execution_count": 4,
   "id": "baf1e67c",
   "metadata": {},
   "outputs": [
    {
     "data": {
      "text/plain": [
       "354224848179261915075"
      ]
     },
     "execution_count": 4,
     "metadata": {},
     "output_type": "execute_result"
    }
   ],
   "source": [
    "fib_bottom_up(100)"
   ]
  },
  {
   "cell_type": "code",
   "execution_count": 5,
   "id": "d163dcf4",
   "metadata": {},
   "outputs": [
    {
     "data": {
      "text/plain": [
       "20793608237133498072112648988642836825087036094015903119682945866528501423455686648927456034305226515591757343297190158010624794267250973176133810179902738038231789748346235556483191431591924532394420028067810320408724414693462849062668387083308048250920654493340878733226377580847446324873797603734794648258113858631550404081017260381202919943892370942852601647398213554479081823593715429566945149312993664846779090437799284773675379284270660175134664833266377698642012106891355791141872776934080803504956794094648292880566056364718187662668970758537383352677420835574155945658542003634765324541006121012446785689171494803262408602693091211601973938229446636049901531963286159699077880427720289235539329671877182915643419079186525118678856821600897520171070499437657067342400871083908811800976259727431820539554256869460815355918458253398234382360435762759823179896116748424269545924633204614137992850814352018738480923581553988990897151469406131695614497783720743461373756218685106856826090696339815490921253714537241866911604250597353747823733268178182198509240226955826416016690084749816072843582488613184829905383150180047844353751554201573833105521980998123833253261228689824051777846588461079790807828367132384798451794011076569057522158680378961532160858387223882974380483931929541222100800313580688585002598879566463221427820448492565073106595808837401648996423563386109782045634122467872921845606409174360635618216883812562321664442822952537577492715365321134204530686742435454505103269768144370118494906390254934942358904031509877369722437053383165360388595116980245927935225901537634925654872380877183008301074569444002426436414756905094535072804764684492105680024739914490555904391369218696387092918189246157103450387050229300603241611410707453960080170928277951834763216705242485820801423866526633816082921442883095463259080471819329201710147828025221385656340207489796317663278872207607791034431700112753558813478888727503825389066823098683355695718137867882982111710796422706778536913192342733364556727928018953989153106047379741280794091639429908796650294603536651238230626"
      ]
     },
     "execution_count": 5,
     "metadata": {},
     "output_type": "execute_result"
    }
   ],
   "source": [
    "fib_bottom_up(9999)"
   ]
  },
  {
   "cell_type": "markdown",
   "id": "184b4935",
   "metadata": {},
   "source": [
    "## Coin change problem 01\n",
    "A list of nonidentical coin values and an ammount is given. The output shows the total possible ways the coins add up to the given ammount. Each coin can be used only once.\n",
    "### Recursive solution"
   ]
  },
  {
   "cell_type": "code",
   "execution_count": 29,
   "id": "63b2a51c",
   "metadata": {},
   "outputs": [
    {
     "name": "stdout",
     "output_type": "stream",
     "text": [
      "[1, 2, 3, 4, 5]\n",
      "Enter added total: 10\n",
      "Total possible combinations:  3\n"
     ]
    }
   ],
   "source": [
    "def rec(arr, total, i):\n",
    "    if total == 0: return 1\n",
    "    elif total < 0: return 0\n",
    "    elif i < 0: return 0\n",
    "    \n",
    "    elif total < arr[i]:\n",
    "        return rec(arr, total, i-1)\n",
    "    else:\n",
    "        return rec(arr, total - arr[i], i-1) + rec(arr, total, i-1)\n",
    "    \n",
    "\n",
    "def count_sets(arr, total):\n",
    "    return rec(arr, total, len(arr) -1)\n",
    "\n",
    "a = [1, 2, 3, 4, 5]\n",
    "print(a)\n",
    "t = int(input(\"Enter added total: \"))\n",
    "print(\"Total possible combinations: \", count_sets(a, t))"
   ]
  },
  {
   "cell_type": "markdown",
   "id": "a056f172",
   "metadata": {},
   "source": [
    "### Memoized solution"
   ]
  },
  {
   "cell_type": "code",
   "execution_count": 30,
   "id": "ecea6973",
   "metadata": {},
   "outputs": [
    {
     "name": "stdout",
     "output_type": "stream",
     "text": [
      "[1, 2, 3, 4, 5]\n",
      "Enter added total: 10\n",
      "Total possible combinations:  3\n"
     ]
    }
   ],
   "source": [
    "def dp(arr, total, i, mem):\n",
    "    key = str(total) + ':' + str(i)\n",
    "    if key in mem:\n",
    "        return mem[key]\n",
    "    if total == 0:\n",
    "        return 1\n",
    "    elif total <0:\n",
    "        return 0\n",
    "    elif i < 0:\n",
    "        return 0\n",
    "    elif total < arr[i]:\n",
    "        to_return = dp(arr, total, i-1, mem)\n",
    "    else:\n",
    "        to_return = (dp(arr, total-arr[i], i-1, mem) + dp(arr, total, i-1, mem))\n",
    "        \n",
    "    mem[key] = to_return\n",
    "    return to_return\n",
    "\n",
    "def count_sets_dp(arr, total):\n",
    "    mem = {}\n",
    "    return dp(arr, total, (len(arr)-1), mem)\n",
    "\n",
    "a = [1, 2, 3, 4, 5]\n",
    "print(a)\n",
    "t = int(input(\"Enter added total: \"))\n",
    "print(\"Total possible combinations: \", count_sets_dp(a, t))"
   ]
  },
  {
   "cell_type": "markdown",
   "id": "5dd0963b",
   "metadata": {},
   "source": [
    "## Coin change problem 02\n",
    "\n",
    "In this coin change problem, we are basically provided with coins with different denominations like 2, 5, 9, 13, 15. Now, we have to make an amount by using these coins such that a minimum number of coins are used.\n"
   ]
  },
  {
   "cell_type": "code",
   "execution_count": 32,
   "id": "7ec4e96c",
   "metadata": {},
   "outputs": [
    {
     "name": "stdout",
     "output_type": "stream",
     "text": [
      "Coins:  [1, 2, 3, 4, 5]\n",
      "Enter total money: 10\n",
      "Minimum number of coins required:  3\n"
     ]
    }
   ],
   "source": [
    "import math\n",
    "def f(i, W):\n",
    "    key = str(W) + ':' + str(i)\n",
    "    if key in mem:\n",
    "        return mem[key]\n",
    "    if W<0: return math.inf\n",
    "    elif i==n:\n",
    "        if W==0: return 0\n",
    "        return math.inf\n",
    "    \n",
    "    res_1 = 1 + f(i+1, W-C[i])\n",
    "    res_2 = f(i+1, W)\n",
    "    \n",
    "    mem[key] = min(res_1, res_2)\n",
    "    \n",
    "    return mem[key]\n",
    "\n",
    "mem = {}\n",
    "C = [1, 2, 3, 4, 5]\n",
    "print(\"Coins: \", C)\n",
    "n = len(C)\n",
    "i = 0\n",
    "t = int(input(\"Enter total money: \"))\n",
    "print(\"Minimum number of coins required: \", f(i, t))\n",
    "#print(mem)"
   ]
  },
  {
   "cell_type": "markdown",
   "id": "128b745b",
   "metadata": {},
   "source": [
    "## 0-1 KnapSack problem\n",
    "In the 0–1 Knapsack problem, we are given a set of items, each with a weight and a value, and we need to determine the number of each item to include in a collection so that the total weight is less than or equal to a given limit and the total value is as large as possible."
   ]
  },
  {
   "cell_type": "code",
   "execution_count": 20,
   "id": "62d08518",
   "metadata": {},
   "outputs": [
    {
     "name": "stdout",
     "output_type": "stream",
     "text": [
      "220\n"
     ]
    }
   ],
   "source": [
    "def knapSack(W, wt, val, n):\n",
    "    K = [[0 for x in range(W+1)] for x in range(n+1)]\n",
    "    \n",
    "    #build K[][] in bottom up manner\n",
    "    for i in range(n+1):\n",
    "        for w in range(W+1):\n",
    "            if i == 0 or w == 0:\n",
    "                K[i][w] = 0\n",
    "            elif wt[i-1] <= w:\n",
    "                K[i][w] = max(val[i-1] + K[i-1][w-wt[i-1]], K[i-1][w])\n",
    "            else:\n",
    "                K[i][w] = K[i-1][w]\n",
    "                \n",
    "    return K[n][W]\n",
    "\n",
    "val = [60, 100, 120] # values for items\n",
    "wt = [10, 20, 30] # weight of items\n",
    "W = 50\n",
    "n = len(val)\n",
    "print(knapSack(W, wt, val, n))"
   ]
  },
  {
   "cell_type": "code",
   "execution_count": null,
   "id": "717230af",
   "metadata": {},
   "outputs": [],
   "source": []
  }
 ],
 "metadata": {
  "kernelspec": {
   "display_name": "tenv",
   "language": "python",
   "name": "tenv"
  },
  "language_info": {
   "codemirror_mode": {
    "name": "ipython",
    "version": 3
   },
   "file_extension": ".py",
   "mimetype": "text/x-python",
   "name": "python",
   "nbconvert_exporter": "python",
   "pygments_lexer": "ipython3",
   "version": "3.9.12"
  }
 },
 "nbformat": 4,
 "nbformat_minor": 5
}
