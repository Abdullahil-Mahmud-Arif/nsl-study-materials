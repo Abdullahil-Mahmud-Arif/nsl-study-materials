{
 "cells": [
  {
   "cell_type": "markdown",
   "id": "a76b6585",
   "metadata": {},
   "source": [
    "# Objectives\n",
    "- Convert a regression question into a classification question\n",
    "- Modify the classification threshold and and determine how that modification influences the model\n",
    "- Experiment with different classification metrics to determine the model's effectiveness"
   ]
  },
  {
   "cell_type": "code",
   "execution_count": 1,
   "id": "2e80bd72",
   "metadata": {},
   "outputs": [
    {
     "name": "stderr",
     "output_type": "stream",
     "text": [
      "2022-10-20 11:29:28.250636: I tensorflow/core/platform/cpu_feature_guard.cc:193] This TensorFlow binary is optimized with oneAPI Deep Neural Network Library (oneDNN) to use the following CPU instructions in performance-critical operations:  AVX2 AVX512F AVX512_VNNI FMA\n",
      "To enable them in other operations, rebuild TensorFlow with the appropriate compiler flags.\n",
      "2022-10-20 11:29:28.482912: I tensorflow/core/util/util.cc:169] oneDNN custom operations are on. You may see slightly different numerical results due to floating-point round-off errors from different computation orders. To turn them off, set the environment variable `TF_ENABLE_ONEDNN_OPTS=0`.\n",
      "2022-10-20 11:29:28.550036: W tensorflow/stream_executor/platform/default/dso_loader.cc:64] Could not load dynamic library 'libcudart.so.11.0'; dlerror: libcudart.so.11.0: cannot open shared object file: No such file or directory\n",
      "2022-10-20 11:29:28.550075: I tensorflow/stream_executor/cuda/cudart_stub.cc:29] Ignore above cudart dlerror if you do not have a GPU set up on your machine.\n",
      "2022-10-20 11:29:28.598087: E tensorflow/stream_executor/cuda/cuda_blas.cc:2981] Unable to register cuBLAS factory: Attempting to register factory for plugin cuBLAS when one has already been registered\n",
      "2022-10-20 11:29:29.281884: W tensorflow/stream_executor/platform/default/dso_loader.cc:64] Could not load dynamic library 'libnvinfer.so.7'; dlerror: libnvinfer.so.7: cannot open shared object file: No such file or directory\n",
      "2022-10-20 11:29:29.281928: W tensorflow/stream_executor/platform/default/dso_loader.cc:64] Could not load dynamic library 'libnvinfer_plugin.so.7'; dlerror: libnvinfer_plugin.so.7: cannot open shared object file: No such file or directory\n",
      "2022-10-20 11:29:29.281932: W tensorflow/compiler/tf2tensorrt/utils/py_utils.cc:38] TF-TRT Warning: Cannot dlopen some TensorRT libraries. If you would like to use Nvidia GPU with TensorRT, please make sure the missing libraries mentioned above are installed properly.\n"
     ]
    },
    {
     "name": "stdout",
     "output_type": "stream",
     "text": [
      "Imported modules\n"
     ]
    }
   ],
   "source": [
    "import numpy as np\n",
    "import pandas as pd\n",
    "import tensorflow as tf\n",
    "from tensorflow.keras import layers\n",
    "from matplotlib import pyplot as plt\n",
    "\n",
    "pd.options.display.max_rows = 10\n",
    "pd.options.display.float_format = \"{:.1f}\".format\n",
    "\n",
    "print (\"Imported modules\")"
   ]
  },
  {
   "cell_type": "markdown",
   "id": "bc3463bf",
   "metadata": {},
   "source": [
    "## Load dataset from the internet"
   ]
  },
  {
   "cell_type": "code",
   "execution_count": 2,
   "id": "0045096d",
   "metadata": {},
   "outputs": [],
   "source": [
    "train_df = pd.read_csv(\"https://download.mlcc.google.com/mledu-datasets/california_housing_train.csv\")\n",
    "test_df = pd.read_csv(\"https://download.mlcc.google.com/mledu-datasets/california_housing_test.csv\")\n",
    "\n",
    "train_df = train_df.reindex(np.random.permutation(train_df.index))"
   ]
  },
  {
   "cell_type": "markdown",
   "id": "695661cd",
   "metadata": {},
   "source": [
    "## Normalize values using Z-scores of the values"
   ]
  },
  {
   "cell_type": "code",
   "execution_count": 3,
   "id": "35849f86",
   "metadata": {},
   "outputs": [
    {
     "data": {
      "text/html": [
       "<div>\n",
       "<style scoped>\n",
       "    .dataframe tbody tr th:only-of-type {\n",
       "        vertical-align: middle;\n",
       "    }\n",
       "\n",
       "    .dataframe tbody tr th {\n",
       "        vertical-align: top;\n",
       "    }\n",
       "\n",
       "    .dataframe thead th {\n",
       "        text-align: right;\n",
       "    }\n",
       "</style>\n",
       "<table border=\"1\" class=\"dataframe\">\n",
       "  <thead>\n",
       "    <tr style=\"text-align: right;\">\n",
       "      <th></th>\n",
       "      <th>longitude</th>\n",
       "      <th>latitude</th>\n",
       "      <th>housing_median_age</th>\n",
       "      <th>total_rooms</th>\n",
       "      <th>total_bedrooms</th>\n",
       "      <th>population</th>\n",
       "      <th>households</th>\n",
       "      <th>median_income</th>\n",
       "      <th>median_house_value</th>\n",
       "    </tr>\n",
       "  </thead>\n",
       "  <tbody>\n",
       "    <tr>\n",
       "      <th>1475</th>\n",
       "      <td>1.2</td>\n",
       "      <td>-0.6</td>\n",
       "      <td>-0.9</td>\n",
       "      <td>3.1</td>\n",
       "      <td>2.2</td>\n",
       "      <td>-0.0</td>\n",
       "      <td>-0.1</td>\n",
       "      <td>1.2</td>\n",
       "      <td>0.2</td>\n",
       "    </tr>\n",
       "    <tr>\n",
       "      <th>1723</th>\n",
       "      <td>1.2</td>\n",
       "      <td>-0.9</td>\n",
       "      <td>-1.5</td>\n",
       "      <td>-0.5</td>\n",
       "      <td>-0.5</td>\n",
       "      <td>-0.6</td>\n",
       "      <td>-0.7</td>\n",
       "      <td>-0.2</td>\n",
       "      <td>-0.4</td>\n",
       "    </tr>\n",
       "    <tr>\n",
       "      <th>13728</th>\n",
       "      <td>-1.2</td>\n",
       "      <td>0.8</td>\n",
       "      <td>0.6</td>\n",
       "      <td>-0.6</td>\n",
       "      <td>-0.7</td>\n",
       "      <td>-0.5</td>\n",
       "      <td>-0.7</td>\n",
       "      <td>1.0</td>\n",
       "      <td>0.3</td>\n",
       "    </tr>\n",
       "    <tr>\n",
       "      <th>6858</th>\n",
       "      <td>0.6</td>\n",
       "      <td>-0.8</td>\n",
       "      <td>0.6</td>\n",
       "      <td>0.4</td>\n",
       "      <td>0.8</td>\n",
       "      <td>1.0</td>\n",
       "      <td>0.9</td>\n",
       "      <td>-0.7</td>\n",
       "      <td>-0.8</td>\n",
       "    </tr>\n",
       "    <tr>\n",
       "      <th>8561</th>\n",
       "      <td>0.5</td>\n",
       "      <td>-0.7</td>\n",
       "      <td>0.6</td>\n",
       "      <td>0.3</td>\n",
       "      <td>-0.2</td>\n",
       "      <td>-0.2</td>\n",
       "      <td>-0.2</td>\n",
       "      <td>1.8</td>\n",
       "      <td>2.3</td>\n",
       "    </tr>\n",
       "  </tbody>\n",
       "</table>\n",
       "</div>"
      ],
      "text/plain": [
       "       longitude  latitude  housing_median_age  total_rooms  total_bedrooms  \\\n",
       "1475         1.2      -0.6                -0.9          3.1             2.2   \n",
       "1723         1.2      -0.9                -1.5         -0.5            -0.5   \n",
       "13728       -1.2       0.8                 0.6         -0.6            -0.7   \n",
       "6858         0.6      -0.8                 0.6          0.4             0.8   \n",
       "8561         0.5      -0.7                 0.6          0.3            -0.2   \n",
       "\n",
       "       population  households  median_income  median_house_value  \n",
       "1475         -0.0        -0.1            1.2                 0.2  \n",
       "1723         -0.6        -0.7           -0.2                -0.4  \n",
       "13728        -0.5        -0.7            1.0                 0.3  \n",
       "6858          1.0         0.9           -0.7                -0.8  \n",
       "8561         -0.2        -0.2            1.8                 2.3  "
      ]
     },
     "execution_count": 3,
     "metadata": {},
     "output_type": "execute_result"
    }
   ],
   "source": [
    "#calculate Z-score and write to new pandas DataFrame\n",
    "train_df_mean = train_df.mean()\n",
    "train_df_std = train_df.std()\n",
    "train_df_norm = (train_df - train_df_mean) / train_df_std\n",
    "\n",
    "#examine some of the normalized values\n",
    "train_df_norm.head()"
   ]
  },
  {
   "cell_type": "code",
   "execution_count": 4,
   "id": "6af58b2c",
   "metadata": {},
   "outputs": [],
   "source": [
    "test_df_mean = test_df.mean()\n",
    "test_df_std = test_df.std()\n",
    "test_df_norm = (test_df - test_df_mean) / test_df_std"
   ]
  },
  {
   "cell_type": "markdown",
   "id": "fc2238fa",
   "metadata": {},
   "source": [
    "## Create a binary level"
   ]
  },
  {
   "cell_type": "code",
   "execution_count": 6,
   "id": "10c3cd2e",
   "metadata": {},
   "outputs": [
    {
     "data": {
      "text/plain": [
       "1475    0.0\n",
       "1723    0.0\n",
       "13728   0.0\n",
       "6858    0.0\n",
       "8561    1.0\n",
       "         ..\n",
       "4301    0.0\n",
       "118     0.0\n",
       "9756    0.0\n",
       "5056    0.0\n",
       "12155   0.0\n",
       "Name: median_house_value_is_high, Length: 8000, dtype: float64"
      ]
     },
     "execution_count": 6,
     "metadata": {},
     "output_type": "execute_result"
    }
   ],
   "source": [
    "threshold = 265000\n",
    "train_df_norm[\"median_house_value_is_high\"] = (train_df[\"median_house_value\"] > threshold).astype(float)\n",
    "test_df_norm[\"median_house_value_is_high\"] = (test_df[\"median_house_value\"] > threshold).astype(float)\n",
    "train_df_norm[\"median_house_value_is_high\"].head(8000)"
   ]
  },
  {
   "cell_type": "markdown",
   "id": "48b8415e",
   "metadata": {},
   "source": [
    "## Represent features in feature column"
   ]
  },
  {
   "cell_type": "code",
   "execution_count": 7,
   "id": "bf8907b4",
   "metadata": {},
   "outputs": [
    {
     "name": "stderr",
     "output_type": "stream",
     "text": [
      "2022-10-20 11:53:29.906681: W tensorflow/stream_executor/platform/default/dso_loader.cc:64] Could not load dynamic library 'libcuda.so.1'; dlerror: libcuda.so.1: cannot open shared object file: No such file or directory\n",
      "2022-10-20 11:53:29.906950: W tensorflow/stream_executor/cuda/cuda_driver.cc:263] failed call to cuInit: UNKNOWN ERROR (303)\n",
      "2022-10-20 11:53:29.906966: I tensorflow/stream_executor/cuda/cuda_diagnostics.cc:156] kernel driver does not appear to be running on this host (nsl54): /proc/driver/nvidia/version does not exist\n",
      "2022-10-20 11:53:29.907497: I tensorflow/core/platform/cpu_feature_guard.cc:193] This TensorFlow binary is optimized with oneAPI Deep Neural Network Library (oneDNN) to use the following CPU instructions in performance-critical operations:  AVX2 AVX512F AVX512_VNNI FMA\n",
      "To enable them in other operations, rebuild TensorFlow with the appropriate compiler flags.\n"
     ]
    },
    {
     "data": {
      "text/plain": [
       "<tf.Tensor: shape=(17000, 2), dtype=float32, numpy=\n",
       "array([[ 1.2261688 ,  3.1080275 ],\n",
       "       [-0.19446942, -0.45490298],\n",
       "       [ 0.999615  , -0.6457333 ],\n",
       "       ...,\n",
       "       [ 3.3096457 ,  0.15199248],\n",
       "       [-0.39235675,  0.17905737],\n",
       "       [ 3.2365909 , -0.48701385]], dtype=float32)>"
      ]
     },
     "execution_count": 7,
     "metadata": {},
     "output_type": "execute_result"
    }
   ],
   "source": [
    "feature_columns = []\n",
    "\n",
    "median_income = tf.feature_column.numeric_column(\"median_income\")\n",
    "feature_columns.append(median_income)\n",
    "\n",
    "tr = tf.feature_column.numeric_column(\"total_rooms\")\n",
    "feature_columns.append(tr)\n",
    "\n",
    "feature_layer = layers.DenseFeatures(feature_columns)\n",
    "\n",
    "feature_layer(dict(train_df_norm))"
   ]
  },
  {
   "cell_type": "markdown",
   "id": "3683695d",
   "metadata": {},
   "source": [
    "## Build and Train model"
   ]
  },
  {
   "cell_type": "code",
   "execution_count": 13,
   "id": "dcd929e6",
   "metadata": {},
   "outputs": [
    {
     "name": "stdout",
     "output_type": "stream",
     "text": [
      "Defined create and train model functions\n"
     ]
    }
   ],
   "source": [
    "def create_model(my_learning_rate, feature_layer, my_metrics):\n",
    "    \n",
    "    model = tf.keras.models.Sequential()\n",
    "    \n",
    "    model.add(feature_layer)\n",
    "    \n",
    "    model.add(tf.keras.layers.Dense(units=1, input_shape=(1,),\n",
    "                                   activation=tf.sigmoid),)\n",
    "    \n",
    "    model.compile(optimizer=tf.keras.optimizers.RMSprop(lr=my_learning_rate),\n",
    "                 loss=tf.keras.losses.BinaryCrossentropy(),\n",
    "                 metrics=my_metrics)\n",
    "    \n",
    "    return model\n",
    "\n",
    "\n",
    "def train_model(model, dataset, epochs, label_name,\n",
    "               batcj_size=None, shuffle=True):\n",
    "    \n",
    "    features = {name:np.array(value) for name, value in dataset.items()}\n",
    "    label = np.array(features.pop(label_name))\n",
    "    history = model.fit(x=features, y=label, batch_size=batch_size,\n",
    "                       epochs=epochs, shuffle=shuffle)\n",
    "    \n",
    "    epochs = history.epoch\n",
    "    \n",
    "    hist = pd.DataFrame(history.history)\n",
    "    \n",
    "    return epochs, hist\n",
    "\n",
    "print(\"Defined create and train model functions\")"
   ]
  },
  {
   "cell_type": "markdown",
   "id": "4653bcf0",
   "metadata": {},
   "source": [
    "## Plotting"
   ]
  },
  {
   "cell_type": "code",
   "execution_count": 14,
   "id": "46a3f2c8",
   "metadata": {},
   "outputs": [
    {
     "name": "stdout",
     "output_type": "stream",
     "text": [
      "Defined plot function\n"
     ]
    }
   ],
   "source": [
    "def plot_curve(epochs, hist, list_of_metrics):\n",
    "    \n",
    "    plt.figure()\n",
    "    plt.xlabel(\"Epoch\")\n",
    "    plt.ylabel(\"Value\")\n",
    "    \n",
    "    for m in list_of_metrics:\n",
    "        x = hist[m]\n",
    "        plt.plot(epochs[1:], x[1:], label=m)\n",
    "        \n",
    "    plt.legend()\n",
    "    \n",
    "print(\"Defined plot function\")"
   ]
  },
  {
   "cell_type": "markdown",
   "id": "5a975046",
   "metadata": {},
   "source": [
    "## Train and plot \"ROC curve (Recursive Operating Characteristic Curve)\""
   ]
  },
  {
   "cell_type": "code",
   "execution_count": 15,
   "id": "9c888c08",
   "metadata": {
    "scrolled": true
   },
   "outputs": [
    {
     "name": "stdout",
     "output_type": "stream",
     "text": [
      "Epoch 1/20\n",
      "WARNING:tensorflow:Layers in a Sequential model should only have a single input tensor. Received: inputs={'longitude': <tf.Tensor 'IteratorGetNext:3' shape=(100,) dtype=float32>, 'latitude': <tf.Tensor 'IteratorGetNext:2' shape=(100,) dtype=float32>, 'housing_median_age': <tf.Tensor 'IteratorGetNext:1' shape=(100,) dtype=float32>, 'total_rooms': <tf.Tensor 'IteratorGetNext:8' shape=(100,) dtype=float32>, 'total_bedrooms': <tf.Tensor 'IteratorGetNext:7' shape=(100,) dtype=float32>, 'population': <tf.Tensor 'IteratorGetNext:6' shape=(100,) dtype=float32>, 'households': <tf.Tensor 'IteratorGetNext:0' shape=(100,) dtype=float32>, 'median_income': <tf.Tensor 'IteratorGetNext:5' shape=(100,) dtype=float32>, 'median_house_value': <tf.Tensor 'IteratorGetNext:4' shape=(100,) dtype=float32>}. Consider rewriting this model with the Functional API.\n",
      "WARNING:tensorflow:Layers in a Sequential model should only have a single input tensor. Received: inputs={'longitude': <tf.Tensor 'IteratorGetNext:3' shape=(100,) dtype=float32>, 'latitude': <tf.Tensor 'IteratorGetNext:2' shape=(100,) dtype=float32>, 'housing_median_age': <tf.Tensor 'IteratorGetNext:1' shape=(100,) dtype=float32>, 'total_rooms': <tf.Tensor 'IteratorGetNext:8' shape=(100,) dtype=float32>, 'total_bedrooms': <tf.Tensor 'IteratorGetNext:7' shape=(100,) dtype=float32>, 'population': <tf.Tensor 'IteratorGetNext:6' shape=(100,) dtype=float32>, 'households': <tf.Tensor 'IteratorGetNext:0' shape=(100,) dtype=float32>, 'median_income': <tf.Tensor 'IteratorGetNext:5' shape=(100,) dtype=float32>, 'median_house_value': <tf.Tensor 'IteratorGetNext:4' shape=(100,) dtype=float32>}. Consider rewriting this model with the Functional API.\n",
      "170/170 [==============================] - 0s 623us/step - loss: 0.6541 - accuracy: 0.2601\n",
      "Epoch 2/20\n",
      "170/170 [==============================] - 0s 584us/step - loss: 0.5790 - accuracy: 0.3174\n",
      "Epoch 3/20\n",
      "170/170 [==============================] - 0s 603us/step - loss: 0.5240 - accuracy: 0.5784\n",
      "Epoch 4/20\n",
      "170/170 [==============================] - 0s 599us/step - loss: 0.4833 - accuracy: 0.7044\n",
      "Epoch 5/20\n",
      "170/170 [==============================] - 0s 592us/step - loss: 0.4533 - accuracy: 0.7563\n",
      "Epoch 6/20\n",
      "170/170 [==============================] - 0s 580us/step - loss: 0.4318 - accuracy: 0.7814\n",
      "Epoch 7/20\n",
      "170/170 [==============================] - 0s 587us/step - loss: 0.4174 - accuracy: 0.7962\n",
      "Epoch 8/20\n",
      "170/170 [==============================] - 0s 574us/step - loss: 0.4084 - accuracy: 0.8030\n",
      "Epoch 9/20\n",
      "170/170 [==============================] - 0s 587us/step - loss: 0.4028 - accuracy: 0.8056\n",
      "Epoch 10/20\n",
      "170/170 [==============================] - 0s 590us/step - loss: 0.3998 - accuracy: 0.8071\n",
      "Epoch 11/20\n",
      "170/170 [==============================] - 0s 611us/step - loss: 0.3982 - accuracy: 0.8076\n",
      "Epoch 12/20\n",
      "170/170 [==============================] - 0s 604us/step - loss: 0.3975 - accuracy: 0.8082\n",
      "Epoch 13/20\n",
      "170/170 [==============================] - 0s 606us/step - loss: 0.3970 - accuracy: 0.8084\n",
      "Epoch 14/20\n",
      "170/170 [==============================] - 0s 602us/step - loss: 0.3968 - accuracy: 0.8085\n",
      "Epoch 15/20\n",
      "170/170 [==============================] - 0s 595us/step - loss: 0.3967 - accuracy: 0.8087\n",
      "Epoch 16/20\n",
      "170/170 [==============================] - 0s 600us/step - loss: 0.3967 - accuracy: 0.8090\n",
      "Epoch 17/20\n",
      "170/170 [==============================] - 0s 609us/step - loss: 0.3966 - accuracy: 0.8084\n",
      "Epoch 18/20\n",
      "170/170 [==============================] - 0s 595us/step - loss: 0.3966 - accuracy: 0.8095\n",
      "Epoch 19/20\n",
      "170/170 [==============================] - 0s 576us/step - loss: 0.3966 - accuracy: 0.8092\n",
      "Epoch 20/20\n",
      "170/170 [==============================] - 0s 608us/step - loss: 0.3966 - accuracy: 0.8090\n"
     ]
    },
    {
     "data": {
      "image/png": "[encoded data removed]",
      "text/plain": [
       "<Figure size 640x480 with 1 Axes>"
      ]
     },
     "metadata": {},
     "output_type": "display_data"
    }
   ],
   "source": [
    "learning_rate = 0.001\n",
    "epochs = 20\n",
    "batch_size = 100\n",
    "label_name = \"median_house_value_is_high\"\n",
    "classification_threshold = 0.35\n",
    "\n",
    "#establish the metrics the model will measure\n",
    "METRICS = [tf.keras.metrics.BinaryAccuracy(name='accuracy',\n",
    "                                   threshold=classification_threshold),]\n",
    "\n",
    "my_model = create_model(learning_rate, feature_layer, METRICS)\n",
    "\n",
    "epochs, hist = train_model(my_model, train_df_norm, epochs,\n",
    "                          label_name, batch_size)\n",
    "\n",
    "list_of_metrics_to_plot = ['accuracy']\n",
    "\n",
    "plot_curve(epochs, hist, list_of_metrics_to_plot)"
   ]
  },
  {
   "cell_type": "markdown",
   "id": "709cf155",
   "metadata": {},
   "source": [
    "## Evaluate against test set"
   ]
  },
  {
   "cell_type": "code",
   "execution_count": 17,
   "id": "b3ef79c6",
   "metadata": {},
   "outputs": [
    {
     "name": "stdout",
     "output_type": "stream",
     "text": [
      "WARNING:tensorflow:Layers in a Sequential model should only have a single input tensor. Received: inputs={'longitude': <tf.Tensor 'IteratorGetNext:3' shape=(100,) dtype=float32>, 'latitude': <tf.Tensor 'IteratorGetNext:2' shape=(100,) dtype=float32>, 'housing_median_age': <tf.Tensor 'IteratorGetNext:1' shape=(100,) dtype=float32>, 'total_rooms': <tf.Tensor 'IteratorGetNext:8' shape=(100,) dtype=float32>, 'total_bedrooms': <tf.Tensor 'IteratorGetNext:7' shape=(100,) dtype=float32>, 'population': <tf.Tensor 'IteratorGetNext:6' shape=(100,) dtype=float32>, 'households': <tf.Tensor 'IteratorGetNext:0' shape=(100,) dtype=float32>, 'median_income': <tf.Tensor 'IteratorGetNext:5' shape=(100,) dtype=float32>, 'median_house_value': <tf.Tensor 'IteratorGetNext:4' shape=(100,) dtype=float32>}. Consider rewriting this model with the Functional API.\n",
      "30/30 [==============================] - 0s 651us/step - loss: 0.4069 - accuracy: 0.8013\n"
     ]
    },
    {
     "data": {
      "text/plain": [
       "[0.4068729281425476, 0.8013333082199097]"
      ]
     },
     "execution_count": 17,
     "metadata": {},
     "output_type": "execute_result"
    }
   ],
   "source": [
    "features = {name:np.array(value) for name, value in test_df_norm.items()}\n",
    "label = np.array(features.pop(label_name))\n",
    "                \n",
    "my_model.evaluate(x = features, y = label, batch_size = batch_size)"
   ]
  },
  {
   "cell_type": "markdown",
   "id": "b5695256",
   "metadata": {},
   "source": [
    "##### 80% accuracy is good but a model that always guesses \"median_house_value_is_high is False\" would be 75% accurate"
   ]
  },
  {
   "cell_type": "markdown",
   "id": "5354630e",
   "metadata": {},
   "source": [
    "## Adding precision and recall metrics"
   ]
  },
  {
   "cell_type": "code",
   "execution_count": 30,
   "id": "21dda111",
   "metadata": {
    "scrolled": true
   },
   "outputs": [
    {
     "name": "stdout",
     "output_type": "stream",
     "text": [
      "Epoch 1/20\n",
      "WARNING:tensorflow:Layers in a Sequential model should only have a single input tensor. Received: inputs={'longitude': <tf.Tensor 'IteratorGetNext:3' shape=(100,) dtype=float32>, 'latitude': <tf.Tensor 'IteratorGetNext:2' shape=(100,) dtype=float32>, 'housing_median_age': <tf.Tensor 'IteratorGetNext:1' shape=(100,) dtype=float32>, 'total_rooms': <tf.Tensor 'IteratorGetNext:8' shape=(100,) dtype=float32>, 'total_bedrooms': <tf.Tensor 'IteratorGetNext:7' shape=(100,) dtype=float32>, 'population': <tf.Tensor 'IteratorGetNext:6' shape=(100,) dtype=float32>, 'households': <tf.Tensor 'IteratorGetNext:0' shape=(100,) dtype=float32>, 'median_income': <tf.Tensor 'IteratorGetNext:5' shape=(100,) dtype=float32>, 'median_house_value': <tf.Tensor 'IteratorGetNext:4' shape=(100,) dtype=float32>}. Consider rewriting this model with the Functional API.\n",
      "WARNING:tensorflow:Layers in a Sequential model should only have a single input tensor. Received: inputs={'longitude': <tf.Tensor 'IteratorGetNext:3' shape=(100,) dtype=float32>, 'latitude': <tf.Tensor 'IteratorGetNext:2' shape=(100,) dtype=float32>, 'housing_median_age': <tf.Tensor 'IteratorGetNext:1' shape=(100,) dtype=float32>, 'total_rooms': <tf.Tensor 'IteratorGetNext:8' shape=(100,) dtype=float32>, 'total_bedrooms': <tf.Tensor 'IteratorGetNext:7' shape=(100,) dtype=float32>, 'population': <tf.Tensor 'IteratorGetNext:6' shape=(100,) dtype=float32>, 'households': <tf.Tensor 'IteratorGetNext:0' shape=(100,) dtype=float32>, 'median_income': <tf.Tensor 'IteratorGetNext:5' shape=(100,) dtype=float32>, 'median_house_value': <tf.Tensor 'IteratorGetNext:4' shape=(100,) dtype=float32>}. Consider rewriting this model with the Functional API.\n",
      "170/170 [==============================] - 0s 648us/step - loss: 0.6983 - accuracy: 0.6556 - precision: 0.3002 - recall: 0.2844\n",
      "Epoch 2/20\n",
      "170/170 [==============================] - 0s 651us/step - loss: 0.6222 - accuracy: 0.7246 - precision: 0.4209 - recall: 0.2727\n",
      "Epoch 3/20\n",
      "170/170 [==============================] - 0s 656us/step - loss: 0.5604 - accuracy: 0.7687 - precision: 0.5725 - recall: 0.2929\n",
      "Epoch 4/20\n",
      "170/170 [==============================] - 0s 672us/step - loss: 0.5113 - accuracy: 0.7974 - precision: 0.7124 - recall: 0.3167\n",
      "Epoch 5/20\n",
      "170/170 [==============================] - 0s 664us/step - loss: 0.4739 - accuracy: 0.8131 - precision: 0.8004 - recall: 0.3353\n",
      "Epoch 6/20\n",
      "170/170 [==============================] - 0s 659us/step - loss: 0.4468 - accuracy: 0.8235 - precision: 0.8447 - recall: 0.3598\n",
      "Epoch 7/20\n",
      "170/170 [==============================] - 0s 678us/step - loss: 0.4282 - accuracy: 0.8291 - precision: 0.8638 - recall: 0.3749\n",
      "Epoch 8/20\n",
      "170/170 [==============================] - 0s 625us/step - loss: 0.4159 - accuracy: 0.8319 - precision: 0.8517 - recall: 0.3963\n",
      "Epoch 9/20\n",
      "170/170 [==============================] - 0s 655us/step - loss: 0.4079 - accuracy: 0.8334 - precision: 0.8342 - recall: 0.4158\n",
      "Epoch 10/20\n",
      "170/170 [==============================] - 0s 667us/step - loss: 0.4028 - accuracy: 0.8352 - precision: 0.8245 - recall: 0.4325\n",
      "Epoch 11/20\n",
      "170/170 [==============================] - 0s 645us/step - loss: 0.3999 - accuracy: 0.8357 - precision: 0.8081 - recall: 0.4490\n",
      "Epoch 12/20\n",
      "170/170 [==============================] - 0s 638us/step - loss: 0.3984 - accuracy: 0.8356 - precision: 0.8038 - recall: 0.4526\n",
      "Epoch 13/20\n",
      "170/170 [==============================] - 0s 645us/step - loss: 0.3975 - accuracy: 0.8361 - precision: 0.7989 - recall: 0.4594\n",
      "Epoch 14/20\n",
      "170/170 [==============================] - 0s 638us/step - loss: 0.3971 - accuracy: 0.8365 - precision: 0.7935 - recall: 0.4669\n",
      "Epoch 15/20\n",
      "170/170 [==============================] - 0s 669us/step - loss: 0.3968 - accuracy: 0.8363 - precision: 0.7921 - recall: 0.4674\n",
      "Epoch 16/20\n",
      "170/170 [==============================] - 0s 662us/step - loss: 0.3967 - accuracy: 0.8362 - precision: 0.7905 - recall: 0.4683\n",
      "Epoch 17/20\n",
      "170/170 [==============================] - 0s 644us/step - loss: 0.3967 - accuracy: 0.8366 - precision: 0.7888 - recall: 0.4723\n",
      "Epoch 18/20\n",
      "170/170 [==============================] - 0s 635us/step - loss: 0.3966 - accuracy: 0.8360 - precision: 0.7851 - recall: 0.4730\n",
      "Epoch 19/20\n",
      "170/170 [==============================] - 0s 669us/step - loss: 0.3966 - accuracy: 0.8359 - precision: 0.7859 - recall: 0.4719\n",
      "Epoch 20/20\n",
      "170/170 [==============================] - 0s 650us/step - loss: 0.3966 - accuracy: 0.8359 - precision: 0.7854 - recall: 0.4721\n"
     ]
    },
    {
     "data": {
      "image/png": "[encoded data removed]",
      "text/plain": [
       "<Figure size 640x480 with 1 Axes>"
      ]
     },
     "metadata": {},
     "output_type": "display_data"
    }
   ],
   "source": [
    "learning_rate = 0.001\n",
    "epochs = 20\n",
    "batch_size = 100\n",
    "classification_threshold = 0.52\n",
    "\n",
    "label_name = \"median_house_value_is_high\"\n",
    "\n",
    "METRICS = [\n",
    "    tf.keras.metrics.BinaryAccuracy(name='accuracy',\n",
    "                                   threshold=classification_threshold),\n",
    "    tf.keras.metrics.Precision(thresholds=classification_threshold,\n",
    "                              name='precision'\n",
    "                              ),\n",
    "    tf.keras.metrics.Recall(thresholds=classification_threshold,\n",
    "                            name='recall'),\n",
    "    \n",
    "]\n",
    "\n",
    "my_model = create_model(learning_rate, feature_layer, METRICS)\n",
    "epochs, hist = train_model(my_model, train_df_norm, epochs,\n",
    "                          label_name, batch_size)\n",
    "\n",
    "list_of_metrics_to_plot = ['accuracy', 'precision', 'recall']\n",
    "plot_curve(epochs, hist, list_of_metrics_to_plot)"
   ]
  },
  {
   "cell_type": "markdown",
   "id": "3c0e6e5d",
   "metadata": {},
   "source": [
    "##### A classification_threshold of slightly over 0.5 appears to produce the highest accuracy (about 83%). Raising the classification_threshold  to 0.9 drops  accuracy by about 5%.  Lowering the classification_threshold  to 0.3 drops accuracy by  about 3%. "
   ]
  },
  {
   "cell_type": "markdown",
   "id": "c1f4bcf8",
   "metadata": {},
   "source": [
    "## AUC (Area Under the ROC)"
   ]
  },
  {
   "cell_type": "code",
   "execution_count": 33,
   "id": "36d16d24",
   "metadata": {
    "scrolled": true
   },
   "outputs": [
    {
     "name": "stdout",
     "output_type": "stream",
     "text": [
      "Epoch 1/20\n",
      "WARNING:tensorflow:Layers in a Sequential model should only have a single input tensor. Received: inputs={'longitude': <tf.Tensor 'IteratorGetNext:3' shape=(100,) dtype=float32>, 'latitude': <tf.Tensor 'IteratorGetNext:2' shape=(100,) dtype=float32>, 'housing_median_age': <tf.Tensor 'IteratorGetNext:1' shape=(100,) dtype=float32>, 'total_rooms': <tf.Tensor 'IteratorGetNext:8' shape=(100,) dtype=float32>, 'total_bedrooms': <tf.Tensor 'IteratorGetNext:7' shape=(100,) dtype=float32>, 'population': <tf.Tensor 'IteratorGetNext:6' shape=(100,) dtype=float32>, 'households': <tf.Tensor 'IteratorGetNext:0' shape=(100,) dtype=float32>, 'median_income': <tf.Tensor 'IteratorGetNext:5' shape=(100,) dtype=float32>, 'median_house_value': <tf.Tensor 'IteratorGetNext:4' shape=(100,) dtype=float32>}. Consider rewriting this model with the Functional API.\n",
      "WARNING:tensorflow:Layers in a Sequential model should only have a single input tensor. Received: inputs={'longitude': <tf.Tensor 'IteratorGetNext:3' shape=(100,) dtype=float32>, 'latitude': <tf.Tensor 'IteratorGetNext:2' shape=(100,) dtype=float32>, 'housing_median_age': <tf.Tensor 'IteratorGetNext:1' shape=(100,) dtype=float32>, 'total_rooms': <tf.Tensor 'IteratorGetNext:8' shape=(100,) dtype=float32>, 'total_bedrooms': <tf.Tensor 'IteratorGetNext:7' shape=(100,) dtype=float32>, 'population': <tf.Tensor 'IteratorGetNext:6' shape=(100,) dtype=float32>, 'households': <tf.Tensor 'IteratorGetNext:0' shape=(100,) dtype=float32>, 'median_income': <tf.Tensor 'IteratorGetNext:5' shape=(100,) dtype=float32>, 'median_house_value': <tf.Tensor 'IteratorGetNext:4' shape=(100,) dtype=float32>}. Consider rewriting this model with the Functional API.\n",
      "170/170 [==============================] - 0s 619us/step - loss: 0.6155 - auc: 0.7897\n",
      "Epoch 2/20\n",
      "170/170 [==============================] - 0s 602us/step - loss: 0.5557 - auc: 0.8159\n",
      "Epoch 3/20\n",
      "170/170 [==============================] - 0s 624us/step - loss: 0.5083 - auc: 0.8274\n",
      "Epoch 4/20\n",
      "170/170 [==============================] - 0s 612us/step - loss: 0.4717 - auc: 0.8320\n",
      "Epoch 5/20\n",
      "170/170 [==============================] - 0s 629us/step - loss: 0.4446 - auc: 0.8349\n",
      "Epoch 6/20\n",
      "170/170 [==============================] - 0s 625us/step - loss: 0.4255 - auc: 0.8355\n",
      "Epoch 7/20\n",
      "170/170 [==============================] - 0s 630us/step - loss: 0.4129 - auc: 0.8364\n",
      "Epoch 8/20\n",
      "170/170 [==============================] - 0s 623us/step - loss: 0.4055 - auc: 0.8363\n",
      "Epoch 9/20\n",
      "170/170 [==============================] - 0s 654us/step - loss: 0.4012 - auc: 0.8367\n",
      "Epoch 10/20\n",
      "170/170 [==============================] - 0s 609us/step - loss: 0.3990 - auc: 0.8368\n",
      "Epoch 11/20\n",
      "170/170 [==============================] - 0s 631us/step - loss: 0.3978 - auc: 0.8366\n",
      "Epoch 12/20\n",
      "170/170 [==============================] - 0s 634us/step - loss: 0.3972 - auc: 0.8368\n",
      "Epoch 13/20\n",
      "170/170 [==============================] - 0s 630us/step - loss: 0.3969 - auc: 0.8370\n",
      "Epoch 14/20\n",
      "170/170 [==============================] - 0s 610us/step - loss: 0.3967 - auc: 0.8367\n",
      "Epoch 15/20\n",
      "170/170 [==============================] - 0s 634us/step - loss: 0.3967 - auc: 0.8368\n",
      "Epoch 16/20\n",
      "170/170 [==============================] - 0s 615us/step - loss: 0.3966 - auc: 0.8369\n",
      "Epoch 17/20\n",
      "170/170 [==============================] - 0s 637us/step - loss: 0.3966 - auc: 0.8369\n",
      "Epoch 18/20\n",
      "170/170 [==============================] - 0s 615us/step - loss: 0.3966 - auc: 0.8369\n",
      "Epoch 19/20\n",
      "170/170 [==============================] - 0s 626us/step - loss: 0.3966 - auc: 0.8369\n",
      "Epoch 20/20\n",
      "170/170 [==============================] - 0s 629us/step - loss: 0.3966 - auc: 0.8369\n"
     ]
    },
    {
     "data": {
      "image/png": "[encoded data removed]",
      "text/plain": [
       "<Figure size 640x480 with 1 Axes>"
      ]
     },
     "metadata": {},
     "output_type": "display_data"
    }
   ],
   "source": [
    "learning_rate = 0.001\n",
    "epochs = 20\n",
    "batch_size = 100\n",
    "label_name = \"median_house_value_is_high\"\n",
    "\n",
    "#establish the metrics the model will measure\n",
    "METRICS = [tf.keras.metrics.AUC(num_thresholds=100,name='auc'),]\n",
    "\n",
    "my_model = create_model(learning_rate, feature_layer, METRICS)\n",
    "\n",
    "epochs, hist = train_model(my_model, train_df_norm, epochs,\n",
    "                          label_name, batch_size)\n",
    "\n",
    "list_of_metrics_to_plot = ['auc']\n",
    "\n",
    "plot_curve(epochs, hist, list_of_metrics_to_plot)"
   ]
  },
  {
   "cell_type": "code",
   "execution_count": null,
   "id": "e7180104",
   "metadata": {},
   "outputs": [],
   "source": []
  }
 ],
 "metadata": {
  "kernelspec": {
   "display_name": "mlenv",
   "language": "python",
   "name": "mlenv"
  },
  "language_info": {
   "codemirror_mode": {
    "name": "ipython",
    "version": 3
   },
   "file_extension": ".py",
   "mimetype": "text/x-python",
   "name": "python",
   "nbconvert_exporter": "python",
   "pygments_lexer": "ipython3",
   "version": "3.10.0"
  }
 },
 "nbformat": 4,
 "nbformat_minor": 5
}
