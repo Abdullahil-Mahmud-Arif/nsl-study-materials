{
 "cells": [
  {
   "cell_type": "code",
   "execution_count": 1,
   "id": "d0064141",
   "metadata": {},
   "outputs": [],
   "source": [
    "import matplotlib.pyplot as plt\n",
    "import numpy as np\n",
    "import pandas as pd\n",
    "import seaborn as sns\n",
    "\n",
    "\n",
    "# Make NumPy printouts easier to read.\n",
    "np.set_printoptions(precision=3, suppress=True)"
   ]
  },
  {
   "cell_type": "code",
   "execution_count": 2,
   "id": "ee9cd152",
   "metadata": {},
   "outputs": [
    {
     "name": "stderr",
     "output_type": "stream",
     "text": [
      "2022-11-25 15:22:54.772794: W tensorflow/stream_executor/platform/default/dso_loader.cc:64] Could not load dynamic library 'libcudart.so.11.0'; dlerror: libcudart.so.11.0: cannot open shared object file: No such file or directory\n",
      "2022-11-25 15:22:54.772807: I tensorflow/stream_executor/cuda/cudart_stub.cc:29] Ignore above cudart dlerror if you do not have a GPU set up on your machine.\n"
     ]
    }
   ],
   "source": [
    "import tensorflow as tf\n",
    "from tensorflow import keras\n",
    "from tensorflow.keras import layers"
   ]
  },
  {
   "cell_type": "markdown",
   "id": "8564b09d",
   "metadata": {},
   "source": [
    "# The Auto MPG dataset"
   ]
  },
  {
   "cell_type": "markdown",
   "id": "4e50057d",
   "metadata": {},
   "source": [
    "## Get the data\n",
    "`Using pandas`"
   ]
  },
  {
   "cell_type": "raw",
   "id": "40bdcb39",
   "metadata": {},
   "source": [
    "url = 'http://archive.ics.uci.edu/ml/machine-learning-databases/auto-mpg/auto-mpg.data'\n",
    "column_names = ['MPG', 'Cylinders', 'Displacement', 'Horsepower', 'Weight',\n",
    "                'Acceleration', 'Model Year', 'Origin']\n",
    "\n",
    "raw_dataset = pd.read_csv(url, names=column_names,\n",
    "                          na_values='?', comment='\\t',\n",
    "                          sep=' ', skipinitialspace=True)"
   ]
  },
  {
   "cell_type": "code",
   "execution_count": 3,
   "id": "401e935f",
   "metadata": {},
   "outputs": [],
   "source": [
    "url = 'http://archive.ics.uci.edu/ml/machine-learning-databases/auto-mpg/auto-mpg.data'"
   ]
  },
  {
   "cell_type": "code",
   "execution_count": 4,
   "id": "ddbc3c46",
   "metadata": {},
   "outputs": [],
   "source": [
    "column_names = ['MPG', 'Cylinders', 'Displacement', 'Horsepower', 'Weight',\n",
    "                'Acceleration', 'Model Year', 'Origin']\n",
    "\n",
    "raw_dataset = pd.read_csv(url, names=column_names,\n",
    "                          na_values='?', comment='\\t',\n",
    "                          sep=' ', skipinitialspace=True)"
   ]
  },
  {
   "cell_type": "code",
   "execution_count": 5,
   "id": "70c65ae8",
   "metadata": {},
   "outputs": [
    {
     "data": {
      "text/html": [
       "<div>\n",
       "<style scoped>\n",
       "    .dataframe tbody tr th:only-of-type {\n",
       "        vertical-align: middle;\n",
       "    }\n",
       "\n",
       "    .dataframe tbody tr th {\n",
       "        vertical-align: top;\n",
       "    }\n",
       "\n",
       "    .dataframe thead th {\n",
       "        text-align: right;\n",
       "    }\n",
       "</style>\n",
       "<table border=\"1\" class=\"dataframe\">\n",
       "  <thead>\n",
       "    <tr style=\"text-align: right;\">\n",
       "      <th></th>\n",
       "      <th>MPG</th>\n",
       "      <th>Cylinders</th>\n",
       "      <th>Displacement</th>\n",
       "      <th>Horsepower</th>\n",
       "      <th>Weight</th>\n",
       "      <th>Acceleration</th>\n",
       "      <th>Model Year</th>\n",
       "      <th>Origin</th>\n",
       "    </tr>\n",
       "  </thead>\n",
       "  <tbody>\n",
       "    <tr>\n",
       "      <th>0</th>\n",
       "      <td>18.0</td>\n",
       "      <td>8</td>\n",
       "      <td>307.0</td>\n",
       "      <td>130.0</td>\n",
       "      <td>3504.0</td>\n",
       "      <td>12.0</td>\n",
       "      <td>70</td>\n",
       "      <td>1</td>\n",
       "    </tr>\n",
       "    <tr>\n",
       "      <th>1</th>\n",
       "      <td>15.0</td>\n",
       "      <td>8</td>\n",
       "      <td>350.0</td>\n",
       "      <td>165.0</td>\n",
       "      <td>3693.0</td>\n",
       "      <td>11.5</td>\n",
       "      <td>70</td>\n",
       "      <td>1</td>\n",
       "    </tr>\n",
       "    <tr>\n",
       "      <th>2</th>\n",
       "      <td>18.0</td>\n",
       "      <td>8</td>\n",
       "      <td>318.0</td>\n",
       "      <td>150.0</td>\n",
       "      <td>3436.0</td>\n",
       "      <td>11.0</td>\n",
       "      <td>70</td>\n",
       "      <td>1</td>\n",
       "    </tr>\n",
       "    <tr>\n",
       "      <th>3</th>\n",
       "      <td>16.0</td>\n",
       "      <td>8</td>\n",
       "      <td>304.0</td>\n",
       "      <td>150.0</td>\n",
       "      <td>3433.0</td>\n",
       "      <td>12.0</td>\n",
       "      <td>70</td>\n",
       "      <td>1</td>\n",
       "    </tr>\n",
       "    <tr>\n",
       "      <th>4</th>\n",
       "      <td>17.0</td>\n",
       "      <td>8</td>\n",
       "      <td>302.0</td>\n",
       "      <td>140.0</td>\n",
       "      <td>3449.0</td>\n",
       "      <td>10.5</td>\n",
       "      <td>70</td>\n",
       "      <td>1</td>\n",
       "    </tr>\n",
       "  </tbody>\n",
       "</table>\n",
       "</div>"
      ],
      "text/plain": [
       "    MPG  Cylinders  Displacement  Horsepower  Weight  Acceleration  \\\n",
       "0  18.0          8         307.0       130.0  3504.0          12.0   \n",
       "1  15.0          8         350.0       165.0  3693.0          11.5   \n",
       "2  18.0          8         318.0       150.0  3436.0          11.0   \n",
       "3  16.0          8         304.0       150.0  3433.0          12.0   \n",
       "4  17.0          8         302.0       140.0  3449.0          10.5   \n",
       "\n",
       "   Model Year  Origin  \n",
       "0          70       1  \n",
       "1          70       1  \n",
       "2          70       1  \n",
       "3          70       1  \n",
       "4          70       1  "
      ]
     },
     "execution_count": 5,
     "metadata": {},
     "output_type": "execute_result"
    }
   ],
   "source": [
    "raw_dataset.head()"
   ]
  },
  {
   "cell_type": "code",
   "execution_count": 6,
   "id": "e5f400b6",
   "metadata": {},
   "outputs": [
    {
     "data": {
      "text/html": [
       "<div>\n",
       "<style scoped>\n",
       "    .dataframe tbody tr th:only-of-type {\n",
       "        vertical-align: middle;\n",
       "    }\n",
       "\n",
       "    .dataframe tbody tr th {\n",
       "        vertical-align: top;\n",
       "    }\n",
       "\n",
       "    .dataframe thead th {\n",
       "        text-align: right;\n",
       "    }\n",
       "</style>\n",
       "<table border=\"1\" class=\"dataframe\">\n",
       "  <thead>\n",
       "    <tr style=\"text-align: right;\">\n",
       "      <th></th>\n",
       "      <th>MPG</th>\n",
       "      <th>Cylinders</th>\n",
       "      <th>Displacement</th>\n",
       "      <th>Horsepower</th>\n",
       "      <th>Weight</th>\n",
       "      <th>Acceleration</th>\n",
       "      <th>Model Year</th>\n",
       "      <th>Origin</th>\n",
       "    </tr>\n",
       "  </thead>\n",
       "  <tbody>\n",
       "    <tr>\n",
       "      <th>393</th>\n",
       "      <td>27.0</td>\n",
       "      <td>4</td>\n",
       "      <td>140.0</td>\n",
       "      <td>86.0</td>\n",
       "      <td>2790.0</td>\n",
       "      <td>15.6</td>\n",
       "      <td>82</td>\n",
       "      <td>1</td>\n",
       "    </tr>\n",
       "    <tr>\n",
       "      <th>394</th>\n",
       "      <td>44.0</td>\n",
       "      <td>4</td>\n",
       "      <td>97.0</td>\n",
       "      <td>52.0</td>\n",
       "      <td>2130.0</td>\n",
       "      <td>24.6</td>\n",
       "      <td>82</td>\n",
       "      <td>2</td>\n",
       "    </tr>\n",
       "    <tr>\n",
       "      <th>395</th>\n",
       "      <td>32.0</td>\n",
       "      <td>4</td>\n",
       "      <td>135.0</td>\n",
       "      <td>84.0</td>\n",
       "      <td>2295.0</td>\n",
       "      <td>11.6</td>\n",
       "      <td>82</td>\n",
       "      <td>1</td>\n",
       "    </tr>\n",
       "    <tr>\n",
       "      <th>396</th>\n",
       "      <td>28.0</td>\n",
       "      <td>4</td>\n",
       "      <td>120.0</td>\n",
       "      <td>79.0</td>\n",
       "      <td>2625.0</td>\n",
       "      <td>18.6</td>\n",
       "      <td>82</td>\n",
       "      <td>1</td>\n",
       "    </tr>\n",
       "    <tr>\n",
       "      <th>397</th>\n",
       "      <td>31.0</td>\n",
       "      <td>4</td>\n",
       "      <td>119.0</td>\n",
       "      <td>82.0</td>\n",
       "      <td>2720.0</td>\n",
       "      <td>19.4</td>\n",
       "      <td>82</td>\n",
       "      <td>1</td>\n",
       "    </tr>\n",
       "  </tbody>\n",
       "</table>\n",
       "</div>"
      ],
      "text/plain": [
       "      MPG  Cylinders  Displacement  Horsepower  Weight  Acceleration  \\\n",
       "393  27.0          4         140.0        86.0  2790.0          15.6   \n",
       "394  44.0          4          97.0        52.0  2130.0          24.6   \n",
       "395  32.0          4         135.0        84.0  2295.0          11.6   \n",
       "396  28.0          4         120.0        79.0  2625.0          18.6   \n",
       "397  31.0          4         119.0        82.0  2720.0          19.4   \n",
       "\n",
       "     Model Year  Origin  \n",
       "393          82       1  \n",
       "394          82       2  \n",
       "395          82       1  \n",
       "396          82       1  \n",
       "397          82       1  "
      ]
     },
     "execution_count": 6,
     "metadata": {},
     "output_type": "execute_result"
    }
   ],
   "source": [
    "dataset = raw_dataset.copy()\n",
    "dataset.tail()"
   ]
  },
  {
   "cell_type": "markdown",
   "id": "22232e37",
   "metadata": {},
   "source": [
    "## Clean the data"
   ]
  },
  {
   "cell_type": "code",
   "execution_count": 7,
   "id": "f830662b",
   "metadata": {},
   "outputs": [
    {
     "data": {
      "text/plain": [
       "MPG             0\n",
       "Cylinders       0\n",
       "Displacement    0\n",
       "Horsepower      6\n",
       "Weight          0\n",
       "Acceleration    0\n",
       "Model Year      0\n",
       "Origin          0\n",
       "dtype: int64"
      ]
     },
     "execution_count": 7,
     "metadata": {},
     "output_type": "execute_result"
    }
   ],
   "source": [
    "dataset.isna().sum()"
   ]
  },
  {
   "cell_type": "code",
   "execution_count": 8,
   "id": "441827d0",
   "metadata": {},
   "outputs": [],
   "source": [
    "dataset = dataset.dropna()"
   ]
  },
  {
   "cell_type": "code",
   "execution_count": 9,
   "id": "cd87e528",
   "metadata": {},
   "outputs": [
    {
     "data": {
      "text/plain": [
       "MPG             0\n",
       "Cylinders       0\n",
       "Displacement    0\n",
       "Horsepower      0\n",
       "Weight          0\n",
       "Acceleration    0\n",
       "Model Year      0\n",
       "Origin          0\n",
       "dtype: int64"
      ]
     },
     "execution_count": 9,
     "metadata": {},
     "output_type": "execute_result"
    }
   ],
   "source": [
    "dataset.isna().sum()"
   ]
  },
  {
   "cell_type": "code",
   "execution_count": 10,
   "id": "90dcee0b",
   "metadata": {},
   "outputs": [
    {
     "data": {
      "text/html": [
       "<div>\n",
       "<style scoped>\n",
       "    .dataframe tbody tr th:only-of-type {\n",
       "        vertical-align: middle;\n",
       "    }\n",
       "\n",
       "    .dataframe tbody tr th {\n",
       "        vertical-align: top;\n",
       "    }\n",
       "\n",
       "    .dataframe thead th {\n",
       "        text-align: right;\n",
       "    }\n",
       "</style>\n",
       "<table border=\"1\" class=\"dataframe\">\n",
       "  <thead>\n",
       "    <tr style=\"text-align: right;\">\n",
       "      <th></th>\n",
       "      <th>MPG</th>\n",
       "      <th>Cylinders</th>\n",
       "      <th>Displacement</th>\n",
       "      <th>Horsepower</th>\n",
       "      <th>Weight</th>\n",
       "      <th>Acceleration</th>\n",
       "      <th>Model Year</th>\n",
       "      <th>Origin</th>\n",
       "    </tr>\n",
       "  </thead>\n",
       "  <tbody>\n",
       "    <tr>\n",
       "      <th>393</th>\n",
       "      <td>27.0</td>\n",
       "      <td>4</td>\n",
       "      <td>140.0</td>\n",
       "      <td>86.0</td>\n",
       "      <td>2790.0</td>\n",
       "      <td>15.6</td>\n",
       "      <td>82</td>\n",
       "      <td>1</td>\n",
       "    </tr>\n",
       "    <tr>\n",
       "      <th>394</th>\n",
       "      <td>44.0</td>\n",
       "      <td>4</td>\n",
       "      <td>97.0</td>\n",
       "      <td>52.0</td>\n",
       "      <td>2130.0</td>\n",
       "      <td>24.6</td>\n",
       "      <td>82</td>\n",
       "      <td>2</td>\n",
       "    </tr>\n",
       "    <tr>\n",
       "      <th>395</th>\n",
       "      <td>32.0</td>\n",
       "      <td>4</td>\n",
       "      <td>135.0</td>\n",
       "      <td>84.0</td>\n",
       "      <td>2295.0</td>\n",
       "      <td>11.6</td>\n",
       "      <td>82</td>\n",
       "      <td>1</td>\n",
       "    </tr>\n",
       "    <tr>\n",
       "      <th>396</th>\n",
       "      <td>28.0</td>\n",
       "      <td>4</td>\n",
       "      <td>120.0</td>\n",
       "      <td>79.0</td>\n",
       "      <td>2625.0</td>\n",
       "      <td>18.6</td>\n",
       "      <td>82</td>\n",
       "      <td>1</td>\n",
       "    </tr>\n",
       "    <tr>\n",
       "      <th>397</th>\n",
       "      <td>31.0</td>\n",
       "      <td>4</td>\n",
       "      <td>119.0</td>\n",
       "      <td>82.0</td>\n",
       "      <td>2720.0</td>\n",
       "      <td>19.4</td>\n",
       "      <td>82</td>\n",
       "      <td>1</td>\n",
       "    </tr>\n",
       "  </tbody>\n",
       "</table>\n",
       "</div>"
      ],
      "text/plain": [
       "      MPG  Cylinders  Displacement  Horsepower  Weight  Acceleration  \\\n",
       "393  27.0          4         140.0        86.0  2790.0          15.6   \n",
       "394  44.0          4          97.0        52.0  2130.0          24.6   \n",
       "395  32.0          4         135.0        84.0  2295.0          11.6   \n",
       "396  28.0          4         120.0        79.0  2625.0          18.6   \n",
       "397  31.0          4         119.0        82.0  2720.0          19.4   \n",
       "\n",
       "     Model Year  Origin  \n",
       "393          82       1  \n",
       "394          82       2  \n",
       "395          82       1  \n",
       "396          82       1  \n",
       "397          82       1  "
      ]
     },
     "execution_count": 10,
     "metadata": {},
     "output_type": "execute_result"
    }
   ],
   "source": [
    "dataset.tail()"
   ]
  },
  {
   "cell_type": "code",
   "execution_count": 11,
   "id": "793dda29",
   "metadata": {},
   "outputs": [
    {
     "data": {
      "text/html": [
       "<div>\n",
       "<style scoped>\n",
       "    .dataframe tbody tr th:only-of-type {\n",
       "        vertical-align: middle;\n",
       "    }\n",
       "\n",
       "    .dataframe tbody tr th {\n",
       "        vertical-align: top;\n",
       "    }\n",
       "\n",
       "    .dataframe thead th {\n",
       "        text-align: right;\n",
       "    }\n",
       "</style>\n",
       "<table border=\"1\" class=\"dataframe\">\n",
       "  <thead>\n",
       "    <tr style=\"text-align: right;\">\n",
       "      <th></th>\n",
       "      <th>MPG</th>\n",
       "      <th>Cylinders</th>\n",
       "      <th>Displacement</th>\n",
       "      <th>Horsepower</th>\n",
       "      <th>Weight</th>\n",
       "      <th>Acceleration</th>\n",
       "      <th>Model Year</th>\n",
       "      <th>Origin</th>\n",
       "    </tr>\n",
       "  </thead>\n",
       "  <tbody>\n",
       "    <tr>\n",
       "      <th>count</th>\n",
       "      <td>392.000000</td>\n",
       "      <td>392.000000</td>\n",
       "      <td>392.000000</td>\n",
       "      <td>392.000000</td>\n",
       "      <td>392.000000</td>\n",
       "      <td>392.000000</td>\n",
       "      <td>392.000000</td>\n",
       "      <td>392.000000</td>\n",
       "    </tr>\n",
       "    <tr>\n",
       "      <th>mean</th>\n",
       "      <td>23.445918</td>\n",
       "      <td>5.471939</td>\n",
       "      <td>194.411990</td>\n",
       "      <td>104.469388</td>\n",
       "      <td>2977.584184</td>\n",
       "      <td>15.541327</td>\n",
       "      <td>75.979592</td>\n",
       "      <td>1.576531</td>\n",
       "    </tr>\n",
       "    <tr>\n",
       "      <th>std</th>\n",
       "      <td>7.805007</td>\n",
       "      <td>1.705783</td>\n",
       "      <td>104.644004</td>\n",
       "      <td>38.491160</td>\n",
       "      <td>849.402560</td>\n",
       "      <td>2.758864</td>\n",
       "      <td>3.683737</td>\n",
       "      <td>0.805518</td>\n",
       "    </tr>\n",
       "    <tr>\n",
       "      <th>min</th>\n",
       "      <td>9.000000</td>\n",
       "      <td>3.000000</td>\n",
       "      <td>68.000000</td>\n",
       "      <td>46.000000</td>\n",
       "      <td>1613.000000</td>\n",
       "      <td>8.000000</td>\n",
       "      <td>70.000000</td>\n",
       "      <td>1.000000</td>\n",
       "    </tr>\n",
       "    <tr>\n",
       "      <th>25%</th>\n",
       "      <td>17.000000</td>\n",
       "      <td>4.000000</td>\n",
       "      <td>105.000000</td>\n",
       "      <td>75.000000</td>\n",
       "      <td>2225.250000</td>\n",
       "      <td>13.775000</td>\n",
       "      <td>73.000000</td>\n",
       "      <td>1.000000</td>\n",
       "    </tr>\n",
       "    <tr>\n",
       "      <th>50%</th>\n",
       "      <td>22.750000</td>\n",
       "      <td>4.000000</td>\n",
       "      <td>151.000000</td>\n",
       "      <td>93.500000</td>\n",
       "      <td>2803.500000</td>\n",
       "      <td>15.500000</td>\n",
       "      <td>76.000000</td>\n",
       "      <td>1.000000</td>\n",
       "    </tr>\n",
       "    <tr>\n",
       "      <th>75%</th>\n",
       "      <td>29.000000</td>\n",
       "      <td>8.000000</td>\n",
       "      <td>275.750000</td>\n",
       "      <td>126.000000</td>\n",
       "      <td>3614.750000</td>\n",
       "      <td>17.025000</td>\n",
       "      <td>79.000000</td>\n",
       "      <td>2.000000</td>\n",
       "    </tr>\n",
       "    <tr>\n",
       "      <th>max</th>\n",
       "      <td>46.600000</td>\n",
       "      <td>8.000000</td>\n",
       "      <td>455.000000</td>\n",
       "      <td>230.000000</td>\n",
       "      <td>5140.000000</td>\n",
       "      <td>24.800000</td>\n",
       "      <td>82.000000</td>\n",
       "      <td>3.000000</td>\n",
       "    </tr>\n",
       "  </tbody>\n",
       "</table>\n",
       "</div>"
      ],
      "text/plain": [
       "              MPG   Cylinders  Displacement  Horsepower       Weight  \\\n",
       "count  392.000000  392.000000    392.000000  392.000000   392.000000   \n",
       "mean    23.445918    5.471939    194.411990  104.469388  2977.584184   \n",
       "std      7.805007    1.705783    104.644004   38.491160   849.402560   \n",
       "min      9.000000    3.000000     68.000000   46.000000  1613.000000   \n",
       "25%     17.000000    4.000000    105.000000   75.000000  2225.250000   \n",
       "50%     22.750000    4.000000    151.000000   93.500000  2803.500000   \n",
       "75%     29.000000    8.000000    275.750000  126.000000  3614.750000   \n",
       "max     46.600000    8.000000    455.000000  230.000000  5140.000000   \n",
       "\n",
       "       Acceleration  Model Year      Origin  \n",
       "count    392.000000  392.000000  392.000000  \n",
       "mean      15.541327   75.979592    1.576531  \n",
       "std        2.758864    3.683737    0.805518  \n",
       "min        8.000000   70.000000    1.000000  \n",
       "25%       13.775000   73.000000    1.000000  \n",
       "50%       15.500000   76.000000    1.000000  \n",
       "75%       17.025000   79.000000    2.000000  \n",
       "max       24.800000   82.000000    3.000000  "
      ]
     },
     "execution_count": 11,
     "metadata": {},
     "output_type": "execute_result"
    }
   ],
   "source": [
    "dataset.describe()"
   ]
  },
  {
   "cell_type": "markdown",
   "id": "eff1ac02",
   "metadata": {},
   "source": [
    "The `\"Origin\"` column is categorical, not numeric. So the next step is to one-hot encode the values in the column with `pd.get_dummies`"
   ]
  },
  {
   "cell_type": "code",
   "execution_count": 12,
   "id": "b6e9c8bc",
   "metadata": {},
   "outputs": [],
   "source": [
    "dataset['Origin'] = dataset['Origin'].map({1: 'USA', 2: 'Europe', 3: 'Japan'})"
   ]
  },
  {
   "cell_type": "code",
   "execution_count": 13,
   "id": "ff799fe9",
   "metadata": {},
   "outputs": [
    {
     "data": {
      "text/html": [
       "<div>\n",
       "<style scoped>\n",
       "    .dataframe tbody tr th:only-of-type {\n",
       "        vertical-align: middle;\n",
       "    }\n",
       "\n",
       "    .dataframe tbody tr th {\n",
       "        vertical-align: top;\n",
       "    }\n",
       "\n",
       "    .dataframe thead th {\n",
       "        text-align: right;\n",
       "    }\n",
       "</style>\n",
       "<table border=\"1\" class=\"dataframe\">\n",
       "  <thead>\n",
       "    <tr style=\"text-align: right;\">\n",
       "      <th></th>\n",
       "      <th>MPG</th>\n",
       "      <th>Cylinders</th>\n",
       "      <th>Displacement</th>\n",
       "      <th>Horsepower</th>\n",
       "      <th>Weight</th>\n",
       "      <th>Acceleration</th>\n",
       "      <th>Model Year</th>\n",
       "      <th>Europe</th>\n",
       "      <th>Japan</th>\n",
       "      <th>USA</th>\n",
       "    </tr>\n",
       "  </thead>\n",
       "  <tbody>\n",
       "    <tr>\n",
       "      <th>0</th>\n",
       "      <td>18.0</td>\n",
       "      <td>8</td>\n",
       "      <td>307.0</td>\n",
       "      <td>130.0</td>\n",
       "      <td>3504.0</td>\n",
       "      <td>12.0</td>\n",
       "      <td>70</td>\n",
       "      <td>0</td>\n",
       "      <td>0</td>\n",
       "      <td>1</td>\n",
       "    </tr>\n",
       "    <tr>\n",
       "      <th>1</th>\n",
       "      <td>15.0</td>\n",
       "      <td>8</td>\n",
       "      <td>350.0</td>\n",
       "      <td>165.0</td>\n",
       "      <td>3693.0</td>\n",
       "      <td>11.5</td>\n",
       "      <td>70</td>\n",
       "      <td>0</td>\n",
       "      <td>0</td>\n",
       "      <td>1</td>\n",
       "    </tr>\n",
       "    <tr>\n",
       "      <th>2</th>\n",
       "      <td>18.0</td>\n",
       "      <td>8</td>\n",
       "      <td>318.0</td>\n",
       "      <td>150.0</td>\n",
       "      <td>3436.0</td>\n",
       "      <td>11.0</td>\n",
       "      <td>70</td>\n",
       "      <td>0</td>\n",
       "      <td>0</td>\n",
       "      <td>1</td>\n",
       "    </tr>\n",
       "    <tr>\n",
       "      <th>3</th>\n",
       "      <td>16.0</td>\n",
       "      <td>8</td>\n",
       "      <td>304.0</td>\n",
       "      <td>150.0</td>\n",
       "      <td>3433.0</td>\n",
       "      <td>12.0</td>\n",
       "      <td>70</td>\n",
       "      <td>0</td>\n",
       "      <td>0</td>\n",
       "      <td>1</td>\n",
       "    </tr>\n",
       "    <tr>\n",
       "      <th>4</th>\n",
       "      <td>17.0</td>\n",
       "      <td>8</td>\n",
       "      <td>302.0</td>\n",
       "      <td>140.0</td>\n",
       "      <td>3449.0</td>\n",
       "      <td>10.5</td>\n",
       "      <td>70</td>\n",
       "      <td>0</td>\n",
       "      <td>0</td>\n",
       "      <td>1</td>\n",
       "    </tr>\n",
       "  </tbody>\n",
       "</table>\n",
       "</div>"
      ],
      "text/plain": [
       "    MPG  Cylinders  Displacement  Horsepower  Weight  Acceleration  \\\n",
       "0  18.0          8         307.0       130.0  3504.0          12.0   \n",
       "1  15.0          8         350.0       165.0  3693.0          11.5   \n",
       "2  18.0          8         318.0       150.0  3436.0          11.0   \n",
       "3  16.0          8         304.0       150.0  3433.0          12.0   \n",
       "4  17.0          8         302.0       140.0  3449.0          10.5   \n",
       "\n",
       "   Model Year  Europe  Japan  USA  \n",
       "0          70       0      0    1  \n",
       "1          70       0      0    1  \n",
       "2          70       0      0    1  \n",
       "3          70       0      0    1  \n",
       "4          70       0      0    1  "
      ]
     },
     "execution_count": 13,
     "metadata": {},
     "output_type": "execute_result"
    }
   ],
   "source": [
    "dataset = pd.get_dummies(dataset, columns=['Origin'], prefix='', prefix_sep='')\n",
    "dataset.head()"
   ]
  },
  {
   "cell_type": "markdown",
   "id": "f17cc8cf",
   "metadata": {},
   "source": [
    "## Split dataset"
   ]
  },
  {
   "cell_type": "code",
   "execution_count": 14,
   "id": "4f5c9330",
   "metadata": {},
   "outputs": [],
   "source": [
    "train_dataset = dataset.sample(frac=0.8, random_state=0)\n",
    "test_dataset = dataset.drop(train_dataset.index)"
   ]
  },
  {
   "cell_type": "markdown",
   "id": "88b4b8e8",
   "metadata": {},
   "source": [
    "## Inspect "
   ]
  },
  {
   "cell_type": "code",
   "execution_count": 15,
   "id": "71360f9a",
   "metadata": {},
   "outputs": [
    {
     "data": {
      "text/plain": [
       "<seaborn.axisgrid.PairGrid at 0x7f62f3bd4a90>"
      ]
     },
     "execution_count": 15,
     "metadata": {},
     "output_type": "execute_result"
    },
    {
     "data": {
      "image/png": "[encoded data removed]",
      "text/plain": [
       "<Figure size 1080x1080 with 42 Axes>"
      ]
     },
     "metadata": {
      "needs_background": "light"
     },
     "output_type": "display_data"
    }
   ],
   "source": [
    "sns.pairplot(train_dataset[['MPG', 'Cylinders', 'Displacement', 'Weight', 'Acceleration', 'Model Year']], diag_kind='kde')\n"
   ]
  },
  {
   "cell_type": "code",
   "execution_count": 16,
   "id": "93c85c31",
   "metadata": {
    "scrolled": true
   },
   "outputs": [
    {
     "data": {
      "text/html": [
       "<div>\n",
       "<style scoped>\n",
       "    .dataframe tbody tr th:only-of-type {\n",
       "        vertical-align: middle;\n",
       "    }\n",
       "\n",
       "    .dataframe tbody tr th {\n",
       "        vertical-align: top;\n",
       "    }\n",
       "\n",
       "    .dataframe thead th {\n",
       "        text-align: right;\n",
       "    }\n",
       "</style>\n",
       "<table border=\"1\" class=\"dataframe\">\n",
       "  <thead>\n",
       "    <tr style=\"text-align: right;\">\n",
       "      <th></th>\n",
       "      <th>count</th>\n",
       "      <th>mean</th>\n",
       "      <th>std</th>\n",
       "      <th>min</th>\n",
       "      <th>25%</th>\n",
       "      <th>50%</th>\n",
       "      <th>75%</th>\n",
       "      <th>max</th>\n",
       "    </tr>\n",
       "  </thead>\n",
       "  <tbody>\n",
       "    <tr>\n",
       "      <th>MPG</th>\n",
       "      <td>314.0</td>\n",
       "      <td>23.310510</td>\n",
       "      <td>7.728652</td>\n",
       "      <td>10.0</td>\n",
       "      <td>17.00</td>\n",
       "      <td>22.0</td>\n",
       "      <td>28.95</td>\n",
       "      <td>46.6</td>\n",
       "    </tr>\n",
       "    <tr>\n",
       "      <th>Cylinders</th>\n",
       "      <td>314.0</td>\n",
       "      <td>5.477707</td>\n",
       "      <td>1.699788</td>\n",
       "      <td>3.0</td>\n",
       "      <td>4.00</td>\n",
       "      <td>4.0</td>\n",
       "      <td>8.00</td>\n",
       "      <td>8.0</td>\n",
       "    </tr>\n",
       "    <tr>\n",
       "      <th>Displacement</th>\n",
       "      <td>314.0</td>\n",
       "      <td>195.318471</td>\n",
       "      <td>104.331589</td>\n",
       "      <td>68.0</td>\n",
       "      <td>105.50</td>\n",
       "      <td>151.0</td>\n",
       "      <td>265.75</td>\n",
       "      <td>455.0</td>\n",
       "    </tr>\n",
       "    <tr>\n",
       "      <th>Horsepower</th>\n",
       "      <td>314.0</td>\n",
       "      <td>104.869427</td>\n",
       "      <td>38.096214</td>\n",
       "      <td>46.0</td>\n",
       "      <td>76.25</td>\n",
       "      <td>94.5</td>\n",
       "      <td>128.00</td>\n",
       "      <td>225.0</td>\n",
       "    </tr>\n",
       "    <tr>\n",
       "      <th>Weight</th>\n",
       "      <td>314.0</td>\n",
       "      <td>2990.251592</td>\n",
       "      <td>843.898596</td>\n",
       "      <td>1649.0</td>\n",
       "      <td>2256.50</td>\n",
       "      <td>2822.5</td>\n",
       "      <td>3608.00</td>\n",
       "      <td>5140.0</td>\n",
       "    </tr>\n",
       "    <tr>\n",
       "      <th>Acceleration</th>\n",
       "      <td>314.0</td>\n",
       "      <td>15.559236</td>\n",
       "      <td>2.789230</td>\n",
       "      <td>8.0</td>\n",
       "      <td>13.80</td>\n",
       "      <td>15.5</td>\n",
       "      <td>17.20</td>\n",
       "      <td>24.8</td>\n",
       "    </tr>\n",
       "    <tr>\n",
       "      <th>Model Year</th>\n",
       "      <td>314.0</td>\n",
       "      <td>75.898089</td>\n",
       "      <td>3.675642</td>\n",
       "      <td>70.0</td>\n",
       "      <td>73.00</td>\n",
       "      <td>76.0</td>\n",
       "      <td>79.00</td>\n",
       "      <td>82.0</td>\n",
       "    </tr>\n",
       "    <tr>\n",
       "      <th>Europe</th>\n",
       "      <td>314.0</td>\n",
       "      <td>0.178344</td>\n",
       "      <td>0.383413</td>\n",
       "      <td>0.0</td>\n",
       "      <td>0.00</td>\n",
       "      <td>0.0</td>\n",
       "      <td>0.00</td>\n",
       "      <td>1.0</td>\n",
       "    </tr>\n",
       "    <tr>\n",
       "      <th>Japan</th>\n",
       "      <td>314.0</td>\n",
       "      <td>0.197452</td>\n",
       "      <td>0.398712</td>\n",
       "      <td>0.0</td>\n",
       "      <td>0.00</td>\n",
       "      <td>0.0</td>\n",
       "      <td>0.00</td>\n",
       "      <td>1.0</td>\n",
       "    </tr>\n",
       "    <tr>\n",
       "      <th>USA</th>\n",
       "      <td>314.0</td>\n",
       "      <td>0.624204</td>\n",
       "      <td>0.485101</td>\n",
       "      <td>0.0</td>\n",
       "      <td>0.00</td>\n",
       "      <td>1.0</td>\n",
       "      <td>1.00</td>\n",
       "      <td>1.0</td>\n",
       "    </tr>\n",
       "  </tbody>\n",
       "</table>\n",
       "</div>"
      ],
      "text/plain": [
       "              count         mean         std     min      25%     50%  \\\n",
       "MPG           314.0    23.310510    7.728652    10.0    17.00    22.0   \n",
       "Cylinders     314.0     5.477707    1.699788     3.0     4.00     4.0   \n",
       "Displacement  314.0   195.318471  104.331589    68.0   105.50   151.0   \n",
       "Horsepower    314.0   104.869427   38.096214    46.0    76.25    94.5   \n",
       "Weight        314.0  2990.251592  843.898596  1649.0  2256.50  2822.5   \n",
       "Acceleration  314.0    15.559236    2.789230     8.0    13.80    15.5   \n",
       "Model Year    314.0    75.898089    3.675642    70.0    73.00    76.0   \n",
       "Europe        314.0     0.178344    0.383413     0.0     0.00     0.0   \n",
       "Japan         314.0     0.197452    0.398712     0.0     0.00     0.0   \n",
       "USA           314.0     0.624204    0.485101     0.0     0.00     1.0   \n",
       "\n",
       "                  75%     max  \n",
       "MPG             28.95    46.6  \n",
       "Cylinders        8.00     8.0  \n",
       "Displacement   265.75   455.0  \n",
       "Horsepower     128.00   225.0  \n",
       "Weight        3608.00  5140.0  \n",
       "Acceleration    17.20    24.8  \n",
       "Model Year      79.00    82.0  \n",
       "Europe           0.00     1.0  \n",
       "Japan            0.00     1.0  \n",
       "USA              1.00     1.0  "
      ]
     },
     "execution_count": 16,
     "metadata": {},
     "output_type": "execute_result"
    }
   ],
   "source": [
    "train_dataset.describe(include = 'all').transpose()\n"
   ]
  },
  {
   "cell_type": "markdown",
   "id": "c14906f8",
   "metadata": {},
   "source": [
    "## Split features from labels"
   ]
  },
  {
   "cell_type": "code",
   "execution_count": 17,
   "id": "e62738b8",
   "metadata": {},
   "outputs": [],
   "source": [
    "train_features = train_dataset.copy()\n",
    "test_features = test_dataset.copy()\n",
    "\n",
    "train_labels = train_features.pop(\"MPG\")\n",
    "test_labels = test_features.pop(\"MPG\")"
   ]
  },
  {
   "cell_type": "markdown",
   "id": "d3cfae51",
   "metadata": {},
   "source": [
    "## Normalization"
   ]
  },
  {
   "cell_type": "code",
   "execution_count": 18,
   "id": "2a47064d",
   "metadata": {},
   "outputs": [
    {
     "data": {
      "text/html": [
       "<div>\n",
       "<style scoped>\n",
       "    .dataframe tbody tr th:only-of-type {\n",
       "        vertical-align: middle;\n",
       "    }\n",
       "\n",
       "    .dataframe tbody tr th {\n",
       "        vertical-align: top;\n",
       "    }\n",
       "\n",
       "    .dataframe thead th {\n",
       "        text-align: right;\n",
       "    }\n",
       "</style>\n",
       "<table border=\"1\" class=\"dataframe\">\n",
       "  <thead>\n",
       "    <tr style=\"text-align: right;\">\n",
       "      <th></th>\n",
       "      <th>mean</th>\n",
       "      <th>std</th>\n",
       "    </tr>\n",
       "  </thead>\n",
       "  <tbody>\n",
       "    <tr>\n",
       "      <th>MPG</th>\n",
       "      <td>23.310510</td>\n",
       "      <td>7.728652</td>\n",
       "    </tr>\n",
       "    <tr>\n",
       "      <th>Cylinders</th>\n",
       "      <td>5.477707</td>\n",
       "      <td>1.699788</td>\n",
       "    </tr>\n",
       "    <tr>\n",
       "      <th>Displacement</th>\n",
       "      <td>195.318471</td>\n",
       "      <td>104.331589</td>\n",
       "    </tr>\n",
       "    <tr>\n",
       "      <th>Horsepower</th>\n",
       "      <td>104.869427</td>\n",
       "      <td>38.096214</td>\n",
       "    </tr>\n",
       "    <tr>\n",
       "      <th>Weight</th>\n",
       "      <td>2990.251592</td>\n",
       "      <td>843.898596</td>\n",
       "    </tr>\n",
       "    <tr>\n",
       "      <th>Acceleration</th>\n",
       "      <td>15.559236</td>\n",
       "      <td>2.789230</td>\n",
       "    </tr>\n",
       "    <tr>\n",
       "      <th>Model Year</th>\n",
       "      <td>75.898089</td>\n",
       "      <td>3.675642</td>\n",
       "    </tr>\n",
       "    <tr>\n",
       "      <th>Europe</th>\n",
       "      <td>0.178344</td>\n",
       "      <td>0.383413</td>\n",
       "    </tr>\n",
       "    <tr>\n",
       "      <th>Japan</th>\n",
       "      <td>0.197452</td>\n",
       "      <td>0.398712</td>\n",
       "    </tr>\n",
       "    <tr>\n",
       "      <th>USA</th>\n",
       "      <td>0.624204</td>\n",
       "      <td>0.485101</td>\n",
       "    </tr>\n",
       "  </tbody>\n",
       "</table>\n",
       "</div>"
      ],
      "text/plain": [
       "                     mean         std\n",
       "MPG             23.310510    7.728652\n",
       "Cylinders        5.477707    1.699788\n",
       "Displacement   195.318471  104.331589\n",
       "Horsepower     104.869427   38.096214\n",
       "Weight        2990.251592  843.898596\n",
       "Acceleration    15.559236    2.789230\n",
       "Model Year      75.898089    3.675642\n",
       "Europe           0.178344    0.383413\n",
       "Japan            0.197452    0.398712\n",
       "USA              0.624204    0.485101"
      ]
     },
     "execution_count": 18,
     "metadata": {},
     "output_type": "execute_result"
    }
   ],
   "source": [
    "train_dataset.describe().transpose()[['mean', 'std']]\n"
   ]
  },
  {
   "cell_type": "markdown",
   "id": "77d6fbc2",
   "metadata": {},
   "source": [
    "Although a model might converge without feature normalization, normalization makes training much more stable."
   ]
  },
  {
   "cell_type": "markdown",
   "id": "16ab686f",
   "metadata": {},
   "source": [
    "### Normalizer layer\n",
    "`tf.keras.layers.Normalization`"
   ]
  },
  {
   "cell_type": "code",
   "execution_count": 19,
   "id": "27677329",
   "metadata": {},
   "outputs": [],
   "source": [
    "# Create Layer\n",
    "normalizer = tf.keras.layers.Normalization(axis=-1)"
   ]
  },
  {
   "cell_type": "markdown",
   "id": "698f82bc",
   "metadata": {},
   "source": [
    "Fit the state of the preprocessing layer to the data by calling `Normalization.adapt`"
   ]
  },
  {
   "cell_type": "code",
   "execution_count": 20,
   "id": "5813a85b",
   "metadata": {},
   "outputs": [
    {
     "name": "stderr",
     "output_type": "stream",
     "text": [
      "2022-11-25 15:22:59.536031: W tensorflow/stream_executor/platform/default/dso_loader.cc:64] Could not load dynamic library 'libcuda.so.1'; dlerror: libcuda.so.1: cannot open shared object file: No such file or directory\n",
      "2022-11-25 15:22:59.536044: W tensorflow/stream_executor/cuda/cuda_driver.cc:269] failed call to cuInit: UNKNOWN ERROR (303)\n",
      "2022-11-25 15:22:59.536056: I tensorflow/stream_executor/cuda/cuda_diagnostics.cc:156] kernel driver does not appear to be running on this host (nsl54): /proc/driver/nvidia/version does not exist\n",
      "2022-11-25 15:22:59.536188: I tensorflow/core/platform/cpu_feature_guard.cc:151] This TensorFlow binary is optimized with oneAPI Deep Neural Network Library (oneDNN) to use the following CPU instructions in performance-critical operations:  AVX2 AVX512F FMA\n",
      "To enable them in other operations, rebuild TensorFlow with the appropriate compiler flags.\n"
     ]
    }
   ],
   "source": [
    "normalizer.adapt(np.array(train_features))"
   ]
  },
  {
   "cell_type": "code",
   "execution_count": 21,
   "id": "8b268166",
   "metadata": {},
   "outputs": [
    {
     "name": "stdout",
     "output_type": "stream",
     "text": [
      "[[   5.478  195.318  104.869 2990.252   15.559   75.898    0.178    0.197\n",
      "     0.624]]\n"
     ]
    }
   ],
   "source": [
    "print(normalizer.mean.numpy())"
   ]
  },
  {
   "cell_type": "markdown",
   "id": "56e91a85",
   "metadata": {},
   "source": [
    "When the layer is called, it returns the input data, with each feature independently normalized"
   ]
  },
  {
   "cell_type": "code",
   "execution_count": 22,
   "id": "9b7b36eb",
   "metadata": {},
   "outputs": [
    {
     "data": {
      "text/html": [
       "<div>\n",
       "<style scoped>\n",
       "    .dataframe tbody tr th:only-of-type {\n",
       "        vertical-align: middle;\n",
       "    }\n",
       "\n",
       "    .dataframe tbody tr th {\n",
       "        vertical-align: top;\n",
       "    }\n",
       "\n",
       "    .dataframe thead th {\n",
       "        text-align: right;\n",
       "    }\n",
       "</style>\n",
       "<table border=\"1\" class=\"dataframe\">\n",
       "  <thead>\n",
       "    <tr style=\"text-align: right;\">\n",
       "      <th></th>\n",
       "      <th>Cylinders</th>\n",
       "      <th>Displacement</th>\n",
       "      <th>Horsepower</th>\n",
       "      <th>Weight</th>\n",
       "      <th>Acceleration</th>\n",
       "      <th>Model Year</th>\n",
       "      <th>Europe</th>\n",
       "      <th>Japan</th>\n",
       "      <th>USA</th>\n",
       "    </tr>\n",
       "  </thead>\n",
       "  <tbody>\n",
       "    <tr>\n",
       "      <th>146</th>\n",
       "      <td>4</td>\n",
       "      <td>90.0</td>\n",
       "      <td>75.0</td>\n",
       "      <td>2125.0</td>\n",
       "      <td>14.5</td>\n",
       "      <td>74</td>\n",
       "      <td>0</td>\n",
       "      <td>0</td>\n",
       "      <td>1</td>\n",
       "    </tr>\n",
       "    <tr>\n",
       "      <th>282</th>\n",
       "      <td>4</td>\n",
       "      <td>140.0</td>\n",
       "      <td>88.0</td>\n",
       "      <td>2890.0</td>\n",
       "      <td>17.3</td>\n",
       "      <td>79</td>\n",
       "      <td>0</td>\n",
       "      <td>0</td>\n",
       "      <td>1</td>\n",
       "    </tr>\n",
       "    <tr>\n",
       "      <th>69</th>\n",
       "      <td>8</td>\n",
       "      <td>350.0</td>\n",
       "      <td>160.0</td>\n",
       "      <td>4456.0</td>\n",
       "      <td>13.5</td>\n",
       "      <td>72</td>\n",
       "      <td>0</td>\n",
       "      <td>0</td>\n",
       "      <td>1</td>\n",
       "    </tr>\n",
       "    <tr>\n",
       "      <th>378</th>\n",
       "      <td>4</td>\n",
       "      <td>105.0</td>\n",
       "      <td>63.0</td>\n",
       "      <td>2125.0</td>\n",
       "      <td>14.7</td>\n",
       "      <td>82</td>\n",
       "      <td>0</td>\n",
       "      <td>0</td>\n",
       "      <td>1</td>\n",
       "    </tr>\n",
       "    <tr>\n",
       "      <th>331</th>\n",
       "      <td>4</td>\n",
       "      <td>97.0</td>\n",
       "      <td>67.0</td>\n",
       "      <td>2145.0</td>\n",
       "      <td>18.0</td>\n",
       "      <td>80</td>\n",
       "      <td>0</td>\n",
       "      <td>1</td>\n",
       "      <td>0</td>\n",
       "    </tr>\n",
       "    <tr>\n",
       "      <th>...</th>\n",
       "      <td>...</td>\n",
       "      <td>...</td>\n",
       "      <td>...</td>\n",
       "      <td>...</td>\n",
       "      <td>...</td>\n",
       "      <td>...</td>\n",
       "      <td>...</td>\n",
       "      <td>...</td>\n",
       "      <td>...</td>\n",
       "    </tr>\n",
       "    <tr>\n",
       "      <th>281</th>\n",
       "      <td>6</td>\n",
       "      <td>200.0</td>\n",
       "      <td>85.0</td>\n",
       "      <td>2990.0</td>\n",
       "      <td>18.2</td>\n",
       "      <td>79</td>\n",
       "      <td>0</td>\n",
       "      <td>0</td>\n",
       "      <td>1</td>\n",
       "    </tr>\n",
       "    <tr>\n",
       "      <th>229</th>\n",
       "      <td>8</td>\n",
       "      <td>400.0</td>\n",
       "      <td>180.0</td>\n",
       "      <td>4220.0</td>\n",
       "      <td>11.1</td>\n",
       "      <td>77</td>\n",
       "      <td>0</td>\n",
       "      <td>0</td>\n",
       "      <td>1</td>\n",
       "    </tr>\n",
       "    <tr>\n",
       "      <th>150</th>\n",
       "      <td>4</td>\n",
       "      <td>108.0</td>\n",
       "      <td>93.0</td>\n",
       "      <td>2391.0</td>\n",
       "      <td>15.5</td>\n",
       "      <td>74</td>\n",
       "      <td>0</td>\n",
       "      <td>1</td>\n",
       "      <td>0</td>\n",
       "    </tr>\n",
       "    <tr>\n",
       "      <th>145</th>\n",
       "      <td>4</td>\n",
       "      <td>83.0</td>\n",
       "      <td>61.0</td>\n",
       "      <td>2003.0</td>\n",
       "      <td>19.0</td>\n",
       "      <td>74</td>\n",
       "      <td>0</td>\n",
       "      <td>1</td>\n",
       "      <td>0</td>\n",
       "    </tr>\n",
       "    <tr>\n",
       "      <th>182</th>\n",
       "      <td>4</td>\n",
       "      <td>107.0</td>\n",
       "      <td>86.0</td>\n",
       "      <td>2464.0</td>\n",
       "      <td>15.5</td>\n",
       "      <td>76</td>\n",
       "      <td>1</td>\n",
       "      <td>0</td>\n",
       "      <td>0</td>\n",
       "    </tr>\n",
       "  </tbody>\n",
       "</table>\n",
       "<p>314 rows × 9 columns</p>\n",
       "</div>"
      ],
      "text/plain": [
       "     Cylinders  Displacement  Horsepower  Weight  Acceleration  Model Year  \\\n",
       "146          4          90.0        75.0  2125.0          14.5          74   \n",
       "282          4         140.0        88.0  2890.0          17.3          79   \n",
       "69           8         350.0       160.0  4456.0          13.5          72   \n",
       "378          4         105.0        63.0  2125.0          14.7          82   \n",
       "331          4          97.0        67.0  2145.0          18.0          80   \n",
       "..         ...           ...         ...     ...           ...         ...   \n",
       "281          6         200.0        85.0  2990.0          18.2          79   \n",
       "229          8         400.0       180.0  4220.0          11.1          77   \n",
       "150          4         108.0        93.0  2391.0          15.5          74   \n",
       "145          4          83.0        61.0  2003.0          19.0          74   \n",
       "182          4         107.0        86.0  2464.0          15.5          76   \n",
       "\n",
       "     Europe  Japan  USA  \n",
       "146       0      0    1  \n",
       "282       0      0    1  \n",
       "69        0      0    1  \n",
       "378       0      0    1  \n",
       "331       0      1    0  \n",
       "..      ...    ...  ...  \n",
       "281       0      0    1  \n",
       "229       0      0    1  \n",
       "150       0      1    0  \n",
       "145       0      1    0  \n",
       "182       1      0    0  \n",
       "\n",
       "[314 rows x 9 columns]"
      ]
     },
     "execution_count": 22,
     "metadata": {},
     "output_type": "execute_result"
    }
   ],
   "source": [
    "train_features"
   ]
  },
  {
   "cell_type": "code",
   "execution_count": 23,
   "id": "0e4b7467",
   "metadata": {},
   "outputs": [
    {
     "name": "stdout",
     "output_type": "stream",
     "text": [
      "First example: [[   4.    90.    75.  2125.    14.5   74.     0.     0.     1. ]]\n",
      "\n",
      "Normalized: [[-0.87 -1.01 -0.79 -1.03 -0.38 -0.52 -0.47 -0.5   0.78]]\n"
     ]
    }
   ],
   "source": [
    "first = np.array(train_features[:1])\n",
    "\n",
    "with np.printoptions(precision=2, suppress=True):\n",
    "    print('First example:', first)\n",
    "    print()\n",
    "    print('Normalized:', normalizer(first).numpy())"
   ]
  },
  {
   "cell_type": "markdown",
   "id": "68b924cb",
   "metadata": {},
   "source": [
    "## Linear regression\n",
    "Before building a deep neural network model, start with linear regression using one and several variables."
   ]
  },
  {
   "cell_type": "markdown",
   "id": "669c46d2",
   "metadata": {},
   "source": [
    "### Linear regression with one variable\n",
    "\n",
    "Begin with a single-variable linear regression to predict `'MPG'` from `'Horsepower'`.\n",
    "<br><br>\n",
    "Training a model with `tf.keras` typically starts by defining the model architecture. Use a `tf.keras.Sequential` model, which represents a sequence of steps.\n",
    "<br><br>\n",
    "There are two steps in your single-variable linear regression model:\n",
    "- Normalize the `'Horsepower'` input features using the `tf.keras.layers.Normalization` preprocessing layer.\n",
    "- Apply a linear transformation **(y=mx+b)** to produce 1 output using a linear layer (`tf.keras.layers.Dense`).\n",
    "<br><br>\n",
    "\n",
    "The number of inputs can either be set by the `input_shape` argument, or automatically when the model is run for the first time.\n",
    "<br><br>\n",
    "First, create a NumPy array made of the `'Horsepower'` features. Then, instantiate the `tf.keras.layers.Normalization` and fit its state to the horsepower data.\n"
   ]
  },
  {
   "cell_type": "code",
   "execution_count": 24,
   "id": "3032f45e",
   "metadata": {},
   "outputs": [],
   "source": [
    "horsepower = np.array(train_features['Horsepower'])\n",
    "\n",
    "horsepower_normalizer = layers.Normalization(input_shape=[1,], axis=None)\n",
    "horsepower_normalizer.adapt(horsepower)"
   ]
  },
  {
   "cell_type": "code",
   "execution_count": 25,
   "id": "b4c1c80d",
   "metadata": {},
   "outputs": [
    {
     "name": "stdout",
     "output_type": "stream",
     "text": [
      "Model: \"sequential\"\n",
      "_________________________________________________________________\n",
      " Layer (type)                Output Shape              Param #   \n",
      "=================================================================\n",
      " normalization_1 (Normalizat  (None, 1)                3         \n",
      " ion)                                                            \n",
      "                                                                 \n",
      " dense (Dense)               (None, 1)                 2         \n",
      "                                                                 \n",
      "=================================================================\n",
      "Total params: 5\n",
      "Trainable params: 2\n",
      "Non-trainable params: 3\n",
      "_________________________________________________________________\n"
     ]
    }
   ],
   "source": [
    "horsepower_model = tf.keras.Sequential([\n",
    "    horsepower_normalizer,\n",
    "    layers.Dense(units=1)\n",
    "])\n",
    "\n",
    "horsepower_model.summary()"
   ]
  },
  {
   "cell_type": "markdown",
   "id": "2a438a1e",
   "metadata": {},
   "source": [
    "Run the untrained model on the first 10 `'Horsepower'` values. The output won't be good, but notice that it has the expected shape of `(10, 1)`."
   ]
  },
  {
   "cell_type": "code",
   "execution_count": 26,
   "id": "3a3b1614",
   "metadata": {},
   "outputs": [
    {
     "data": {
      "text/plain": [
       "array([[-1.182],\n",
       "       [-0.668],\n",
       "       [ 2.182],\n",
       "       [-1.657],\n",
       "       [-1.499],\n",
       "       [-0.589],\n",
       "       [-1.776],\n",
       "       [-1.499],\n",
       "       [-0.391],\n",
       "       [-0.668]], dtype=float32)"
      ]
     },
     "execution_count": 26,
     "metadata": {},
     "output_type": "execute_result"
    }
   ],
   "source": [
    "horsepower_model.predict(horsepower[:10])"
   ]
  },
  {
   "cell_type": "markdown",
   "id": "63cbe6f6",
   "metadata": {},
   "source": [
    "Once the model is built, configure the training procedure using the Keras `Model.compile` method. The most important arguments to compile are the `loss` and the `optimizer`, since these define what will be optimized (`mean_absolute_error`) and how (using the `tf.keras.optimizers.Adam`)."
   ]
  },
  {
   "cell_type": "code",
   "execution_count": 27,
   "id": "ccba2abb",
   "metadata": {},
   "outputs": [],
   "source": [
    "horsepower_model.compile(optimizer=tf.keras.optimizers.Adam(learning_rate=0.1),\n",
    "                        loss='mean_absolute_error')"
   ]
  },
  {
   "cell_type": "markdown",
   "id": "f57ec06a",
   "metadata": {},
   "source": [
    "Use Keras `Model.fit` to execute the training for 100 epochs"
   ]
  },
  {
   "cell_type": "code",
   "execution_count": 28,
   "id": "452671b2",
   "metadata": {},
   "outputs": [
    {
     "name": "stdout",
     "output_type": "stream",
     "text": [
      "Epoch 1/100\n",
      "8/8 [==============================] - 0s 10ms/step - loss: 22.8756 - val_loss: 22.9401\n",
      "Epoch 2/100\n",
      "8/8 [==============================] - 0s 2ms/step - loss: 22.0647 - val_loss: 22.1397\n",
      "Epoch 3/100\n",
      "8/8 [==============================] - 0s 2ms/step - loss: 21.2639 - val_loss: 21.3400\n",
      "Epoch 4/100\n",
      "8/8 [==============================] - 0s 2ms/step - loss: 20.4609 - val_loss: 20.5399\n",
      "Epoch 5/100\n",
      "8/8 [==============================] - 0s 2ms/step - loss: 19.6608 - val_loss: 19.7399\n",
      "Epoch 6/100\n",
      "8/8 [==============================] - 0s 2ms/step - loss: 18.8643 - val_loss: 18.9397\n",
      "Epoch 7/100\n",
      "8/8 [==============================] - 0s 2ms/step - loss: 18.0612 - val_loss: 18.1399\n",
      "Epoch 8/100\n",
      "8/8 [==============================] - 0s 2ms/step - loss: 17.2661 - val_loss: 17.3429\n",
      "Epoch 9/100\n",
      "8/8 [==============================] - 0s 2ms/step - loss: 16.4789 - val_loss: 16.5542\n",
      "Epoch 10/100\n",
      "8/8 [==============================] - 0s 2ms/step - loss: 15.6973 - val_loss: 15.7656\n",
      "Epoch 11/100\n",
      "8/8 [==============================] - 0s 2ms/step - loss: 14.9116 - val_loss: 14.9734\n",
      "Epoch 12/100\n",
      "8/8 [==============================] - 0s 2ms/step - loss: 14.1329 - val_loss: 14.1864\n",
      "Epoch 13/100\n",
      "8/8 [==============================] - 0s 2ms/step - loss: 13.3308 - val_loss: 13.4023\n",
      "Epoch 14/100\n",
      "8/8 [==============================] - 0s 2ms/step - loss: 12.5431 - val_loss: 12.6228\n",
      "Epoch 15/100\n",
      "8/8 [==============================] - 0s 2ms/step - loss: 11.7642 - val_loss: 11.8375\n",
      "Epoch 16/100\n",
      "8/8 [==============================] - 0s 2ms/step - loss: 10.9758 - val_loss: 11.0542\n",
      "Epoch 17/100\n",
      "8/8 [==============================] - 0s 2ms/step - loss: 10.1907 - val_loss: 10.2736\n",
      "Epoch 18/100\n",
      "8/8 [==============================] - 0s 2ms/step - loss: 9.4232 - val_loss: 9.4939\n",
      "Epoch 19/100\n",
      "8/8 [==============================] - 0s 2ms/step - loss: 8.6739 - val_loss: 8.7407\n",
      "Epoch 20/100\n",
      "8/8 [==============================] - 0s 2ms/step - loss: 7.9641 - val_loss: 7.9995\n",
      "Epoch 21/100\n",
      "8/8 [==============================] - 0s 2ms/step - loss: 7.2754 - val_loss: 7.2874\n",
      "Epoch 22/100\n",
      "8/8 [==============================] - 0s 2ms/step - loss: 6.6389 - val_loss: 6.6405\n",
      "Epoch 23/100\n",
      "8/8 [==============================] - 0s 2ms/step - loss: 6.0464 - val_loss: 6.0534\n",
      "Epoch 24/100\n",
      "8/8 [==============================] - 0s 2ms/step - loss: 5.5174 - val_loss: 5.6128\n",
      "Epoch 25/100\n",
      "8/8 [==============================] - 0s 2ms/step - loss: 5.1147 - val_loss: 5.2597\n",
      "Epoch 26/100\n",
      "8/8 [==============================] - 0s 2ms/step - loss: 4.7662 - val_loss: 5.0339\n",
      "Epoch 27/100\n",
      "8/8 [==============================] - 0s 2ms/step - loss: 4.4956 - val_loss: 4.8519\n",
      "Epoch 28/100\n",
      "8/8 [==============================] - 0s 2ms/step - loss: 4.3038 - val_loss: 4.6762\n",
      "Epoch 29/100\n",
      "8/8 [==============================] - 0s 2ms/step - loss: 4.1623 - val_loss: 4.5632\n",
      "Epoch 30/100\n",
      "8/8 [==============================] - 0s 2ms/step - loss: 4.0383 - val_loss: 4.4770\n",
      "Epoch 31/100\n",
      "8/8 [==============================] - 0s 2ms/step - loss: 3.9564 - val_loss: 4.3829\n",
      "Epoch 32/100\n",
      "8/8 [==============================] - 0s 2ms/step - loss: 3.8971 - val_loss: 4.3143\n",
      "Epoch 33/100\n",
      "8/8 [==============================] - 0s 2ms/step - loss: 3.8592 - val_loss: 4.2769\n",
      "Epoch 34/100\n",
      "8/8 [==============================] - 0s 2ms/step - loss: 3.8457 - val_loss: 4.2499\n",
      "Epoch 35/100\n",
      "8/8 [==============================] - 0s 2ms/step - loss: 3.8302 - val_loss: 4.2182\n",
      "Epoch 36/100\n",
      "8/8 [==============================] - 0s 2ms/step - loss: 3.8208 - val_loss: 4.2131\n",
      "Epoch 37/100\n",
      "8/8 [==============================] - 0s 2ms/step - loss: 3.8241 - val_loss: 4.2480\n",
      "Epoch 38/100\n",
      "8/8 [==============================] - 0s 2ms/step - loss: 3.8112 - val_loss: 4.2192\n",
      "Epoch 39/100\n",
      "8/8 [==============================] - 0s 2ms/step - loss: 3.8054 - val_loss: 4.2169\n",
      "Epoch 40/100\n",
      "8/8 [==============================] - 0s 2ms/step - loss: 3.8042 - val_loss: 4.2063\n",
      "Epoch 41/100\n",
      "8/8 [==============================] - 0s 2ms/step - loss: 3.8060 - val_loss: 4.1755\n",
      "Epoch 42/100\n",
      "8/8 [==============================] - 0s 2ms/step - loss: 3.8052 - val_loss: 4.1841\n",
      "Epoch 43/100\n",
      "8/8 [==============================] - 0s 2ms/step - loss: 3.8071 - val_loss: 4.1778\n",
      "Epoch 44/100\n",
      "8/8 [==============================] - 0s 2ms/step - loss: 3.8107 - val_loss: 4.2100\n",
      "Epoch 45/100\n",
      "8/8 [==============================] - 0s 3ms/step - loss: 3.8032 - val_loss: 4.1986\n",
      "Epoch 46/100\n",
      "8/8 [==============================] - 0s 2ms/step - loss: 3.8041 - val_loss: 4.1841\n",
      "Epoch 47/100\n",
      "8/8 [==============================] - 0s 2ms/step - loss: 3.8074 - val_loss: 4.1945\n",
      "Epoch 48/100\n",
      "8/8 [==============================] - 0s 2ms/step - loss: 3.8039 - val_loss: 4.1783\n",
      "Epoch 49/100\n",
      "8/8 [==============================] - 0s 2ms/step - loss: 3.8043 - val_loss: 4.1951\n",
      "Epoch 50/100\n",
      "8/8 [==============================] - 0s 2ms/step - loss: 3.8025 - val_loss: 4.1832\n",
      "Epoch 51/100\n",
      "8/8 [==============================] - 0s 2ms/step - loss: 3.8060 - val_loss: 4.1784\n",
      "Epoch 52/100\n",
      "8/8 [==============================] - 0s 2ms/step - loss: 3.8013 - val_loss: 4.1973\n",
      "Epoch 53/100\n",
      "8/8 [==============================] - 0s 2ms/step - loss: 3.8084 - val_loss: 4.2140\n",
      "Epoch 54/100\n",
      "8/8 [==============================] - 0s 2ms/step - loss: 3.8056 - val_loss: 4.2025\n",
      "Epoch 55/100\n",
      "8/8 [==============================] - 0s 2ms/step - loss: 3.8059 - val_loss: 4.1776\n",
      "Epoch 56/100\n",
      "8/8 [==============================] - 0s 2ms/step - loss: 3.8036 - val_loss: 4.1780\n",
      "Epoch 57/100\n",
      "8/8 [==============================] - 0s 2ms/step - loss: 3.8075 - val_loss: 4.1967\n",
      "Epoch 58/100\n",
      "8/8 [==============================] - 0s 2ms/step - loss: 3.8054 - val_loss: 4.1746\n",
      "Epoch 59/100\n",
      "8/8 [==============================] - 0s 2ms/step - loss: 3.8041 - val_loss: 4.1752\n",
      "Epoch 60/100\n",
      "8/8 [==============================] - 0s 2ms/step - loss: 3.8052 - val_loss: 4.2033\n",
      "Epoch 61/100\n",
      "8/8 [==============================] - 0s 2ms/step - loss: 3.8087 - val_loss: 4.2094\n",
      "Epoch 62/100\n",
      "8/8 [==============================] - 0s 2ms/step - loss: 3.8063 - val_loss: 4.1662\n",
      "Epoch 63/100\n",
      "8/8 [==============================] - 0s 2ms/step - loss: 3.8060 - val_loss: 4.1604\n",
      "Epoch 64/100\n",
      "8/8 [==============================] - 0s 2ms/step - loss: 3.8055 - val_loss: 4.1681\n",
      "Epoch 65/100\n",
      "8/8 [==============================] - 0s 2ms/step - loss: 3.8068 - val_loss: 4.1668\n",
      "Epoch 66/100\n",
      "8/8 [==============================] - 0s 2ms/step - loss: 3.8090 - val_loss: 4.1889\n",
      "Epoch 67/100\n",
      "8/8 [==============================] - 0s 2ms/step - loss: 3.8060 - val_loss: 4.2142\n",
      "Epoch 68/100\n",
      "8/8 [==============================] - 0s 2ms/step - loss: 3.8036 - val_loss: 4.1901\n",
      "Epoch 69/100\n",
      "8/8 [==============================] - 0s 2ms/step - loss: 3.8057 - val_loss: 4.1869\n",
      "Epoch 70/100\n",
      "8/8 [==============================] - 0s 2ms/step - loss: 3.8039 - val_loss: 4.1881\n",
      "Epoch 71/100\n",
      "8/8 [==============================] - 0s 2ms/step - loss: 3.8020 - val_loss: 4.1973\n",
      "Epoch 72/100\n",
      "8/8 [==============================] - 0s 2ms/step - loss: 3.8025 - val_loss: 4.2007\n",
      "Epoch 73/100\n",
      "8/8 [==============================] - 0s 2ms/step - loss: 3.8062 - val_loss: 4.1699\n",
      "Epoch 74/100\n",
      "8/8 [==============================] - 0s 2ms/step - loss: 3.8042 - val_loss: 4.1693\n",
      "Epoch 75/100\n",
      "8/8 [==============================] - 0s 2ms/step - loss: 3.8032 - val_loss: 4.1919\n",
      "Epoch 76/100\n",
      "8/8 [==============================] - 0s 2ms/step - loss: 3.8021 - val_loss: 4.1968\n",
      "Epoch 77/100\n",
      "8/8 [==============================] - 0s 2ms/step - loss: 3.8030 - val_loss: 4.1899\n",
      "Epoch 78/100\n",
      "8/8 [==============================] - 0s 2ms/step - loss: 3.8027 - val_loss: 4.1947\n",
      "Epoch 79/100\n",
      "8/8 [==============================] - 0s 2ms/step - loss: 3.8024 - val_loss: 4.1956\n",
      "Epoch 80/100\n",
      "8/8 [==============================] - 0s 2ms/step - loss: 3.8043 - val_loss: 4.2078\n",
      "Epoch 81/100\n",
      "8/8 [==============================] - 0s 2ms/step - loss: 3.8067 - val_loss: 4.1961\n",
      "Epoch 82/100\n",
      "8/8 [==============================] - 0s 2ms/step - loss: 3.8018 - val_loss: 4.1837\n",
      "Epoch 83/100\n",
      "8/8 [==============================] - 0s 2ms/step - loss: 3.8026 - val_loss: 4.1815\n",
      "Epoch 84/100\n"
     ]
    },
    {
     "name": "stdout",
     "output_type": "stream",
     "text": [
      "8/8 [==============================] - 0s 2ms/step - loss: 3.8065 - val_loss: 4.2031\n",
      "Epoch 85/100\n",
      "8/8 [==============================] - 0s 2ms/step - loss: 3.8054 - val_loss: 4.1867\n",
      "Epoch 86/100\n",
      "8/8 [==============================] - 0s 2ms/step - loss: 3.8035 - val_loss: 4.1919\n",
      "Epoch 87/100\n",
      "8/8 [==============================] - 0s 2ms/step - loss: 3.8095 - val_loss: 4.1678\n",
      "Epoch 88/100\n",
      "8/8 [==============================] - 0s 2ms/step - loss: 3.8039 - val_loss: 4.1720\n",
      "Epoch 89/100\n",
      "8/8 [==============================] - 0s 2ms/step - loss: 3.8075 - val_loss: 4.2121\n",
      "Epoch 90/100\n",
      "8/8 [==============================] - 0s 2ms/step - loss: 3.8047 - val_loss: 4.2099\n",
      "Epoch 91/100\n",
      "8/8 [==============================] - 0s 2ms/step - loss: 3.8050 - val_loss: 4.1950\n",
      "Epoch 92/100\n",
      "8/8 [==============================] - 0s 2ms/step - loss: 3.8037 - val_loss: 4.1785\n",
      "Epoch 93/100\n",
      "8/8 [==============================] - 0s 2ms/step - loss: 3.8063 - val_loss: 4.1672\n",
      "Epoch 94/100\n",
      "8/8 [==============================] - 0s 2ms/step - loss: 3.8034 - val_loss: 4.1845\n",
      "Epoch 95/100\n",
      "8/8 [==============================] - 0s 2ms/step - loss: 3.8074 - val_loss: 4.2145\n",
      "Epoch 96/100\n",
      "8/8 [==============================] - 0s 2ms/step - loss: 3.8049 - val_loss: 4.2060\n",
      "Epoch 97/100\n",
      "8/8 [==============================] - 0s 2ms/step - loss: 3.8040 - val_loss: 4.1748\n",
      "Epoch 98/100\n",
      "8/8 [==============================] - 0s 2ms/step - loss: 3.8086 - val_loss: 4.1491\n",
      "Epoch 99/100\n",
      "8/8 [==============================] - 0s 2ms/step - loss: 3.8067 - val_loss: 4.1581\n",
      "Epoch 100/100\n",
      "8/8 [==============================] - 0s 2ms/step - loss: 3.8048 - val_loss: 4.1962\n"
     ]
    }
   ],
   "source": [
    "history = horsepower_model.fit(train_features['Horsepower'],\n",
    "                              train_labels,\n",
    "                              epochs=100,\n",
    "                              verbose=1,\n",
    "                              validation_split=0.2)"
   ]
  },
  {
   "cell_type": "code",
   "execution_count": 29,
   "id": "330b58d6",
   "metadata": {},
   "outputs": [
    {
     "data": {
      "text/html": [
       "<div>\n",
       "<style scoped>\n",
       "    .dataframe tbody tr th:only-of-type {\n",
       "        vertical-align: middle;\n",
       "    }\n",
       "\n",
       "    .dataframe tbody tr th {\n",
       "        vertical-align: top;\n",
       "    }\n",
       "\n",
       "    .dataframe thead th {\n",
       "        text-align: right;\n",
       "    }\n",
       "</style>\n",
       "<table border=\"1\" class=\"dataframe\">\n",
       "  <thead>\n",
       "    <tr style=\"text-align: right;\">\n",
       "      <th></th>\n",
       "      <th>loss</th>\n",
       "      <th>val_loss</th>\n",
       "      <th>epoch</th>\n",
       "    </tr>\n",
       "  </thead>\n",
       "  <tbody>\n",
       "    <tr>\n",
       "      <th>95</th>\n",
       "      <td>3.804887</td>\n",
       "      <td>4.205958</td>\n",
       "      <td>95</td>\n",
       "    </tr>\n",
       "    <tr>\n",
       "      <th>96</th>\n",
       "      <td>3.804025</td>\n",
       "      <td>4.174752</td>\n",
       "      <td>96</td>\n",
       "    </tr>\n",
       "    <tr>\n",
       "      <th>97</th>\n",
       "      <td>3.808610</td>\n",
       "      <td>4.149148</td>\n",
       "      <td>97</td>\n",
       "    </tr>\n",
       "    <tr>\n",
       "      <th>98</th>\n",
       "      <td>3.806690</td>\n",
       "      <td>4.158072</td>\n",
       "      <td>98</td>\n",
       "    </tr>\n",
       "    <tr>\n",
       "      <th>99</th>\n",
       "      <td>3.804800</td>\n",
       "      <td>4.196187</td>\n",
       "      <td>99</td>\n",
       "    </tr>\n",
       "  </tbody>\n",
       "</table>\n",
       "</div>"
      ],
      "text/plain": [
       "        loss  val_loss  epoch\n",
       "95  3.804887  4.205958     95\n",
       "96  3.804025  4.174752     96\n",
       "97  3.808610  4.149148     97\n",
       "98  3.806690  4.158072     98\n",
       "99  3.804800  4.196187     99"
      ]
     },
     "execution_count": 29,
     "metadata": {},
     "output_type": "execute_result"
    }
   ],
   "source": [
    "hist = pd.DataFrame(history.history)\n",
    "hist['epoch'] = history.epoch\n",
    "hist.tail()"
   ]
  },
  {
   "cell_type": "code",
   "execution_count": 30,
   "id": "b5b3a469",
   "metadata": {},
   "outputs": [],
   "source": [
    "def plot_loss(history):\n",
    "    plt.plot(history.history['loss'], label='loss')\n",
    "    plt.plot(history.history['val_loss'], label='val_loss')\n",
    "    plt.ylim([0, 10])\n",
    "    plt.xlabel('Epoch')\n",
    "    plt.ylabel('Error [MPG]')\n",
    "    plt.legend()\n",
    "    plt.grid(True)\n",
    "    "
   ]
  },
  {
   "cell_type": "code",
   "execution_count": 31,
   "id": "e4440324",
   "metadata": {},
   "outputs": [
    {
     "data": {
      "image/png": "[encoded data removed]",
      "text/plain": [
       "<Figure size 432x288 with 1 Axes>"
      ]
     },
     "metadata": {
      "needs_background": "light"
     },
     "output_type": "display_data"
    }
   ],
   "source": [
    "plot_loss(history)"
   ]
  },
  {
   "cell_type": "code",
   "execution_count": 32,
   "id": "6fd60ff4",
   "metadata": {},
   "outputs": [
    {
     "name": "stdout",
     "output_type": "stream",
     "text": [
      "3/3 [==============================] - 0s 753us/step - loss: 3.6533\n"
     ]
    }
   ],
   "source": [
    "test_results = {}\n",
    "\n",
    "test_results['horsepower_model'] = horsepower_model.evaluate(test_features['Horsepower'],\n",
    "                                                            test_labels, verbose=1)"
   ]
  },
  {
   "cell_type": "markdown",
   "id": "723f2fe7",
   "metadata": {},
   "source": [
    "Since this is a single variable regression, it's easy to view the model's predictions as a function of the input."
   ]
  },
  {
   "cell_type": "code",
   "execution_count": 33,
   "id": "b5af2ffa",
   "metadata": {},
   "outputs": [],
   "source": [
    "x = tf.linspace(0.0, 250, 251)\n",
    "y = horsepower_model.predict(x)"
   ]
  },
  {
   "cell_type": "code",
   "execution_count": 34,
   "id": "0288a97b",
   "metadata": {},
   "outputs": [],
   "source": [
    "def plot_horsepower(x, y):\n",
    "    plt.scatter(train_features['Horsepower'], train_labels, label='Data')\n",
    "    plt.plot(x, y, color='k', label='Predictions')\n",
    "    plt.xlabel('Horsepower')\n",
    "    plt.ylabel('MPG')\n",
    "    plt.legend()"
   ]
  },
  {
   "cell_type": "code",
   "execution_count": 35,
   "id": "c7c5098e",
   "metadata": {},
   "outputs": [
    {
     "data": {
      "image/png": "[encoded data removed]",
      "text/plain": [
       "<Figure size 432x288 with 1 Axes>"
      ]
     },
     "metadata": {
      "needs_background": "light"
     },
     "output_type": "display_data"
    }
   ],
   "source": [
    "plot_horsepower(x, y)"
   ]
  },
  {
   "cell_type": "markdown",
   "id": "a53b1d2d",
   "metadata": {},
   "source": [
    "### Linear regression with multiple inputs\n",
    "This model still does the same **y=mx+b** except that *m* is a matrix and *b* is a vector.\n",
    "<br><br>\n",
    "Create a two-step Keras Sequential model again with the first layer being normalizer (`tf.keras.layers.Normalization(axis=-1)`) defined earlier and adapted to the whole dataset."
   ]
  },
  {
   "cell_type": "code",
   "execution_count": 36,
   "id": "c5191735",
   "metadata": {},
   "outputs": [],
   "source": [
    "linear_model = tf.keras.Sequential([\n",
    "    normalizer,\n",
    "    layers.Dense(units=1)\n",
    "])"
   ]
  },
  {
   "cell_type": "code",
   "execution_count": 37,
   "id": "2deec524",
   "metadata": {},
   "outputs": [
    {
     "name": "stdout",
     "output_type": "stream",
     "text": [
      "1/1 [==============================] - 0s 23ms/step\n"
     ]
    },
    {
     "data": {
      "text/plain": [
       "array([[ 0.72 ],\n",
       "       [ 0.242],\n",
       "       [-3.312],\n",
       "       [ 0.737],\n",
       "       [ 2.015],\n",
       "       [-0.622],\n",
       "       [ 2.318],\n",
       "       [ 3.682],\n",
       "       [-0.489],\n",
       "       [ 1.857]], dtype=float32)"
      ]
     },
     "execution_count": 37,
     "metadata": {},
     "output_type": "execute_result"
    }
   ],
   "source": [
    "linear_model.predict(train_features[:10], verbose=1)"
   ]
  },
  {
   "cell_type": "markdown",
   "id": "99a96918",
   "metadata": {},
   "source": [
    "The `kernel` weights (the *m* in **y=mx+b**) have a shape of `(9, 1)`"
   ]
  },
  {
   "cell_type": "code",
   "execution_count": 38,
   "id": "24f380f4",
   "metadata": {},
   "outputs": [
    {
     "data": {
      "text/plain": [
       "<tf.Variable 'dense_1/kernel:0' shape=(9, 1) dtype=float32, numpy=\n",
       "array([[-0.146],\n",
       "       [-0.633],\n",
       "       [-0.566],\n",
       "       [-0.272],\n",
       "       [ 0.323],\n",
       "       [-0.043],\n",
       "       [ 0.712],\n",
       "       [-0.008],\n",
       "       [-0.44 ]], dtype=float32)>"
      ]
     },
     "execution_count": 38,
     "metadata": {},
     "output_type": "execute_result"
    }
   ],
   "source": [
    "linear_model.layers[1].kernel"
   ]
  },
  {
   "cell_type": "markdown",
   "id": "cf27de4d",
   "metadata": {},
   "source": [
    "Configure the model with Keras `Model.compile` and train with `Model.fit` for 100 epochs."
   ]
  },
  {
   "cell_type": "code",
   "execution_count": 39,
   "id": "9b511c45",
   "metadata": {},
   "outputs": [],
   "source": [
    "linear_model.compile(optimizer=tf.keras.optimizers.Adam(learning_rate=0.1),\n",
    "                    loss='mean_absolute_error')"
   ]
  },
  {
   "cell_type": "code",
   "execution_count": 40,
   "id": "7f1ac3b8",
   "metadata": {},
   "outputs": [
    {
     "name": "stdout",
     "output_type": "stream",
     "text": [
      "Epoch 1/100\n",
      "8/8 [==============================] - 0s 9ms/step - loss: 22.9689 - val_loss: 22.8332\n",
      "Epoch 2/100\n",
      "8/8 [==============================] - 0s 2ms/step - loss: 22.1083 - val_loss: 22.1318\n",
      "Epoch 3/100\n",
      "8/8 [==============================] - 0s 2ms/step - loss: 21.2665 - val_loss: 21.3930\n",
      "Epoch 4/100\n",
      "8/8 [==============================] - 0s 2ms/step - loss: 20.4814 - val_loss: 20.6678\n",
      "Epoch 5/100\n",
      "8/8 [==============================] - 0s 2ms/step - loss: 19.6394 - val_loss: 19.9553\n",
      "Epoch 6/100\n",
      "8/8 [==============================] - 0s 2ms/step - loss: 18.8199 - val_loss: 19.2235\n",
      "Epoch 7/100\n",
      "8/8 [==============================] - 0s 2ms/step - loss: 18.0061 - val_loss: 18.4846\n",
      "Epoch 8/100\n",
      "8/8 [==============================] - 0s 2ms/step - loss: 17.1726 - val_loss: 17.7173\n",
      "Epoch 9/100\n",
      "8/8 [==============================] - 0s 2ms/step - loss: 16.3824 - val_loss: 16.9815\n",
      "Epoch 10/100\n",
      "8/8 [==============================] - 0s 2ms/step - loss: 15.5544 - val_loss: 16.2619\n",
      "Epoch 11/100\n",
      "8/8 [==============================] - 0s 2ms/step - loss: 14.7366 - val_loss: 15.5505\n",
      "Epoch 12/100\n",
      "8/8 [==============================] - 0s 2ms/step - loss: 13.9048 - val_loss: 14.8031\n",
      "Epoch 13/100\n",
      "8/8 [==============================] - 0s 2ms/step - loss: 13.1024 - val_loss: 14.1041\n",
      "Epoch 14/100\n",
      "8/8 [==============================] - 0s 2ms/step - loss: 12.2880 - val_loss: 13.3961\n",
      "Epoch 15/100\n",
      "8/8 [==============================] - 0s 2ms/step - loss: 11.5191 - val_loss: 12.7005\n",
      "Epoch 16/100\n",
      "8/8 [==============================] - 0s 2ms/step - loss: 10.6923 - val_loss: 11.9054\n",
      "Epoch 17/100\n",
      "8/8 [==============================] - 0s 2ms/step - loss: 9.9267 - val_loss: 11.1461\n",
      "Epoch 18/100\n",
      "8/8 [==============================] - 0s 2ms/step - loss: 9.1377 - val_loss: 10.4036\n",
      "Epoch 19/100\n",
      "8/8 [==============================] - 0s 2ms/step - loss: 8.3746 - val_loss: 9.7452\n",
      "Epoch 20/100\n",
      "8/8 [==============================] - 0s 2ms/step - loss: 7.6384 - val_loss: 8.9711\n",
      "Epoch 21/100\n",
      "8/8 [==============================] - 0s 2ms/step - loss: 6.9428 - val_loss: 8.2142\n",
      "Epoch 22/100\n",
      "8/8 [==============================] - 0s 2ms/step - loss: 6.3309 - val_loss: 7.6205\n",
      "Epoch 23/100\n",
      "8/8 [==============================] - 0s 2ms/step - loss: 5.7389 - val_loss: 7.0010\n",
      "Epoch 24/100\n",
      "8/8 [==============================] - 0s 2ms/step - loss: 5.2233 - val_loss: 6.3164\n",
      "Epoch 25/100\n",
      "8/8 [==============================] - 0s 2ms/step - loss: 4.7175 - val_loss: 5.6581\n",
      "Epoch 26/100\n",
      "8/8 [==============================] - 0s 2ms/step - loss: 4.2665 - val_loss: 4.9893\n",
      "Epoch 27/100\n",
      "8/8 [==============================] - 0s 2ms/step - loss: 3.8193 - val_loss: 4.4153\n",
      "Epoch 28/100\n",
      "8/8 [==============================] - 0s 2ms/step - loss: 3.3957 - val_loss: 3.9287\n",
      "Epoch 29/100\n",
      "8/8 [==============================] - 0s 2ms/step - loss: 3.0875 - val_loss: 3.4221\n",
      "Epoch 30/100\n",
      "8/8 [==============================] - 0s 2ms/step - loss: 2.8934 - val_loss: 3.0845\n",
      "Epoch 31/100\n",
      "8/8 [==============================] - 0s 2ms/step - loss: 2.7487 - val_loss: 2.9182\n",
      "Epoch 32/100\n",
      "8/8 [==============================] - 0s 2ms/step - loss: 2.6522 - val_loss: 2.7883\n",
      "Epoch 33/100\n",
      "8/8 [==============================] - 0s 2ms/step - loss: 2.5866 - val_loss: 2.7623\n",
      "Epoch 34/100\n",
      "8/8 [==============================] - 0s 2ms/step - loss: 2.5537 - val_loss: 2.6755\n",
      "Epoch 35/100\n",
      "8/8 [==============================] - 0s 2ms/step - loss: 2.5326 - val_loss: 2.6548\n",
      "Epoch 36/100\n",
      "8/8 [==============================] - 0s 2ms/step - loss: 2.5182 - val_loss: 2.6059\n",
      "Epoch 37/100\n",
      "8/8 [==============================] - 0s 2ms/step - loss: 2.5348 - val_loss: 2.5791\n",
      "Epoch 38/100\n",
      "8/8 [==============================] - 0s 2ms/step - loss: 2.5115 - val_loss: 2.5595\n",
      "Epoch 39/100\n",
      "8/8 [==============================] - 0s 2ms/step - loss: 2.4902 - val_loss: 2.5310\n",
      "Epoch 40/100\n",
      "8/8 [==============================] - 0s 2ms/step - loss: 2.5167 - val_loss: 2.5276\n",
      "Epoch 41/100\n",
      "8/8 [==============================] - 0s 3ms/step - loss: 2.5233 - val_loss: 2.5157\n",
      "Epoch 42/100\n",
      "8/8 [==============================] - 0s 3ms/step - loss: 2.5210 - val_loss: 2.5149\n",
      "Epoch 43/100\n",
      "8/8 [==============================] - 0s 2ms/step - loss: 2.4774 - val_loss: 2.5486\n",
      "Epoch 44/100\n",
      "8/8 [==============================] - 0s 2ms/step - loss: 2.4878 - val_loss: 2.5077\n",
      "Epoch 45/100\n",
      "8/8 [==============================] - 0s 2ms/step - loss: 2.5083 - val_loss: 2.4969\n",
      "Epoch 46/100\n",
      "8/8 [==============================] - 0s 2ms/step - loss: 2.4860 - val_loss: 2.5112\n",
      "Epoch 47/100\n",
      "8/8 [==============================] - 0s 2ms/step - loss: 2.4701 - val_loss: 2.4932\n",
      "Epoch 48/100\n",
      "8/8 [==============================] - 0s 2ms/step - loss: 2.4975 - val_loss: 2.5335\n",
      "Epoch 49/100\n",
      "8/8 [==============================] - 0s 2ms/step - loss: 2.5030 - val_loss: 2.4783\n",
      "Epoch 50/100\n",
      "8/8 [==============================] - 0s 2ms/step - loss: 2.5410 - val_loss: 2.4750\n",
      "Epoch 51/100\n",
      "8/8 [==============================] - 0s 2ms/step - loss: 2.5842 - val_loss: 2.5080\n",
      "Epoch 52/100\n",
      "8/8 [==============================] - 0s 2ms/step - loss: 2.5593 - val_loss: 2.4782\n",
      "Epoch 53/100\n",
      "8/8 [==============================] - 0s 2ms/step - loss: 2.5847 - val_loss: 2.6342\n",
      "Epoch 54/100\n",
      "8/8 [==============================] - 0s 2ms/step - loss: 2.5213 - val_loss: 2.4790\n",
      "Epoch 55/100\n",
      "8/8 [==============================] - 0s 2ms/step - loss: 2.4821 - val_loss: 2.5763\n",
      "Epoch 56/100\n",
      "8/8 [==============================] - 0s 2ms/step - loss: 2.4973 - val_loss: 2.4909\n",
      "Epoch 57/100\n",
      "8/8 [==============================] - 0s 2ms/step - loss: 2.4774 - val_loss: 2.4925\n",
      "Epoch 58/100\n",
      "8/8 [==============================] - 0s 2ms/step - loss: 2.4897 - val_loss: 2.4934\n",
      "Epoch 59/100\n",
      "8/8 [==============================] - 0s 2ms/step - loss: 2.4711 - val_loss: 2.5032\n",
      "Epoch 60/100\n",
      "8/8 [==============================] - 0s 2ms/step - loss: 2.4747 - val_loss: 2.4833\n",
      "Epoch 61/100\n",
      "8/8 [==============================] - 0s 2ms/step - loss: 2.4663 - val_loss: 2.4802\n",
      "Epoch 62/100\n",
      "8/8 [==============================] - 0s 2ms/step - loss: 2.4757 - val_loss: 2.4815\n",
      "Epoch 63/100\n",
      "8/8 [==============================] - 0s 2ms/step - loss: 2.4812 - val_loss: 2.4821\n",
      "Epoch 64/100\n",
      "8/8 [==============================] - 0s 2ms/step - loss: 2.4735 - val_loss: 2.4913\n",
      "Epoch 65/100\n",
      "8/8 [==============================] - 0s 2ms/step - loss: 2.4706 - val_loss: 2.4698\n",
      "Epoch 66/100\n",
      "8/8 [==============================] - 0s 2ms/step - loss: 2.4796 - val_loss: 2.4816\n",
      "Epoch 67/100\n",
      "8/8 [==============================] - 0s 2ms/step - loss: 2.4869 - val_loss: 2.4839\n",
      "Epoch 68/100\n",
      "8/8 [==============================] - 0s 2ms/step - loss: 2.4745 - val_loss: 2.4632\n",
      "Epoch 69/100\n",
      "8/8 [==============================] - 0s 2ms/step - loss: 2.4679 - val_loss: 2.5012\n",
      "Epoch 70/100\n",
      "8/8 [==============================] - 0s 2ms/step - loss: 2.4895 - val_loss: 2.4680\n",
      "Epoch 71/100\n",
      "8/8 [==============================] - 0s 2ms/step - loss: 2.5061 - val_loss: 2.5056\n",
      "Epoch 72/100\n",
      "8/8 [==============================] - 0s 2ms/step - loss: 2.4773 - val_loss: 2.4817\n",
      "Epoch 73/100\n",
      "8/8 [==============================] - 0s 2ms/step - loss: 2.4821 - val_loss: 2.5512\n",
      "Epoch 74/100\n",
      "8/8 [==============================] - 0s 2ms/step - loss: 2.4731 - val_loss: 2.4630\n",
      "Epoch 75/100\n",
      "8/8 [==============================] - 0s 2ms/step - loss: 2.5020 - val_loss: 2.4681\n",
      "Epoch 76/100\n",
      "8/8 [==============================] - 0s 2ms/step - loss: 2.5020 - val_loss: 2.4654\n",
      "Epoch 77/100\n",
      "8/8 [==============================] - 0s 2ms/step - loss: 2.5174 - val_loss: 2.4619\n",
      "Epoch 78/100\n",
      "8/8 [==============================] - 0s 2ms/step - loss: 2.5123 - val_loss: 2.4770\n",
      "Epoch 79/100\n",
      "8/8 [==============================] - 0s 2ms/step - loss: 2.4730 - val_loss: 2.4745\n",
      "Epoch 80/100\n",
      "8/8 [==============================] - 0s 2ms/step - loss: 2.4718 - val_loss: 2.4643\n",
      "Epoch 81/100\n",
      "8/8 [==============================] - 0s 2ms/step - loss: 2.4700 - val_loss: 2.4660\n",
      "Epoch 82/100\n",
      "8/8 [==============================] - 0s 2ms/step - loss: 2.4805 - val_loss: 2.4646\n",
      "Epoch 83/100\n",
      "8/8 [==============================] - 0s 2ms/step - loss: 2.4893 - val_loss: 2.4690\n",
      "Epoch 84/100\n"
     ]
    },
    {
     "name": "stdout",
     "output_type": "stream",
     "text": [
      "8/8 [==============================] - 0s 2ms/step - loss: 2.4743 - val_loss: 2.4606\n",
      "Epoch 85/100\n",
      "8/8 [==============================] - 0s 2ms/step - loss: 2.4755 - val_loss: 2.4794\n",
      "Epoch 86/100\n",
      "8/8 [==============================] - 0s 2ms/step - loss: 2.4715 - val_loss: 2.4767\n",
      "Epoch 87/100\n",
      "8/8 [==============================] - 0s 2ms/step - loss: 2.4770 - val_loss: 2.4776\n",
      "Epoch 88/100\n",
      "8/8 [==============================] - 0s 2ms/step - loss: 2.4769 - val_loss: 2.4926\n",
      "Epoch 89/100\n",
      "8/8 [==============================] - 0s 2ms/step - loss: 2.4653 - val_loss: 2.4688\n",
      "Epoch 90/100\n",
      "8/8 [==============================] - 0s 2ms/step - loss: 2.4692 - val_loss: 2.4791\n",
      "Epoch 91/100\n",
      "8/8 [==============================] - 0s 2ms/step - loss: 2.4708 - val_loss: 2.4661\n",
      "Epoch 92/100\n",
      "8/8 [==============================] - 0s 2ms/step - loss: 2.4719 - val_loss: 2.4775\n",
      "Epoch 93/100\n",
      "8/8 [==============================] - 0s 2ms/step - loss: 2.4722 - val_loss: 2.4526\n",
      "Epoch 94/100\n",
      "8/8 [==============================] - 0s 2ms/step - loss: 2.4716 - val_loss: 2.4795\n",
      "Epoch 95/100\n",
      "8/8 [==============================] - 0s 2ms/step - loss: 2.4921 - val_loss: 2.4795\n",
      "Epoch 96/100\n",
      "8/8 [==============================] - 0s 2ms/step - loss: 2.5040 - val_loss: 2.4753\n",
      "Epoch 97/100\n",
      "8/8 [==============================] - 0s 2ms/step - loss: 2.4793 - val_loss: 2.5242\n",
      "Epoch 98/100\n",
      "8/8 [==============================] - 0s 2ms/step - loss: 2.4715 - val_loss: 2.4777\n",
      "Epoch 99/100\n",
      "8/8 [==============================] - 0s 2ms/step - loss: 2.5146 - val_loss: 2.4937\n",
      "Epoch 100/100\n",
      "8/8 [==============================] - 0s 2ms/step - loss: 2.4903 - val_loss: 2.5257\n"
     ]
    }
   ],
   "source": [
    "history = linear_model.fit(train_features,\n",
    "                          train_labels,\n",
    "                          epochs=100,\n",
    "                          verbose=1,\n",
    "                          validation_split=0.2)"
   ]
  },
  {
   "cell_type": "code",
   "execution_count": 41,
   "id": "231a2ccc",
   "metadata": {},
   "outputs": [
    {
     "data": {
      "text/html": [
       "<div>\n",
       "<style scoped>\n",
       "    .dataframe tbody tr th:only-of-type {\n",
       "        vertical-align: middle;\n",
       "    }\n",
       "\n",
       "    .dataframe tbody tr th {\n",
       "        vertical-align: top;\n",
       "    }\n",
       "\n",
       "    .dataframe thead th {\n",
       "        text-align: right;\n",
       "    }\n",
       "</style>\n",
       "<table border=\"1\" class=\"dataframe\">\n",
       "  <thead>\n",
       "    <tr style=\"text-align: right;\">\n",
       "      <th></th>\n",
       "      <th>loss</th>\n",
       "      <th>val_loss</th>\n",
       "      <th>epoch</th>\n",
       "    </tr>\n",
       "  </thead>\n",
       "  <tbody>\n",
       "    <tr>\n",
       "      <th>95</th>\n",
       "      <td>2.503992</td>\n",
       "      <td>2.475279</td>\n",
       "      <td>95</td>\n",
       "    </tr>\n",
       "    <tr>\n",
       "      <th>96</th>\n",
       "      <td>2.479347</td>\n",
       "      <td>2.524227</td>\n",
       "      <td>96</td>\n",
       "    </tr>\n",
       "    <tr>\n",
       "      <th>97</th>\n",
       "      <td>2.471456</td>\n",
       "      <td>2.477707</td>\n",
       "      <td>97</td>\n",
       "    </tr>\n",
       "    <tr>\n",
       "      <th>98</th>\n",
       "      <td>2.514649</td>\n",
       "      <td>2.493704</td>\n",
       "      <td>98</td>\n",
       "    </tr>\n",
       "    <tr>\n",
       "      <th>99</th>\n",
       "      <td>2.490339</td>\n",
       "      <td>2.525677</td>\n",
       "      <td>99</td>\n",
       "    </tr>\n",
       "  </tbody>\n",
       "</table>\n",
       "</div>"
      ],
      "text/plain": [
       "        loss  val_loss  epoch\n",
       "95  2.503992  2.475279     95\n",
       "96  2.479347  2.524227     96\n",
       "97  2.471456  2.477707     97\n",
       "98  2.514649  2.493704     98\n",
       "99  2.490339  2.525677     99"
      ]
     },
     "execution_count": 41,
     "metadata": {},
     "output_type": "execute_result"
    }
   ],
   "source": [
    "hist = pd.DataFrame(history.history)\n",
    "hist['epoch'] = history.epoch\n",
    "hist.tail()"
   ]
  },
  {
   "cell_type": "markdown",
   "id": "0e0bd927",
   "metadata": {},
   "source": [
    "Using all the inputs in this regression model achieves a much lower training and validation error than the `horsepower_model`, which had one input."
   ]
  },
  {
   "cell_type": "code",
   "execution_count": 42,
   "id": "a354f692",
   "metadata": {},
   "outputs": [
    {
     "data": {
      "image/png": "[encoded data removed]",
      "text/plain": [
       "<Figure size 432x288 with 1 Axes>"
      ]
     },
     "metadata": {
      "needs_background": "light"
     },
     "output_type": "display_data"
    }
   ],
   "source": [
    "plot_loss(history)"
   ]
  },
  {
   "cell_type": "code",
   "execution_count": 43,
   "id": "b5b215eb",
   "metadata": {},
   "outputs": [
    {
     "name": "stdout",
     "output_type": "stream",
     "text": [
      "3/3 [==============================] - 0s 759us/step - loss: 2.5689\n"
     ]
    }
   ],
   "source": [
    "test_results['linear_mode'] = linear_model.evaluate(test_features,\n",
    "                                                   test_labels, verbose=1)"
   ]
  },
  {
   "cell_type": "markdown",
   "id": "3d7ac7ca",
   "metadata": {},
   "source": [
    "## Regression with a deep neural network\n",
    "The code is basically the same except the model is expanded to include some \"hidden\" non-linear layers. The name \"hidden\" here just means not directly connected to the inputs or outputs.\n",
    "<br><br>\n",
    "These models will contain a few more layers than the linear model:\n",
    "- The normalization layer, as before (with `horsepower_normalizer` for a single-input model and `normalizer` for a multiple-input model).\n",
    "- Two hidden, non-linear, `Dense` layers with the ReLU (`relu`) activation function nonlinearity.\n",
    "- A linear `Dense` single-output layer.\n",
    "\n",
    "<br><br>\n",
    "Both models will use the same training procedure, so the `compile` method is included in the `build_and_compile_model` function below."
   ]
  },
  {
   "cell_type": "code",
   "execution_count": 44,
   "id": "782655d4",
   "metadata": {},
   "outputs": [],
   "source": [
    "def build_and_compile_model(norm):\n",
    "    model = keras.Sequential([\n",
    "        norm,\n",
    "        layers.Dense(64, activation='relu'),\n",
    "        layers.Dense(64, activation='relu'),\n",
    "\n",
    "        layers.Dense(1)\n",
    "    ])\n",
    "    \n",
    "    model.compile(loss='mean_absolute_error',\n",
    "                 optimizer=tf.keras.optimizers.Adam(0.001))\n",
    "    \n",
    "    return model"
   ]
  },
  {
   "cell_type": "markdown",
   "id": "e29b145d",
   "metadata": {},
   "source": [
    "### Regression using DNN and single input"
   ]
  },
  {
   "cell_type": "code",
   "execution_count": 45,
   "id": "9d2e4074",
   "metadata": {},
   "outputs": [],
   "source": [
    "dnn_horsepower_model = build_and_compile_model(horsepower_normalizer)"
   ]
  },
  {
   "cell_type": "code",
   "execution_count": 46,
   "id": "691c7540",
   "metadata": {},
   "outputs": [
    {
     "name": "stdout",
     "output_type": "stream",
     "text": [
      "Model: \"sequential_2\"\n",
      "_________________________________________________________________\n",
      " Layer (type)                Output Shape              Param #   \n",
      "=================================================================\n",
      " normalization_1 (Normalizat  (None, 1)                3         \n",
      " ion)                                                            \n",
      "                                                                 \n",
      " dense_2 (Dense)             (None, 64)                128       \n",
      "                                                                 \n",
      " dense_3 (Dense)             (None, 64)                4160      \n",
      "                                                                 \n",
      " dense_4 (Dense)             (None, 1)                 65        \n",
      "                                                                 \n",
      "=================================================================\n",
      "Total params: 4,356\n",
      "Trainable params: 4,353\n",
      "Non-trainable params: 3\n",
      "_________________________________________________________________\n"
     ]
    }
   ],
   "source": [
    "dnn_horsepower_model.summary()"
   ]
  },
  {
   "cell_type": "code",
   "execution_count": 47,
   "id": "fda06715",
   "metadata": {},
   "outputs": [
    {
     "name": "stdout",
     "output_type": "stream",
     "text": [
      "Epoch 1/100\n",
      "8/8 [==============================] - 0s 9ms/step - loss: 23.1784 - val_loss: 23.5737\n",
      "Epoch 2/100\n",
      "8/8 [==============================] - 0s 2ms/step - loss: 22.9534 - val_loss: 23.3267\n",
      "Epoch 3/100\n",
      "8/8 [==============================] - 0s 2ms/step - loss: 22.7094 - val_loss: 23.0459\n",
      "Epoch 4/100\n",
      "8/8 [==============================] - 0s 2ms/step - loss: 22.4143 - val_loss: 22.6857\n",
      "Epoch 5/100\n",
      "8/8 [==============================] - 0s 2ms/step - loss: 22.0298 - val_loss: 22.2199\n",
      "Epoch 6/100\n",
      "8/8 [==============================] - 0s 2ms/step - loss: 21.5384 - val_loss: 21.6254\n",
      "Epoch 7/100\n",
      "8/8 [==============================] - 0s 2ms/step - loss: 20.8941 - val_loss: 20.8555\n",
      "Epoch 8/100\n",
      "8/8 [==============================] - 0s 2ms/step - loss: 20.0794 - val_loss: 19.8718\n",
      "Epoch 9/100\n",
      "8/8 [==============================] - 0s 2ms/step - loss: 19.0411 - val_loss: 18.6370\n",
      "Epoch 10/100\n",
      "8/8 [==============================] - 0s 2ms/step - loss: 17.7352 - val_loss: 17.1718\n",
      "Epoch 11/100\n",
      "8/8 [==============================] - 0s 2ms/step - loss: 16.2411 - val_loss: 15.4996\n",
      "Epoch 12/100\n",
      "8/8 [==============================] - 0s 2ms/step - loss: 14.6312 - val_loss: 13.7375\n",
      "Epoch 13/100\n",
      "8/8 [==============================] - 0s 2ms/step - loss: 12.7319 - val_loss: 11.8800\n",
      "Epoch 14/100\n",
      "8/8 [==============================] - 0s 2ms/step - loss: 10.6214 - val_loss: 9.8982\n",
      "Epoch 15/100\n",
      "8/8 [==============================] - 0s 2ms/step - loss: 8.3893 - val_loss: 7.9307\n",
      "Epoch 16/100\n",
      "8/8 [==============================] - 0s 2ms/step - loss: 6.1726 - val_loss: 5.9503\n",
      "Epoch 17/100\n",
      "8/8 [==============================] - 0s 2ms/step - loss: 4.5588 - val_loss: 5.3692\n",
      "Epoch 18/100\n",
      "8/8 [==============================] - 0s 2ms/step - loss: 4.1899 - val_loss: 5.3448\n",
      "Epoch 19/100\n",
      "8/8 [==============================] - 0s 2ms/step - loss: 4.1446 - val_loss: 5.1784\n",
      "Epoch 20/100\n",
      "8/8 [==============================] - 0s 2ms/step - loss: 4.0049 - val_loss: 4.9416\n",
      "Epoch 21/100\n",
      "8/8 [==============================] - 0s 2ms/step - loss: 3.9447 - val_loss: 4.8252\n",
      "Epoch 22/100\n",
      "8/8 [==============================] - 0s 2ms/step - loss: 3.9000 - val_loss: 4.7677\n",
      "Epoch 23/100\n",
      "8/8 [==============================] - 0s 3ms/step - loss: 3.8458 - val_loss: 4.7318\n",
      "Epoch 24/100\n",
      "8/8 [==============================] - 0s 2ms/step - loss: 3.7962 - val_loss: 4.6841\n",
      "Epoch 25/100\n",
      "8/8 [==============================] - 0s 2ms/step - loss: 3.7568 - val_loss: 4.6037\n",
      "Epoch 26/100\n",
      "8/8 [==============================] - 0s 2ms/step - loss: 3.7170 - val_loss: 4.5298\n",
      "Epoch 27/100\n",
      "8/8 [==============================] - 0s 2ms/step - loss: 3.6822 - val_loss: 4.4745\n",
      "Epoch 28/100\n",
      "8/8 [==============================] - 0s 3ms/step - loss: 3.6497 - val_loss: 4.4202\n",
      "Epoch 29/100\n",
      "8/8 [==============================] - 0s 3ms/step - loss: 3.6330 - val_loss: 4.3769\n",
      "Epoch 30/100\n",
      "8/8 [==============================] - 0s 2ms/step - loss: 3.5996 - val_loss: 4.3294\n",
      "Epoch 31/100\n",
      "8/8 [==============================] - 0s 2ms/step - loss: 3.5778 - val_loss: 4.2832\n",
      "Epoch 32/100\n",
      "8/8 [==============================] - 0s 2ms/step - loss: 3.5710 - val_loss: 4.2533\n",
      "Epoch 33/100\n",
      "8/8 [==============================] - 0s 2ms/step - loss: 3.5445 - val_loss: 4.2144\n",
      "Epoch 34/100\n",
      "8/8 [==============================] - 0s 2ms/step - loss: 3.5325 - val_loss: 4.1939\n",
      "Epoch 35/100\n",
      "8/8 [==============================] - 0s 2ms/step - loss: 3.5160 - val_loss: 4.1664\n",
      "Epoch 36/100\n",
      "8/8 [==============================] - 0s 2ms/step - loss: 3.4978 - val_loss: 4.1411\n",
      "Epoch 37/100\n",
      "8/8 [==============================] - 0s 2ms/step - loss: 3.4981 - val_loss: 4.1242\n",
      "Epoch 38/100\n",
      "8/8 [==============================] - 0s 2ms/step - loss: 3.4822 - val_loss: 4.0882\n",
      "Epoch 39/100\n",
      "8/8 [==============================] - 0s 2ms/step - loss: 3.4620 - val_loss: 4.0778\n",
      "Epoch 40/100\n",
      "8/8 [==============================] - 0s 2ms/step - loss: 3.4501 - val_loss: 4.0599\n",
      "Epoch 41/100\n",
      "8/8 [==============================] - 0s 2ms/step - loss: 3.4366 - val_loss: 4.0421\n",
      "Epoch 42/100\n",
      "8/8 [==============================] - 0s 2ms/step - loss: 3.4325 - val_loss: 4.0210\n",
      "Epoch 43/100\n",
      "8/8 [==============================] - 0s 2ms/step - loss: 3.4148 - val_loss: 4.0118\n",
      "Epoch 44/100\n",
      "8/8 [==============================] - 0s 2ms/step - loss: 3.4061 - val_loss: 4.0045\n",
      "Epoch 45/100\n",
      "8/8 [==============================] - 0s 2ms/step - loss: 3.3991 - val_loss: 3.9854\n",
      "Epoch 46/100\n",
      "8/8 [==============================] - 0s 2ms/step - loss: 3.3851 - val_loss: 3.9623\n",
      "Epoch 47/100\n",
      "8/8 [==============================] - 0s 2ms/step - loss: 3.3865 - val_loss: 3.9461\n",
      "Epoch 48/100\n",
      "8/8 [==============================] - 0s 2ms/step - loss: 3.3658 - val_loss: 3.9387\n",
      "Epoch 49/100\n",
      "8/8 [==============================] - 0s 2ms/step - loss: 3.3580 - val_loss: 3.9211\n",
      "Epoch 50/100\n",
      "8/8 [==============================] - 0s 2ms/step - loss: 3.3522 - val_loss: 3.9088\n",
      "Epoch 51/100\n",
      "8/8 [==============================] - 0s 2ms/step - loss: 3.3435 - val_loss: 3.8900\n",
      "Epoch 52/100\n",
      "8/8 [==============================] - 0s 2ms/step - loss: 3.3368 - val_loss: 3.8781\n",
      "Epoch 53/100\n",
      "8/8 [==============================] - 0s 2ms/step - loss: 3.3330 - val_loss: 3.8668\n",
      "Epoch 54/100\n",
      "8/8 [==============================] - 0s 2ms/step - loss: 3.3246 - val_loss: 3.8544\n",
      "Epoch 55/100\n",
      "8/8 [==============================] - 0s 2ms/step - loss: 3.3205 - val_loss: 3.8443\n",
      "Epoch 56/100\n",
      "8/8 [==============================] - 0s 2ms/step - loss: 3.3255 - val_loss: 3.8314\n",
      "Epoch 57/100\n",
      "8/8 [==============================] - 0s 2ms/step - loss: 3.3076 - val_loss: 3.8318\n",
      "Epoch 58/100\n",
      "8/8 [==============================] - 0s 2ms/step - loss: 3.3092 - val_loss: 3.8126\n",
      "Epoch 59/100\n",
      "8/8 [==============================] - 0s 2ms/step - loss: 3.3015 - val_loss: 3.8073\n",
      "Epoch 60/100\n",
      "8/8 [==============================] - 0s 2ms/step - loss: 3.3011 - val_loss: 3.8011\n",
      "Epoch 61/100\n",
      "8/8 [==============================] - 0s 2ms/step - loss: 3.3022 - val_loss: 3.7943\n",
      "Epoch 62/100\n",
      "8/8 [==============================] - 0s 2ms/step - loss: 3.2849 - val_loss: 3.7844\n",
      "Epoch 63/100\n",
      "8/8 [==============================] - 0s 2ms/step - loss: 3.2866 - val_loss: 3.7954\n",
      "Epoch 64/100\n",
      "8/8 [==============================] - 0s 2ms/step - loss: 3.2857 - val_loss: 3.7770\n",
      "Epoch 65/100\n",
      "8/8 [==============================] - 0s 2ms/step - loss: 3.2910 - val_loss: 3.7802\n",
      "Epoch 66/100\n",
      "8/8 [==============================] - 0s 2ms/step - loss: 3.2781 - val_loss: 3.7786\n",
      "Epoch 67/100\n",
      "8/8 [==============================] - 0s 2ms/step - loss: 3.2784 - val_loss: 3.7795\n",
      "Epoch 68/100\n",
      "8/8 [==============================] - 0s 2ms/step - loss: 3.2785 - val_loss: 3.7757\n",
      "Epoch 69/100\n",
      "8/8 [==============================] - 0s 2ms/step - loss: 3.2799 - val_loss: 3.7763\n",
      "Epoch 70/100\n",
      "8/8 [==============================] - 0s 2ms/step - loss: 3.2771 - val_loss: 3.7618\n",
      "Epoch 71/100\n",
      "8/8 [==============================] - 0s 2ms/step - loss: 3.2843 - val_loss: 3.7917\n",
      "Epoch 72/100\n",
      "8/8 [==============================] - 0s 2ms/step - loss: 3.2858 - val_loss: 3.7864\n",
      "Epoch 73/100\n",
      "8/8 [==============================] - 0s 2ms/step - loss: 3.2718 - val_loss: 3.7674\n",
      "Epoch 74/100\n",
      "8/8 [==============================] - 0s 2ms/step - loss: 3.2743 - val_loss: 3.7757\n",
      "Epoch 75/100\n",
      "8/8 [==============================] - 0s 2ms/step - loss: 3.2847 - val_loss: 3.7873\n",
      "Epoch 76/100\n",
      "8/8 [==============================] - 0s 2ms/step - loss: 3.2731 - val_loss: 3.7629\n",
      "Epoch 77/100\n",
      "8/8 [==============================] - 0s 2ms/step - loss: 3.2751 - val_loss: 3.7736\n",
      "Epoch 78/100\n",
      "8/8 [==============================] - 0s 2ms/step - loss: 3.2724 - val_loss: 3.7747\n",
      "Epoch 79/100\n",
      "8/8 [==============================] - 0s 2ms/step - loss: 3.2672 - val_loss: 3.7836\n",
      "Epoch 80/100\n",
      "8/8 [==============================] - 0s 2ms/step - loss: 3.2799 - val_loss: 3.7711\n",
      "Epoch 81/100\n",
      "8/8 [==============================] - 0s 2ms/step - loss: 3.2654 - val_loss: 3.7762\n",
      "Epoch 82/100\n",
      "8/8 [==============================] - 0s 2ms/step - loss: 3.2658 - val_loss: 3.7705\n",
      "Epoch 83/100\n",
      "8/8 [==============================] - 0s 2ms/step - loss: 3.2656 - val_loss: 3.7689\n",
      "Epoch 84/100\n"
     ]
    },
    {
     "name": "stdout",
     "output_type": "stream",
     "text": [
      "8/8 [==============================] - 0s 2ms/step - loss: 3.2650 - val_loss: 3.7877\n",
      "Epoch 85/100\n",
      "8/8 [==============================] - 0s 2ms/step - loss: 3.2734 - val_loss: 3.7806\n",
      "Epoch 86/100\n",
      "8/8 [==============================] - 0s 2ms/step - loss: 3.2627 - val_loss: 3.7677\n",
      "Epoch 87/100\n",
      "8/8 [==============================] - 0s 2ms/step - loss: 3.2619 - val_loss: 3.7739\n",
      "Epoch 88/100\n",
      "8/8 [==============================] - 0s 2ms/step - loss: 3.2636 - val_loss: 3.7801\n",
      "Epoch 89/100\n",
      "8/8 [==============================] - 0s 2ms/step - loss: 3.2623 - val_loss: 3.7788\n",
      "Epoch 90/100\n",
      "8/8 [==============================] - 0s 2ms/step - loss: 3.2789 - val_loss: 3.7798\n",
      "Epoch 91/100\n",
      "8/8 [==============================] - 0s 2ms/step - loss: 3.2586 - val_loss: 3.7533\n",
      "Epoch 92/100\n",
      "8/8 [==============================] - 0s 2ms/step - loss: 3.2753 - val_loss: 3.7769\n",
      "Epoch 93/100\n",
      "8/8 [==============================] - 0s 2ms/step - loss: 3.2628 - val_loss: 3.7712\n",
      "Epoch 94/100\n",
      "8/8 [==============================] - 0s 2ms/step - loss: 3.2563 - val_loss: 3.7715\n",
      "Epoch 95/100\n",
      "8/8 [==============================] - 0s 2ms/step - loss: 3.2527 - val_loss: 3.7734\n",
      "Epoch 96/100\n",
      "8/8 [==============================] - 0s 2ms/step - loss: 3.2585 - val_loss: 3.7625\n",
      "Epoch 97/100\n",
      "8/8 [==============================] - 0s 2ms/step - loss: 3.2551 - val_loss: 3.7690\n",
      "Epoch 98/100\n",
      "8/8 [==============================] - 0s 2ms/step - loss: 3.2685 - val_loss: 3.7951\n",
      "Epoch 99/100\n",
      "8/8 [==============================] - 0s 2ms/step - loss: 3.2531 - val_loss: 3.7592\n",
      "Epoch 100/100\n",
      "8/8 [==============================] - 0s 2ms/step - loss: 3.2599 - val_loss: 3.7509\n"
     ]
    }
   ],
   "source": [
    "history = dnn_horsepower_model.fit(train_features['Horsepower'],\n",
    "                                  train_labels,\n",
    "                                  validation_split=0.2,\n",
    "                                  verbose=1, epochs=100)"
   ]
  },
  {
   "cell_type": "markdown",
   "id": "5a6104b8",
   "metadata": {},
   "source": [
    "This model does slightly better than the linear single-input `horsepower_model`."
   ]
  },
  {
   "cell_type": "code",
   "execution_count": 48,
   "id": "d479cf01",
   "metadata": {},
   "outputs": [
    {
     "data": {
      "image/png": "[encoded data removed]",
      "text/plain": [
       "<Figure size 432x288 with 1 Axes>"
      ]
     },
     "metadata": {
      "needs_background": "light"
     },
     "output_type": "display_data"
    }
   ],
   "source": [
    "plot_loss(history)"
   ]
  },
  {
   "cell_type": "code",
   "execution_count": 49,
   "id": "863b76d4",
   "metadata": {},
   "outputs": [
    {
     "data": {
      "image/png": "[encoded data removed]",
      "text/plain": [
       "<Figure size 432x288 with 1 Axes>"
      ]
     },
     "metadata": {
      "needs_background": "light"
     },
     "output_type": "display_data"
    }
   ],
   "source": [
    "y =dnn_horsepower_model.predict(x)\n",
    "plot_horsepower(x, y)"
   ]
  },
  {
   "cell_type": "code",
   "execution_count": 50,
   "id": "fe6d49e4",
   "metadata": {},
   "outputs": [
    {
     "name": "stdout",
     "output_type": "stream",
     "text": [
      "3/3 [==============================] - 0s 1ms/step - loss: 2.9189\n"
     ]
    }
   ],
   "source": [
    "test_results['dnn_horsepower_model'] = dnn_horsepower_model.evaluate(test_features['Horsepower'],\n",
    "                                                                    test_labels, verbose=1)"
   ]
  },
  {
   "cell_type": "markdown",
   "id": "557e81c5",
   "metadata": {},
   "source": [
    "### Regression using DNN and multiple inputs"
   ]
  },
  {
   "cell_type": "code",
   "execution_count": 52,
   "id": "f766d43b",
   "metadata": {},
   "outputs": [
    {
     "name": "stdout",
     "output_type": "stream",
     "text": [
      "Model: \"sequential_4\"\n",
      "_________________________________________________________________\n",
      " Layer (type)                Output Shape              Param #   \n",
      "=================================================================\n",
      " normalization (Normalizatio  (None, 9)                19        \n",
      " n)                                                              \n",
      "                                                                 \n",
      " dense_8 (Dense)             (None, 64)                640       \n",
      "                                                                 \n",
      " dense_9 (Dense)             (None, 64)                4160      \n",
      "                                                                 \n",
      " dense_10 (Dense)            (None, 1)                 65        \n",
      "                                                                 \n",
      "=================================================================\n",
      "Total params: 4,884\n",
      "Trainable params: 4,865\n",
      "Non-trainable params: 19\n",
      "_________________________________________________________________\n"
     ]
    }
   ],
   "source": [
    "dnn_model = build_and_compile_model(normalizer)\n",
    "dnn_model.summary()"
   ]
  },
  {
   "cell_type": "code",
   "execution_count": 53,
   "id": "f0b6259a",
   "metadata": {},
   "outputs": [
    {
     "name": "stdout",
     "output_type": "stream",
     "text": [
      "Epoch 1/100\n",
      "8/8 [==============================] - 0s 9ms/step - loss: 23.1627 - val_loss: 23.2509\n",
      "Epoch 2/100\n",
      "8/8 [==============================] - 0s 3ms/step - loss: 22.4302 - val_loss: 22.4747\n",
      "Epoch 3/100\n",
      "8/8 [==============================] - 0s 2ms/step - loss: 21.6368 - val_loss: 21.5755\n",
      "Epoch 4/100\n",
      "8/8 [==============================] - 0s 2ms/step - loss: 20.7328 - val_loss: 20.5066\n",
      "Epoch 5/100\n",
      "8/8 [==============================] - 0s 2ms/step - loss: 19.6068 - val_loss: 19.1654\n",
      "Epoch 6/100\n",
      "8/8 [==============================] - 0s 2ms/step - loss: 18.1769 - val_loss: 17.4355\n",
      "Epoch 7/100\n",
      "8/8 [==============================] - 0s 3ms/step - loss: 16.3860 - val_loss: 15.4999\n",
      "Epoch 8/100\n",
      "8/8 [==============================] - 0s 2ms/step - loss: 14.4727 - val_loss: 13.6970\n",
      "Epoch 9/100\n",
      "8/8 [==============================] - 0s 2ms/step - loss: 12.4809 - val_loss: 11.7780\n",
      "Epoch 10/100\n",
      "8/8 [==============================] - 0s 2ms/step - loss: 10.3550 - val_loss: 9.2765\n",
      "Epoch 11/100\n",
      "8/8 [==============================] - 0s 2ms/step - loss: 7.8692 - val_loss: 6.5697\n",
      "Epoch 12/100\n",
      "8/8 [==============================] - 0s 2ms/step - loss: 5.6608 - val_loss: 5.2367\n",
      "Epoch 13/100\n",
      "8/8 [==============================] - 0s 2ms/step - loss: 5.1029 - val_loss: 4.9650\n",
      "Epoch 14/100\n",
      "8/8 [==============================] - 0s 2ms/step - loss: 4.4534 - val_loss: 4.1882\n",
      "Epoch 15/100\n",
      "8/8 [==============================] - 0s 2ms/step - loss: 3.7719 - val_loss: 3.7689\n",
      "Epoch 16/100\n",
      "8/8 [==============================] - 0s 2ms/step - loss: 3.4307 - val_loss: 3.7028\n",
      "Epoch 17/100\n",
      "8/8 [==============================] - 0s 2ms/step - loss: 3.2239 - val_loss: 3.5336\n",
      "Epoch 18/100\n",
      "8/8 [==============================] - 0s 2ms/step - loss: 3.0403 - val_loss: 3.3134\n",
      "Epoch 19/100\n",
      "8/8 [==============================] - 0s 2ms/step - loss: 2.9359 - val_loss: 3.1466\n",
      "Epoch 20/100\n",
      "8/8 [==============================] - 0s 2ms/step - loss: 2.8187 - val_loss: 3.0104\n",
      "Epoch 21/100\n",
      "8/8 [==============================] - 0s 3ms/step - loss: 2.7152 - val_loss: 2.9092\n",
      "Epoch 22/100\n",
      "8/8 [==============================] - 0s 2ms/step - loss: 2.6065 - val_loss: 2.8291\n",
      "Epoch 23/100\n",
      "8/8 [==============================] - 0s 2ms/step - loss: 2.4950 - val_loss: 2.7217\n",
      "Epoch 24/100\n",
      "8/8 [==============================] - 0s 2ms/step - loss: 2.3948 - val_loss: 2.6260\n",
      "Epoch 25/100\n",
      "8/8 [==============================] - 0s 2ms/step - loss: 2.3213 - val_loss: 2.5391\n",
      "Epoch 26/100\n",
      "8/8 [==============================] - 0s 2ms/step - loss: 2.2515 - val_loss: 2.4899\n",
      "Epoch 27/100\n",
      "8/8 [==============================] - 0s 3ms/step - loss: 2.1930 - val_loss: 2.4862\n",
      "Epoch 28/100\n",
      "8/8 [==============================] - 0s 3ms/step - loss: 2.1441 - val_loss: 2.3859\n",
      "Epoch 29/100\n",
      "8/8 [==============================] - 0s 3ms/step - loss: 2.0971 - val_loss: 2.3280\n",
      "Epoch 30/100\n",
      "8/8 [==============================] - 0s 3ms/step - loss: 2.0662 - val_loss: 2.3695\n",
      "Epoch 31/100\n",
      "8/8 [==============================] - 0s 2ms/step - loss: 2.0364 - val_loss: 2.2992\n",
      "Epoch 32/100\n",
      "8/8 [==============================] - 0s 2ms/step - loss: 2.0340 - val_loss: 2.2262\n",
      "Epoch 33/100\n",
      "8/8 [==============================] - 0s 2ms/step - loss: 1.9984 - val_loss: 2.3711\n",
      "Epoch 34/100\n",
      "8/8 [==============================] - 0s 2ms/step - loss: 1.9698 - val_loss: 2.2408\n",
      "Epoch 35/100\n",
      "8/8 [==============================] - 0s 2ms/step - loss: 1.9621 - val_loss: 2.2283\n",
      "Epoch 36/100\n",
      "8/8 [==============================] - 0s 2ms/step - loss: 1.9324 - val_loss: 2.2111\n",
      "Epoch 37/100\n",
      "8/8 [==============================] - 0s 3ms/step - loss: 1.9196 - val_loss: 2.2392\n",
      "Epoch 38/100\n",
      "8/8 [==============================] - 0s 3ms/step - loss: 1.9136 - val_loss: 2.1952\n",
      "Epoch 39/100\n",
      "8/8 [==============================] - 0s 2ms/step - loss: 1.9059 - val_loss: 2.1983\n",
      "Epoch 40/100\n",
      "8/8 [==============================] - 0s 2ms/step - loss: 1.8960 - val_loss: 2.1768\n",
      "Epoch 41/100\n",
      "8/8 [==============================] - 0s 2ms/step - loss: 1.8895 - val_loss: 2.1794\n",
      "Epoch 42/100\n",
      "8/8 [==============================] - 0s 3ms/step - loss: 1.8780 - val_loss: 2.1538\n",
      "Epoch 43/100\n",
      "8/8 [==============================] - 0s 3ms/step - loss: 1.8845 - val_loss: 2.1922\n",
      "Epoch 44/100\n",
      "8/8 [==============================] - 0s 2ms/step - loss: 1.8758 - val_loss: 2.2830\n",
      "Epoch 45/100\n",
      "8/8 [==============================] - 0s 2ms/step - loss: 1.8967 - val_loss: 2.1116\n",
      "Epoch 46/100\n",
      "8/8 [==============================] - 0s 2ms/step - loss: 1.8861 - val_loss: 2.2252\n",
      "Epoch 47/100\n",
      "8/8 [==============================] - 0s 2ms/step - loss: 1.8433 - val_loss: 2.2101\n",
      "Epoch 48/100\n",
      "8/8 [==============================] - 0s 3ms/step - loss: 1.8387 - val_loss: 2.1123\n",
      "Epoch 49/100\n",
      "8/8 [==============================] - 0s 2ms/step - loss: 1.8183 - val_loss: 2.1766\n",
      "Epoch 50/100\n",
      "8/8 [==============================] - 0s 2ms/step - loss: 1.8125 - val_loss: 2.1916\n",
      "Epoch 51/100\n",
      "8/8 [==============================] - 0s 2ms/step - loss: 1.8097 - val_loss: 2.1922\n",
      "Epoch 52/100\n",
      "8/8 [==============================] - 0s 2ms/step - loss: 1.8108 - val_loss: 2.1615\n",
      "Epoch 53/100\n",
      "8/8 [==============================] - 0s 2ms/step - loss: 1.7989 - val_loss: 2.1760\n",
      "Epoch 54/100\n",
      "8/8 [==============================] - 0s 2ms/step - loss: 1.8078 - val_loss: 2.1286\n",
      "Epoch 55/100\n",
      "8/8 [==============================] - 0s 2ms/step - loss: 1.7949 - val_loss: 2.1344\n",
      "Epoch 56/100\n",
      "8/8 [==============================] - 0s 2ms/step - loss: 1.7891 - val_loss: 2.1572\n",
      "Epoch 57/100\n",
      "8/8 [==============================] - 0s 2ms/step - loss: 1.7894 - val_loss: 2.1719\n",
      "Epoch 58/100\n",
      "8/8 [==============================] - 0s 2ms/step - loss: 1.7547 - val_loss: 2.1515\n",
      "Epoch 59/100\n",
      "8/8 [==============================] - 0s 2ms/step - loss: 1.7646 - val_loss: 2.1498\n",
      "Epoch 60/100\n",
      "8/8 [==============================] - 0s 2ms/step - loss: 1.7477 - val_loss: 2.1418\n",
      "Epoch 61/100\n",
      "8/8 [==============================] - 0s 2ms/step - loss: 1.7576 - val_loss: 2.1303\n",
      "Epoch 62/100\n",
      "8/8 [==============================] - 0s 3ms/step - loss: 1.7583 - val_loss: 2.1164\n",
      "Epoch 63/100\n",
      "8/8 [==============================] - 0s 2ms/step - loss: 1.7461 - val_loss: 2.1910\n",
      "Epoch 64/100\n",
      "8/8 [==============================] - 0s 2ms/step - loss: 1.7651 - val_loss: 2.0883\n",
      "Epoch 65/100\n",
      "8/8 [==============================] - 0s 2ms/step - loss: 1.7427 - val_loss: 2.2343\n",
      "Epoch 66/100\n",
      "8/8 [==============================] - 0s 2ms/step - loss: 1.7465 - val_loss: 2.1042\n",
      "Epoch 67/100\n",
      "8/8 [==============================] - 0s 2ms/step - loss: 1.7236 - val_loss: 2.1110\n",
      "Epoch 68/100\n",
      "8/8 [==============================] - 0s 3ms/step - loss: 1.7262 - val_loss: 2.1176\n",
      "Epoch 69/100\n",
      "8/8 [==============================] - 0s 2ms/step - loss: 1.7080 - val_loss: 2.1107\n",
      "Epoch 70/100\n",
      "8/8 [==============================] - 0s 2ms/step - loss: 1.7020 - val_loss: 2.1221\n",
      "Epoch 71/100\n",
      "8/8 [==============================] - 0s 2ms/step - loss: 1.7060 - val_loss: 2.1130\n",
      "Epoch 72/100\n",
      "8/8 [==============================] - 0s 2ms/step - loss: 1.6995 - val_loss: 2.0799\n",
      "Epoch 73/100\n",
      "8/8 [==============================] - 0s 2ms/step - loss: 1.6980 - val_loss: 2.1277\n",
      "Epoch 74/100\n",
      "8/8 [==============================] - 0s 2ms/step - loss: 1.6796 - val_loss: 2.0799\n",
      "Epoch 75/100\n",
      "8/8 [==============================] - 0s 2ms/step - loss: 1.7044 - val_loss: 2.1374\n",
      "Epoch 76/100\n",
      "8/8 [==============================] - 0s 2ms/step - loss: 1.7139 - val_loss: 2.0943\n",
      "Epoch 77/100\n",
      "8/8 [==============================] - 0s 2ms/step - loss: 1.6794 - val_loss: 2.1015\n",
      "Epoch 78/100\n",
      "8/8 [==============================] - 0s 2ms/step - loss: 1.6685 - val_loss: 2.0955\n",
      "Epoch 79/100\n",
      "8/8 [==============================] - 0s 2ms/step - loss: 1.6745 - val_loss: 2.0879\n",
      "Epoch 80/100\n",
      "8/8 [==============================] - 0s 2ms/step - loss: 1.6623 - val_loss: 2.1424\n",
      "Epoch 81/100\n",
      "8/8 [==============================] - 0s 2ms/step - loss: 1.6608 - val_loss: 2.0408\n",
      "Epoch 82/100\n",
      "8/8 [==============================] - 0s 2ms/step - loss: 1.6622 - val_loss: 2.0984\n",
      "Epoch 83/100\n",
      "8/8 [==============================] - 0s 2ms/step - loss: 1.6607 - val_loss: 2.1046\n",
      "Epoch 84/100\n"
     ]
    },
    {
     "name": "stdout",
     "output_type": "stream",
     "text": [
      "8/8 [==============================] - 0s 2ms/step - loss: 1.6585 - val_loss: 2.0665\n",
      "Epoch 85/100\n",
      "8/8 [==============================] - 0s 2ms/step - loss: 1.6509 - val_loss: 2.0839\n",
      "Epoch 86/100\n",
      "8/8 [==============================] - 0s 2ms/step - loss: 1.6416 - val_loss: 2.1081\n",
      "Epoch 87/100\n",
      "8/8 [==============================] - 0s 2ms/step - loss: 1.6479 - val_loss: 2.0681\n",
      "Epoch 88/100\n",
      "8/8 [==============================] - 0s 2ms/step - loss: 1.6331 - val_loss: 2.0617\n",
      "Epoch 89/100\n",
      "8/8 [==============================] - 0s 2ms/step - loss: 1.6521 - val_loss: 2.0647\n",
      "Epoch 90/100\n",
      "8/8 [==============================] - 0s 2ms/step - loss: 1.6594 - val_loss: 2.0937\n",
      "Epoch 91/100\n",
      "8/8 [==============================] - 0s 2ms/step - loss: 1.6246 - val_loss: 2.0707\n",
      "Epoch 92/100\n",
      "8/8 [==============================] - 0s 2ms/step - loss: 1.6388 - val_loss: 2.0752\n",
      "Epoch 93/100\n",
      "8/8 [==============================] - 0s 2ms/step - loss: 1.6133 - val_loss: 2.0671\n",
      "Epoch 94/100\n",
      "8/8 [==============================] - 0s 3ms/step - loss: 1.6243 - val_loss: 2.0966\n",
      "Epoch 95/100\n",
      "8/8 [==============================] - 0s 2ms/step - loss: 1.6133 - val_loss: 2.0281\n",
      "Epoch 96/100\n",
      "8/8 [==============================] - 0s 2ms/step - loss: 1.6246 - val_loss: 2.0795\n",
      "Epoch 97/100\n",
      "8/8 [==============================] - 0s 2ms/step - loss: 1.6097 - val_loss: 2.0521\n",
      "Epoch 98/100\n",
      "8/8 [==============================] - 0s 2ms/step - loss: 1.6028 - val_loss: 2.0637\n",
      "Epoch 99/100\n",
      "8/8 [==============================] - 0s 2ms/step - loss: 1.5948 - val_loss: 2.0607\n",
      "Epoch 100/100\n",
      "8/8 [==============================] - 0s 2ms/step - loss: 1.5940 - val_loss: 2.0659\n"
     ]
    }
   ],
   "source": [
    "history = dnn_model.fit(train_features,\n",
    "                       train_labels,\n",
    "                       validation_split=0.2,\n",
    "                       verbose=1,\n",
    "                       epochs=100)"
   ]
  },
  {
   "cell_type": "code",
   "execution_count": 55,
   "id": "bc37a5be",
   "metadata": {},
   "outputs": [
    {
     "data": {
      "image/png": "[encoded data removed]",
      "text/plain": [
       "<Figure size 432x288 with 1 Axes>"
      ]
     },
     "metadata": {
      "needs_background": "light"
     },
     "output_type": "display_data"
    }
   ],
   "source": [
    "plot_loss(history)"
   ]
  },
  {
   "cell_type": "code",
   "execution_count": 57,
   "id": "a48c9c26",
   "metadata": {},
   "outputs": [
    {
     "name": "stdout",
     "output_type": "stream",
     "text": [
      "3/3 [==============================] - 0s 869us/step - loss: 1.7236\n"
     ]
    }
   ],
   "source": [
    "test_results['dnn_model'] = dnn_model.evaluate(test_features, test_labels, verbose=1)"
   ]
  },
  {
   "cell_type": "markdown",
   "id": "659f4d17",
   "metadata": {},
   "source": [
    "## Performance"
   ]
  },
  {
   "cell_type": "code",
   "execution_count": 58,
   "id": "86a65343",
   "metadata": {},
   "outputs": [
    {
     "data": {
      "text/html": [
       "<div>\n",
       "<style scoped>\n",
       "    .dataframe tbody tr th:only-of-type {\n",
       "        vertical-align: middle;\n",
       "    }\n",
       "\n",
       "    .dataframe tbody tr th {\n",
       "        vertical-align: top;\n",
       "    }\n",
       "\n",
       "    .dataframe thead th {\n",
       "        text-align: right;\n",
       "    }\n",
       "</style>\n",
       "<table border=\"1\" class=\"dataframe\">\n",
       "  <thead>\n",
       "    <tr style=\"text-align: right;\">\n",
       "      <th></th>\n",
       "      <th>Mean absolute error [MPG]</th>\n",
       "    </tr>\n",
       "  </thead>\n",
       "  <tbody>\n",
       "    <tr>\n",
       "      <th>horsepower_model</th>\n",
       "      <td>3.653322</td>\n",
       "    </tr>\n",
       "    <tr>\n",
       "      <th>linear_mode</th>\n",
       "      <td>2.568887</td>\n",
       "    </tr>\n",
       "    <tr>\n",
       "      <th>dnn_horsepower_model</th>\n",
       "      <td>2.918909</td>\n",
       "    </tr>\n",
       "    <tr>\n",
       "      <th>dnn_model</th>\n",
       "      <td>1.723599</td>\n",
       "    </tr>\n",
       "  </tbody>\n",
       "</table>\n",
       "</div>"
      ],
      "text/plain": [
       "                      Mean absolute error [MPG]\n",
       "horsepower_model                       3.653322\n",
       "linear_mode                            2.568887\n",
       "dnn_horsepower_model                   2.918909\n",
       "dnn_model                              1.723599"
      ]
     },
     "execution_count": 58,
     "metadata": {},
     "output_type": "execute_result"
    }
   ],
   "source": [
    "pd.DataFrame(test_results, index=['Mean absolute error [MPG]']).T"
   ]
  },
  {
   "cell_type": "code",
   "execution_count": 59,
   "id": "f01135e1",
   "metadata": {},
   "outputs": [],
   "source": [
    "test_predictions = dnn_model.predict(test_features).flatten()"
   ]
  },
  {
   "cell_type": "code",
   "execution_count": 63,
   "id": "d1589eee",
   "metadata": {},
   "outputs": [
    {
     "data": {
      "image/png": "[encoded data removed]",
      "text/plain": [
       "<Figure size 432x288 with 1 Axes>"
      ]
     },
     "metadata": {
      "needs_background": "light"
     },
     "output_type": "display_data"
    }
   ],
   "source": [
    "a = plt.axes(aspect='equal')\n",
    "plt.scatter(test_labels, test_predictions)\n",
    "plt.xlabel('True Values [MPG]', color='white')\n",
    "plt.ylabel('Predicted Values [MPG]', color='white')\n",
    "lims = [0, 50]\n",
    "plt.xlim(lims)\n",
    "plt.ylim(lims)\n",
    "\n",
    "_ = plt.plot(lims, lims)"
   ]
  },
  {
   "cell_type": "markdown",
   "id": "397714ed",
   "metadata": {},
   "source": [
    "The model predicts reasonably well."
   ]
  },
  {
   "cell_type": "code",
   "execution_count": 75,
   "id": "9154b53c",
   "metadata": {},
   "outputs": [
    {
     "data": {
      "image/png": "[encoded data removed]",
      "text/plain": [
       "<Figure size 432x288 with 1 Axes>"
      ]
     },
     "metadata": {
      "needs_background": "light"
     },
     "output_type": "display_data"
    }
   ],
   "source": [
    "error = test_predictions - test_labels\n",
    "plt.hist(error, bins=30)\n",
    "plt.xlabel('Prediction Error [MPG]', color='white')\n",
    "\n",
    "_ = plt.ylabel('Count', color='white')"
   ]
  },
  {
   "cell_type": "code",
   "execution_count": 76,
   "id": "a0b4afdf",
   "metadata": {},
   "outputs": [
    {
     "name": "stdout",
     "output_type": "stream",
     "text": [
      "INFO:tensorflow:Assets written to: dnn_model/assets\n"
     ]
    },
    {
     "name": "stderr",
     "output_type": "stream",
     "text": [
      "2022-11-25 15:45:12.924197: W tensorflow/python/util/util.cc:368] Sets are not currently considered sequences, but this may change in the future, so consider avoiding using them.\n"
     ]
    }
   ],
   "source": [
    "dnn_model.save('dnn_model')"
   ]
  },
  {
   "cell_type": "code",
   "execution_count": 77,
   "id": "940988de",
   "metadata": {},
   "outputs": [
    {
     "name": "stdout",
     "output_type": "stream",
     "text": [
      "3/3 [==============================] - 0s 1ms/step - loss: 1.7236\n"
     ]
    }
   ],
   "source": [
    "reloaded = tf.keras.models.load_model('dnn_model')\n",
    "\n",
    "test_results['reloaded'] = reloaded.evaluate(test_features,\n",
    "                                            test_labels, verbose=1)"
   ]
  },
  {
   "cell_type": "code",
   "execution_count": 79,
   "id": "15e519be",
   "metadata": {},
   "outputs": [
    {
     "data": {
      "text/html": [
       "<div>\n",
       "<style scoped>\n",
       "    .dataframe tbody tr th:only-of-type {\n",
       "        vertical-align: middle;\n",
       "    }\n",
       "\n",
       "    .dataframe tbody tr th {\n",
       "        vertical-align: top;\n",
       "    }\n",
       "\n",
       "    .dataframe thead th {\n",
       "        text-align: right;\n",
       "    }\n",
       "</style>\n",
       "<table border=\"1\" class=\"dataframe\">\n",
       "  <thead>\n",
       "    <tr style=\"text-align: right;\">\n",
       "      <th></th>\n",
       "      <th>Mean absolute error [MPG]</th>\n",
       "    </tr>\n",
       "  </thead>\n",
       "  <tbody>\n",
       "    <tr>\n",
       "      <th>horsepower_model</th>\n",
       "      <td>3.653322</td>\n",
       "    </tr>\n",
       "    <tr>\n",
       "      <th>linear_mode</th>\n",
       "      <td>2.568887</td>\n",
       "    </tr>\n",
       "    <tr>\n",
       "      <th>dnn_horsepower_model</th>\n",
       "      <td>2.918909</td>\n",
       "    </tr>\n",
       "    <tr>\n",
       "      <th>dnn_model</th>\n",
       "      <td>1.723599</td>\n",
       "    </tr>\n",
       "    <tr>\n",
       "      <th>reloaded</th>\n",
       "      <td>1.723599</td>\n",
       "    </tr>\n",
       "  </tbody>\n",
       "</table>\n",
       "</div>"
      ],
      "text/plain": [
       "                      Mean absolute error [MPG]\n",
       "horsepower_model                       3.653322\n",
       "linear_mode                            2.568887\n",
       "dnn_horsepower_model                   2.918909\n",
       "dnn_model                              1.723599\n",
       "reloaded                               1.723599"
      ]
     },
     "execution_count": 79,
     "metadata": {},
     "output_type": "execute_result"
    }
   ],
   "source": [
    "pd.DataFrame(test_results, index=['Mean absolute error [MPG]']).T"
   ]
  },
  {
   "cell_type": "markdown",
   "id": "7ef8c3db",
   "metadata": {},
   "source": [
    "# Conclusion\n",
    "- **Mean squared error (MSE)** (`tf.keras.losses.MeanSquaredError`) and **mean absolute error (MAE)** (`tf.keras.losses.MeanAbsoluteError`) are common loss functions used for regression problems. MAE is less sensitive to outliers. Different loss functions are used for classification problems.\n",
    "- Similarly, evaluation metrics used for regression differ from classification.\n",
    "- When numeric input data features have values with different ranges, each feature should be scaled independently to the same range.\n",
    "- Overfitting is a common problem for DNN models, though it wasn't a problem for this tutorial."
   ]
  },
  {
   "cell_type": "code",
   "execution_count": null,
   "id": "3f12e716",
   "metadata": {},
   "outputs": [],
   "source": []
  }
 ],
 "metadata": {
  "kernelspec": {
   "display_name": "mlenv",
   "language": "python",
   "name": "mlenv"
  },
  "language_info": {
   "codemirror_mode": {
    "name": "ipython",
    "version": 3
   },
   "file_extension": ".py",
   "mimetype": "text/x-python",
   "name": "python",
   "nbconvert_exporter": "python",
   "pygments_lexer": "ipython3",
   "version": "3.7.0"
  }
 },
 "nbformat": 4,
 "nbformat_minor": 5
}
