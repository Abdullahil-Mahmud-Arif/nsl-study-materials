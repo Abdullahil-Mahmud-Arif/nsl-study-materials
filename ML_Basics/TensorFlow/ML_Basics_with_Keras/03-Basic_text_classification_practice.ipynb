{
 "cells": [
  {
   "cell_type": "code",
   "execution_count": 29,
   "id": "98545144",
   "metadata": {},
   "outputs": [
    {
     "name": "stdout",
     "output_type": "stream",
     "text": [
      "2.10.0\n"
     ]
    }
   ],
   "source": [
    "import matplotlib.pyplot as plt\n",
    "import os\n",
    "import re\n",
    "import shutil\n",
    "import string\n",
    "import tensorflow as tf\n",
    "\n",
    "from tensorflow.keras import layers, losses\n",
    "\n",
    "print(tf.__version__)"
   ]
  },
  {
   "cell_type": "raw",
   "id": "95fb2f58",
   "metadata": {},
   "source": [
    "url = \"https://storage.googleapis.com/download.tensorflow.org/data/stack_overflow_16k.tar.gz\"\n",
    "\n",
    "dataset = tf.keras.utils.get_file(\"stack_overflow_16k\", url,\n",
    "                                 untar=True, cache_dir='.',\n",
    "                                 cache_subdir='')\n",
    "\n",
    "dataset_dir = os.path.join(os.path.dirname(dataset), 'stack_overflow_16k')"
   ]
  },
  {
   "cell_type": "code",
   "execution_count": 30,
   "id": "7ef47243",
   "metadata": {},
   "outputs": [],
   "source": [
    "dataset = '/home/nsl54/jupyter/ML_Basics/Tensorflow/ML_Basics_with_Keras/stack_overflow_16k'\n",
    "dataset_dir = os.path.join(os.path.dirname(dataset), 'stack_overflow_16k')"
   ]
  },
  {
   "cell_type": "code",
   "execution_count": 31,
   "id": "5e9d8ba5",
   "metadata": {},
   "outputs": [
    {
     "data": {
      "text/plain": [
       "['java', 'csharp', 'python', 'javascript']"
      ]
     },
     "execution_count": 31,
     "metadata": {},
     "output_type": "execute_result"
    }
   ],
   "source": [
    "train_dir = os.path.join(dataset_dir, 'train')\n",
    "os.listdir(train_dir)"
   ]
  },
  {
   "cell_type": "code",
   "execution_count": 32,
   "id": "8522ecb2",
   "metadata": {},
   "outputs": [
    {
     "name": "stdout",
     "output_type": "stream",
     "text": [
      "\"float rounding problems in blank amount = 0.002638309660058967.price = 1392.18..lowest_ask = 1391.6..result = price*amount/lowest_ask..print(result)...the above code will print out:..0.002639409271731024...however when i perform the calculation here: http://web2.0calc.com/.it gives me: 0.0026394092717310237698..so obviously blank is rounding up the result of this calculation......my question is, how do you prevent blank from rounding up result? i.e. i want result to be: 0.002639409271731023\"\n",
      "\n"
     ]
    }
   ],
   "source": [
    "sample_file = os.path.join(train_dir, 'python/15.txt')\n",
    "with open(sample_file) as f:\n",
    "    print(f.read())"
   ]
  },
  {
   "cell_type": "code",
   "execution_count": 33,
   "id": "c1d4bb9d",
   "metadata": {},
   "outputs": [
    {
     "name": "stdout",
     "output_type": "stream",
     "text": [
      "Found 8000 files belonging to 4 classes.\n",
      "Using 6400 files for training.\n"
     ]
    }
   ],
   "source": [
    "batch_size = 32\n",
    "seed = 42\n",
    "\n",
    "raw_train_ds = tf.keras.utils.text_dataset_from_directory('stack_overflow_16k/train',\n",
    "                                                         batch_size=batch_size,\n",
    "                                                         validation_split=0.2,\n",
    "                                                         subset='training',\n",
    "                                                         seed=seed)"
   ]
  },
  {
   "cell_type": "code",
   "execution_count": 34,
   "id": "f11cc4d3",
   "metadata": {},
   "outputs": [
    {
     "data": {
      "text/plain": [
       "['csharp', 'java', 'javascript', 'python']"
      ]
     },
     "execution_count": 34,
     "metadata": {},
     "output_type": "execute_result"
    }
   ],
   "source": [
    "raw_train_ds.class_names"
   ]
  },
  {
   "cell_type": "code",
   "execution_count": 35,
   "id": "79ee97e8",
   "metadata": {},
   "outputs": [
    {
     "name": "stdout",
     "output_type": "stream",
     "text": [
      "Label 0 corresponds to csharp\n",
      "Label 1 corresponds to java\n",
      "Label 2 corresponds to javascript\n",
      "Label 3 corresponds to python\n"
     ]
    }
   ],
   "source": [
    "print(\"Label 0 corresponds to\", raw_train_ds.class_names[0])\n",
    "print(\"Label 1 corresponds to\", raw_train_ds.class_names[1])\n",
    "print(\"Label 2 corresponds to\", raw_train_ds.class_names[2])\n",
    "print(\"Label 3 corresponds to\", raw_train_ds.class_names[3])"
   ]
  },
  {
   "cell_type": "code",
   "execution_count": 36,
   "id": "6e4d566f",
   "metadata": {},
   "outputs": [
    {
     "name": "stdout",
     "output_type": "stream",
     "text": [
      "Found 8000 files belonging to 4 classes.\n",
      "Using 1600 files for validation.\n"
     ]
    }
   ],
   "source": [
    "raw_val_ds = tf.keras.utils.text_dataset_from_directory('stack_overflow_16k/train',\n",
    "                                                       batch_size=batch_size,\n",
    "                                                       validation_split=0.2,\n",
    "                                                       subset='validation',\n",
    "                                                       seed=seed)"
   ]
  },
  {
   "cell_type": "code",
   "execution_count": 37,
   "id": "82c07852",
   "metadata": {},
   "outputs": [
    {
     "name": "stdout",
     "output_type": "stream",
     "text": [
      "Found 8000 files belonging to 4 classes.\n"
     ]
    }
   ],
   "source": [
    "raw_test_ds = tf.keras.utils.text_dataset_from_directory('stack_overflow_16k/test',\n",
    "                                                        batch_size=batch_size)"
   ]
  },
  {
   "cell_type": "code",
   "execution_count": 38,
   "id": "d909a544",
   "metadata": {},
   "outputs": [],
   "source": [
    "def custom_standardization(input_data):\n",
    "    lowercase = tf.strings.lower(input_data)\n",
    "    stripped_html = tf.strings.regex_replace(lowercase, '<br />', ' ')\n",
    "    return tf.strings.regex_replace(stripped_html,\n",
    "                                   '[%s]' % re.escape(string.punctuation),\n",
    "                                   '')"
   ]
  },
  {
   "cell_type": "code",
   "execution_count": 39,
   "id": "78a2ad57",
   "metadata": {},
   "outputs": [],
   "source": [
    "max_features = 10000\n",
    "sequence_length = 250\n",
    "\n",
    "vectorize_layer = layers.TextVectorization(standardize=custom_standardization,\n",
    "                                          max_tokens=max_features,\n",
    "                                          output_mode='int',\n",
    "                                          output_sequence_length=sequence_length)"
   ]
  },
  {
   "cell_type": "code",
   "execution_count": 40,
   "id": "79fccccf",
   "metadata": {},
   "outputs": [],
   "source": [
    "train_text = raw_train_ds.map(lambda x,y:x)\n",
    "vectorize_layer.adapt(train_text)"
   ]
  },
  {
   "cell_type": "code",
   "execution_count": 41,
   "id": "8615db2b",
   "metadata": {},
   "outputs": [],
   "source": [
    "def vectorize_text(text, label):\n",
    "    text = tf.expand_dims(text, -1)\n",
    "    return vectorize_layer(text), label"
   ]
  },
  {
   "cell_type": "code",
   "execution_count": 42,
   "id": "8044ef7e",
   "metadata": {},
   "outputs": [
    {
     "name": "stdout",
     "output_type": "stream",
     "text": [
      "Review tf.Tensor(b'\"unit testing of setters and getters teacher wanted us to do a comprehensive unit test. for me, this will be the first time that i use junit. i am confused about testing set and get methods. do you think should i test them? if the answer is yes; is this code enough for testing?..  public void testsetandget(){.    int a = 10;.    class firstclass = new class();.    firstclass.setvalue(10);.    int value = firstclass.getvalue();.    assert.asserttrue(\"\"error\"\", value==a);.  }...in my code, i think if there is an error, we can\\'t know that the error is deriving because of setter or getter.\"\\n', shape=(), dtype=string)\n",
      "Label java\n",
      "Vectorized review (<tf.Tensor: shape=(1, 250), dtype=int64, numpy=\n",
      "array([[1011,  773,    9, 2456,    8, 1863, 2362,  690, 1267,    4,   40,\n",
      "           5,    1, 1011,  196,   12,   74,   13,   72,   33,    2,   98,\n",
      "         105,   14,    3,   70, 9611,    3,   34,  888,  202,  773,  107,\n",
      "           8,   41,  242,   40,   58,  291,   90,    3,  196,  191,   10,\n",
      "           2,  182,    6,  668,    6,   13,   30, 1187,   12,  773,   22,\n",
      "          42,    1,   28,    5,  140,   29, 5213,   15,   29,    1,   28,\n",
      "          51,    1,    1,    1,    7,   23,   30,    3,  291,   10,   67,\n",
      "           6,   32,   65,  185,  166,  102,   14,    2,   65,    6,    1,\n",
      "         193,    9, 2784,   45, 2410,    0,    0,    0,    0,    0,    0,\n",
      "           0,    0,    0,    0,    0,    0,    0,    0,    0,    0,    0,\n",
      "           0,    0,    0,    0,    0,    0,    0,    0,    0,    0,    0,\n",
      "           0,    0,    0,    0,    0,    0,    0,    0,    0,    0,    0,\n",
      "           0,    0,    0,    0,    0,    0,    0,    0,    0,    0,    0,\n",
      "           0,    0,    0,    0,    0,    0,    0,    0,    0,    0,    0,\n",
      "           0,    0,    0,    0,    0,    0,    0,    0,    0,    0,    0,\n",
      "           0,    0,    0,    0,    0,    0,    0,    0,    0,    0,    0,\n",
      "           0,    0,    0,    0,    0,    0,    0,    0,    0,    0,    0,\n",
      "           0,    0,    0,    0,    0,    0,    0,    0,    0,    0,    0,\n",
      "           0,    0,    0,    0,    0,    0,    0,    0,    0,    0,    0,\n",
      "           0,    0,    0,    0,    0,    0,    0,    0,    0,    0,    0,\n",
      "           0,    0,    0,    0,    0,    0,    0,    0,    0,    0,    0,\n",
      "           0,    0,    0,    0,    0,    0,    0,    0,    0,    0,    0,\n",
      "           0,    0,    0,    0,    0,    0,    0,    0]])>, <tf.Tensor: shape=(), dtype=int32, numpy=1>)\n"
     ]
    }
   ],
   "source": [
    "text_batch, label_batch = next(iter(raw_train_ds))\n",
    "first_review, first_label = text_batch[0], label_batch[0]\n",
    "print(\"Review\", first_review)\n",
    "print(\"Label\", raw_train_ds.class_names[first_label])\n",
    "print(\"Vectorized review\", vectorize_text(first_review, first_label))"
   ]
  },
  {
   "cell_type": "code",
   "execution_count": 43,
   "id": "2b3282cb",
   "metadata": {},
   "outputs": [
    {
     "name": "stdout",
     "output_type": "stream",
     "text": [
      "1287 --->  scissors\n",
      " 313 --->  source\n",
      "Vocabulary size: 10000\n"
     ]
    }
   ],
   "source": [
    "print(\"1287 ---> \",vectorize_layer.get_vocabulary()[1287])\n",
    "print(\" 313 ---> \",vectorize_layer.get_vocabulary()[313])\n",
    "print('Vocabulary size: {}'.format(len(vectorize_layer.get_vocabulary())))"
   ]
  },
  {
   "cell_type": "code",
   "execution_count": 44,
   "id": "d019f21a",
   "metadata": {},
   "outputs": [],
   "source": [
    "train_ds = raw_train_ds.map(vectorize_text)\n",
    "val_ds = raw_val_ds.map(vectorize_text)\n",
    "test_ds = raw_test_ds.map(vectorize_text)"
   ]
  },
  {
   "cell_type": "code",
   "execution_count": 45,
   "id": "e6cae6e8",
   "metadata": {},
   "outputs": [],
   "source": [
    "AUTOTUNE = tf.data.AUTOTUNE\n",
    "\n",
    "train_ds = train_ds.cache().prefetch(buffer_size=AUTOTUNE)\n",
    "val_ds = val_ds.cache().prefetch(buffer_size=AUTOTUNE)\n",
    "test_ds = test_ds.cache().prefetch(buffer_size=AUTOTUNE)"
   ]
  },
  {
   "cell_type": "code",
   "execution_count": 46,
   "id": "a7438508",
   "metadata": {},
   "outputs": [],
   "source": [
    "embedding_dim = 16"
   ]
  },
  {
   "cell_type": "code",
   "execution_count": 47,
   "id": "baa4ccfb",
   "metadata": {},
   "outputs": [
    {
     "name": "stdout",
     "output_type": "stream",
     "text": [
      "Model: \"sequential_2\"\n",
      "_________________________________________________________________\n",
      " Layer (type)                Output Shape              Param #   \n",
      "=================================================================\n",
      " embedding_1 (Embedding)     (None, None, 16)          160016    \n",
      "                                                                 \n",
      " dropout_2 (Dropout)         (None, None, 16)          0         \n",
      "                                                                 \n",
      " global_average_pooling1d_1   (None, 16)               0         \n",
      " (GlobalAveragePooling1D)                                        \n",
      "                                                                 \n",
      " dropout_3 (Dropout)         (None, 16)                0         \n",
      "                                                                 \n",
      " dense_1 (Dense)             (None, 4)                 68        \n",
      "                                                                 \n",
      "=================================================================\n",
      "Total params: 160,084\n",
      "Trainable params: 160,084\n",
      "Non-trainable params: 0\n",
      "_________________________________________________________________\n"
     ]
    }
   ],
   "source": [
    "model = tf.keras.Sequential([layers.Embedding(max_features+1, embedding_dim),\n",
    "                            layers.Dropout(0.2),\n",
    "                            layers.GlobalAveragePooling1D(),\n",
    "                            layers.Dropout(0.2),\n",
    "                            layers.Dense(4)])\n",
    "\n",
    "model.summary()"
   ]
  },
  {
   "cell_type": "code",
   "execution_count": 48,
   "id": "5c5de65f",
   "metadata": {},
   "outputs": [],
   "source": [
    "model.compile(loss=losses.SparseCategoricalCrossentropy(from_logits=True),\n",
    "             optimizer='adam',\n",
    "             metrics=['accuracy'])"
   ]
  },
  {
   "cell_type": "code",
   "execution_count": 49,
   "id": "4a3c6a47",
   "metadata": {
    "scrolled": true
   },
   "outputs": [
    {
     "name": "stdout",
     "output_type": "stream",
     "text": [
      "Epoch 1/50\n",
      "200/200 [==============================] - 1s 2ms/step - loss: 1.3774 - accuracy: 0.3450 - val_loss: 1.3656 - val_accuracy: 0.4731\n",
      "Epoch 2/50\n",
      "200/200 [==============================] - 0s 2ms/step - loss: 1.3486 - accuracy: 0.4641 - val_loss: 1.3264 - val_accuracy: 0.5169\n",
      "Epoch 3/50\n",
      "200/200 [==============================] - 0s 2ms/step - loss: 1.2990 - accuracy: 0.5181 - val_loss: 1.2677 - val_accuracy: 0.5650\n",
      "Epoch 4/50\n",
      "200/200 [==============================] - 0s 2ms/step - loss: 1.2298 - accuracy: 0.5684 - val_loss: 1.1947 - val_accuracy: 0.6094\n",
      "Epoch 5/50\n",
      "200/200 [==============================] - 0s 2ms/step - loss: 1.1550 - accuracy: 0.6159 - val_loss: 1.1204 - val_accuracy: 0.6475\n",
      "Epoch 6/50\n",
      "200/200 [==============================] - 0s 2ms/step - loss: 1.0797 - accuracy: 0.6612 - val_loss: 1.0499 - val_accuracy: 0.6819\n",
      "Epoch 7/50\n",
      "200/200 [==============================] - 0s 2ms/step - loss: 1.0111 - accuracy: 0.6942 - val_loss: 0.9861 - val_accuracy: 0.7031\n",
      "Epoch 8/50\n",
      "200/200 [==============================] - 0s 2ms/step - loss: 0.9461 - accuracy: 0.7211 - val_loss: 0.9299 - val_accuracy: 0.7219\n",
      "Epoch 9/50\n",
      "200/200 [==============================] - 0s 2ms/step - loss: 0.8891 - accuracy: 0.7389 - val_loss: 0.8810 - val_accuracy: 0.7331\n",
      "Epoch 10/50\n",
      "200/200 [==============================] - 0s 2ms/step - loss: 0.8399 - accuracy: 0.7531 - val_loss: 0.8372 - val_accuracy: 0.7519\n",
      "Epoch 11/50\n",
      "200/200 [==============================] - 0s 2ms/step - loss: 0.7948 - accuracy: 0.7730 - val_loss: 0.8002 - val_accuracy: 0.7613\n",
      "Epoch 12/50\n",
      "200/200 [==============================] - 0s 2ms/step - loss: 0.7546 - accuracy: 0.7806 - val_loss: 0.7671 - val_accuracy: 0.7663\n",
      "Epoch 13/50\n",
      "200/200 [==============================] - 0s 2ms/step - loss: 0.7181 - accuracy: 0.7945 - val_loss: 0.7386 - val_accuracy: 0.7719\n",
      "Epoch 14/50\n",
      "200/200 [==============================] - 0s 2ms/step - loss: 0.6890 - accuracy: 0.8009 - val_loss: 0.7130 - val_accuracy: 0.7750\n",
      "Epoch 15/50\n",
      "200/200 [==============================] - 0s 2ms/step - loss: 0.6555 - accuracy: 0.8091 - val_loss: 0.6902 - val_accuracy: 0.7887\n",
      "Epoch 16/50\n",
      "200/200 [==============================] - 0s 2ms/step - loss: 0.6312 - accuracy: 0.8184 - val_loss: 0.6706 - val_accuracy: 0.7906\n",
      "Epoch 17/50\n",
      "200/200 [==============================] - 0s 2ms/step - loss: 0.6042 - accuracy: 0.8248 - val_loss: 0.6517 - val_accuracy: 0.7981\n",
      "Epoch 18/50\n",
      "200/200 [==============================] - 0s 2ms/step - loss: 0.5826 - accuracy: 0.8342 - val_loss: 0.6350 - val_accuracy: 0.8000\n",
      "Epoch 19/50\n",
      "200/200 [==============================] - 0s 2ms/step - loss: 0.5609 - accuracy: 0.8380 - val_loss: 0.6205 - val_accuracy: 0.7981\n",
      "Epoch 20/50\n",
      "200/200 [==============================] - 0s 2ms/step - loss: 0.5420 - accuracy: 0.8430 - val_loss: 0.6062 - val_accuracy: 0.7994\n",
      "Epoch 21/50\n",
      "200/200 [==============================] - 0s 2ms/step - loss: 0.5243 - accuracy: 0.8514 - val_loss: 0.5940 - val_accuracy: 0.8000\n",
      "Epoch 22/50\n",
      "200/200 [==============================] - 0s 2ms/step - loss: 0.5040 - accuracy: 0.8580 - val_loss: 0.5827 - val_accuracy: 0.8056\n",
      "Epoch 23/50\n",
      "200/200 [==============================] - 0s 2ms/step - loss: 0.4868 - accuracy: 0.8630 - val_loss: 0.5719 - val_accuracy: 0.8050\n",
      "Epoch 24/50\n",
      "200/200 [==============================] - 0s 2ms/step - loss: 0.4719 - accuracy: 0.8712 - val_loss: 0.5626 - val_accuracy: 0.8075\n",
      "Epoch 25/50\n",
      "200/200 [==============================] - 0s 2ms/step - loss: 0.4570 - accuracy: 0.8769 - val_loss: 0.5533 - val_accuracy: 0.8100\n",
      "Epoch 26/50\n",
      "200/200 [==============================] - 0s 2ms/step - loss: 0.4424 - accuracy: 0.8794 - val_loss: 0.5450 - val_accuracy: 0.8100\n",
      "Epoch 27/50\n",
      "200/200 [==============================] - 0s 2ms/step - loss: 0.4275 - accuracy: 0.8836 - val_loss: 0.5375 - val_accuracy: 0.8125\n",
      "Epoch 28/50\n",
      "200/200 [==============================] - 0s 2ms/step - loss: 0.4126 - accuracy: 0.8908 - val_loss: 0.5307 - val_accuracy: 0.8144\n",
      "Epoch 29/50\n",
      "200/200 [==============================] - 0s 2ms/step - loss: 0.4033 - accuracy: 0.8898 - val_loss: 0.5245 - val_accuracy: 0.8194\n",
      "Epoch 30/50\n",
      "200/200 [==============================] - 0s 2ms/step - loss: 0.3931 - accuracy: 0.8934 - val_loss: 0.5190 - val_accuracy: 0.8250\n",
      "Epoch 31/50\n",
      "200/200 [==============================] - 0s 2ms/step - loss: 0.3821 - accuracy: 0.8956 - val_loss: 0.5132 - val_accuracy: 0.8213\n",
      "Epoch 32/50\n",
      "200/200 [==============================] - 0s 2ms/step - loss: 0.3688 - accuracy: 0.9064 - val_loss: 0.5085 - val_accuracy: 0.8288\n",
      "Epoch 33/50\n",
      "200/200 [==============================] - 0s 2ms/step - loss: 0.3574 - accuracy: 0.9091 - val_loss: 0.5034 - val_accuracy: 0.8263\n",
      "Epoch 34/50\n",
      "200/200 [==============================] - 0s 2ms/step - loss: 0.3451 - accuracy: 0.9136 - val_loss: 0.4998 - val_accuracy: 0.8294\n",
      "Epoch 35/50\n",
      "200/200 [==============================] - 0s 2ms/step - loss: 0.3363 - accuracy: 0.9155 - val_loss: 0.4958 - val_accuracy: 0.8281\n",
      "Epoch 36/50\n",
      "200/200 [==============================] - 0s 2ms/step - loss: 0.3291 - accuracy: 0.9139 - val_loss: 0.4926 - val_accuracy: 0.8306\n",
      "Epoch 37/50\n",
      "200/200 [==============================] - 0s 2ms/step - loss: 0.3181 - accuracy: 0.9183 - val_loss: 0.4897 - val_accuracy: 0.8294\n",
      "Epoch 38/50\n",
      "200/200 [==============================] - 0s 2ms/step - loss: 0.3073 - accuracy: 0.9212 - val_loss: 0.4873 - val_accuracy: 0.8325\n",
      "Epoch 39/50\n",
      "200/200 [==============================] - 0s 2ms/step - loss: 0.2999 - accuracy: 0.9247 - val_loss: 0.4840 - val_accuracy: 0.8325\n",
      "Epoch 40/50\n",
      "200/200 [==============================] - 0s 2ms/step - loss: 0.2918 - accuracy: 0.9280 - val_loss: 0.4821 - val_accuracy: 0.8325\n",
      "Epoch 41/50\n",
      "200/200 [==============================] - 0s 2ms/step - loss: 0.2837 - accuracy: 0.9319 - val_loss: 0.4797 - val_accuracy: 0.8331\n",
      "Epoch 42/50\n",
      "200/200 [==============================] - 0s 2ms/step - loss: 0.2759 - accuracy: 0.9303 - val_loss: 0.4785 - val_accuracy: 0.8350\n",
      "Epoch 43/50\n",
      "200/200 [==============================] - 0s 2ms/step - loss: 0.2696 - accuracy: 0.9323 - val_loss: 0.4778 - val_accuracy: 0.8363\n",
      "Epoch 44/50\n",
      "200/200 [==============================] - 0s 2ms/step - loss: 0.2603 - accuracy: 0.9373 - val_loss: 0.4753 - val_accuracy: 0.8331\n",
      "Epoch 45/50\n",
      "200/200 [==============================] - 0s 2ms/step - loss: 0.2555 - accuracy: 0.9355 - val_loss: 0.4735 - val_accuracy: 0.8356\n",
      "Epoch 46/50\n",
      "200/200 [==============================] - 0s 2ms/step - loss: 0.2444 - accuracy: 0.9427 - val_loss: 0.4734 - val_accuracy: 0.8331\n",
      "Epoch 47/50\n",
      "200/200 [==============================] - 0s 2ms/step - loss: 0.2422 - accuracy: 0.9420 - val_loss: 0.4728 - val_accuracy: 0.8363\n",
      "Epoch 48/50\n",
      "200/200 [==============================] - 0s 2ms/step - loss: 0.2333 - accuracy: 0.9431 - val_loss: 0.4730 - val_accuracy: 0.8381\n",
      "Epoch 49/50\n",
      "200/200 [==============================] - 0s 2ms/step - loss: 0.2262 - accuracy: 0.9459 - val_loss: 0.4720 - val_accuracy: 0.8344\n",
      "Epoch 50/50\n",
      "200/200 [==============================] - 0s 2ms/step - loss: 0.2228 - accuracy: 0.9459 - val_loss: 0.4721 - val_accuracy: 0.8356\n"
     ]
    }
   ],
   "source": [
    "epochs = 50\n",
    "history = model.fit(train_ds,\n",
    "                   validation_data=val_ds,\n",
    "                   epochs=epochs)"
   ]
  },
  {
   "cell_type": "code",
   "execution_count": 50,
   "id": "bdf3e303",
   "metadata": {},
   "outputs": [
    {
     "name": "stdout",
     "output_type": "stream",
     "text": [
      "250/250 [==============================] - 0s 1ms/step - loss: 0.5371 - accuracy: 0.8048\n",
      "Loss:  0.5371202826499939\n",
      "Accuracy:  0.8047500252723694\n"
     ]
    }
   ],
   "source": [
    "loss, accuracy = model.evaluate(test_ds)\n",
    "\n",
    "print(\"Loss: \", loss)\n",
    "print(\"Accuracy: \", accuracy)"
   ]
  },
  {
   "cell_type": "code",
   "execution_count": 51,
   "id": "01ae42b7",
   "metadata": {},
   "outputs": [
    {
     "data": {
      "text/plain": [
       "dict_keys(['loss', 'accuracy', 'val_loss', 'val_accuracy'])"
      ]
     },
     "execution_count": 51,
     "metadata": {},
     "output_type": "execute_result"
    }
   ],
   "source": [
    "history_dict = history.history\n",
    "history_dict.keys()"
   ]
  },
  {
   "cell_type": "code",
   "execution_count": 52,
   "id": "ebf10968",
   "metadata": {},
   "outputs": [
    {
     "data": {
      "image/png": "[encoded data removed]",
      "text/plain": [
       "<Figure size 432x288 with 1 Axes>"
      ]
     },
     "metadata": {
      "needs_background": "dark"
     },
     "output_type": "display_data"
    }
   ],
   "source": [
    "acc = history_dict['accuracy']\n",
    "val_acc = history_dict['val_accuracy']\n",
    "loss = history_dict['loss']\n",
    "val_loss = history_dict['val_loss']\n",
    "\n",
    "epochs = range(1, len(acc)+1)\n",
    "\n",
    "plt.plot(epochs, loss, 'go', label='Training loss')\n",
    "plt.plot(epochs, val_loss, 'r', label='Validation loss')\n",
    "\n",
    "plt.title('Training and Validation loss')\n",
    "plt.xlabel('Epochs', color='blue')\n",
    "plt.ylabel('Loss', color='blue')\n",
    "plt.xticks(color='white')\n",
    "plt.yticks(color='white')\n",
    "plt.legend()\n",
    "\n",
    "plt.show()"
   ]
  },
  {
   "cell_type": "code",
   "execution_count": 53,
   "id": "2870a52f",
   "metadata": {},
   "outputs": [
    {
     "data": {
      "image/png": "[encoded data removed]",
      "text/plain": [
       "<Figure size 432x288 with 1 Axes>"
      ]
     },
     "metadata": {
      "needs_background": "dark"
     },
     "output_type": "display_data"
    }
   ],
   "source": [
    "plt.plot(epochs, acc, 'go', label='Training acc')\n",
    "plt.plot(epochs, val_acc, 'r', label='Validation acc')\n",
    "plt.title('Training and validation accuracy')\n",
    "plt.xlabel('Epochs', color='blue')\n",
    "plt.ylabel('Accuracy', color='blue')\n",
    "plt.xticks(color='white')\n",
    "plt.yticks(color='white')\n",
    "plt.legend(loc='lower right')\n",
    "\n",
    "plt.show()"
   ]
  },
  {
   "cell_type": "code",
   "execution_count": 54,
   "id": "d49a432e",
   "metadata": {},
   "outputs": [
    {
     "name": "stdout",
     "output_type": "stream",
     "text": [
      "250/250 [==============================] - 1s 2ms/step - loss: 0.5371 - accuracy: 0.8048\n"
     ]
    },
    {
     "data": {
      "text/plain": [
       "0.8047500252723694"
      ]
     },
     "execution_count": 54,
     "metadata": {},
     "output_type": "execute_result"
    }
   ],
   "source": [
    "export_model = tf.keras.Sequential([\n",
    "    vectorize_layer,\n",
    "    model,\n",
    "    layers.Activation('sigmoid')\n",
    "])\n",
    "\n",
    "export_model.compile(loss=losses.SparseCategoricalCrossentropy(from_logits=False), optimizer='adam', metrics=['accuracy'])\n",
    "\n",
    "loss, accuracy = export_model.evaluate(raw_test_ds)\n",
    "accuracy"
   ]
  },
  {
   "cell_type": "code",
   "execution_count": 60,
   "id": "1afab8ac",
   "metadata": {},
   "outputs": [
    {
     "name": "stdout",
     "output_type": "stream",
     "text": [
      "1/1 [==============================] - 0s 21ms/step\n"
     ]
    },
    {
     "data": {
      "text/plain": [
       "array([[0.48148206, 0.3936382 , 0.586661  , 0.58735347],\n",
       "       [0.56144077, 0.48291948, 0.5413481 , 0.41205633],\n",
       "       [0.5544282 , 0.46631178, 0.49704915, 0.4791677 ],\n",
       "       [0.5164634 , 0.40477312, 0.6183862 , 0.4973743 ],\n",
       "       [0.6453568 , 0.70257527, 0.15742514, 0.42048633],\n",
       "       [0.4842587 , 0.36687997, 0.564769  , 0.6362463 ],\n",
       "       [0.54845166, 0.38054338, 0.67535657, 0.4353516 ],\n",
       "       [0.55389506, 0.43169743, 0.635882  , 0.40318787],\n",
       "       [0.6303903 , 0.46230748, 0.5067591 , 0.376184  ],\n",
       "       [0.5171735 , 0.5069878 , 0.5252213 , 0.45397773]], dtype=float32)"
      ]
     },
     "execution_count": 60,
     "metadata": {},
     "output_type": "execute_result"
    }
   ],
   "source": [
    "examples = [\n",
    "    \"netifaces module not found\",\n",
    "    \";\",\n",
    "    \"indentation error\",\n",
    "    \"adddlert is not defined\",\n",
    "    \"Exception in thread 'main' java.io.FileNotFoundException: /home/project/file_path (No such file or directory)\",\n",
    "    \"module 'tensorflow_datasets' has no attribute 'load'\",\n",
    "    \"java\",\n",
    "    \"html\",\n",
    "    \"struct\",\n",
    "    \"game\"\n",
    "\n",
    "]\n",
    "\n",
    "export_model.predict(examples)"
   ]
  },
  {
   "cell_type": "code",
   "execution_count": 64,
   "id": "494d1cb3",
   "metadata": {},
   "outputs": [
    {
     "data": {
      "text/plain": [
       "['csharp', 'java', 'javascript', 'python']"
      ]
     },
     "execution_count": 64,
     "metadata": {},
     "output_type": "execute_result"
    }
   ],
   "source": [
    "raw_train_ds.class_names"
   ]
  },
  {
   "cell_type": "code",
   "execution_count": null,
   "id": "673d2703",
   "metadata": {},
   "outputs": [],
   "source": []
  }
 ],
 "metadata": {
  "kernelspec": {
   "display_name": "mlenv",
   "language": "python",
   "name": "mlenv"
  },
  "language_info": {
   "codemirror_mode": {
    "name": "ipython",
    "version": 3
   },
   "file_extension": ".py",
   "mimetype": "text/x-python",
   "name": "python",
   "nbconvert_exporter": "python",
   "pygments_lexer": "ipython3",
   "version": "3.7.0"
  }
 },
 "nbformat": 4,
 "nbformat_minor": 5
}
