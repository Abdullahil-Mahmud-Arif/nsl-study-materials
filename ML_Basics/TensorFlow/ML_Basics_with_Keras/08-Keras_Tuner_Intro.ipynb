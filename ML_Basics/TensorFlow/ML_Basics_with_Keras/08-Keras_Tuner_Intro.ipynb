{
 "cells": [
  {
   "cell_type": "markdown",
   "id": "2bfe5228",
   "metadata": {},
   "source": [
    "# Keras Tuner\n",
    "\n",
    "The Keras Tuner is a library that helps to pick the optimal set of hyperparameters for a TensorFlow program. The process of selecting the right set of hyperparameters for machine learning (ML) application is called *hyperparameter tuning* or *hypertuning*.\n",
    "\n",
    "Hyperparameters are the variables that govern the training process and the topology of an ML model. These variables remain constant over the training process and directly impact the performance of an ML program. Hyperparameters are of two types:\n",
    "1. **Model hyperparameters** influence model selection such as the number and width of hidden layers\n",
    "2. **Algorithm hyperparameters** influence the speed and quality of the learning algorithm such as the learning rate for Stochastic Gradient Descent (SGD) and the number of nearest neighbors for a k Nearest Neighbors (KNN) classifier"
   ]
  },
  {
   "cell_type": "code",
   "execution_count": 1,
   "id": "8a7b2402",
   "metadata": {},
   "outputs": [
    {
     "name": "stderr",
     "output_type": "stream",
     "text": [
      "2022-11-30 16:56:21.962409: W tensorflow/stream_executor/platform/default/dso_loader.cc:64] Could not load dynamic library 'libcudart.so.11.0'; dlerror: libcudart.so.11.0: cannot open shared object file: No such file or directory\n",
      "2022-11-30 16:56:21.962422: I tensorflow/stream_executor/cuda/cudart_stub.cc:29] Ignore above cudart dlerror if you do not have a GPU set up on your machine.\n"
     ]
    }
   ],
   "source": [
    "import tensorflow as tf\n",
    "from tensorflow import keras\n",
    "import keras_tuner as kt"
   ]
  },
  {
   "cell_type": "code",
   "execution_count": 2,
   "id": "e126a6e6",
   "metadata": {},
   "outputs": [],
   "source": [
    "(img_train, label_train), (img_test, label_test) = keras.datasets.fashion_mnist.load_data()"
   ]
  },
  {
   "cell_type": "code",
   "execution_count": 3,
   "id": "64478a33",
   "metadata": {},
   "outputs": [],
   "source": [
    "img_train = img_train.astype('float32') / 255.0\n",
    "img_test = img_test.astype('float32') / 255"
   ]
  },
  {
   "cell_type": "markdown",
   "id": "29060d94",
   "metadata": {},
   "source": [
    "## Define model\n",
    "\n",
    "A hypermodel can be defined through two approaches:\n",
    "- By using a model builder function\n",
    "- By subclassing the `HyperModel` class of the keras tuner API\n",
    "\n",
    "Two pre-defined HyperModel classes - `HyperXception` and `HyperResNet` can be also used for computer vision applications"
   ]
  },
  {
   "cell_type": "code",
   "execution_count": 4,
   "id": "ad504595",
   "metadata": {},
   "outputs": [],
   "source": [
    "def model_builder(hp):\n",
    "    model = keras.Sequential()\n",
    "    model.add(keras.layers.Flatten(input_shape=(28, 28)))\n",
    "    \n",
    "    #Tune the number of units in the first Dense layer\n",
    "    #Choose an optimal value between 32-512\n",
    "    hp_units = hp.Int('units', min_value=32, max_value=512, step=32)\n",
    "    model.add(keras.layers.Dense(units=hp_units, activation='relu'))\n",
    "    model.add(keras.layers.Dense(10))\n",
    "    \n",
    "    #Tune learning rate (0.01, 0.001 or 0.0001)\n",
    "    hp_learning_rate = hp.Choice('learning_rate', values=[1e-2, 1e-3, 1e-4])\n",
    "    \n",
    "    model.compile(optimizer=keras.optimizers.Adam(learning_rate=hp_learning_rate),\n",
    "                 loss=keras.losses.SparseCategoricalCrossentropy(from_logits=True),\n",
    "                 metrics=['accuracy'])\n",
    "    \n",
    "    return model"
   ]
  },
  {
   "cell_type": "markdown",
   "id": "e095e5dd",
   "metadata": {},
   "source": [
    "## Instantiate the tuner and perform hypertuning\n",
    "\n",
    "The Keras Tuner has four tuners available - `RandomSearch`, `Hyperband`, `BayesianOptimization`, and `Sklearn`."
   ]
  },
  {
   "cell_type": "code",
   "execution_count": 5,
   "id": "9826aae4",
   "metadata": {},
   "outputs": [
    {
     "name": "stdout",
     "output_type": "stream",
     "text": [
      "INFO:tensorflow:Reloading Oracle from existing project my_dir/intro_to_kt/oracle.json\n",
      "INFO:tensorflow:Reloading Tuner from my_dir/intro_to_kt/tuner0.json\n"
     ]
    },
    {
     "name": "stderr",
     "output_type": "stream",
     "text": [
      "2022-11-30 16:56:23.367938: W tensorflow/stream_executor/platform/default/dso_loader.cc:64] Could not load dynamic library 'libcuda.so.1'; dlerror: libcuda.so.1: cannot open shared object file: No such file or directory\n",
      "2022-11-30 16:56:23.367969: W tensorflow/stream_executor/cuda/cuda_driver.cc:269] failed call to cuInit: UNKNOWN ERROR (303)\n",
      "2022-11-30 16:56:23.367983: I tensorflow/stream_executor/cuda/cuda_diagnostics.cc:156] kernel driver does not appear to be running on this host (nsl54): /proc/driver/nvidia/version does not exist\n",
      "2022-11-30 16:56:23.368112: I tensorflow/core/platform/cpu_feature_guard.cc:151] This TensorFlow binary is optimized with oneAPI Deep Neural Network Library (oneDNN) to use the following CPU instructions in performance-critical operations:  AVX2 AVX512F FMA\n",
      "To enable them in other operations, rebuild TensorFlow with the appropriate compiler flags.\n"
     ]
    }
   ],
   "source": [
    "tuner = kt.Hyperband(model_builder,\n",
    "                    objective='val_accuracy',\n",
    "                    max_epochs=10,\n",
    "                    factor=3,\n",
    "                    directory='my_dir',\n",
    "                    project_name='intro_to_kt')"
   ]
  },
  {
   "cell_type": "markdown",
   "id": "b09e7012",
   "metadata": {},
   "source": [
    "Hyperband determines the number of models to train in a bracket by computing 1 + logfactor(max_epochs) and rounding it up to the nearest integer."
   ]
  },
  {
   "cell_type": "code",
   "execution_count": 6,
   "id": "e0806aee",
   "metadata": {},
   "outputs": [],
   "source": [
    "stop_early = tf.keras.callbacks.EarlyStopping(monitor='val_loss', patience=5)"
   ]
  },
  {
   "cell_type": "code",
   "execution_count": 7,
   "id": "73a66b91",
   "metadata": {},
   "outputs": [
    {
     "name": "stdout",
     "output_type": "stream",
     "text": [
      "Trial 42 Complete [00h 00m 16s]\n",
      "val_accuracy: 0.8785833120346069\n",
      "\n",
      "Best val_accuracy So Far: 0.8910833597183228\n",
      "Total elapsed time: 00h 01m 56s\n",
      "INFO:tensorflow:Oracle triggered exit\n",
      "\n",
      "The hyperparameter search is complete. The optimal number of units in the first dendely-connected\n",
      "layer is 384 and the ooptimal learning rate for the optimizer is 0.001\n",
      "\n"
     ]
    }
   ],
   "source": [
    "tuner.search(img_train, label_train, epochs=50, validation_split=0.2, callbacks=[stop_early])\n",
    "\n",
    "#Get optimal Hyperparameter\n",
    "best_hps = tuner.get_best_hyperparameters(num_trials=1)[0]\n",
    "print(f\"\"\"\n",
    "The hyperparameter search is complete. The optimal number of units in the first dendely-connected\n",
    "layer is {best_hps.get('units')} and the ooptimal learning rate for the optimizer is {best_hps.get('learning_rate')}\n",
    "\"\"\")"
   ]
  },
  {
   "cell_type": "markdown",
   "id": "44547093",
   "metadata": {},
   "source": [
    "## train"
   ]
  },
  {
   "cell_type": "code",
   "execution_count": 8,
   "id": "0b731f26",
   "metadata": {
    "scrolled": true
   },
   "outputs": [
    {
     "name": "stdout",
     "output_type": "stream",
     "text": [
      "Epoch 1/50\n",
      "1500/1500 [==============================] - 2s 1ms/step - loss: 0.4950 - accuracy: 0.8240 - val_loss: 0.4058 - val_accuracy: 0.8572\n",
      "Epoch 2/50\n",
      "1500/1500 [==============================] - 2s 1ms/step - loss: 0.3753 - accuracy: 0.8637 - val_loss: 0.3713 - val_accuracy: 0.8652\n",
      "Epoch 3/50\n",
      "1500/1500 [==============================] - 2s 1ms/step - loss: 0.3339 - accuracy: 0.8783 - val_loss: 0.3452 - val_accuracy: 0.8753\n",
      "Epoch 4/50\n",
      "1500/1500 [==============================] - 2s 1ms/step - loss: 0.3075 - accuracy: 0.8864 - val_loss: 0.3558 - val_accuracy: 0.8688\n",
      "Epoch 5/50\n",
      "1500/1500 [==============================] - 2s 1ms/step - loss: 0.2902 - accuracy: 0.8922 - val_loss: 0.3198 - val_accuracy: 0.8853\n",
      "Epoch 6/50\n",
      "1500/1500 [==============================] - 2s 1ms/step - loss: 0.2732 - accuracy: 0.8985 - val_loss: 0.3307 - val_accuracy: 0.8821\n",
      "Epoch 7/50\n",
      "1500/1500 [==============================] - 1s 972us/step - loss: 0.2585 - accuracy: 0.9028 - val_loss: 0.3158 - val_accuracy: 0.8881\n",
      "Epoch 8/50\n",
      "1500/1500 [==============================] - 2s 1ms/step - loss: 0.2473 - accuracy: 0.9060 - val_loss: 0.3212 - val_accuracy: 0.8860\n",
      "Epoch 9/50\n",
      "1500/1500 [==============================] - 2s 1ms/step - loss: 0.2400 - accuracy: 0.9094 - val_loss: 0.3226 - val_accuracy: 0.8874\n",
      "Epoch 10/50\n",
      "1500/1500 [==============================] - 1s 982us/step - loss: 0.2271 - accuracy: 0.9137 - val_loss: 0.3181 - val_accuracy: 0.8871\n",
      "Epoch 11/50\n",
      "1500/1500 [==============================] - 1s 987us/step - loss: 0.2175 - accuracy: 0.9170 - val_loss: 0.3220 - val_accuracy: 0.8892\n",
      "Epoch 12/50\n",
      "1500/1500 [==============================] - 2s 1ms/step - loss: 0.2119 - accuracy: 0.9206 - val_loss: 0.3202 - val_accuracy: 0.8927\n",
      "Epoch 13/50\n",
      "1500/1500 [==============================] - 2s 1ms/step - loss: 0.2024 - accuracy: 0.9239 - val_loss: 0.3293 - val_accuracy: 0.8895\n",
      "Epoch 14/50\n",
      "1500/1500 [==============================] - 1s 971us/step - loss: 0.1944 - accuracy: 0.9268 - val_loss: 0.3638 - val_accuracy: 0.8814\n",
      "Epoch 15/50\n",
      "1500/1500 [==============================] - 1s 970us/step - loss: 0.1898 - accuracy: 0.9273 - val_loss: 0.3299 - val_accuracy: 0.8952\n",
      "Epoch 16/50\n",
      "1500/1500 [==============================] - 1s 975us/step - loss: 0.1808 - accuracy: 0.9322 - val_loss: 0.3405 - val_accuracy: 0.8919\n",
      "Epoch 17/50\n",
      "1500/1500 [==============================] - 2s 1ms/step - loss: 0.1745 - accuracy: 0.9347 - val_loss: 0.3378 - val_accuracy: 0.8940\n",
      "Epoch 18/50\n",
      "1500/1500 [==============================] - 2s 1ms/step - loss: 0.1680 - accuracy: 0.9366 - val_loss: 0.3428 - val_accuracy: 0.8939\n",
      "Epoch 19/50\n",
      "1500/1500 [==============================] - 1s 993us/step - loss: 0.1640 - accuracy: 0.9395 - val_loss: 0.3585 - val_accuracy: 0.8873\n",
      "Epoch 20/50\n",
      "1500/1500 [==============================] - 2s 1ms/step - loss: 0.1583 - accuracy: 0.9400 - val_loss: 0.3470 - val_accuracy: 0.8927\n",
      "Epoch 21/50\n",
      "1500/1500 [==============================] - 2s 1ms/step - loss: 0.1533 - accuracy: 0.9418 - val_loss: 0.3539 - val_accuracy: 0.8934\n",
      "Epoch 22/50\n",
      "1500/1500 [==============================] - 2s 1ms/step - loss: 0.1483 - accuracy: 0.9449 - val_loss: 0.3609 - val_accuracy: 0.8917\n",
      "Epoch 23/50\n",
      "1500/1500 [==============================] - 2s 1ms/step - loss: 0.1458 - accuracy: 0.9445 - val_loss: 0.3494 - val_accuracy: 0.8950\n",
      "Epoch 24/50\n",
      "1500/1500 [==============================] - 2s 1ms/step - loss: 0.1398 - accuracy: 0.9473 - val_loss: 0.3537 - val_accuracy: 0.8928\n",
      "Epoch 25/50\n",
      "1500/1500 [==============================] - 2s 1ms/step - loss: 0.1355 - accuracy: 0.9494 - val_loss: 0.3991 - val_accuracy: 0.8923\n",
      "Epoch 26/50\n",
      "1500/1500 [==============================] - 2s 1ms/step - loss: 0.1327 - accuracy: 0.9496 - val_loss: 0.3683 - val_accuracy: 0.8947\n",
      "Epoch 27/50\n",
      "1500/1500 [==============================] - 2s 1ms/step - loss: 0.1274 - accuracy: 0.9513 - val_loss: 0.3790 - val_accuracy: 0.8932\n",
      "Epoch 28/50\n",
      "1500/1500 [==============================] - 2s 1ms/step - loss: 0.1271 - accuracy: 0.9521 - val_loss: 0.4077 - val_accuracy: 0.8917\n",
      "Epoch 29/50\n",
      "1500/1500 [==============================] - 2s 1ms/step - loss: 0.1233 - accuracy: 0.9537 - val_loss: 0.3890 - val_accuracy: 0.8943\n",
      "Epoch 30/50\n",
      "1500/1500 [==============================] - 2s 1ms/step - loss: 0.1172 - accuracy: 0.9556 - val_loss: 0.3979 - val_accuracy: 0.8964\n",
      "Epoch 31/50\n",
      "1500/1500 [==============================] - 2s 1ms/step - loss: 0.1157 - accuracy: 0.9564 - val_loss: 0.4165 - val_accuracy: 0.8871\n",
      "Epoch 32/50\n",
      "1500/1500 [==============================] - 2s 1ms/step - loss: 0.1154 - accuracy: 0.9564 - val_loss: 0.4160 - val_accuracy: 0.8934\n",
      "Epoch 33/50\n",
      "1500/1500 [==============================] - 2s 1ms/step - loss: 0.1106 - accuracy: 0.9586 - val_loss: 0.4088 - val_accuracy: 0.8925\n",
      "Epoch 34/50\n",
      "1500/1500 [==============================] - 2s 1ms/step - loss: 0.1097 - accuracy: 0.9595 - val_loss: 0.4303 - val_accuracy: 0.8963\n",
      "Epoch 35/50\n",
      "1500/1500 [==============================] - 2s 1ms/step - loss: 0.1061 - accuracy: 0.9598 - val_loss: 0.4290 - val_accuracy: 0.8947\n",
      "Epoch 36/50\n",
      "1500/1500 [==============================] - 2s 1ms/step - loss: 0.1020 - accuracy: 0.9628 - val_loss: 0.4547 - val_accuracy: 0.8914\n",
      "Epoch 37/50\n",
      "1500/1500 [==============================] - 2s 1ms/step - loss: 0.0997 - accuracy: 0.9623 - val_loss: 0.4327 - val_accuracy: 0.8924\n",
      "Epoch 38/50\n",
      "1500/1500 [==============================] - 2s 1ms/step - loss: 0.0988 - accuracy: 0.9632 - val_loss: 0.4601 - val_accuracy: 0.8919\n",
      "Epoch 39/50\n",
      "1500/1500 [==============================] - 2s 1ms/step - loss: 0.0983 - accuracy: 0.9622 - val_loss: 0.4774 - val_accuracy: 0.8887\n",
      "Epoch 40/50\n",
      "1500/1500 [==============================] - 2s 1ms/step - loss: 0.0934 - accuracy: 0.9650 - val_loss: 0.4566 - val_accuracy: 0.8977\n",
      "Epoch 41/50\n",
      "1500/1500 [==============================] - 2s 1ms/step - loss: 0.0909 - accuracy: 0.9657 - val_loss: 0.4861 - val_accuracy: 0.8877\n",
      "Epoch 42/50\n",
      "1500/1500 [==============================] - 2s 1ms/step - loss: 0.0893 - accuracy: 0.9659 - val_loss: 0.4812 - val_accuracy: 0.8904\n",
      "Epoch 43/50\n",
      "1500/1500 [==============================] - 2s 1ms/step - loss: 0.0889 - accuracy: 0.9667 - val_loss: 0.4467 - val_accuracy: 0.8949\n",
      "Epoch 44/50\n",
      "1500/1500 [==============================] - 2s 1ms/step - loss: 0.0851 - accuracy: 0.9679 - val_loss: 0.4956 - val_accuracy: 0.8907\n",
      "Epoch 45/50\n",
      "1500/1500 [==============================] - 2s 1ms/step - loss: 0.0829 - accuracy: 0.9684 - val_loss: 0.4884 - val_accuracy: 0.8922\n",
      "Epoch 46/50\n",
      "1500/1500 [==============================] - 2s 1ms/step - loss: 0.0822 - accuracy: 0.9694 - val_loss: 0.5213 - val_accuracy: 0.8857\n",
      "Epoch 47/50\n",
      "1500/1500 [==============================] - 2s 1ms/step - loss: 0.0842 - accuracy: 0.9694 - val_loss: 0.5028 - val_accuracy: 0.8913\n",
      "Epoch 48/50\n",
      "1500/1500 [==============================] - 2s 1ms/step - loss: 0.0775 - accuracy: 0.9710 - val_loss: 0.5163 - val_accuracy: 0.8907\n",
      "Epoch 49/50\n",
      "1500/1500 [==============================] - 2s 1ms/step - loss: 0.0783 - accuracy: 0.9704 - val_loss: 0.5160 - val_accuracy: 0.8943\n",
      "Epoch 50/50\n",
      "1500/1500 [==============================] - 2s 1ms/step - loss: 0.0765 - accuracy: 0.9718 - val_loss: 0.5263 - val_accuracy: 0.8908\n",
      "Best epoch: 40\n"
     ]
    }
   ],
   "source": [
    "model = tuner.hypermodel.build(best_hps)\n",
    "history = model.fit(img_train, label_train, epochs=50, validation_split=0.2)\n",
    "\n",
    "val_acc_per_epoch = history.history['val_accuracy']\n",
    "best_epoch = val_acc_per_epoch.index(max(val_acc_per_epoch)) + 1\n",
    "print('Best epoch: %d' % (best_epoch,))"
   ]
  },
  {
   "cell_type": "code",
   "execution_count": 9,
   "id": "3150e4fb",
   "metadata": {
    "scrolled": true
   },
   "outputs": [
    {
     "name": "stdout",
     "output_type": "stream",
     "text": [
      "Epoch 1/40\n",
      "1500/1500 [==============================] - 2s 1ms/step - loss: 0.4915 - accuracy: 0.8252 - val_loss: 0.4390 - val_accuracy: 0.8446\n",
      "Epoch 2/40\n",
      "1500/1500 [==============================] - 2s 1ms/step - loss: 0.3695 - accuracy: 0.8656 - val_loss: 0.3656 - val_accuracy: 0.8648\n",
      "Epoch 3/40\n",
      "1500/1500 [==============================] - 2s 1ms/step - loss: 0.3294 - accuracy: 0.8788 - val_loss: 0.4124 - val_accuracy: 0.8493\n",
      "Epoch 4/40\n",
      "1500/1500 [==============================] - 2s 1ms/step - loss: 0.3046 - accuracy: 0.8874 - val_loss: 0.3472 - val_accuracy: 0.8753\n",
      "Epoch 5/40\n",
      "1500/1500 [==============================] - 2s 1ms/step - loss: 0.2867 - accuracy: 0.8943 - val_loss: 0.3507 - val_accuracy: 0.8787\n",
      "Epoch 6/40\n",
      "1500/1500 [==============================] - 2s 1ms/step - loss: 0.2707 - accuracy: 0.8990 - val_loss: 0.3157 - val_accuracy: 0.8875\n",
      "Epoch 7/40\n",
      "1500/1500 [==============================] - 2s 1ms/step - loss: 0.2557 - accuracy: 0.9040 - val_loss: 0.3431 - val_accuracy: 0.8776\n",
      "Epoch 8/40\n",
      "1500/1500 [==============================] - 2s 1ms/step - loss: 0.2456 - accuracy: 0.9077 - val_loss: 0.3214 - val_accuracy: 0.8871\n",
      "Epoch 9/40\n",
      "1500/1500 [==============================] - 2s 1ms/step - loss: 0.2335 - accuracy: 0.9127 - val_loss: 0.3316 - val_accuracy: 0.8832\n",
      "Epoch 10/40\n",
      "1500/1500 [==============================] - 2s 1ms/step - loss: 0.2244 - accuracy: 0.9159 - val_loss: 0.3330 - val_accuracy: 0.8827\n",
      "Epoch 11/40\n",
      "1500/1500 [==============================] - 2s 1ms/step - loss: 0.2160 - accuracy: 0.9193 - val_loss: 0.3283 - val_accuracy: 0.8873\n",
      "Epoch 12/40\n",
      "1500/1500 [==============================] - 2s 1ms/step - loss: 0.2086 - accuracy: 0.9226 - val_loss: 0.3312 - val_accuracy: 0.8877\n",
      "Epoch 13/40\n",
      "1500/1500 [==============================] - 2s 1ms/step - loss: 0.2025 - accuracy: 0.9236 - val_loss: 0.3156 - val_accuracy: 0.8907\n",
      "Epoch 14/40\n",
      "1500/1500 [==============================] - 2s 1ms/step - loss: 0.1925 - accuracy: 0.9282 - val_loss: 0.3261 - val_accuracy: 0.8925\n",
      "Epoch 15/40\n",
      "1500/1500 [==============================] - 2s 1ms/step - loss: 0.1836 - accuracy: 0.9311 - val_loss: 0.3254 - val_accuracy: 0.8946\n",
      "Epoch 16/40\n",
      "1500/1500 [==============================] - 2s 1ms/step - loss: 0.1804 - accuracy: 0.9315 - val_loss: 0.3347 - val_accuracy: 0.8861\n",
      "Epoch 17/40\n",
      "1500/1500 [==============================] - 2s 1ms/step - loss: 0.1722 - accuracy: 0.9348 - val_loss: 0.3436 - val_accuracy: 0.8852\n",
      "Epoch 18/40\n",
      "1500/1500 [==============================] - 2s 1ms/step - loss: 0.1673 - accuracy: 0.9372 - val_loss: 0.3502 - val_accuracy: 0.8937\n",
      "Epoch 19/40\n",
      "1500/1500 [==============================] - 2s 1ms/step - loss: 0.1623 - accuracy: 0.9383 - val_loss: 0.3469 - val_accuracy: 0.8932\n",
      "Epoch 20/40\n",
      "1500/1500 [==============================] - 2s 1ms/step - loss: 0.1546 - accuracy: 0.9420 - val_loss: 0.3801 - val_accuracy: 0.8908\n",
      "Epoch 21/40\n",
      "1500/1500 [==============================] - 2s 1ms/step - loss: 0.1529 - accuracy: 0.9422 - val_loss: 0.3701 - val_accuracy: 0.8879\n",
      "Epoch 22/40\n",
      "1500/1500 [==============================] - 2s 1ms/step - loss: 0.1459 - accuracy: 0.9452 - val_loss: 0.3622 - val_accuracy: 0.8929\n",
      "Epoch 23/40\n",
      "1500/1500 [==============================] - 2s 1ms/step - loss: 0.1420 - accuracy: 0.9470 - val_loss: 0.4187 - val_accuracy: 0.8834\n",
      "Epoch 24/40\n",
      "1500/1500 [==============================] - 2s 1ms/step - loss: 0.1398 - accuracy: 0.9470 - val_loss: 0.3691 - val_accuracy: 0.8964\n",
      "Epoch 25/40\n",
      "1500/1500 [==============================] - 2s 1ms/step - loss: 0.1359 - accuracy: 0.9486 - val_loss: 0.3862 - val_accuracy: 0.8903\n",
      "Epoch 26/40\n",
      "1500/1500 [==============================] - 2s 1ms/step - loss: 0.1287 - accuracy: 0.9507 - val_loss: 0.3892 - val_accuracy: 0.8935\n",
      "Epoch 27/40\n",
      "1500/1500 [==============================] - 2s 1ms/step - loss: 0.1257 - accuracy: 0.9540 - val_loss: 0.4205 - val_accuracy: 0.8862\n",
      "Epoch 28/40\n",
      "1500/1500 [==============================] - 2s 1ms/step - loss: 0.1222 - accuracy: 0.9541 - val_loss: 0.4311 - val_accuracy: 0.8918\n",
      "Epoch 29/40\n",
      "1500/1500 [==============================] - 2s 1ms/step - loss: 0.1215 - accuracy: 0.9542 - val_loss: 0.3903 - val_accuracy: 0.8958\n",
      "Epoch 30/40\n",
      "1500/1500 [==============================] - 2s 1ms/step - loss: 0.1157 - accuracy: 0.9560 - val_loss: 0.4171 - val_accuracy: 0.8895\n",
      "Epoch 31/40\n",
      "1500/1500 [==============================] - 2s 1ms/step - loss: 0.1126 - accuracy: 0.9570 - val_loss: 0.4043 - val_accuracy: 0.8960\n",
      "Epoch 32/40\n",
      "1500/1500 [==============================] - 2s 1ms/step - loss: 0.1083 - accuracy: 0.9593 - val_loss: 0.4100 - val_accuracy: 0.8922\n",
      "Epoch 33/40\n",
      "1500/1500 [==============================] - 2s 1ms/step - loss: 0.1072 - accuracy: 0.9586 - val_loss: 0.4216 - val_accuracy: 0.8932\n",
      "Epoch 34/40\n",
      "1500/1500 [==============================] - 2s 1ms/step - loss: 0.1035 - accuracy: 0.9616 - val_loss: 0.4519 - val_accuracy: 0.8841\n",
      "Epoch 35/40\n",
      "1500/1500 [==============================] - 2s 1ms/step - loss: 0.1044 - accuracy: 0.9605 - val_loss: 0.4834 - val_accuracy: 0.8868\n",
      "Epoch 36/40\n",
      "1500/1500 [==============================] - 2s 1ms/step - loss: 0.1025 - accuracy: 0.9610 - val_loss: 0.4284 - val_accuracy: 0.8958\n",
      "Epoch 37/40\n",
      "1500/1500 [==============================] - 2s 1ms/step - loss: 0.0951 - accuracy: 0.9647 - val_loss: 0.4597 - val_accuracy: 0.8934\n",
      "Epoch 38/40\n",
      "1500/1500 [==============================] - 2s 1ms/step - loss: 0.0970 - accuracy: 0.9635 - val_loss: 0.4510 - val_accuracy: 0.8953\n",
      "Epoch 39/40\n",
      "1500/1500 [==============================] - 2s 1ms/step - loss: 0.0904 - accuracy: 0.9655 - val_loss: 0.4747 - val_accuracy: 0.8892\n",
      "Epoch 40/40\n",
      "1500/1500 [==============================] - 2s 1ms/step - loss: 0.0881 - accuracy: 0.9673 - val_loss: 0.5053 - val_accuracy: 0.8916\n"
     ]
    },
    {
     "data": {
      "text/plain": [
       "<keras.callbacks.History at 0x7f4b56cc5940>"
      ]
     },
     "execution_count": 9,
     "metadata": {},
     "output_type": "execute_result"
    }
   ],
   "source": [
    "hypermodel = tuner.hypermodel.build(best_hps)\n",
    "\n",
    "#Retrain\n",
    "hypermodel.fit(img_train, label_train, epochs=best_epoch, validation_split=0.2)"
   ]
  },
  {
   "cell_type": "code",
   "execution_count": 10,
   "id": "6045b04d",
   "metadata": {},
   "outputs": [
    {
     "name": "stdout",
     "output_type": "stream",
     "text": [
      "313/313 [==============================] - 0s 873us/step - loss: 0.5515 - accuracy: 0.8882\n",
      "[test loss, test accuracy]: [0.5514851212501526, 0.8881999850273132]\n"
     ]
    }
   ],
   "source": [
    "eval_result = hypermodel.evaluate(img_test, label_test)\n",
    "print(\"[test loss, test accuracy]:\", eval_result)"
   ]
  },
  {
   "cell_type": "code",
   "execution_count": null,
   "id": "6650d004",
   "metadata": {},
   "outputs": [],
   "source": []
  }
 ],
 "metadata": {
  "kernelspec": {
   "display_name": "mlenv",
   "language": "python",
   "name": "mlenv"
  },
  "language_info": {
   "codemirror_mode": {
    "name": "ipython",
    "version": 3
   },
   "file_extension": ".py",
   "mimetype": "text/x-python",
   "name": "python",
   "nbconvert_exporter": "python",
   "pygments_lexer": "ipython3",
   "version": "3.7.0"
  }
 },
 "nbformat": 4,
 "nbformat_minor": 5
}
