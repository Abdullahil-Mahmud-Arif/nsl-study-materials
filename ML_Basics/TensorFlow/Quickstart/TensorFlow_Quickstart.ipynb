{
 "cells": [
  {
   "cell_type": "markdown",
   "id": "ad0cda06",
   "metadata": {},
   "source": [
    "## Set up Tensorflow"
   ]
  },
  {
   "cell_type": "code",
   "execution_count": 1,
   "id": "81dea8c0",
   "metadata": {},
   "outputs": [
    {
     "name": "stderr",
     "output_type": "stream",
     "text": [
      "2022-11-18 12:47:56.378683: I tensorflow/core/platform/cpu_feature_guard.cc:193] This TensorFlow binary is optimized with oneAPI Deep Neural Network Library (oneDNN) to use the following CPU instructions in performance-critical operations:  AVX2 AVX512F AVX512_VNNI FMA\n",
      "To enable them in other operations, rebuild TensorFlow with the appropriate compiler flags.\n",
      "2022-11-18 12:47:56.458366: I tensorflow/core/util/util.cc:169] oneDNN custom operations are on. You may see slightly different numerical results due to floating-point round-off errors from different computation orders. To turn them off, set the environment variable `TF_ENABLE_ONEDNN_OPTS=0`.\n",
      "2022-11-18 12:47:56.461568: W tensorflow/stream_executor/platform/default/dso_loader.cc:64] Could not load dynamic library 'libcudart.so.11.0'; dlerror: libcudart.so.11.0: cannot open shared object file: No such file or directory\n",
      "2022-11-18 12:47:56.461576: I tensorflow/stream_executor/cuda/cudart_stub.cc:29] Ignore above cudart dlerror if you do not have a GPU set up on your machine.\n",
      "2022-11-18 12:47:56.478767: E tensorflow/stream_executor/cuda/cuda_blas.cc:2981] Unable to register cuBLAS factory: Attempting to register factory for plugin cuBLAS when one has already been registered\n",
      "2022-11-18 12:47:56.900280: W tensorflow/stream_executor/platform/default/dso_loader.cc:64] Could not load dynamic library 'libnvinfer.so.7'; dlerror: libnvinfer.so.7: cannot open shared object file: No such file or directory\n",
      "2022-11-18 12:47:56.900310: W tensorflow/stream_executor/platform/default/dso_loader.cc:64] Could not load dynamic library 'libnvinfer_plugin.so.7'; dlerror: libnvinfer_plugin.so.7: cannot open shared object file: No such file or directory\n",
      "2022-11-18 12:47:56.900314: W tensorflow/compiler/tf2tensorrt/utils/py_utils.cc:38] TF-TRT Warning: Cannot dlopen some TensorRT libraries. If you would like to use Nvidia GPU with TensorRT, please make sure the missing libraries mentioned above are installed properly.\n"
     ]
    },
    {
     "name": "stdout",
     "output_type": "stream",
     "text": [
      "TensorFlow version:  2.10.0\n"
     ]
    }
   ],
   "source": [
    "import tensorflow as tf\n",
    "print(\"TensorFlow version: \", tf.__version__)"
   ]
  },
  {
   "cell_type": "markdown",
   "id": "ca82ec46",
   "metadata": {},
   "source": [
    "## Load Dataset\n",
    "`MNIST Dataset`"
   ]
  },
  {
   "cell_type": "code",
   "execution_count": 2,
   "id": "df64fcd2",
   "metadata": {},
   "outputs": [],
   "source": [
    "mnist = tf.keras.datasets.mnist\n",
    "\n",
    "(x_train, y_train), (x_test, y_test) = mnist.load_data()\n",
    "x_train, x_test = x_train / 250.0, x_test / 250.0"
   ]
  },
  {
   "cell_type": "markdown",
   "id": "227b13c4",
   "metadata": {},
   "source": [
    "## Build a machine learning model\n",
    "`tf.keras.Sequential`"
   ]
  },
  {
   "cell_type": "code",
   "execution_count": 4,
   "id": "1c6e092d",
   "metadata": {},
   "outputs": [
    {
     "name": "stderr",
     "output_type": "stream",
     "text": [
      "2022-11-18 12:53:55.586054: W tensorflow/stream_executor/platform/default/dso_loader.cc:64] Could not load dynamic library 'libcuda.so.1'; dlerror: libcuda.so.1: cannot open shared object file: No such file or directory\n",
      "2022-11-18 12:53:55.586070: W tensorflow/stream_executor/cuda/cuda_driver.cc:263] failed call to cuInit: UNKNOWN ERROR (303)\n",
      "2022-11-18 12:53:55.586082: I tensorflow/stream_executor/cuda/cuda_diagnostics.cc:156] kernel driver does not appear to be running on this host (nsl54): /proc/driver/nvidia/version does not exist\n",
      "2022-11-18 12:53:55.586284: I tensorflow/core/platform/cpu_feature_guard.cc:193] This TensorFlow binary is optimized with oneAPI Deep Neural Network Library (oneDNN) to use the following CPU instructions in performance-critical operations:  AVX2 AVX512F AVX512_VNNI FMA\n",
      "To enable them in other operations, rebuild TensorFlow with the appropriate compiler flags.\n"
     ]
    }
   ],
   "source": [
    "model = tf.keras.models.Sequential([\n",
    "    tf.keras.layers.Flatten(input_shape=(28, 28)),\n",
    "    tf.keras.layers.Dense(128, activation='relu'),\n",
    "    tf.keras.layers.Dropout(0.2),\n",
    "    tf.keras.layers.Dense(10)\n",
    "])"
   ]
  },
  {
   "cell_type": "markdown",
   "id": "12a3371a",
   "metadata": {},
   "source": [
    "#### For each example, the model returns a vector of logits or log-odds scores, one for each class"
   ]
  },
  {
   "cell_type": "code",
   "execution_count": 5,
   "id": "3ef54d91",
   "metadata": {},
   "outputs": [
    {
     "data": {
      "text/plain": [
       "array([[ 0.5271358 , -0.9132867 , -0.9680246 ,  0.31074375, -0.13945785,\n",
       "         0.24067312, -0.09968281, -0.16331375,  0.00785332, -0.01689196]],\n",
       "      dtype=float32)"
      ]
     },
     "execution_count": 5,
     "metadata": {},
     "output_type": "execute_result"
    }
   ],
   "source": [
    "predictions = model(x_train[:1]).numpy()\n",
    "predictions"
   ]
  },
  {
   "cell_type": "markdown",
   "id": "02be6a98",
   "metadata": {},
   "source": [
    "#### The `tf.nn.softmax` function converts these logits to probabilities for each class"
   ]
  },
  {
   "cell_type": "code",
   "execution_count": 6,
   "id": "86bdeecb",
   "metadata": {},
   "outputs": [
    {
     "data": {
      "text/plain": [
       "array([[0.17416073, 0.04124608, 0.03904904, 0.14027245, 0.08942363,\n",
       "        0.13077992, 0.09305214, 0.0873156 , 0.10361645, 0.1010839 ]],\n",
       "      dtype=float32)"
      ]
     },
     "execution_count": 6,
     "metadata": {},
     "output_type": "execute_result"
    }
   ],
   "source": [
    "tf.nn.softmax(predictions).numpy()"
   ]
  },
  {
   "cell_type": "markdown",
   "id": "51bcca27",
   "metadata": {},
   "source": [
    "It is possible to bake the `tf.nn.softmax` function into the activation function for the last layer of the network. While this can make the model output more directly interpretable, this approach is discouraged as it's impossible to provide an exact and numerically stable loss calculation for all models when using a softmax output."
   ]
  },
  {
   "cell_type": "markdown",
   "id": "8b5f35f6",
   "metadata": {},
   "source": [
    "#### Define a loss function for training using `losses.SparseCategoricalCrossentropy`, which takes a vector of logits and a True index and returns a scalar loss for each example"
   ]
  },
  {
   "cell_type": "code",
   "execution_count": 7,
   "id": "50835912",
   "metadata": {},
   "outputs": [],
   "source": [
    "loss_fn = tf.keras.losses.SparseCategoricalCrossentropy(from_logits=True)"
   ]
  },
  {
   "cell_type": "markdown",
   "id": "95bce996",
   "metadata": {},
   "source": [
    "This loss is equal to the negative log probability of the true class: The loss is zero if the model is sure of the correct class."
   ]
  },
  {
   "cell_type": "code",
   "execution_count": 8,
   "id": "75116a73",
   "metadata": {},
   "outputs": [
    {
     "data": {
      "text/plain": [
       "2.0342393"
      ]
     },
     "execution_count": 8,
     "metadata": {},
     "output_type": "execute_result"
    }
   ],
   "source": [
    "loss_fn(y_train[:1], predictions).numpy()"
   ]
  },
  {
   "cell_type": "markdown",
   "id": "d0388de9",
   "metadata": {},
   "source": [
    "#### Before training configure and compile the model using Keras `Model.compile`. Set the optimizer class to adam, set the loss to the `loss_fn` function you defined earlier, and specify a metric to be evaluated for the model by setting the metrics parameter to accuracy"
   ]
  },
  {
   "cell_type": "code",
   "execution_count": 9,
   "id": "58afe41a",
   "metadata": {},
   "outputs": [],
   "source": [
    "model.compile(optimizer='adam',\n",
    "             loss=loss_fn,\n",
    "             metrics=['accuracy'])"
   ]
  },
  {
   "cell_type": "markdown",
   "id": "b87b0d0a",
   "metadata": {},
   "source": [
    "## Train and Evaluate\n",
    "`model.fit`"
   ]
  },
  {
   "cell_type": "code",
   "execution_count": 11,
   "id": "c7249c8d",
   "metadata": {},
   "outputs": [
    {
     "name": "stdout",
     "output_type": "stream",
     "text": [
      "Epoch 1/5\n",
      "1875/1875 [==============================] - 1s 720us/step - loss: 0.0403 - accuracy: 0.9867\n",
      "Epoch 2/5\n",
      "1875/1875 [==============================] - 1s 698us/step - loss: 0.0383 - accuracy: 0.9870\n",
      "Epoch 3/5\n",
      "1875/1875 [==============================] - 1s 696us/step - loss: 0.0351 - accuracy: 0.9878\n",
      "Epoch 4/5\n",
      "1875/1875 [==============================] - 1s 693us/step - loss: 0.0336 - accuracy: 0.9887\n",
      "Epoch 5/5\n",
      "1875/1875 [==============================] - 1s 685us/step - loss: 0.0334 - accuracy: 0.9888\n"
     ]
    },
    {
     "data": {
      "text/plain": [
       "<keras.callbacks.History at 0x7f467c243978>"
      ]
     },
     "execution_count": 11,
     "metadata": {},
     "output_type": "execute_result"
    }
   ],
   "source": [
    "model.fit(x_train, y_train, epochs=5)"
   ]
  },
  {
   "cell_type": "markdown",
   "id": "5c812e3a",
   "metadata": {},
   "source": [
    "#### The `Model.evaluate` method checks the models performance, usually on a \"Validation-set\" or \"Test-set\""
   ]
  },
  {
   "cell_type": "code",
   "execution_count": 12,
   "id": "aaf53df5",
   "metadata": {},
   "outputs": [
    {
     "name": "stdout",
     "output_type": "stream",
     "text": [
      "313/313 - 0s - loss: 0.0822 - accuracy: 0.9806 - 226ms/epoch - 723us/step\n"
     ]
    },
    {
     "data": {
      "text/plain": [
       "[0.08222439885139465, 0.9805999994277954]"
      ]
     },
     "execution_count": 12,
     "metadata": {},
     "output_type": "execute_result"
    }
   ],
   "source": [
    "model.evaluate(x_test, y_test, verbose=2)"
   ]
  },
  {
   "cell_type": "markdown",
   "id": "2eaee99b",
   "metadata": {},
   "source": [
    "Wrap the trained model, and attach the softmax to it to return probability"
   ]
  },
  {
   "cell_type": "code",
   "execution_count": 16,
   "id": "065d037f",
   "metadata": {},
   "outputs": [],
   "source": [
    "probability_model = tf.keras.Sequential([\n",
    "    model,\n",
    "    tf.keras.layers.Softmax()\n",
    "])"
   ]
  },
  {
   "cell_type": "code",
   "execution_count": 17,
   "id": "b29eb39a",
   "metadata": {},
   "outputs": [
    {
     "data": {
      "text/plain": [
       "<tf.Tensor: shape=(5, 10), dtype=float32, numpy=\n",
       "array([[8.6248800e-11, 2.9011930e-11, 2.5391597e-10, 5.7377110e-07,\n",
       "        4.9048398e-19, 2.9150113e-10, 2.1216288e-17, 9.9999928e-01,\n",
       "        1.8720160e-10, 9.4567596e-08],\n",
       "       [1.2594133e-10, 7.8273894e-07, 9.9999917e-01, 6.6204402e-09,\n",
       "        1.2580502e-24, 5.6347626e-12, 1.8060770e-11, 2.1010581e-25,\n",
       "        2.1842463e-10, 1.6253757e-24],\n",
       "       [1.6989303e-10, 9.9994028e-01, 1.3656324e-05, 3.4130064e-08,\n",
       "        1.2639210e-06, 1.4871054e-10, 2.5875855e-07, 4.0226383e-05,\n",
       "        4.3486689e-06, 2.6736494e-10],\n",
       "       [9.9998772e-01, 4.2822022e-14, 1.2082480e-05, 7.0695956e-09,\n",
       "        1.0812663e-13, 2.2377828e-08, 1.4310130e-07, 1.2114230e-09,\n",
       "        2.0952741e-11, 1.2647242e-09],\n",
       "       [2.7043157e-08, 2.5702765e-17, 8.2003460e-08, 8.6414547e-12,\n",
       "        9.9985027e-01, 2.8526091e-11, 3.8063497e-06, 2.4275107e-06,\n",
       "        6.7926154e-10, 1.4338974e-04]], dtype=float32)>"
      ]
     },
     "execution_count": 17,
     "metadata": {},
     "output_type": "execute_result"
    }
   ],
   "source": [
    "probability_model(x_test[:5])"
   ]
  }
 ],
 "metadata": {
  "kernelspec": {
   "display_name": "mlenv",
   "language": "python",
   "name": "mlenv"
  },
  "language_info": {
   "codemirror_mode": {
    "name": "ipython",
    "version": 3
   },
   "file_extension": ".py",
   "mimetype": "text/x-python",
   "name": "python",
   "nbconvert_exporter": "python",
   "pygments_lexer": "ipython3",
   "version": "3.7.0"
  }
 },
 "nbformat": 4,
 "nbformat_minor": 5
}
