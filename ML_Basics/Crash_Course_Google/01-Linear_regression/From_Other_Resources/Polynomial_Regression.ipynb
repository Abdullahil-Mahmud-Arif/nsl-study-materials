{
 "cells": [
  {
   "attachments": {
    "poly.png": {
     "image/png": "[encoded data removed]"
    }
   },
   "cell_type": "markdown",
   "id": "4feef3ca",
   "metadata": {},
   "source": [
    "# Polynomial Regression\n",
    "Polynomial Regression is a form of linear regression in which the relationship between the independent variable x and dependent variable y is modeled as an nth degree polynomial. Polynomial regression fits a nonlinear relationship between the value of x and the corresponding conditional mean of y.\n",
    "![poly.png](attachment:poly.png)"
   ]
  },
  {
   "cell_type": "code",
   "execution_count": 1,
   "id": "f17ab1cf",
   "metadata": {},
   "outputs": [],
   "source": [
    "import numpy as np\n",
    "import pandas as pd\n",
    "import matplotlib.pyplot as plt\n",
    "from sklearn.linear_model import LinearRegression\n",
    "from sklearn.metrics import mean_squared_error\n",
    "from sklearn.preprocessing import PolynomialFeatures\n",
    "from sklearn.model_selection import train_test_split\n",
    "import math"
   ]
  },
  {
   "cell_type": "code",
   "execution_count": 3,
   "id": "0da2df48",
   "metadata": {},
   "outputs": [
    {
     "data": {
      "text/html": [
       "<div>\n",
       "<style scoped>\n",
       "    .dataframe tbody tr th:only-of-type {\n",
       "        vertical-align: middle;\n",
       "    }\n",
       "\n",
       "    .dataframe tbody tr th {\n",
       "        vertical-align: top;\n",
       "    }\n",
       "\n",
       "    .dataframe thead th {\n",
       "        text-align: right;\n",
       "    }\n",
       "</style>\n",
       "<table border=\"1\" class=\"dataframe\">\n",
       "  <thead>\n",
       "    <tr style=\"text-align: right;\">\n",
       "      <th></th>\n",
       "      <th>Age</th>\n",
       "      <th>Drugs_Perf</th>\n",
       "    </tr>\n",
       "  </thead>\n",
       "  <tbody>\n",
       "    <tr>\n",
       "      <th>0</th>\n",
       "      <td>1</td>\n",
       "      <td>1.166667</td>\n",
       "    </tr>\n",
       "    <tr>\n",
       "      <th>1</th>\n",
       "      <td>2</td>\n",
       "      <td>1.833333</td>\n",
       "    </tr>\n",
       "    <tr>\n",
       "      <th>2</th>\n",
       "      <td>3</td>\n",
       "      <td>2.833333</td>\n",
       "    </tr>\n",
       "    <tr>\n",
       "      <th>3</th>\n",
       "      <td>4</td>\n",
       "      <td>4.166667</td>\n",
       "    </tr>\n",
       "    <tr>\n",
       "      <th>4</th>\n",
       "      <td>5</td>\n",
       "      <td>5.833333</td>\n",
       "    </tr>\n",
       "  </tbody>\n",
       "</table>\n",
       "</div>"
      ],
      "text/plain": [
       "   Age  Drugs_Perf\n",
       "0    1    1.166667\n",
       "1    2    1.833333\n",
       "2    3    2.833333\n",
       "3    4    4.166667\n",
       "4    5    5.833333"
      ]
     },
     "execution_count": 3,
     "metadata": {},
     "output_type": "execute_result"
    }
   ],
   "source": [
    "data = pd.read_csv('Drugs_Performance.csv')\n",
    "data.head()"
   ]
  },
  {
   "cell_type": "code",
   "execution_count": 4,
   "id": "b0b60b6f",
   "metadata": {},
   "outputs": [
    {
     "name": "stdout",
     "output_type": "stream",
     "text": [
      "[[ 1]\n",
      " [ 2]\n",
      " [ 3]\n",
      " [ 4]\n",
      " [ 5]\n",
      " [ 6]\n",
      " [ 7]\n",
      " [ 8]\n",
      " [ 9]\n",
      " [10]\n",
      " [11]\n",
      " [12]\n",
      " [13]\n",
      " [14]\n",
      " [15]\n",
      " [16]\n",
      " [17]\n",
      " [18]\n",
      " [19]\n",
      " [20]\n",
      " [21]\n",
      " [22]\n",
      " [23]\n",
      " [24]\n",
      " [25]\n",
      " [26]\n",
      " [27]\n",
      " [28]\n",
      " [29]\n",
      " [30]\n",
      " [31]\n",
      " [32]\n",
      " [33]\n",
      " [34]\n",
      " [35]\n",
      " [36]\n",
      " [37]\n",
      " [38]\n",
      " [39]\n",
      " [40]\n",
      " [41]\n",
      " [42]\n",
      " [43]\n",
      " [44]\n",
      " [45]\n",
      " [46]\n",
      " [47]\n",
      " [48]\n",
      " [49]\n",
      " [50]\n",
      " [51]\n",
      " [52]\n",
      " [53]\n",
      " [54]\n",
      " [55]\n",
      " [56]\n",
      " [57]\n",
      " [58]\n",
      " [59]\n",
      " [60]\n",
      " [61]\n",
      " [62]\n",
      " [63]\n",
      " [64]\n",
      " [65]\n",
      " [66]\n",
      " [67]\n",
      " [68]\n",
      " [69]\n",
      " [70]\n",
      " [71]\n",
      " [72]\n",
      " [73]\n",
      " [74]\n",
      " [75]\n",
      " [76]\n",
      " [77]\n",
      " [78]\n",
      " [79]\n",
      " [80]\n",
      " [81]\n",
      " [82]\n",
      " [83]\n",
      " [84]]\n",
      "[[1.16666667e+00]\n",
      " [1.83333333e+00]\n",
      " [2.83333333e+00]\n",
      " [4.16666667e+00]\n",
      " [5.83333333e+00]\n",
      " [7.83333333e+00]\n",
      " [1.01666667e+01]\n",
      " [1.28333333e+01]\n",
      " [1.58333333e+01]\n",
      " [1.91666667e+01]\n",
      " [2.28333333e+01]\n",
      " [2.68333333e+01]\n",
      " [3.11666667e+01]\n",
      " [3.58333333e+01]\n",
      " [4.08333333e+01]\n",
      " [4.61666667e+01]\n",
      " [5.18333333e+01]\n",
      " [5.78333333e+01]\n",
      " [6.41666667e+01]\n",
      " [7.08333333e+01]\n",
      " [7.78333333e+01]\n",
      " [8.51666667e+01]\n",
      " [9.28333333e+01]\n",
      " [1.00833333e+02]\n",
      " [1.09166667e+02]\n",
      " [1.17833333e+02]\n",
      " [1.26833333e+02]\n",
      " [1.36166667e+02]\n",
      " [1.45833333e+02]\n",
      " [1.55833333e+02]\n",
      " [1.66166667e+02]\n",
      " [1.76833333e+02]\n",
      " [1.87833333e+02]\n",
      " [1.99166667e+02]\n",
      " [2.10833333e+02]\n",
      " [2.22833333e+02]\n",
      " [2.35166667e+02]\n",
      " [2.47833333e+02]\n",
      " [2.60833333e+02]\n",
      " [2.74166667e+02]\n",
      " [2.87833333e+02]\n",
      " [3.01833333e+02]\n",
      " [3.16166667e+02]\n",
      " [3.30833333e+02]\n",
      " [3.45833333e+02]\n",
      " [3.61166667e+02]\n",
      " [3.76833333e+02]\n",
      " [3.92833333e+02]\n",
      " [4.09166667e+02]\n",
      " [4.25833333e+02]\n",
      " [4.42833333e+02]\n",
      " [4.60166667e+02]\n",
      " [4.77833333e+02]\n",
      " [4.95833333e+02]\n",
      " [5.14166667e+02]\n",
      " [5.32833333e+02]\n",
      " [5.51833333e+02]\n",
      " [5.71166667e+02]\n",
      " [5.90833333e+02]\n",
      " [6.10833333e+02]\n",
      " [6.31166667e+02]\n",
      " [6.51833333e+02]\n",
      " [6.72833333e+02]\n",
      " [6.94166667e+02]\n",
      " [7.15833333e+02]\n",
      " [7.37833333e+02]\n",
      " [7.60166667e+02]\n",
      " [7.82833333e+02]\n",
      " [8.05833333e+02]\n",
      " [8.29166667e+02]\n",
      " [8.52833333e+02]\n",
      " [8.76833333e+02]\n",
      " [9.01166667e+02]\n",
      " [9.25833333e+02]\n",
      " [9.50833333e+02]\n",
      " [9.76166667e+02]\n",
      " [1.00183333e+03]\n",
      " [1.02783333e+03]\n",
      " [1.05416667e+03]\n",
      " [1.08083333e+03]\n",
      " [1.10783333e+03]\n",
      " [1.13516667e+03]\n",
      " [1.16283333e+03]\n",
      " [1.19083333e+03]]\n"
     ]
    }
   ],
   "source": [
    "x = data[[\"Age\"]].values\n",
    "y = data[[\"Drugs_Perf\"]].values\n",
    "print(x)\n",
    "print(y)"
   ]
  },
  {
   "cell_type": "code",
   "execution_count": 5,
   "id": "03c37c07",
   "metadata": {},
   "outputs": [
    {
     "data": {
      "image/png": "[encoded data removed]",
      "text/plain": [
       "<Figure size 432x288 with 1 Axes>"
      ]
     },
     "metadata": {
      "needs_background": "light"
     },
     "output_type": "display_data"
    }
   ],
   "source": [
    "plt.plot(x, y)\n",
    "plt.xlabel(\"Age\")\n",
    "plt.ylabel(\"Drugs Performance\")\n",
    "plt.show()"
   ]
  },
  {
   "cell_type": "code",
   "execution_count": 6,
   "id": "fae83428",
   "metadata": {},
   "outputs": [],
   "source": [
    "x_train, x_test, y_train, y_test = train_test_split(x, y, test_size=0.2)"
   ]
  },
  {
   "cell_type": "code",
   "execution_count": 8,
   "id": "66835bda",
   "metadata": {},
   "outputs": [
    {
     "data": {
      "text/plain": [
       "PolynomialFeatures()"
      ]
     },
     "execution_count": 8,
     "metadata": {},
     "output_type": "execute_result"
    }
   ],
   "source": [
    "poly = PolynomialFeatures(degree=2)\n",
    "x_poly = poly.fit_transform(x_train)\n",
    "poly.fit(x_poly, y_train)"
   ]
  },
  {
   "cell_type": "code",
   "execution_count": 9,
   "id": "52d40564",
   "metadata": {},
   "outputs": [
    {
     "data": {
      "text/plain": [
       "LinearRegression()"
      ]
     },
     "execution_count": 9,
     "metadata": {},
     "output_type": "execute_result"
    }
   ],
   "source": [
    "model = LinearRegression()\n",
    "model.fit(x_poly, y_train)"
   ]
  },
  {
   "cell_type": "code",
   "execution_count": 23,
   "id": "676bb198",
   "metadata": {},
   "outputs": [
    {
     "data": {
      "text/plain": [
       "Text(0, 0.5, 'Drugs Performance')"
      ]
     },
     "execution_count": 23,
     "metadata": {},
     "output_type": "execute_result"
    },
    {
     "data": {
      "image/png": "[encoded data removed]",
      "text/plain": [
       "<Figure size 432x288 with 1 Axes>"
      ]
     },
     "metadata": {
      "needs_background": "light"
     },
     "output_type": "display_data"
    }
   ],
   "source": [
    "plt.scatter(x,y, color = 'red')\n",
    "plt.plot(x,model.predict(poly.fit_transform(x)), color = 'green')\n",
    "plt.title('Polynomial Regression')\n",
    "plt.xlabel('Age')\n",
    "plt.ylabel('Drugs Performance')"
   ]
  },
  {
   "cell_type": "code",
   "execution_count": 11,
   "id": "2da388b8",
   "metadata": {},
   "outputs": [
    {
     "name": "stdout",
     "output_type": "stream",
     "text": [
      "Prediction :  [[694.16666662]\n",
      " [109.16666667]\n",
      " [392.83333333]\n",
      " [852.83333326]\n",
      " [345.83333333]\n",
      " [117.83333334]\n",
      " [ 40.83333333]\n",
      " [235.16666667]\n",
      " [330.83333333]\n",
      " [ 10.16666665]\n",
      " [514.16666664]\n",
      " [316.16666667]\n",
      " [ 19.16666666]\n",
      " [876.83333326]\n",
      " [901.16666659]\n",
      " [ 35.83333333]\n",
      " [425.83333332]]\n"
     ]
    }
   ],
   "source": [
    "print(\"Prediction : \", model.predict(poly.fit_transform(x_test)))"
   ]
  }
 ],
 "metadata": {
  "kernelspec": {
   "display_name": "mlenv",
   "language": "python",
   "name": "mlenv"
  },
  "language_info": {
   "codemirror_mode": {
    "name": "ipython",
    "version": 3
   },
   "file_extension": ".py",
   "mimetype": "text/x-python",
   "name": "python",
   "nbconvert_exporter": "python",
   "pygments_lexer": "ipython3",
   "version": "3.7.0"
  }
 },
 "nbformat": 4,
 "nbformat_minor": 5
}
