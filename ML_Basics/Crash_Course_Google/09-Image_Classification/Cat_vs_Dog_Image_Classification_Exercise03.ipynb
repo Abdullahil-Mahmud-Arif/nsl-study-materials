{
 "cells": [
  {
   "cell_type": "markdown",
   "id": "929fb411",
   "metadata": {},
   "source": [
    "# Objective:\n",
    "## Feature Extraction and Fine-Tuning\n",
    "We'll look at two techniques for repurposing feature data generated from image models that have already been trained on large sets of data, **feature extraction** and **fine tuning**, and use them to improve the accuracy of our cat vs. dog classification model"
   ]
  },
  {
   "cell_type": "markdown",
   "id": "dfc52045",
   "metadata": {},
   "source": [
    "## Feature Extraction Using a Pretrained Model\n",
    "We will use the **Inception V3** model developed at Google, and pre-trained on **ImageNet**, a large dataset of web images (1.4M images and 1000 classes). This is a powerful model; let's see what the features that it has learned can do for our cat vs. dog problem\n",
    "<br><br>\n",
    "First, we need to pick which intermediate layer of **Inception V3** we will use for feature extraction. A common practice is to use the output of the very last layer before the `Flatten` operation, the so-called \"bottleneck layer.\" The reasoning here is that the following fully connected layers will be too specialized for the task the network was trained on, and thus the features learned by these layers won't be very useful for a new task. The bottleneck features, however, retain much generality"
   ]
  },
  {
   "cell_type": "code",
   "execution_count": 1,
   "id": "f697fdb6",
   "metadata": {},
   "outputs": [
    {
     "name": "stderr",
     "output_type": "stream",
     "text": [
      "2022-11-21 11:08:17.173063: I tensorflow/core/platform/cpu_feature_guard.cc:193] This TensorFlow binary is optimized with oneAPI Deep Neural Network Library (oneDNN) to use the following CPU instructions in performance-critical operations:  AVX2 AVX512F AVX512_VNNI FMA\n",
      "To enable them in other operations, rebuild TensorFlow with the appropriate compiler flags.\n",
      "2022-11-21 11:08:17.252915: I tensorflow/core/util/util.cc:169] oneDNN custom operations are on. You may see slightly different numerical results due to floating-point round-off errors from different computation orders. To turn them off, set the environment variable `TF_ENABLE_ONEDNN_OPTS=0`.\n",
      "2022-11-21 11:08:17.256209: W tensorflow/stream_executor/platform/default/dso_loader.cc:64] Could not load dynamic library 'libcudart.so.11.0'; dlerror: libcudart.so.11.0: cannot open shared object file: No such file or directory\n",
      "2022-11-21 11:08:17.256216: I tensorflow/stream_executor/cuda/cudart_stub.cc:29] Ignore above cudart dlerror if you do not have a GPU set up on your machine.\n",
      "2022-11-21 11:08:17.273412: E tensorflow/stream_executor/cuda/cuda_blas.cc:2981] Unable to register cuBLAS factory: Attempting to register factory for plugin cuBLAS when one has already been registered\n",
      "2022-11-21 11:08:17.693726: W tensorflow/stream_executor/platform/default/dso_loader.cc:64] Could not load dynamic library 'libnvinfer.so.7'; dlerror: libnvinfer.so.7: cannot open shared object file: No such file or directory\n",
      "2022-11-21 11:08:17.693757: W tensorflow/stream_executor/platform/default/dso_loader.cc:64] Could not load dynamic library 'libnvinfer_plugin.so.7'; dlerror: libnvinfer_plugin.so.7: cannot open shared object file: No such file or directory\n",
      "2022-11-21 11:08:17.693761: W tensorflow/compiler/tf2tensorrt/utils/py_utils.cc:38] TF-TRT Warning: Cannot dlopen some TensorRT libraries. If you would like to use Nvidia GPU with TensorRT, please make sure the missing libraries mentioned above are installed properly.\n"
     ]
    }
   ],
   "source": [
    "import os\n",
    "from tensorflow.keras import layers, Model"
   ]
  },
  {
   "cell_type": "code",
   "execution_count": 2,
   "id": "600f5573",
   "metadata": {},
   "outputs": [
    {
     "name": "stdout",
     "output_type": "stream",
     "text": [
      "--2022-11-21 11:09:02--  https://storage.googleapis.com/mledu-datasets/inception_v3_weights_tf_dim_ordering_tf_kernels_notop.h5\n",
      "Resolving storage.googleapis.com (storage.googleapis.com)... 142.250.77.144, 142.250.77.112, 142.250.76.80, ...\n",
      "Connecting to storage.googleapis.com (storage.googleapis.com)|142.250.77.144|:443... connected.\n",
      "HTTP request sent, awaiting response... 200 OK\n",
      "Length: 87910968 (84M) [application/x-hdf]\n",
      "Saving to: ‘/tmp/inception_v3_weights_tf_dim_ordering_tf_kernels_notop.h5’\n",
      "\n",
      "/tmp/inception_v3_w 100%[===================>]  83.84M  5.19MB/s    in 15s     \n",
      "\n",
      "2022-11-21 11:09:18 (5.66 MB/s) - ‘/tmp/inception_v3_weights_tf_dim_ordering_tf_kernels_notop.h5’ saved [87910968/87910968]\n",
      "\n"
     ]
    }
   ],
   "source": [
    "!wget --no-check-certificate \\\n",
    "    https://storage.googleapis.com/mledu-datasets/inception_v3_weights_tf_dim_ordering_tf_kernels_notop.h5 \\\n",
    "    -O /tmp/inception_v3_weights_tf_dim_ordering_tf_kernels_notop.h5"
   ]
  },
  {
   "cell_type": "code",
   "execution_count": 4,
   "id": "861b3e5b",
   "metadata": {},
   "outputs": [],
   "source": [
    "from tensorflow.keras.applications.inception_v3 import InceptionV3\n",
    "\n",
    "local_weights_file = '/tmp/inception_v3_weights_tf_dim_ordering_tf_kernels_notop.h5'\n",
    "pre_trained_model = InceptionV3(input_shape=(150,150,3),\n",
    "                                include_top=False, weights=None)\n",
    "pre_trained_model.load_weights(local_weights_file)"
   ]
  },
  {
   "cell_type": "markdown",
   "id": "6d9d0a7a",
   "metadata": {},
   "source": [
    "By specifying the `include_top=False` argument, we load a network that doesn't include the classification layers at the top—ideal for feature extraction"
   ]
  },
  {
   "cell_type": "markdown",
   "id": "7f30d058",
   "metadata": {},
   "source": [
    "#### Make the model non-trainable, since we will only use it for feature extraction; we won't update the weights of the pretrained model during training"
   ]
  },
  {
   "cell_type": "code",
   "execution_count": 5,
   "id": "1ef6f277",
   "metadata": {},
   "outputs": [],
   "source": [
    "for layer in pre_trained_model.layers:\n",
    "    layer.trainable = False"
   ]
  },
  {
   "cell_type": "markdown",
   "id": "be5c1729",
   "metadata": {},
   "source": [
    "The layer we will use for feature extraction in **Inception v3** is called `mixed7`. It is not the bottleneck of the network, but we are using it to keep a sufficiently large feature map (7x7 in this case). (Using the bottleneck layer would have resulting in a 3x3 feature map, which is a bit small.)"
   ]
  },
  {
   "cell_type": "code",
   "execution_count": 6,
   "id": "9e86e943",
   "metadata": {},
   "outputs": [
    {
     "name": "stdout",
     "output_type": "stream",
     "text": [
      "Last layer output shape:  (None, 7, 7, 768)\n"
     ]
    }
   ],
   "source": [
    "last_layer = pre_trained_model.get_layer('mixed7')\n",
    "print('Last layer output shape: ', last_layer.output_shape)\n",
    "last_output = last_layer.output"
   ]
  },
  {
   "cell_type": "markdown",
   "id": "19735c6f",
   "metadata": {},
   "source": [
    "#### Stick a fully connected classifier on top of last_output"
   ]
  },
  {
   "cell_type": "code",
   "execution_count": 8,
   "id": "6c357f94",
   "metadata": {},
   "outputs": [],
   "source": [
    "from tensorflow.keras.optimizers import RMSprop\n",
    "\n",
    "x = layers.Flatten()(last_output)\n",
    "\n",
    "x = layers.Dense(1024, activation='relu')(x)\n",
    "\n",
    "x = layers.Dropout(0.2)(x)\n",
    "\n",
    "x = layers.Dense(1, activation='sigmoid')(x)\n",
    "\n",
    "model = Model(pre_trained_model.input, x)\n",
    "model.compile(loss='binary_crossentropy',\n",
    "             optimizer=RMSprop(lr=0.0001),\n",
    "             metrics=['acc'])"
   ]
  },
  {
   "cell_type": "code",
   "execution_count": 10,
   "id": "f7b0198a",
   "metadata": {},
   "outputs": [
    {
     "name": "stdout",
     "output_type": "stream",
     "text": [
      "['cat.421.jpg', 'cat.401.jpg', 'cat.448.jpg', 'cat.21.jpg', 'cat.108.jpg', 'cat.239.jpg', 'cat.201.jpg', 'cat.184.jpg', 'cat.587.jpg', 'cat.694.jpg']\n",
      "['dog.0.jpg', 'dog.1.jpg', 'dog.10.jpg', 'dog.100.jpg', 'dog.101.jpg', 'dog.102.jpg', 'dog.103.jpg', 'dog.104.jpg', 'dog.105.jpg', 'dog.106.jpg']\n",
      "Found 2000 images belonging to 2 classes.\n",
      "Found 1000 images belonging to 2 classes.\n"
     ]
    }
   ],
   "source": [
    "import os\n",
    "import zipfile\n",
    "from tensorflow.keras.preprocessing.image import ImageDataGenerator\n",
    "\n",
    "local_zip = '/tmp/cats_and_dogs_filtered.zip'\n",
    "zip_ref = zipfile.ZipFile(local_zip, 'r')\n",
    "zip_ref.extractall('/tmp')\n",
    "zip_ref.close()\n",
    "\n",
    "base_dir = '/tmp/cats_and_dogs_filtered'\n",
    "train_dir = os.path.join(base_dir, 'train')\n",
    "validation_dir = os.path.join(base_dir, 'validation')\n",
    "\n",
    "train_cats_dir = os.path.join(train_dir, 'cats')\n",
    "train_dogs_dir = os.path.join(train_dir, 'dogs')\n",
    "\n",
    "validation_cats_dir = os.path.join(validation_dir, 'cats')\n",
    "validation_dogs_dir = os.path.join(validation_dir, 'dogs')\n",
    "\n",
    "train_cat_fnames = os.listdir(train_cats_dir)\n",
    "print(train_cat_fnames[:10])\n",
    "\n",
    "train_dog_fnames = os.listdir(train_dogs_dir)\n",
    "train_dog_fnames.sort()\n",
    "print(train_dog_fnames[:10])\n",
    "\n",
    "\n",
    "train_datagen = ImageDataGenerator(rescale=1./255,\n",
    "                                  rotation_range=40,\n",
    "                                  width_shift_range=0.2,\n",
    "                                  height_shift_range=0.2,\n",
    "                                  shear_range=0.2,\n",
    "                                  zoom_range=0.2,\n",
    "                                  horizontal_flip=True,)\n",
    "\n",
    "\n",
    "val_datagen = ImageDataGenerator(rescale=1./255)\n",
    "\n",
    "train_generator = train_datagen.flow_from_directory(train_dir,\n",
    "                                                    target_size=(150,150),\n",
    "                                                    batch_size=20,\n",
    "                                                   # Since we use binary_crossentropy loss, we need binary labels\n",
    "                                                   class_mode='binary')\n",
    "\n",
    "validation_generator = val_datagen.flow_from_directory(validation_dir,\n",
    "                                                      target_size=(150,150),\n",
    "                                                      batch_size=20,\n",
    "                                                      class_mode='binary')"
   ]
  },
  {
   "cell_type": "code",
   "execution_count": 19,
   "id": "a8383ae6",
   "metadata": {},
   "outputs": [
    {
     "name": "stdout",
     "output_type": "stream",
     "text": [
      "Epoch 1/5\n"
     ]
    },
    {
     "name": "stderr",
     "output_type": "stream",
     "text": [
      "/home/nsl54/anaconda3/envs/mlenv/lib/python3.7/site-packages/ipykernel_launcher.py:6: UserWarning: `Model.fit_generator` is deprecated and will be removed in a future version. Please use `Model.fit`, which supports generators.\n",
      "  \n"
     ]
    },
    {
     "name": "stdout",
     "output_type": "stream",
     "text": [
      "100/100 - 32s - loss: 0.0578 - acc: 0.9810 - val_loss: 0.1346 - val_acc: 0.9680 - 32s/epoch - 323ms/step\n",
      "Epoch 2/5\n",
      "100/100 - 33s - loss: 0.0740 - acc: 0.9770 - val_loss: 0.1620 - val_acc: 0.9610 - 33s/epoch - 330ms/step\n",
      "Epoch 3/5\n",
      "100/100 - 32s - loss: 0.0624 - acc: 0.9790 - val_loss: 0.1543 - val_acc: 0.9620 - 32s/epoch - 323ms/step\n",
      "Epoch 4/5\n",
      "100/100 - 33s - loss: 0.0682 - acc: 0.9780 - val_loss: 0.2137 - val_acc: 0.9530 - 33s/epoch - 326ms/step\n",
      "Epoch 5/5\n",
      "100/100 - 32s - loss: 0.0802 - acc: 0.9735 - val_loss: 0.1663 - val_acc: 0.9640 - 32s/epoch - 324ms/step\n"
     ]
    }
   ],
   "source": [
    "history = model.fit_generator(train_generator,\n",
    "                             steps_per_epoch=100,\n",
    "                             epochs=5,\n",
    "                             validation_data=validation_generator,\n",
    "                             validation_steps=50,\n",
    "                             verbose=2)"
   ]
  },
  {
   "cell_type": "code",
   "execution_count": 20,
   "id": "4d572701",
   "metadata": {
    "collapsed": true
   },
   "outputs": [
    {
     "data": {
      "text/plain": [
       "Text(0.5, 1.0, 'Training and Validation Loss')"
      ]
     },
     "execution_count": 20,
     "metadata": {},
     "output_type": "execute_result"
    },
    {
     "data": {
      "image/png": "[encoded data removed]",
      "text/plain": [
       "<Figure size 432x288 with 1 Axes>"
      ]
     },
     "metadata": {
      "needs_background": "light"
     },
     "output_type": "display_data"
    },
    {
     "data": {
      "image/png": "[encoded data removed]",
      "text/plain": [
       "<Figure size 432x288 with 1 Axes>"
      ]
     },
     "metadata": {
      "needs_background": "light"
     },
     "output_type": "display_data"
    }
   ],
   "source": [
    "%matplotlib inline\n",
    "\n",
    "import matplotlib.pyplot as plt\n",
    "\n",
    "acc = history.history['acc']\n",
    "val_acc = history.history['val_acc']\n",
    "\n",
    "loss = history.history['loss']\n",
    "val_loss = history.history['val_loss']\n",
    "\n",
    "epochs = range(len(acc))\n",
    "\n",
    "plt.plot(epochs, acc)\n",
    "plt.plot(epochs, val_acc)\n",
    "plt.title('Training and Validation Accuracy')\n",
    "\n",
    "plt.figure()\n",
    "\n",
    "plt.plot(epochs, loss)\n",
    "plt.plot(epochs, val_loss)\n",
    "plt.title('Training and Validation Loss')"
   ]
  },
  {
   "cell_type": "markdown",
   "id": "e93a1444",
   "metadata": {},
   "source": [
    "## Further Improving Accuracy with Fine Tuning\n",
    "**"
   ]
  },
  {
   "cell_type": "code",
   "execution_count": 21,
   "id": "42132b06",
   "metadata": {},
   "outputs": [
    {
     "name": "stderr",
     "output_type": "stream",
     "text": [
      "/home/nsl54/anaconda3/envs/mlenv/lib/python3.7/site-packages/keras/optimizers/optimizer_v2/gradient_descent.py:111: UserWarning: The `lr` argument is deprecated, use `learning_rate` instead.\n",
      "  super().__init__(name, **kwargs)\n"
     ]
    }
   ],
   "source": [
    "from tensorflow.keras.optimizers import SGD\n",
    "\n",
    "unfreeze = False\n",
    "\n",
    "for layer in pre_trained_model.layers:\n",
    "    if unfreeze:\n",
    "        layer.trainable = True\n",
    "    if layer.name == 'mixed6':\n",
    "        unfreeze = True\n",
    "        \n",
    "model.compile(loss='binary_crossentropy',\n",
    "             optimizer=SGD(lr=0.00001,momentum=0.9),\n",
    "             metrics=['acc'])"
   ]
  },
  {
   "cell_type": "code",
   "execution_count": 23,
   "id": "a7cf169c",
   "metadata": {
    "scrolled": true
   },
   "outputs": [
    {
     "name": "stdout",
     "output_type": "stream",
     "text": [
      "Epoch 1/50\n"
     ]
    },
    {
     "name": "stderr",
     "output_type": "stream",
     "text": [
      "/home/nsl54/anaconda3/envs/mlenv/lib/python3.7/site-packages/ipykernel_launcher.py:6: UserWarning: `Model.fit_generator` is deprecated and will be removed in a future version. Please use `Model.fit`, which supports generators.\n",
      "  \n"
     ]
    },
    {
     "name": "stdout",
     "output_type": "stream",
     "text": [
      "100/100 - 27s - loss: 0.1559 - acc: 0.9430 - val_loss: 0.1577 - val_acc: 0.9580 - 27s/epoch - 266ms/step\n",
      "Epoch 2/50\n",
      "100/100 - 25s - loss: 0.1535 - acc: 0.9555 - val_loss: 0.1796 - val_acc: 0.9530 - 25s/epoch - 251ms/step\n",
      "Epoch 3/50\n",
      "100/100 - 25s - loss: 0.1329 - acc: 0.9560 - val_loss: 0.1913 - val_acc: 0.9520 - 25s/epoch - 251ms/step\n",
      "Epoch 4/50\n",
      "100/100 - 25s - loss: 0.1279 - acc: 0.9560 - val_loss: 0.1938 - val_acc: 0.9510 - 25s/epoch - 252ms/step\n",
      "Epoch 5/50\n",
      "100/100 - 25s - loss: 0.1392 - acc: 0.9530 - val_loss: 0.1945 - val_acc: 0.9510 - 25s/epoch - 252ms/step\n",
      "Epoch 6/50\n",
      "100/100 - 25s - loss: 0.1195 - acc: 0.9570 - val_loss: 0.1953 - val_acc: 0.9520 - 25s/epoch - 252ms/step\n",
      "Epoch 7/50\n",
      "100/100 - 25s - loss: 0.1227 - acc: 0.9615 - val_loss: 0.1934 - val_acc: 0.9530 - 25s/epoch - 252ms/step\n",
      "Epoch 8/50\n",
      "100/100 - 25s - loss: 0.1202 - acc: 0.9610 - val_loss: 0.1915 - val_acc: 0.9550 - 25s/epoch - 253ms/step\n",
      "Epoch 9/50\n",
      "100/100 - 25s - loss: 0.1063 - acc: 0.9610 - val_loss: 0.1894 - val_acc: 0.9560 - 25s/epoch - 253ms/step\n",
      "Epoch 10/50\n",
      "100/100 - 25s - loss: 0.1114 - acc: 0.9600 - val_loss: 0.1886 - val_acc: 0.9550 - 25s/epoch - 253ms/step\n",
      "Epoch 11/50\n",
      "100/100 - 25s - loss: 0.1193 - acc: 0.9530 - val_loss: 0.1879 - val_acc: 0.9540 - 25s/epoch - 253ms/step\n",
      "Epoch 12/50\n",
      "100/100 - 25s - loss: 0.1100 - acc: 0.9605 - val_loss: 0.1862 - val_acc: 0.9540 - 25s/epoch - 253ms/step\n",
      "Epoch 13/50\n",
      "100/100 - 25s - loss: 0.1115 - acc: 0.9640 - val_loss: 0.1853 - val_acc: 0.9540 - 25s/epoch - 253ms/step\n",
      "Epoch 14/50\n",
      "100/100 - 26s - loss: 0.1263 - acc: 0.9560 - val_loss: 0.1840 - val_acc: 0.9540 - 26s/epoch - 257ms/step\n",
      "Epoch 15/50\n",
      "100/100 - 26s - loss: 0.1207 - acc: 0.9575 - val_loss: 0.1816 - val_acc: 0.9540 - 26s/epoch - 259ms/step\n",
      "Epoch 16/50\n",
      "100/100 - 26s - loss: 0.1078 - acc: 0.9615 - val_loss: 0.1816 - val_acc: 0.9540 - 26s/epoch - 259ms/step\n",
      "Epoch 17/50\n",
      "100/100 - 26s - loss: 0.1238 - acc: 0.9605 - val_loss: 0.1774 - val_acc: 0.9540 - 26s/epoch - 260ms/step\n",
      "Epoch 18/50\n",
      "100/100 - 26s - loss: 0.1236 - acc: 0.9595 - val_loss: 0.1784 - val_acc: 0.9540 - 26s/epoch - 260ms/step\n",
      "Epoch 19/50\n",
      "100/100 - 26s - loss: 0.1071 - acc: 0.9605 - val_loss: 0.1764 - val_acc: 0.9540 - 26s/epoch - 257ms/step\n",
      "Epoch 20/50\n",
      "100/100 - 26s - loss: 0.1162 - acc: 0.9610 - val_loss: 0.1740 - val_acc: 0.9550 - 26s/epoch - 259ms/step\n",
      "Epoch 21/50\n",
      "100/100 - 26s - loss: 0.1034 - acc: 0.9660 - val_loss: 0.1736 - val_acc: 0.9550 - 26s/epoch - 258ms/step\n",
      "Epoch 22/50\n",
      "100/100 - 26s - loss: 0.1215 - acc: 0.9585 - val_loss: 0.1738 - val_acc: 0.9560 - 26s/epoch - 259ms/step\n",
      "Epoch 23/50\n",
      "100/100 - 26s - loss: 0.1123 - acc: 0.9530 - val_loss: 0.1732 - val_acc: 0.9570 - 26s/epoch - 260ms/step\n",
      "Epoch 24/50\n",
      "100/100 - 26s - loss: 0.1333 - acc: 0.9555 - val_loss: 0.1718 - val_acc: 0.9570 - 26s/epoch - 260ms/step\n",
      "Epoch 25/50\n",
      "100/100 - 26s - loss: 0.0974 - acc: 0.9650 - val_loss: 0.1709 - val_acc: 0.9560 - 26s/epoch - 259ms/step\n",
      "Epoch 26/50\n",
      "100/100 - 26s - loss: 0.1325 - acc: 0.9585 - val_loss: 0.1707 - val_acc: 0.9570 - 26s/epoch - 259ms/step\n",
      "Epoch 27/50\n",
      "100/100 - 27s - loss: 0.1119 - acc: 0.9550 - val_loss: 0.1696 - val_acc: 0.9570 - 27s/epoch - 266ms/step\n",
      "Epoch 28/50\n",
      "100/100 - 26s - loss: 0.1111 - acc: 0.9585 - val_loss: 0.1682 - val_acc: 0.9580 - 26s/epoch - 260ms/step\n",
      "Epoch 29/50\n",
      "100/100 - 26s - loss: 0.1130 - acc: 0.9610 - val_loss: 0.1664 - val_acc: 0.9570 - 26s/epoch - 259ms/step\n",
      "Epoch 30/50\n",
      "100/100 - 26s - loss: 0.1101 - acc: 0.9580 - val_loss: 0.1667 - val_acc: 0.9570 - 26s/epoch - 261ms/step\n",
      "Epoch 31/50\n",
      "100/100 - 26s - loss: 0.1182 - acc: 0.9560 - val_loss: 0.1675 - val_acc: 0.9570 - 26s/epoch - 265ms/step\n",
      "Epoch 32/50\n",
      "100/100 - 26s - loss: 0.1134 - acc: 0.9555 - val_loss: 0.1666 - val_acc: 0.9580 - 26s/epoch - 259ms/step\n",
      "Epoch 33/50\n",
      "100/100 - 26s - loss: 0.1066 - acc: 0.9585 - val_loss: 0.1655 - val_acc: 0.9580 - 26s/epoch - 261ms/step\n",
      "Epoch 34/50\n",
      "100/100 - 26s - loss: 0.1159 - acc: 0.9645 - val_loss: 0.1639 - val_acc: 0.9580 - 26s/epoch - 259ms/step\n",
      "Epoch 35/50\n",
      "100/100 - 26s - loss: 0.1031 - acc: 0.9645 - val_loss: 0.1632 - val_acc: 0.9590 - 26s/epoch - 261ms/step\n",
      "Epoch 36/50\n",
      "100/100 - 26s - loss: 0.0959 - acc: 0.9700 - val_loss: 0.1620 - val_acc: 0.9590 - 26s/epoch - 260ms/step\n",
      "Epoch 37/50\n",
      "100/100 - 26s - loss: 0.0987 - acc: 0.9620 - val_loss: 0.1620 - val_acc: 0.9590 - 26s/epoch - 259ms/step\n",
      "Epoch 38/50\n",
      "100/100 - 26s - loss: 0.1055 - acc: 0.9635 - val_loss: 0.1603 - val_acc: 0.9600 - 26s/epoch - 259ms/step\n",
      "Epoch 39/50\n",
      "100/100 - 26s - loss: 0.1023 - acc: 0.9690 - val_loss: 0.1601 - val_acc: 0.9600 - 26s/epoch - 259ms/step\n",
      "Epoch 40/50\n",
      "100/100 - 26s - loss: 0.1101 - acc: 0.9600 - val_loss: 0.1601 - val_acc: 0.9590 - 26s/epoch - 261ms/step\n",
      "Epoch 41/50\n",
      "100/100 - 26s - loss: 0.1078 - acc: 0.9605 - val_loss: 0.1599 - val_acc: 0.9590 - 26s/epoch - 258ms/step\n",
      "Epoch 42/50\n",
      "100/100 - 26s - loss: 0.0990 - acc: 0.9650 - val_loss: 0.1609 - val_acc: 0.9590 - 26s/epoch - 260ms/step\n",
      "Epoch 43/50\n",
      "100/100 - 26s - loss: 0.1078 - acc: 0.9605 - val_loss: 0.1611 - val_acc: 0.9590 - 26s/epoch - 264ms/step\n",
      "Epoch 44/50\n",
      "100/100 - 26s - loss: 0.0928 - acc: 0.9675 - val_loss: 0.1605 - val_acc: 0.9590 - 26s/epoch - 261ms/step\n",
      "Epoch 45/50\n",
      "100/100 - 26s - loss: 0.0970 - acc: 0.9640 - val_loss: 0.1592 - val_acc: 0.9600 - 26s/epoch - 259ms/step\n",
      "Epoch 46/50\n",
      "100/100 - 26s - loss: 0.0995 - acc: 0.9615 - val_loss: 0.1602 - val_acc: 0.9600 - 26s/epoch - 260ms/step\n",
      "Epoch 47/50\n",
      "100/100 - 26s - loss: 0.1106 - acc: 0.9635 - val_loss: 0.1581 - val_acc: 0.9600 - 26s/epoch - 262ms/step\n",
      "Epoch 48/50\n",
      "100/100 - 26s - loss: 0.1087 - acc: 0.9630 - val_loss: 0.1580 - val_acc: 0.9590 - 26s/epoch - 261ms/step\n",
      "Epoch 49/50\n",
      "100/100 - 26s - loss: 0.1104 - acc: 0.9615 - val_loss: 0.1577 - val_acc: 0.9590 - 26s/epoch - 260ms/step\n",
      "Epoch 50/50\n",
      "100/100 - 26s - loss: 0.1100 - acc: 0.9610 - val_loss: 0.1576 - val_acc: 0.9600 - 26s/epoch - 262ms/step\n"
     ]
    }
   ],
   "source": [
    "history = model.fit_generator(train_generator,\n",
    "                             steps_per_epoch=100,\n",
    "                             epochs=50,\n",
    "                             validation_data=validation_generator,\n",
    "                             validation_steps=50,\n",
    "                             verbose=2)"
   ]
  },
  {
   "cell_type": "code",
   "execution_count": 24,
   "id": "86dad0b0",
   "metadata": {},
   "outputs": [
    {
     "data": {
      "text/plain": [
       "Text(0.5, 1.0, 'Training and Validation Loss')"
      ]
     },
     "execution_count": 24,
     "metadata": {},
     "output_type": "execute_result"
    },
    {
     "data": {
      "image/png": "[encoded data removed]",
      "text/plain": [
       "<Figure size 432x288 with 1 Axes>"
      ]
     },
     "metadata": {
      "needs_background": "light"
     },
     "output_type": "display_data"
    },
    {
     "data": {
      "image/png": "[encoded data removed]",
      "text/plain": [
       "<Figure size 432x288 with 1 Axes>"
      ]
     },
     "metadata": {
      "needs_background": "light"
     },
     "output_type": "display_data"
    }
   ],
   "source": [
    "%matplotlib inline\n",
    "\n",
    "import matplotlib.pyplot as plt\n",
    "\n",
    "acc = history.history['acc']\n",
    "val_acc = history.history['val_acc']\n",
    "\n",
    "loss = history.history['loss']\n",
    "val_loss = history.history['val_loss']\n",
    "\n",
    "epochs = range(len(acc))\n",
    "\n",
    "plt.plot(epochs, acc)\n",
    "plt.plot(epochs, val_acc)\n",
    "plt.title('Training and Validation Accuracy')\n",
    "\n",
    "plt.figure()\n",
    "\n",
    "plt.plot(epochs, loss)\n",
    "plt.plot(epochs, val_loss)\n",
    "plt.title('Training and Validation Loss')"
   ]
  },
  {
   "cell_type": "markdown",
   "id": "e883a037",
   "metadata": {},
   "source": [
    "## Clean Up\n",
    "\n",
    "Run the following cell to terminate the kernel and free memory resources:"
   ]
  },
  {
   "cell_type": "code",
   "execution_count": null,
   "id": "61ed1d32",
   "metadata": {},
   "outputs": [],
   "source": [
    "import os, signal\n",
    "os.kill(os.getpid(), signal.SIGKILL)"
   ]
  }
 ],
 "metadata": {
  "kernelspec": {
   "display_name": "mlenv",
   "language": "python",
   "name": "mlenv"
  },
  "language_info": {
   "codemirror_mode": {
    "name": "ipython",
    "version": 3
   },
   "file_extension": ".py",
   "mimetype": "text/x-python",
   "name": "python",
   "nbconvert_exporter": "python",
   "pygments_lexer": "ipython3",
   "version": "3.7.0"
  }
 },
 "nbformat": 4,
 "nbformat_minor": 5
}
