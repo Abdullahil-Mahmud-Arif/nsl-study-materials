{
 "cells": [
  {
   "cell_type": "markdown",
   "id": "002d1fd3",
   "metadata": {},
   "source": [
    "# Objectives:\n",
    "- Understanding the classic MNIST problem\n",
    "- Create a deep neural network that performs multi-class classification\n",
    "- Tune the dnn"
   ]
  },
  {
   "attachments": {
    "MNIST-Matrix.png": {
     "image/png": "[encoded data removed]"
    }
   },
   "cell_type": "markdown",
   "id": "5de2e88f",
   "metadata": {},
   "source": [
    "## The Dataset\n",
    "- The MNIST training set contains 60,000 examples\n",
    "- The MNIST test set contains 10,000 examples\n",
    "<br>\n",
    "\n",
    "Each example contains a pixel map showing how a person wrote a digit. For example, the following image shows how a person wrote the digit `1` and how that digit might be represented in a 14x14 pixel map (after input data is normalized).\n",
    "![MNIST-Matrix.png](attachment:MNIST-Matrix.png)\n",
    "\n",
    "Each example in the MNIST dataset consists of:\n",
    "- A label specified by a rater. Each label must be an integer from 0 to 9. For example, in the image, the rater would almost certainly assign the label `1` to the example.\n",
    "- A 28x28 pixel map, where each pixel is an integer between 0 and 255. The pixel values are on a gray scale in which 0 represents white, 255 represents black, and values between 0 and 255 represent various shades of gray.\n",
    "<br>\n",
    "This is a multi-class classification problem with 10 output classes."
   ]
  },
  {
   "cell_type": "code",
   "execution_count": 1,
   "id": "5ff8b0c2",
   "metadata": {},
   "outputs": [
    {
     "name": "stderr",
     "output_type": "stream",
     "text": [
      "2022-10-26 10:47:03.053413: I tensorflow/core/platform/cpu_feature_guard.cc:193] This TensorFlow binary is optimized with oneAPI Deep Neural Network Library (oneDNN) to use the following CPU instructions in performance-critical operations:  AVX2 AVX512F AVX512_VNNI FMA\n",
      "To enable them in other operations, rebuild TensorFlow with the appropriate compiler flags.\n",
      "2022-10-26 10:47:03.278091: I tensorflow/core/util/util.cc:169] oneDNN custom operations are on. You may see slightly different numerical results due to floating-point round-off errors from different computation orders. To turn them off, set the environment variable `TF_ENABLE_ONEDNN_OPTS=0`.\n",
      "2022-10-26 10:47:03.343382: W tensorflow/stream_executor/platform/default/dso_loader.cc:64] Could not load dynamic library 'libcudart.so.11.0'; dlerror: libcudart.so.11.0: cannot open shared object file: No such file or directory\n",
      "2022-10-26 10:47:03.343413: I tensorflow/stream_executor/cuda/cudart_stub.cc:29] Ignore above cudart dlerror if you do not have a GPU set up on your machine.\n",
      "2022-10-26 10:47:03.386852: E tensorflow/stream_executor/cuda/cuda_blas.cc:2981] Unable to register cuBLAS factory: Attempting to register factory for plugin cuBLAS when one has already been registered\n",
      "2022-10-26 10:47:04.075182: W tensorflow/stream_executor/platform/default/dso_loader.cc:64] Could not load dynamic library 'libnvinfer.so.7'; dlerror: libnvinfer.so.7: cannot open shared object file: No such file or directory\n",
      "2022-10-26 10:47:04.075227: W tensorflow/stream_executor/platform/default/dso_loader.cc:64] Could not load dynamic library 'libnvinfer_plugin.so.7'; dlerror: libnvinfer_plugin.so.7: cannot open shared object file: No such file or directory\n",
      "2022-10-26 10:47:04.075232: W tensorflow/compiler/tf2tensorrt/utils/py_utils.cc:38] TF-TRT Warning: Cannot dlopen some TensorRT libraries. If you would like to use Nvidia GPU with TensorRT, please make sure the missing libraries mentioned above are installed properly.\n"
     ]
    }
   ],
   "source": [
    "import numpy as np\n",
    "import pandas as pd\n",
    "import tensorflow as tf\n",
    "from tensorflow.keras import layers\n",
    "from matplotlib import pyplot as plt\n",
    "\n",
    "pd.options.display.max_rows = 10\n",
    "pd.options.display.float_format = \"{:.1f}\".format\n",
    "\n",
    "np.set_printoptions(linewidth=200)"
   ]
  },
  {
   "cell_type": "markdown",
   "id": "de3fa3e8",
   "metadata": {},
   "source": [
    "## Load dataset\n",
    "\n",
    "tf.keras provides a set of convenience functions for loading well known datasets. Each of these convenience functions does the following:\n",
    "- Loads both the training set and the test set\n",
    "- Separates each set into features and labels\n",
    "<br>\n",
    "\n",
    "The relavant convenience function for MNIST is called `mnist.load_data()`"
   ]
  },
  {
   "cell_type": "code",
   "execution_count": 2,
   "id": "8dc01582",
   "metadata": {},
   "outputs": [
    {
     "name": "stdout",
     "output_type": "stream",
     "text": [
      "Downloading data from https://storage.googleapis.com/tensorflow/tf-keras-datasets/mnist.npz\n",
      "11490434/11490434 [==============================] - 2s 0us/step\n"
     ]
    }
   ],
   "source": [
    "(x_train, y_train), (x_test, y_test) = tf.keras.datasets.mnist.load_data()"
   ]
  },
  {
   "cell_type": "markdown",
   "id": "d10216ee",
   "metadata": {},
   "source": [
    "## View the dataset\n",
    "The `.csv` file for MNIST does not contain column names. We use ordinal numbers to access different subsets of the MNIST dataset. It is probably best to think of `x_train` and `x_test` as 3d NumPy arrays"
   ]
  },
  {
   "cell_type": "code",
   "execution_count": 12,
   "id": "261f0df9",
   "metadata": {},
   "outputs": [
    {
     "data": {
      "text/plain": [
       "array([[  0,   0,   0,   0,   0,   0,   0,   0,   0,   0,   0,   0,   0,   0,   0,   0,   0,   0,   0,   0,   0,   0,   0,   0,   0,   0,   0,   0],\n",
       "       [  0,   0,   0,   0,   0,   0,   0,   0,   0,   0,   0,   0,   0,   0,   0,   0,   0,   0,   0,   0,   0,   0,   0,   0,   0,   0,   0,   0],\n",
       "       [  0,   0,   0,   0,   0,   0,   0,   0,   0,   0,   0,   0,   0,   0,   0,   0,   0,   0,   0,   0,   0,   0,   0,   0,   0,   0,   0,   0],\n",
       "       [  0,   0,   0,   0,   0,   0,   0,   0,   0,   0,   0,   0,   0,   0,   0,   0,   0,   0,   0,   0,   0,   0,   0,   0,   0,   0,   0,   0],\n",
       "       [  0,   0,   0,   0,   0,   0,   0,   0,   0,   0,   0,   0,   0,   0,   0,   0,   0,   0,   0,   0,   0,   0,   0,   0,   0,   0,   0,   0],\n",
       "       [  0,   0,   0,   0,   0,   0,   0,   0,   0,   0,   0,  94, 163,  99, 228, 255, 202,  49,  58,  47,   0,   0,   0,   0,   0,   0,   0,   0],\n",
       "       [  0,   0,   0,   0,   0,   0,   0,   0,   0,   0, 171, 245, 253, 253, 253, 254, 221, 236, 174, 173,  72, 136,   0,   0,   0,   0,   0,   0],\n",
       "       [  0,   0,   0,   0,   0,   0,   0,   0,   0,   0, 254, 253, 253, 253, 253, 208, 128, 197, 250, 243, 142, 123,   0,   0,   0,   0,   0,   0],\n",
       "       [  0,   0,   0,   0,   0,   0,   0,   0,   0,   0, 241, 253, 253, 199,  80,  35,  23,  47,  87,  87,  97, 110,   0,   0,   0,   0,   0,   0],\n",
       "       [  0,   0,   0,   0,   0,   0,   0,   0,   0,   0, 137, 253, 253,  54,   0,   0,   0,   0,   0,   0,   0,   0,   0,   0,   0,   0,   0,   0],\n",
       "       [  0,   0,   0,   0,   0,   0,   0,   0,   0,  92, 255, 254, 254, 119,   0,   0,   0,   0,   0,   0,   0,   0,   0,   0,   0,   0,   0,   0],\n",
       "       [  0,   0,   0,   0,   0,   0,   0,   0,   4, 158, 254, 253, 199,   4,   0,   0,   0,   0,   0,   0,   0,   0,   0,   0,   0,   0,   0,   0],\n",
       "       [  0,   0,   0,   0,   0,   0,   0,   0,  77, 253, 254, 180,  31,   0,   0,   0,   0,   0,   0,   0,   0,   0,   0,   0,   0,   0,   0,   0],\n",
       "       [  0,   0,   0,   0,   0,   0,   0,   3, 203, 253, 254, 108,   0,   0,   0,   0,   0,   0,   0,   0,   0,   0,   0,   0,   0,   0,   0,   0],\n",
       "       [  0,   0,   0,   0,   0,   0,   0,  37, 253, 253, 254,  43,   0,   0,   0,   0,   0,   0,   0,   0,   0,   0,   0,   0,   0,   0,   0,   0],\n",
       "       [  0,   0,   0,   0,   0,   0,   0,  14, 219, 254, 255,  18,   0,   0,   0,   0,   0,   0,   0,   0,   0,   0,   0,   0,   0,   0,   0,   0],\n",
       "       [  0,   0,   0,   0,   0,   0,   0,   0, 199, 253, 228,  62,  55,  55,  55,  88,  35,  55,  12,   0,   0,   0,   0,   0,   0,   0,   0,   0],\n",
       "       [  0,   0,   0,   0,   0,   0,   0,   0, 109, 253, 254, 253, 253, 253, 253, 254, 240, 253, 186,  95,   0,   0,   0,   0,   0,   0,   0,   0],\n",
       "       [  0,   0,   0,   0,   0,   0,   0,   0,  11, 215, 254, 253, 253, 253, 253, 254, 253, 253, 253, 253,  84,   2,   0,   0,   0,   0,   0,   0],\n",
       "       [  0,   0,   0,   0,   0,   0,   0,   0,   0,  26, 189, 253, 253, 253, 253, 228, 162, 207, 253, 253, 254,  18,   0,   0,   0,   0,   0,   0],\n",
       "       [  0,   0,   0,   0,   0,   0,   0,   0,   0,   0,   0,   0,  14,  85,   0,   0,   0,   0,  40, 207, 255, 109,   0,   0,   0,   0,   0,   0],\n",
       "       [  0,   0,   0,   0,   0,   0,   0,   0,   0,   0,   0,   0,   0,   0,   0,   0,   0,   0,  89, 248, 254,  56,   0,   0,   0,   0,   0,   0],\n",
       "       [  0,   0,   0,   0,   0,   0,   0,   0,   0,   0,   0,   0,   0,   0,   0,   0,  21, 159, 245, 253, 165,   3,   0,   0,   0,   0,   0,   0],\n",
       "       [  0,   0,   0,   0,   0,   0,   0,   0,   0,   0,   0,   0,   0,   0,  79, 200, 230, 253, 245, 137,   0,   0,   0,   0,   0,   0,   0,   0],\n",
       "       [  0,   0,   0,   0,   0,   0,   0,   0,   0,   0,   0,   0,   0,   0, 117, 163, 194, 194,  61,   0,   0,   0,   0,   0,   0,   0,   0,   0],\n",
       "       [  0,   0,   0,   0,   0,   0,   0,   0,   0,   0,   0,   0,   0,   0,   0,   0,   0,   0,   0,   0,   0,   0,   0,   0,   0,   0,   0,   0],\n",
       "       [  0,   0,   0,   0,   0,   0,   0,   0,   0,   0,   0,   0,   0,   0,   0,   0,   0,   0,   0,   0,   0,   0,   0,   0,   0,   0,   0,   0],\n",
       "       [  0,   0,   0,   0,   0,   0,   0,   0,   0,   0,   0,   0,   0,   0,   0,   0,   0,   0,   0,   0,   0,   0,   0,   0,   0,   0,   0,   0]], dtype=uint8)"
      ]
     },
     "execution_count": 12,
     "metadata": {},
     "output_type": "execute_result"
    },
    {
     "data": {
      "image/png": "[encoded data removed]",
      "text/plain": [
       "<Figure size 640x480 with 1 Axes>"
      ]
     },
     "metadata": {},
     "output_type": "display_data"
    }
   ],
   "source": [
    "plt.imshow(x_train[2000])\n",
    "x_train[2000]"
   ]
  },
  {
   "cell_type": "code",
   "execution_count": 13,
   "id": "c2eb7329",
   "metadata": {},
   "outputs": [
    {
     "data": {
      "text/plain": [
       "array([  0,   0,   0,   0,   0,   0,   0,   0,   0,  92, 255, 254, 254, 119,   0,   0,   0,   0,   0,   0,   0,   0,   0,   0,   0,   0,   0,   0], dtype=uint8)"
      ]
     },
     "execution_count": 13,
     "metadata": {},
     "output_type": "execute_result"
    }
   ],
   "source": [
    "x_train[2000][10]"
   ]
  },
  {
   "cell_type": "code",
   "execution_count": 17,
   "id": "76ded33b",
   "metadata": {},
   "outputs": [
    {
     "data": {
      "text/plain": [
       "254"
      ]
     },
     "execution_count": 17,
     "metadata": {},
     "output_type": "execute_result"
    }
   ],
   "source": [
    "x_train[2000][10][12]"
   ]
  },
  {
   "cell_type": "markdown",
   "id": "1bd03dcd",
   "metadata": {},
   "source": [
    "## Normalize feature values"
   ]
  },
  {
   "cell_type": "code",
   "execution_count": 19,
   "id": "6d6ea787",
   "metadata": {},
   "outputs": [
    {
     "name": "stdout",
     "output_type": "stream",
     "text": [
      "[0.         0.         0.         0.         0.         0.         0.         0.         0.         0.36078431 1.         0.99607843 0.99607843 0.46666667 0.         0.         0.         0.\n",
      " 0.         0.         0.         0.         0.         0.         0.         0.         0.         0.        ]\n"
     ]
    }
   ],
   "source": [
    "x_train_normalized = x_train / 255.0\n",
    "x_test_normalized = x_test / 255.0\n",
    "print(x_train_normalized[2000][10])"
   ]
  },
  {
   "cell_type": "markdown",
   "id": "cac56e62",
   "metadata": {},
   "source": [
    "## Create, train & plot functions"
   ]
  },
  {
   "cell_type": "code",
   "execution_count": 91,
   "id": "522fca0b",
   "metadata": {},
   "outputs": [
    {
     "name": "stdout",
     "output_type": "stream",
     "text": [
      "Loaded the plot_curve function.\n",
      "Loaded the create_model and train_modell functions.\n"
     ]
    }
   ],
   "source": [
    "def plot_curve(epochs, hist, list_of_metrics):\n",
    "    \n",
    "    plt.figure()\n",
    "    plt.xlabel(\"Epoch\")\n",
    "    plt.ylabel(\"Value\")\n",
    "    \n",
    "    for m in list_of_metrics:\n",
    "        x = hist[m]\n",
    "        plt.plot(epochs[1:], x[1:], label=m)\n",
    "        \n",
    "    plt.legend()\n",
    "    \n",
    "print(\"Loaded the plot_curve function.\")\n",
    "\n",
    "def create_model(my_learning_rate):\n",
    "\n",
    "    model = tf.keras.models.Sequential()\n",
    "\n",
    "\n",
    "    model.add(tf.keras.layers.Flatten(input_shape=(28, 28)))\n",
    "    model.add(tf.keras.layers.Dense(units=256, activation='relu'))\n",
    "    #model.add(tf.keras.layers.Dense(units=256, activation='relu'))\n",
    "    model.add(tf.keras.layers.Dense(units=128, activation='relu'))\n",
    "    model.add(tf.keras.layers.Dropout(rate=0.2))\n",
    "    model.add(tf.keras.layers.Dense(units=10, activation='softmax'))     \n",
    "    model.compile(optimizer=tf.keras.optimizers.Adam(lr=my_learning_rate),\n",
    "                loss=\"sparse_categorical_crossentropy\",\n",
    "                metrics=['accuracy'])\n",
    "    return model    \n",
    "\n",
    "\n",
    "def train_model(model, train_features, train_label, epochs,\n",
    "                batch_size=None, validation_split=0.1):\n",
    "    history = model.fit(x=train_features, y=train_label, batch_size=batch_size,\n",
    "                      epochs=epochs, shuffle=True, \n",
    "                      validation_split=validation_split)\n",
    "    epochs = history.epoch\n",
    "    hist = pd.DataFrame(history.history)\n",
    "    return epochs, hist   \n",
    "\n",
    "print(\"Loaded the create_model and train_modell functions.\")"
   ]
  },
  {
   "cell_type": "markdown",
   "id": "1c43433c",
   "metadata": {},
   "source": [
    "## Create, train, plot & test"
   ]
  },
  {
   "cell_type": "code",
   "execution_count": 92,
   "id": "64956873",
   "metadata": {
    "scrolled": true
   },
   "outputs": [
    {
     "name": "stdout",
     "output_type": "stream",
     "text": [
      "Epoch 1/50\n",
      "12/12 [==============================] - 0s 21ms/step - loss: 1.0322 - accuracy: 0.6944 - val_loss: 0.3469 - val_accuracy: 0.9008\n",
      "Epoch 2/50\n",
      "12/12 [==============================] - 0s 14ms/step - loss: 0.3614 - accuracy: 0.8920 - val_loss: 0.2450 - val_accuracy: 0.9298\n",
      "Epoch 3/50\n",
      "12/12 [==============================] - 0s 14ms/step - loss: 0.2540 - accuracy: 0.9275 - val_loss: 0.1871 - val_accuracy: 0.9443\n",
      "Epoch 4/50\n",
      "12/12 [==============================] - 0s 14ms/step - loss: 0.1961 - accuracy: 0.9414 - val_loss: 0.1595 - val_accuracy: 0.9527\n",
      "Epoch 5/50\n",
      "12/12 [==============================] - 0s 15ms/step - loss: 0.1604 - accuracy: 0.9532 - val_loss: 0.1365 - val_accuracy: 0.9615\n",
      "Epoch 6/50\n",
      "12/12 [==============================] - 0s 14ms/step - loss: 0.1344 - accuracy: 0.9608 - val_loss: 0.1242 - val_accuracy: 0.9647\n",
      "Epoch 7/50\n",
      "12/12 [==============================] - 0s 14ms/step - loss: 0.1136 - accuracy: 0.9667 - val_loss: 0.1145 - val_accuracy: 0.9670\n",
      "Epoch 8/50\n",
      "12/12 [==============================] - 0s 14ms/step - loss: 0.0992 - accuracy: 0.9716 - val_loss: 0.1060 - val_accuracy: 0.9682\n",
      "Epoch 9/50\n",
      "12/12 [==============================] - 0s 14ms/step - loss: 0.0873 - accuracy: 0.9746 - val_loss: 0.1012 - val_accuracy: 0.9694\n",
      "Epoch 10/50\n",
      "12/12 [==============================] - 0s 16ms/step - loss: 0.0778 - accuracy: 0.9771 - val_loss: 0.0976 - val_accuracy: 0.9705\n",
      "Epoch 11/50\n",
      "12/12 [==============================] - 0s 15ms/step - loss: 0.0678 - accuracy: 0.9803 - val_loss: 0.0927 - val_accuracy: 0.9723\n",
      "Epoch 12/50\n",
      "12/12 [==============================] - 0s 15ms/step - loss: 0.0607 - accuracy: 0.9818 - val_loss: 0.0890 - val_accuracy: 0.9728\n",
      "Epoch 13/50\n",
      "12/12 [==============================] - 0s 15ms/step - loss: 0.0547 - accuracy: 0.9840 - val_loss: 0.0891 - val_accuracy: 0.9728\n",
      "Epoch 14/50\n",
      "12/12 [==============================] - 0s 14ms/step - loss: 0.0477 - accuracy: 0.9859 - val_loss: 0.0866 - val_accuracy: 0.9752\n",
      "Epoch 15/50\n",
      "12/12 [==============================] - 0s 16ms/step - loss: 0.0423 - accuracy: 0.9876 - val_loss: 0.0877 - val_accuracy: 0.9731\n",
      "Epoch 16/50\n",
      "12/12 [==============================] - 0s 15ms/step - loss: 0.0380 - accuracy: 0.9894 - val_loss: 0.0849 - val_accuracy: 0.9762\n",
      "Epoch 17/50\n",
      "12/12 [==============================] - 0s 15ms/step - loss: 0.0349 - accuracy: 0.9896 - val_loss: 0.0861 - val_accuracy: 0.9747\n",
      "Epoch 18/50\n",
      "12/12 [==============================] - 0s 15ms/step - loss: 0.0313 - accuracy: 0.9912 - val_loss: 0.0869 - val_accuracy: 0.9746\n",
      "Epoch 19/50\n",
      "12/12 [==============================] - 0s 15ms/step - loss: 0.0285 - accuracy: 0.9916 - val_loss: 0.0867 - val_accuracy: 0.9753\n",
      "Epoch 20/50\n",
      "12/12 [==============================] - 0s 15ms/step - loss: 0.0253 - accuracy: 0.9926 - val_loss: 0.0868 - val_accuracy: 0.9759\n",
      "Epoch 21/50\n",
      "12/12 [==============================] - 0s 15ms/step - loss: 0.0229 - accuracy: 0.9939 - val_loss: 0.0871 - val_accuracy: 0.9749\n",
      "Epoch 22/50\n",
      "12/12 [==============================] - 0s 15ms/step - loss: 0.0208 - accuracy: 0.9944 - val_loss: 0.0872 - val_accuracy: 0.9765\n",
      "Epoch 23/50\n",
      "12/12 [==============================] - 0s 15ms/step - loss: 0.0190 - accuracy: 0.9945 - val_loss: 0.0871 - val_accuracy: 0.9764\n",
      "Epoch 24/50\n",
      "12/12 [==============================] - 0s 15ms/step - loss: 0.0163 - accuracy: 0.9958 - val_loss: 0.0874 - val_accuracy: 0.9772\n",
      "Epoch 25/50\n",
      "12/12 [==============================] - 0s 16ms/step - loss: 0.0142 - accuracy: 0.9967 - val_loss: 0.0882 - val_accuracy: 0.9765\n",
      "Epoch 26/50\n",
      "12/12 [==============================] - 0s 15ms/step - loss: 0.0134 - accuracy: 0.9967 - val_loss: 0.0881 - val_accuracy: 0.9769\n",
      "Epoch 27/50\n",
      "12/12 [==============================] - 0s 15ms/step - loss: 0.0119 - accuracy: 0.9973 - val_loss: 0.0892 - val_accuracy: 0.9772\n",
      "Epoch 28/50\n",
      "12/12 [==============================] - 0s 14ms/step - loss: 0.0104 - accuracy: 0.9978 - val_loss: 0.0916 - val_accuracy: 0.9763\n",
      "Epoch 29/50\n",
      "12/12 [==============================] - 0s 15ms/step - loss: 0.0101 - accuracy: 0.9976 - val_loss: 0.0907 - val_accuracy: 0.9772\n",
      "Epoch 30/50\n",
      "12/12 [==============================] - 0s 15ms/step - loss: 0.0099 - accuracy: 0.9975 - val_loss: 0.0895 - val_accuracy: 0.9772\n",
      "Epoch 31/50\n",
      "12/12 [==============================] - 0s 15ms/step - loss: 0.0091 - accuracy: 0.9982 - val_loss: 0.0917 - val_accuracy: 0.9760\n",
      "Epoch 32/50\n",
      "12/12 [==============================] - 0s 14ms/step - loss: 0.0085 - accuracy: 0.9982 - val_loss: 0.0937 - val_accuracy: 0.9762\n",
      "Epoch 33/50\n",
      "12/12 [==============================] - 0s 15ms/step - loss: 0.0074 - accuracy: 0.9985 - val_loss: 0.0939 - val_accuracy: 0.9763\n",
      "Epoch 34/50\n",
      "12/12 [==============================] - 0s 14ms/step - loss: 0.0074 - accuracy: 0.9983 - val_loss: 0.0920 - val_accuracy: 0.9770\n",
      "Epoch 35/50\n",
      "12/12 [==============================] - 0s 15ms/step - loss: 0.0060 - accuracy: 0.9989 - val_loss: 0.0969 - val_accuracy: 0.9769\n",
      "Epoch 36/50\n",
      "12/12 [==============================] - 0s 14ms/step - loss: 0.0061 - accuracy: 0.9989 - val_loss: 0.0998 - val_accuracy: 0.9767\n",
      "Epoch 37/50\n",
      "12/12 [==============================] - 0s 15ms/step - loss: 0.0056 - accuracy: 0.9987 - val_loss: 0.0968 - val_accuracy: 0.9766\n",
      "Epoch 38/50\n",
      "12/12 [==============================] - 0s 15ms/step - loss: 0.0054 - accuracy: 0.9988 - val_loss: 0.0984 - val_accuracy: 0.9770\n",
      "Epoch 39/50\n",
      "12/12 [==============================] - 0s 15ms/step - loss: 0.0049 - accuracy: 0.9990 - val_loss: 0.1003 - val_accuracy: 0.9768\n",
      "Epoch 40/50\n",
      "12/12 [==============================] - 0s 15ms/step - loss: 0.0044 - accuracy: 0.9992 - val_loss: 0.1032 - val_accuracy: 0.9760\n",
      "Epoch 41/50\n",
      "12/12 [==============================] - 0s 15ms/step - loss: 0.0043 - accuracy: 0.9992 - val_loss: 0.1022 - val_accuracy: 0.9760\n",
      "Epoch 42/50\n",
      "12/12 [==============================] - 0s 15ms/step - loss: 0.0038 - accuracy: 0.9993 - val_loss: 0.1013 - val_accuracy: 0.9767\n",
      "Epoch 43/50\n",
      "12/12 [==============================] - 0s 14ms/step - loss: 0.0037 - accuracy: 0.9993 - val_loss: 0.1026 - val_accuracy: 0.9765\n",
      "Epoch 44/50\n",
      "12/12 [==============================] - 0s 16ms/step - loss: 0.0034 - accuracy: 0.9995 - val_loss: 0.1009 - val_accuracy: 0.9770\n",
      "Epoch 45/50\n",
      "12/12 [==============================] - 0s 15ms/step - loss: 0.0034 - accuracy: 0.9994 - val_loss: 0.1050 - val_accuracy: 0.9769\n",
      "Epoch 46/50\n",
      "12/12 [==============================] - 0s 15ms/step - loss: 0.0032 - accuracy: 0.9995 - val_loss: 0.1021 - val_accuracy: 0.9776\n",
      "Epoch 47/50\n",
      "12/12 [==============================] - 0s 14ms/step - loss: 0.0031 - accuracy: 0.9995 - val_loss: 0.1028 - val_accuracy: 0.9777\n",
      "Epoch 48/50\n",
      "12/12 [==============================] - 0s 15ms/step - loss: 0.0026 - accuracy: 0.9997 - val_loss: 0.1035 - val_accuracy: 0.9773\n",
      "Epoch 49/50\n",
      "12/12 [==============================] - 0s 15ms/step - loss: 0.0027 - accuracy: 0.9996 - val_loss: 0.1065 - val_accuracy: 0.9773\n",
      "Epoch 50/50\n",
      "12/12 [==============================] - 0s 14ms/step - loss: 0.0026 - accuracy: 0.9997 - val_loss: 0.1068 - val_accuracy: 0.9771\n",
      "\n",
      " Evaluate the new model against the test set:\n",
      "3/3 [==============================] - 0s 5ms/step - loss: 0.0859 - accuracy: 0.9803\n"
     ]
    },
    {
     "data": {
      "text/plain": [
       "[0.08586077392101288, 0.9803000092506409]"
      ]
     },
     "execution_count": 92,
     "metadata": {},
     "output_type": "execute_result"
    },
    {
     "data": {
      "image/png": "[encoded data removed]",
      "text/plain": [
       "<Figure size 640x480 with 1 Axes>"
      ]
     },
     "metadata": {},
     "output_type": "display_data"
    }
   ],
   "source": [
    "learning_rate = 0.003\n",
    "epochs = 50\n",
    "batch_size = 4000\n",
    "validation_split = 0.2\n",
    "\n",
    "my_model = create_model(learning_rate)\n",
    "\n",
    "epochs, hist = train_model(my_model, x_train_normalized, y_train,\n",
    "                          epochs, batch_size, validation_split)\n",
    "\n",
    "list_of_metrics_to_plot = ['accuracy']\n",
    "plot_curve(epochs, hist, list_of_metrics_to_plot)\n",
    "\n",
    "print(\"\\n Evaluate the new model against the test set:\")\n",
    "my_model.evaluate(x=x_test_normalized, y=y_test, batch_size=batch_size)\n"
   ]
  },
  {
   "cell_type": "markdown",
   "id": "d77bb687",
   "metadata": {},
   "source": [
    "## Optimization\n",
    "\n",
    "1. Adding more nodes to the layers improved the accuracy\n",
    "2. Adding hidden layer improved accuracy\n",
    "3. Setting the dropout rate to  around 0.5 improved the accuracy"
   ]
  }
 ],
 "metadata": {
  "kernelspec": {
   "display_name": "mlenv",
   "language": "python",
   "name": "mlenv"
  },
  "language_info": {
   "codemirror_mode": {
    "name": "ipython",
    "version": 3
   },
   "file_extension": ".py",
   "mimetype": "text/x-python",
   "name": "python",
   "nbconvert_exporter": "python",
   "pygments_lexer": "ipython3",
   "version": "3.10.0"
  }
 },
 "nbformat": 4,
 "nbformat_minor": 5
}
