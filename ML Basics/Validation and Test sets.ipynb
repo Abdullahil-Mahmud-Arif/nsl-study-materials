{
 "cells": [
  {
   "cell_type": "markdown",
   "id": "2da182ab",
   "metadata": {},
   "source": [
    "# Objective\n",
    "1. Split a training set into a smaller training set and a validation set\n",
    "2. Analyze deltas between training set and validation results\n",
    "3. Test the trained model with a test set to determine whether the model is overfitting\n",
    "4. Detect and fix a common training problem"
   ]
  },
  {
   "cell_type": "code",
   "execution_count": 1,
   "id": "efd69755",
   "metadata": {},
   "outputs": [
    {
     "name": "stderr",
     "output_type": "stream",
     "text": [
      "2022-10-17 12:02:28.767116: I tensorflow/core/platform/cpu_feature_guard.cc:193] This TensorFlow binary is optimized with oneAPI Deep Neural Network Library (oneDNN) to use the following CPU instructions in performance-critical operations:  AVX2 AVX512F AVX512_VNNI FMA\n",
      "To enable them in other operations, rebuild TensorFlow with the appropriate compiler flags.\n",
      "2022-10-17 12:02:28.998106: I tensorflow/core/util/util.cc:169] oneDNN custom operations are on. You may see slightly different numerical results due to floating-point round-off errors from different computation orders. To turn them off, set the environment variable `TF_ENABLE_ONEDNN_OPTS=0`.\n",
      "2022-10-17 12:02:29.046847: W tensorflow/stream_executor/platform/default/dso_loader.cc:64] Could not load dynamic library 'libcudart.so.11.0'; dlerror: libcudart.so.11.0: cannot open shared object file: No such file or directory\n",
      "2022-10-17 12:02:29.046857: I tensorflow/stream_executor/cuda/cudart_stub.cc:29] Ignore above cudart dlerror if you do not have a GPU set up on your machine.\n",
      "2022-10-17 12:02:29.097393: E tensorflow/stream_executor/cuda/cuda_blas.cc:2981] Unable to register cuBLAS factory: Attempting to register factory for plugin cuBLAS when one has already been registered\n",
      "2022-10-17 12:02:29.801450: W tensorflow/stream_executor/platform/default/dso_loader.cc:64] Could not load dynamic library 'libnvinfer.so.7'; dlerror: libnvinfer.so.7: cannot open shared object file: No such file or directory\n",
      "2022-10-17 12:02:29.801495: W tensorflow/stream_executor/platform/default/dso_loader.cc:64] Could not load dynamic library 'libnvinfer_plugin.so.7'; dlerror: libnvinfer_plugin.so.7: cannot open shared object file: No such file or directory\n",
      "2022-10-17 12:02:29.801499: W tensorflow/compiler/tf2tensorrt/utils/py_utils.cc:38] TF-TRT Warning: Cannot dlopen some TensorRT libraries. If you would like to use Nvidia GPU with TensorRT, please make sure the missing libraries mentioned above are installed properly.\n"
     ]
    }
   ],
   "source": [
    "import numpy as np\n",
    "import pandas as pd\n",
    "import tensorflow as tf\n",
    "from matplotlib import pyplot as plt\n",
    "\n",
    "pd.options.display.max_rows = 10\n",
    "pd.options.display.float_format = \"{:.1f}\".format"
   ]
  },
  {
   "cell_type": "markdown",
   "id": "00e46fa1",
   "metadata": {},
   "source": [
    "## Load dataset"
   ]
  },
  {
   "cell_type": "code",
   "execution_count": 6,
   "id": "71845437",
   "metadata": {},
   "outputs": [],
   "source": [
    "train_df = pd.read_csv(\"https://download.mlcc.google.com/mledu-datasets/california_housing_train.csv\")\n",
    "test_df = pd.read_csv(\"https://download.mlcc.google.com/mledu-datasets/california_housing_test.csv\")\n"
   ]
  },
  {
   "cell_type": "markdown",
   "id": "f581e0c6",
   "metadata": {},
   "source": [
    "## Scale the label values"
   ]
  },
  {
   "cell_type": "code",
   "execution_count": 9,
   "id": "95eba02b",
   "metadata": {},
   "outputs": [],
   "source": [
    "scale_factor = 1000.0\n",
    "\n",
    "train_df[\"median_house_value\"] /= scale_factor\n",
    "\n",
    "test_df[\"median_house_value\"] /= scale_factor"
   ]
  },
  {
   "cell_type": "markdown",
   "id": "e64a0469",
   "metadata": {},
   "source": [
    "## Define build and train model"
   ]
  },
  {
   "cell_type": "code",
   "execution_count": 11,
   "id": "e0b95236",
   "metadata": {},
   "outputs": [
    {
     "name": "stdout",
     "output_type": "stream",
     "text": [
      "Defined build_model and train_model functions\n"
     ]
    }
   ],
   "source": [
    "def build_model(my_learning_rate):\n",
    "    \n",
    "    model = tf.keras.models.Sequential()\n",
    "    \n",
    "    model.add(tf.keras.layers.Dense(units=1, input_shape=(1,)))\n",
    "    \n",
    "    model.compile(optimizer=tf.keras.optimizers.RMSprop(lr=my_learning_rate),\n",
    "                 loss=\"mean_squared_error\",\n",
    "                 metrics=[tf.keras.metrics.RootMeanSquaredError()])\n",
    "    \n",
    "    return model\n",
    "\n",
    "\n",
    "def train_model(model, df, feature, label, my_epochs,\n",
    "               my_batch_size=None, my_validation_split=0.1):\n",
    "    \n",
    "    history = model.fit(x=df[feature],\n",
    "                       y=df[label],\n",
    "                       batch_size=my_batch_size,\n",
    "                       epochs=my_epochs,\n",
    "                       validation_split=my_validation_split)\n",
    "    \n",
    "    trained_weight = model.get_weights()[0]\n",
    "    trained_bias = model.get_weights()[1]\n",
    "    \n",
    "    epochs = history.epoch\n",
    "    \n",
    "    hist = pd.DataFrame(history.history)\n",
    "    rmse = hist[\"root_mean_squared_error\"]\n",
    "    \n",
    "    return epochs, rmse, history.history\n",
    "\n",
    "print(\"Defined build_model and train_model functions\")"
   ]
  },
  {
   "cell_type": "markdown",
   "id": "a4c91a42",
   "metadata": {},
   "source": [
    "## Define plotting function"
   ]
  },
  {
   "cell_type": "code",
   "execution_count": 12,
   "id": "41c0a151",
   "metadata": {},
   "outputs": [
    {
     "name": "stdout",
     "output_type": "stream",
     "text": [
      "Defined the plot_the_loss_curve function\n"
     ]
    }
   ],
   "source": [
    "def plot_the_loss_curve(epochs, mae_training, mae_validation):\n",
    "    \n",
    "    plt.figure()\n",
    "    plt.xlabel(\"Epoch\")\n",
    "    plt.ylabel(\"Root Mean Squared Error\")\n",
    "    \n",
    "    plt.plot(epochs[1:], mae_training[1:], label=\"Training Loss\")\n",
    "    plt.plot(epochs[1:], mae_validation[1:], label=\"Validation Loss\")\n",
    "    plt.legend()\n",
    "    \n",
    "    #We are not going to plot the first epoch, since the loss on the first epoch\n",
    "    #is often substantially greater than the loss for other projects\n",
    "    merged_mae_lists = mae_training[1:] + mae_validation[1:]\n",
    "    highest_loss = max(merged_mae_lists)\n",
    "    lowest_loss = min(merged_mae_lists)\n",
    "    delta = highest_loss - lowest_loss\n",
    "    print(delta)\n",
    "    \n",
    "    top_of_y_axis = highest_loss + (delta * 0.05)\n",
    "    bottom_of_y_axis = lowest_loss - (delta * 0.05)\n",
    "    \n",
    "    plt.ylim([bottom_of_y_axis, top_of_y_axis])\n",
    "    plt.show()\n",
    "    \n",
    "print(\"Defined the plot_the_loss_curve function\")"
   ]
  },
  {
   "cell_type": "markdown",
   "id": "c1b8ce9b",
   "metadata": {},
   "source": [
    "## Experiment with validation split"
   ]
  },
  {
   "cell_type": "code",
   "execution_count": 26,
   "id": "c8ac1784",
   "metadata": {
    "scrolled": true
   },
   "outputs": [
    {
     "name": "stdout",
     "output_type": "stream",
     "text": [
      "Epoch 1/30\n",
      "136/136 [==============================] - 0s 977us/step - loss: 42092.3008 - root_mean_squared_error: 205.1641 - val_loss: 51009.0430 - val_root_mean_squared_error: 225.8518\n",
      "Epoch 2/30\n",
      "136/136 [==============================] - 0s 600us/step - loss: 24613.2324 - root_mean_squared_error: 156.8860 - val_loss: 30172.2832 - val_root_mean_squared_error: 173.7017\n",
      "Epoch 3/30\n",
      "136/136 [==============================] - 0s 604us/step - loss: 13009.8086 - root_mean_squared_error: 114.0605 - val_loss: 16397.3809 - val_root_mean_squared_error: 128.0523\n",
      "Epoch 4/30\n",
      "136/136 [==============================] - 0s 608us/step - loss: 7511.0625 - root_mean_squared_error: 86.6664 - val_loss: 9788.2568 - val_root_mean_squared_error: 98.9356\n",
      "Epoch 5/30\n",
      "136/136 [==============================] - 0s 625us/step - loss: 6516.4961 - root_mean_squared_error: 80.7248 - val_loss: 9369.9727 - val_root_mean_squared_error: 96.7986\n",
      "Epoch 6/30\n",
      "136/136 [==============================] - 0s 611us/step - loss: 6513.3628 - root_mean_squared_error: 80.7054 - val_loss: 9214.4795 - val_root_mean_squared_error: 95.9921\n",
      "Epoch 7/30\n",
      "136/136 [==============================] - 0s 615us/step - loss: 6514.0410 - root_mean_squared_error: 80.7096 - val_loss: 9218.8291 - val_root_mean_squared_error: 96.0147\n",
      "Epoch 8/30\n",
      "136/136 [==============================] - 0s 618us/step - loss: 6513.8198 - root_mean_squared_error: 80.7082 - val_loss: 9349.9502 - val_root_mean_squared_error: 96.6951\n",
      "Epoch 9/30\n",
      "136/136 [==============================] - 0s 606us/step - loss: 6513.9766 - root_mean_squared_error: 80.7092 - val_loss: 9228.1719 - val_root_mean_squared_error: 96.0634\n",
      "Epoch 10/30\n",
      "136/136 [==============================] - 0s 593us/step - loss: 6513.5630 - root_mean_squared_error: 80.7066 - val_loss: 9208.5977 - val_root_mean_squared_error: 95.9614\n",
      "Epoch 11/30\n",
      "136/136 [==============================] - 0s 579us/step - loss: 6513.7031 - root_mean_squared_error: 80.7075 - val_loss: 9266.8154 - val_root_mean_squared_error: 96.2643\n",
      "Epoch 12/30\n",
      "136/136 [==============================] - 0s 613us/step - loss: 6513.8501 - root_mean_squared_error: 80.7084 - val_loss: 9311.9736 - val_root_mean_squared_error: 96.4986\n",
      "Epoch 13/30\n",
      "136/136 [==============================] - 0s 627us/step - loss: 6513.3198 - root_mean_squared_error: 80.7051 - val_loss: 9210.8066 - val_root_mean_squared_error: 95.9730\n",
      "Epoch 14/30\n",
      "136/136 [==============================] - 0s 624us/step - loss: 6513.1255 - root_mean_squared_error: 80.7039 - val_loss: 9166.9863 - val_root_mean_squared_error: 95.7444\n",
      "Epoch 15/30\n",
      "136/136 [==============================] - 0s 616us/step - loss: 6514.4951 - root_mean_squared_error: 80.7124 - val_loss: 9215.0723 - val_root_mean_squared_error: 95.9952\n",
      "Epoch 16/30\n",
      "136/136 [==============================] - 0s 602us/step - loss: 6513.3081 - root_mean_squared_error: 80.7051 - val_loss: 9338.3408 - val_root_mean_squared_error: 96.6351\n",
      "Epoch 17/30\n",
      "136/136 [==============================] - 0s 601us/step - loss: 6513.6577 - root_mean_squared_error: 80.7072 - val_loss: 9355.7344 - val_root_mean_squared_error: 96.7250\n",
      "Epoch 18/30\n",
      "136/136 [==============================] - 0s 599us/step - loss: 6512.7539 - root_mean_squared_error: 80.7016 - val_loss: 9319.9756 - val_root_mean_squared_error: 96.5400\n",
      "Epoch 19/30\n",
      "136/136 [==============================] - 0s 603us/step - loss: 6512.7607 - root_mean_squared_error: 80.7017 - val_loss: 9360.2012 - val_root_mean_squared_error: 96.7481\n",
      "Epoch 20/30\n",
      "136/136 [==============================] - 0s 599us/step - loss: 6514.2007 - root_mean_squared_error: 80.7106 - val_loss: 9243.4150 - val_root_mean_squared_error: 96.1427\n",
      "Epoch 21/30\n",
      "136/136 [==============================] - 0s 604us/step - loss: 6512.9233 - root_mean_squared_error: 80.7027 - val_loss: 9140.9883 - val_root_mean_squared_error: 95.6085\n",
      "Epoch 22/30\n",
      "136/136 [==============================] - 0s 603us/step - loss: 6511.5347 - root_mean_squared_error: 80.6941 - val_loss: 9444.2354 - val_root_mean_squared_error: 97.1815\n",
      "Epoch 23/30\n",
      "136/136 [==============================] - 0s 588us/step - loss: 6513.1890 - root_mean_squared_error: 80.7043 - val_loss: 9287.7207 - val_root_mean_squared_error: 96.3728\n",
      "Epoch 24/30\n",
      "136/136 [==============================] - 0s 623us/step - loss: 6512.6685 - root_mean_squared_error: 80.7011 - val_loss: 9127.6885 - val_root_mean_squared_error: 95.5389\n",
      "Epoch 25/30\n",
      "136/136 [==============================] - 0s 603us/step - loss: 6514.5342 - root_mean_squared_error: 80.7127 - val_loss: 9311.9121 - val_root_mean_squared_error: 96.4983\n",
      "Epoch 26/30\n",
      "136/136 [==============================] - 0s 599us/step - loss: 6513.4336 - root_mean_squared_error: 80.7058 - val_loss: 9293.1641 - val_root_mean_squared_error: 96.4011\n",
      "Epoch 27/30\n",
      "136/136 [==============================] - 0s 606us/step - loss: 6513.4404 - root_mean_squared_error: 80.7059 - val_loss: 9400.7803 - val_root_mean_squared_error: 96.9576\n",
      "Epoch 28/30\n",
      "136/136 [==============================] - 0s 634us/step - loss: 6515.1382 - root_mean_squared_error: 80.7164 - val_loss: 9366.6201 - val_root_mean_squared_error: 96.7813\n",
      "Epoch 29/30\n",
      "136/136 [==============================] - 0s 589us/step - loss: 6512.4014 - root_mean_squared_error: 80.6994 - val_loss: 9449.0176 - val_root_mean_squared_error: 97.2061\n",
      "Epoch 30/30\n",
      "136/136 [==============================] - 0s 593us/step - loss: 6511.9219 - root_mean_squared_error: 80.6965 - val_loss: 9257.9434 - val_root_mean_squared_error: 96.2182\n",
      "93.00762176513672\n"
     ]
    },
    {
     "data": {
      "image/png": "[encoded data removed]",
      "text/plain": [
       "<Figure size 640x480 with 1 Axes>"
      ]
     },
     "metadata": {},
     "output_type": "display_data"
    }
   ],
   "source": [
    "learning_rate = 0.08\n",
    "epochs = 30\n",
    "batch_size = 100\n",
    "\n",
    "#split original training set into a reduced training set and a validation set\n",
    "validation_split = 0.2\n",
    "\n",
    "my_feature = \"median_income\"\n",
    "my_label = \"median_house_value\"\n",
    "\n",
    "my_model = build_model(learning_rate)\n",
    "epochs, rmse, history = train_model(my_model, train_df, my_feature,\n",
    "                                   my_label, epochs, batch_size,\n",
    "                                   validation_split)\n",
    "\n",
    "plot_the_loss_curve(epochs, history[\"root_mean_squared_error\"],\n",
    "                   history[\"val_root_mean_squared_error\"])"
   ]
  },
  {
   "cell_type": "markdown",
   "id": "98509ac1",
   "metadata": {},
   "source": [
    "The original training set contains 17,000 examples.\n",
    "validation_split of 0.2 means that:\n",
    "- 17,000 * 0.2 ~= 3,400 examples will become the validation set\n",
    "- 17,000 * 0.8 ~= 13,600 examples will become the new training set\n",
    "\n"
   ]
  },
  {
   "cell_type": "code",
   "execution_count": 30,
   "id": "128f82c9",
   "metadata": {},
   "outputs": [
    {
     "data": {
      "text/html": [
       "<div>\n",
       "<style scoped>\n",
       "    .dataframe tbody tr th:only-of-type {\n",
       "        vertical-align: middle;\n",
       "    }\n",
       "\n",
       "    .dataframe tbody tr th {\n",
       "        vertical-align: top;\n",
       "    }\n",
       "\n",
       "    .dataframe thead th {\n",
       "        text-align: right;\n",
       "    }\n",
       "</style>\n",
       "<table border=\"1\" class=\"dataframe\">\n",
       "  <thead>\n",
       "    <tr style=\"text-align: right;\">\n",
       "      <th></th>\n",
       "      <th>longitude</th>\n",
       "      <th>latitude</th>\n",
       "      <th>housing_median_age</th>\n",
       "      <th>total_rooms</th>\n",
       "      <th>total_bedrooms</th>\n",
       "      <th>population</th>\n",
       "      <th>households</th>\n",
       "      <th>median_income</th>\n",
       "      <th>median_house_value</th>\n",
       "    </tr>\n",
       "  </thead>\n",
       "  <tbody>\n",
       "    <tr>\n",
       "      <th>0</th>\n",
       "      <td>-114.3</td>\n",
       "      <td>34.2</td>\n",
       "      <td>15.0</td>\n",
       "      <td>5612.0</td>\n",
       "      <td>1283.0</td>\n",
       "      <td>1015.0</td>\n",
       "      <td>472.0</td>\n",
       "      <td>1.5</td>\n",
       "      <td>66.9</td>\n",
       "    </tr>\n",
       "    <tr>\n",
       "      <th>1</th>\n",
       "      <td>-114.5</td>\n",
       "      <td>34.4</td>\n",
       "      <td>19.0</td>\n",
       "      <td>7650.0</td>\n",
       "      <td>1901.0</td>\n",
       "      <td>1129.0</td>\n",
       "      <td>463.0</td>\n",
       "      <td>1.8</td>\n",
       "      <td>80.1</td>\n",
       "    </tr>\n",
       "    <tr>\n",
       "      <th>2</th>\n",
       "      <td>-114.6</td>\n",
       "      <td>33.7</td>\n",
       "      <td>17.0</td>\n",
       "      <td>720.0</td>\n",
       "      <td>174.0</td>\n",
       "      <td>333.0</td>\n",
       "      <td>117.0</td>\n",
       "      <td>1.7</td>\n",
       "      <td>85.7</td>\n",
       "    </tr>\n",
       "    <tr>\n",
       "      <th>3</th>\n",
       "      <td>-114.6</td>\n",
       "      <td>33.6</td>\n",
       "      <td>14.0</td>\n",
       "      <td>1501.0</td>\n",
       "      <td>337.0</td>\n",
       "      <td>515.0</td>\n",
       "      <td>226.0</td>\n",
       "      <td>3.2</td>\n",
       "      <td>73.4</td>\n",
       "    </tr>\n",
       "    <tr>\n",
       "      <th>4</th>\n",
       "      <td>-114.6</td>\n",
       "      <td>33.6</td>\n",
       "      <td>20.0</td>\n",
       "      <td>1454.0</td>\n",
       "      <td>326.0</td>\n",
       "      <td>624.0</td>\n",
       "      <td>262.0</td>\n",
       "      <td>1.9</td>\n",
       "      <td>65.5</td>\n",
       "    </tr>\n",
       "    <tr>\n",
       "      <th>...</th>\n",
       "      <td>...</td>\n",
       "      <td>...</td>\n",
       "      <td>...</td>\n",
       "      <td>...</td>\n",
       "      <td>...</td>\n",
       "      <td>...</td>\n",
       "      <td>...</td>\n",
       "      <td>...</td>\n",
       "      <td>...</td>\n",
       "    </tr>\n",
       "    <tr>\n",
       "      <th>12995</th>\n",
       "      <td>-121.8</td>\n",
       "      <td>37.3</td>\n",
       "      <td>16.0</td>\n",
       "      <td>2987.0</td>\n",
       "      <td>874.0</td>\n",
       "      <td>4241.0</td>\n",
       "      <td>841.0</td>\n",
       "      <td>2.8</td>\n",
       "      <td>127.9</td>\n",
       "    </tr>\n",
       "    <tr>\n",
       "      <th>12996</th>\n",
       "      <td>-121.8</td>\n",
       "      <td>37.3</td>\n",
       "      <td>19.0</td>\n",
       "      <td>6275.0</td>\n",
       "      <td>1546.0</td>\n",
       "      <td>4312.0</td>\n",
       "      <td>1466.0</td>\n",
       "      <td>2.8</td>\n",
       "      <td>178.6</td>\n",
       "    </tr>\n",
       "    <tr>\n",
       "      <th>12997</th>\n",
       "      <td>-121.8</td>\n",
       "      <td>37.3</td>\n",
       "      <td>17.0</td>\n",
       "      <td>4208.0</td>\n",
       "      <td>954.0</td>\n",
       "      <td>1476.0</td>\n",
       "      <td>904.0</td>\n",
       "      <td>2.4</td>\n",
       "      <td>87.5</td>\n",
       "    </tr>\n",
       "    <tr>\n",
       "      <th>12998</th>\n",
       "      <td>-121.8</td>\n",
       "      <td>37.3</td>\n",
       "      <td>17.0</td>\n",
       "      <td>1957.0</td>\n",
       "      <td>261.0</td>\n",
       "      <td>863.0</td>\n",
       "      <td>269.0</td>\n",
       "      <td>7.3</td>\n",
       "      <td>294.2</td>\n",
       "    </tr>\n",
       "    <tr>\n",
       "      <th>12999</th>\n",
       "      <td>-121.8</td>\n",
       "      <td>37.3</td>\n",
       "      <td>16.0</td>\n",
       "      <td>2312.0</td>\n",
       "      <td>303.0</td>\n",
       "      <td>1158.0</td>\n",
       "      <td>295.0</td>\n",
       "      <td>7.4</td>\n",
       "      <td>311.8</td>\n",
       "    </tr>\n",
       "  </tbody>\n",
       "</table>\n",
       "<p>13000 rows × 9 columns</p>\n",
       "</div>"
      ],
      "text/plain": [
       "       longitude  latitude  housing_median_age  total_rooms  total_bedrooms  \\\n",
       "0         -114.3      34.2                15.0       5612.0          1283.0   \n",
       "1         -114.5      34.4                19.0       7650.0          1901.0   \n",
       "2         -114.6      33.7                17.0        720.0           174.0   \n",
       "3         -114.6      33.6                14.0       1501.0           337.0   \n",
       "4         -114.6      33.6                20.0       1454.0           326.0   \n",
       "...          ...       ...                 ...          ...             ...   \n",
       "12995     -121.8      37.3                16.0       2987.0           874.0   \n",
       "12996     -121.8      37.3                19.0       6275.0          1546.0   \n",
       "12997     -121.8      37.3                17.0       4208.0           954.0   \n",
       "12998     -121.8      37.3                17.0       1957.0           261.0   \n",
       "12999     -121.8      37.3                16.0       2312.0           303.0   \n",
       "\n",
       "       population  households  median_income  median_house_value  \n",
       "0          1015.0       472.0            1.5                66.9  \n",
       "1          1129.0       463.0            1.8                80.1  \n",
       "2           333.0       117.0            1.7                85.7  \n",
       "3           515.0       226.0            3.2                73.4  \n",
       "4           624.0       262.0            1.9                65.5  \n",
       "...           ...         ...            ...                 ...  \n",
       "12995      4241.0       841.0            2.8               127.9  \n",
       "12996      4312.0      1466.0            2.8               178.6  \n",
       "12997      1476.0       904.0            2.4                87.5  \n",
       "12998       863.0       269.0            7.3               294.2  \n",
       "12999      1158.0       295.0            7.4               311.8  \n",
       "\n",
       "[13000 rows x 9 columns]"
      ]
     },
     "execution_count": 30,
     "metadata": {},
     "output_type": "execute_result"
    }
   ],
   "source": [
    "train_df.head(n=13000)"
   ]
  },
  {
   "cell_type": "markdown",
   "id": "c3e2a393",
   "metadata": {},
   "source": [
    "## Fix the problem that causes the curves to differ this much\n",
    "The above DataFrame shows that the longitude throughout the training set differs heavily from the start to the end. Since the training set is sorted by longitude, this influences the result. We can shuffle the examples to fix this problem and observe the new result:"
   ]
  },
  {
   "cell_type": "code",
   "execution_count": 37,
   "id": "c4215f01",
   "metadata": {},
   "outputs": [
    {
     "name": "stdout",
     "output_type": "stream",
     "text": [
      "Epoch 1/30\n",
      "  1/136 [..............................] - ETA: 17s - loss: 54966.0039 - root_mean_squared_error: 234.4483"
     ]
    },
    {
     "name": "stderr",
     "output_type": "stream",
     "text": [
      "/home/nsl54/anaconda3/envs/mlenv/lib/python3.10/site-packages/keras/optimizers/optimizer_v2/rmsprop.py:140: UserWarning: The `lr` argument is deprecated, use `learning_rate` instead.\n",
      "  super().__init__(name, **kwargs)\n",
      "/home/nsl54/anaconda3/envs/mlenv/lib/python3.10/site-packages/keras/engine/data_adapter.py:1699: FutureWarning: The behavior of `series[i:j]` with an integer-dtype index is deprecated. In a future version, this will be treated as *label-based* indexing, consistent with e.g. `series[i]` lookups. To retain the old behavior, use `series.iloc[i:j]`. To get the future behavior, use `series.loc[i:j]`.\n",
      "  return t[start:end]\n"
     ]
    },
    {
     "name": "stdout",
     "output_type": "stream",
     "text": [
      "136/136 [==============================] - 0s 1ms/step - loss: 42234.6484 - root_mean_squared_error: 205.5107 - val_loss: 31613.1875 - val_root_mean_squared_error: 177.8010\n",
      "Epoch 2/30\n",
      "136/136 [==============================] - 0s 615us/step - loss: 24517.4961 - root_mean_squared_error: 156.5806 - val_loss: 17294.0605 - val_root_mean_squared_error: 131.5069\n",
      "Epoch 3/30\n",
      "136/136 [==============================] - 0s 614us/step - loss: 13188.0557 - root_mean_squared_error: 114.8393 - val_loss: 9164.5527 - val_root_mean_squared_error: 95.7317\n",
      "Epoch 4/30\n",
      "136/136 [==============================] - 0s 620us/step - loss: 7885.2510 - root_mean_squared_error: 88.7989 - val_loss: 6833.9990 - val_root_mean_squared_error: 82.6680\n",
      "Epoch 5/30\n",
      "136/136 [==============================] - 0s 603us/step - loss: 7071.3687 - root_mean_squared_error: 84.0914 - val_loss: 6809.7007 - val_root_mean_squared_error: 82.5209\n",
      "Epoch 6/30\n",
      "136/136 [==============================] - 0s 605us/step - loss: 7067.5513 - root_mean_squared_error: 84.0687 - val_loss: 6805.9243 - val_root_mean_squared_error: 82.4980\n",
      "Epoch 7/30\n",
      "136/136 [==============================] - 0s 611us/step - loss: 7067.7129 - root_mean_squared_error: 84.0697 - val_loss: 6804.3735 - val_root_mean_squared_error: 82.4886\n",
      "Epoch 8/30\n",
      "136/136 [==============================] - 0s 614us/step - loss: 7067.1963 - root_mean_squared_error: 84.0666 - val_loss: 6804.2632 - val_root_mean_squared_error: 82.4880\n",
      "Epoch 9/30\n",
      "136/136 [==============================] - 0s 588us/step - loss: 7065.6025 - root_mean_squared_error: 84.0571 - val_loss: 6814.1123 - val_root_mean_squared_error: 82.5476\n",
      "Epoch 10/30\n",
      "136/136 [==============================] - 0s 637us/step - loss: 7066.6201 - root_mean_squared_error: 84.0632 - val_loss: 6805.0078 - val_root_mean_squared_error: 82.4925\n",
      "Epoch 11/30\n",
      "136/136 [==============================] - 0s 616us/step - loss: 7067.1772 - root_mean_squared_error: 84.0665 - val_loss: 6805.2666 - val_root_mean_squared_error: 82.4940\n",
      "Epoch 12/30\n",
      "136/136 [==============================] - 0s 645us/step - loss: 7066.5640 - root_mean_squared_error: 84.0629 - val_loss: 6809.5869 - val_root_mean_squared_error: 82.5202\n",
      "Epoch 13/30\n",
      "136/136 [==============================] - 0s 663us/step - loss: 7065.9312 - root_mean_squared_error: 84.0591 - val_loss: 6805.2607 - val_root_mean_squared_error: 82.4940\n",
      "Epoch 14/30\n",
      "136/136 [==============================] - 0s 638us/step - loss: 7066.4146 - root_mean_squared_error: 84.0620 - val_loss: 6810.8696 - val_root_mean_squared_error: 82.5280\n",
      "Epoch 15/30\n",
      "136/136 [==============================] - 0s 604us/step - loss: 7066.6230 - root_mean_squared_error: 84.0632 - val_loss: 6806.6196 - val_root_mean_squared_error: 82.5022\n",
      "Epoch 16/30\n",
      "136/136 [==============================] - 0s 624us/step - loss: 7066.1172 - root_mean_squared_error: 84.0602 - val_loss: 6806.2290 - val_root_mean_squared_error: 82.4999\n",
      "Epoch 17/30\n",
      "136/136 [==============================] - 0s 632us/step - loss: 7066.4087 - root_mean_squared_error: 84.0619 - val_loss: 6810.9834 - val_root_mean_squared_error: 82.5287\n",
      "Epoch 18/30\n",
      "136/136 [==============================] - 0s 616us/step - loss: 7066.9204 - root_mean_squared_error: 84.0650 - val_loss: 6805.9404 - val_root_mean_squared_error: 82.4981\n",
      "Epoch 19/30\n",
      "136/136 [==============================] - 0s 600us/step - loss: 7067.4062 - root_mean_squared_error: 84.0679 - val_loss: 6808.1104 - val_root_mean_squared_error: 82.5113\n",
      "Epoch 20/30\n",
      "136/136 [==============================] - 0s 610us/step - loss: 7066.6890 - root_mean_squared_error: 84.0636 - val_loss: 6805.9717 - val_root_mean_squared_error: 82.4983\n",
      "Epoch 21/30\n",
      "136/136 [==============================] - 0s 624us/step - loss: 7066.8057 - root_mean_squared_error: 84.0643 - val_loss: 6805.9375 - val_root_mean_squared_error: 82.4981\n",
      "Epoch 22/30\n",
      "136/136 [==============================] - 0s 627us/step - loss: 7067.1587 - root_mean_squared_error: 84.0664 - val_loss: 6807.7471 - val_root_mean_squared_error: 82.5091\n",
      "Epoch 23/30\n",
      "136/136 [==============================] - 0s 623us/step - loss: 7066.0972 - root_mean_squared_error: 84.0601 - val_loss: 6806.2080 - val_root_mean_squared_error: 82.4997\n",
      "Epoch 24/30\n",
      "136/136 [==============================] - 0s 612us/step - loss: 7065.8574 - root_mean_squared_error: 84.0587 - val_loss: 6812.1230 - val_root_mean_squared_error: 82.5356\n",
      "Epoch 25/30\n",
      "136/136 [==============================] - 0s 628us/step - loss: 7066.3018 - root_mean_squared_error: 84.0613 - val_loss: 6805.6011 - val_root_mean_squared_error: 82.4961\n",
      "Epoch 26/30\n",
      "136/136 [==============================] - 0s 605us/step - loss: 7065.5142 - root_mean_squared_error: 84.0566 - val_loss: 6812.1084 - val_root_mean_squared_error: 82.5355\n",
      "Epoch 27/30\n",
      "136/136 [==============================] - 0s 600us/step - loss: 7066.6094 - root_mean_squared_error: 84.0631 - val_loss: 6806.0308 - val_root_mean_squared_error: 82.4987\n",
      "Epoch 28/30\n",
      "136/136 [==============================] - 0s 609us/step - loss: 7066.2583 - root_mean_squared_error: 84.0610 - val_loss: 6807.7798 - val_root_mean_squared_error: 82.5093\n",
      "Epoch 29/30\n",
      "136/136 [==============================] - 0s 636us/step - loss: 7067.1167 - root_mean_squared_error: 84.0661 - val_loss: 6808.1753 - val_root_mean_squared_error: 82.5117\n",
      "Epoch 30/30\n",
      "136/136 [==============================] - 0s 639us/step - loss: 7066.8242 - root_mean_squared_error: 84.0644 - val_loss: 6806.2222 - val_root_mean_squared_error: 82.4998\n",
      "74.09268188476562\n"
     ]
    },
    {
     "data": {
      "image/png": "[encoded data removed]",
      "text/plain": [
       "<Figure size 640x480 with 1 Axes>"
      ]
     },
     "metadata": {},
     "output_type": "display_data"
    }
   ],
   "source": [
    "learning_rate = 0.08\n",
    "epochs = 30\n",
    "batch_size = 100\n",
    "\n",
    "#split original training set into a reduced training set and a validation set\n",
    "validation_split = 0.2\n",
    "\n",
    "\n",
    "my_feature = \"median_income\"\n",
    "my_label = \"median_house_value\"\n",
    "\n",
    "my_model = build_model(learning_rate)\n",
    "shuffled_train_df = train_df.reindex(np.random.permutation(train_df.index)) #shuffles the example set data\n",
    "epochs, rmse, history = train_model(my_model, shuffled_train_df, my_feature,\n",
    "                                   my_label, epochs, batch_size,\n",
    "                                   validation_split)\n",
    "\n",
    "plot_the_loss_curve(epochs, history[\"root_mean_squared_error\"],\n",
    "                   history[\"val_root_mean_squared_error\"])"
   ]
  },
  {
   "cell_type": "markdown",
   "id": "663c7b13",
   "metadata": {},
   "source": [
    "After shuffling the original training set, the final loss for training set and validation set become much closer. If validation split < 0.15, the validation set no longer contains enough examples and the final loss values for the training set and the validation set diverge."
   ]
  },
  {
   "cell_type": "markdown",
   "id": "1226045f",
   "metadata": {},
   "source": [
    "## Use the test dataset to evaluate the model's performance"
   ]
  },
  {
   "cell_type": "code",
   "execution_count": 38,
   "id": "c8854ed7",
   "metadata": {},
   "outputs": [
    {
     "name": "stdout",
     "output_type": "stream",
     "text": [
      "30/30 [==============================] - 0s 538us/step - loss: 7009.2251 - root_mean_squared_error: 83.7211\n"
     ]
    }
   ],
   "source": [
    "x_test = test_df[my_feature]\n",
    "y_test = test_df[my_label]\n",
    "\n",
    "results = my_model.evaluate(x_test, y_test, batch_size=batch_size)"
   ]
  },
  {
   "cell_type": "markdown",
   "id": "58f8a6ad",
   "metadata": {},
   "source": [
    "final validation error = 82.4998 <br>\n",
    "test data error = 83.7211"
   ]
  }
 ],
 "metadata": {
  "kernelspec": {
   "display_name": "mlenv",
   "language": "python",
   "name": "mlenv"
  },
  "language_info": {
   "codemirror_mode": {
    "name": "ipython",
    "version": 3
   },
   "file_extension": ".py",
   "mimetype": "text/x-python",
   "name": "python",
   "nbconvert_exporter": "python",
   "pygments_lexer": "ipython3",
   "version": "3.10.0"
  }
 },
 "nbformat": 4,
 "nbformat_minor": 5
}
