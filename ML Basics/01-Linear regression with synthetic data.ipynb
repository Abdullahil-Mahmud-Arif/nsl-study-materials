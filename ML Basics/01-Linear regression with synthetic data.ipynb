{
 "cells": [
  {
   "cell_type": "markdown",
   "id": "77778fcf",
   "metadata": {},
   "source": [
    "# Objectives:\n",
    "\n",
    "-Tune the following hyperparameters:\n",
    "1. learning rate\n",
    "2. number of epochs\n",
    "3. batch size\n",
    "-Interpret different kinds of loss curves"
   ]
  },
  {
   "cell_type": "code",
   "execution_count": 1,
   "id": "b432a4b2",
   "metadata": {
    "collapsed": true
   },
   "outputs": [
    {
     "name": "stderr",
     "output_type": "stream",
     "text": [
      "2022-10-14 12:44:07.054026: I tensorflow/core/platform/cpu_feature_guard.cc:193] This TensorFlow binary is optimized with oneAPI Deep Neural Network Library (oneDNN) to use the following CPU instructions in performance-critical operations:  AVX2 AVX512F AVX512_VNNI FMA\n",
      "To enable them in other operations, rebuild TensorFlow with the appropriate compiler flags.\n",
      "2022-10-14 12:44:07.128756: I tensorflow/core/util/util.cc:169] oneDNN custom operations are on. You may see slightly different numerical results due to floating-point round-off errors from different computation orders. To turn them off, set the environment variable `TF_ENABLE_ONEDNN_OPTS=0`.\n",
      "2022-10-14 12:44:07.132002: W tensorflow/stream_executor/platform/default/dso_loader.cc:64] Could not load dynamic library 'libcudart.so.11.0'; dlerror: libcudart.so.11.0: cannot open shared object file: No such file or directory\n",
      "2022-10-14 12:44:07.132009: I tensorflow/stream_executor/cuda/cudart_stub.cc:29] Ignore above cudart dlerror if you do not have a GPU set up on your machine.\n",
      "2022-10-14 12:44:07.149331: E tensorflow/stream_executor/cuda/cuda_blas.cc:2981] Unable to register cuBLAS factory: Attempting to register factory for plugin cuBLAS when one has already been registered\n",
      "2022-10-14 12:44:07.526324: W tensorflow/stream_executor/platform/default/dso_loader.cc:64] Could not load dynamic library 'libnvinfer.so.7'; dlerror: libnvinfer.so.7: cannot open shared object file: No such file or directory\n",
      "2022-10-14 12:44:07.526383: W tensorflow/stream_executor/platform/default/dso_loader.cc:64] Could not load dynamic library 'libnvinfer_plugin.so.7'; dlerror: libnvinfer_plugin.so.7: cannot open shared object file: No such file or directory\n",
      "2022-10-14 12:44:07.526388: W tensorflow/compiler/tf2tensorrt/utils/py_utils.cc:38] TF-TRT Warning: Cannot dlopen some TensorRT libraries. If you would like to use Nvidia GPU with TensorRT, please make sure the missing libraries mentioned above are installed properly.\n"
     ]
    }
   ],
   "source": [
    "import pandas as pd\n",
    "import tensorflow as tf\n",
    "from matplotlib import pyplot as plt"
   ]
  },
  {
   "cell_type": "markdown",
   "id": "85217671",
   "metadata": {},
   "source": [
    "## Define functions that build and train a model\n",
    "\n",
    "1. build_model(my_learning_rate),\n",
    "builds an empty model\n",
    "2. train_model(model, feature, label, epochs),\n",
    "trains the model from the passed examples (feature and label)"
   ]
  },
  {
   "cell_type": "code",
   "execution_count": 7,
   "id": "c52cbc8a",
   "metadata": {},
   "outputs": [
    {
     "name": "stdout",
     "output_type": "stream",
     "text": [
      "Defined build model and train model\n"
     ]
    }
   ],
   "source": [
    "def build_model(my_learning_rate):\n",
    "    '''Create and compile a simple linear regression m model.'''\n",
    "    #most simple tf.keras models are sequential\n",
    "    #a sequential model contains one or more layers\n",
    "    model = tf.keras.models.Sequential()\n",
    "    \n",
    "    #topography of models\n",
    "    #topography of a simple linear regression model is a single node in a single layer\n",
    "    model.add(tf.keras.layers.Dense(units=1,\n",
    "                                   input_shape=(1,)))\n",
    "    \n",
    "    #compile into a code that tensorflow can execute efficiently\n",
    "    #configure training to minimize the model's mean squared error\n",
    "    model.compile(optimizer=tf.keras.optimizers.RMSprop(lr=my_learning_rate),\n",
    "                 loss='mean_squared_error',\n",
    "                 metrics=[tf.keras.metrics.RootMeanSquaredError()])\n",
    "    \n",
    "    return model\n",
    "\n",
    "def train_model(model, feature, label, epochs, batch_size):\n",
    "    '''Train the model by feeding it data.'''\n",
    "    #feed the feature and label to the model\n",
    "    #the model will train for specific number of epochs\n",
    "    history = model.fit(x=feature,\n",
    "                       y=label,\n",
    "                       batch_size=batch_size,\n",
    "                       epochs = epochs)\n",
    "    \n",
    "    #gather weight and bias\n",
    "    trained_weight = model.get_weights()[0]\n",
    "    trained_bias = model.get_weights()[1]\n",
    "    \n",
    "    #list of epochs is stored seperately from the rest of history\n",
    "    epochs = history.epoch\n",
    "    \n",
    "    #gather history of each epoch\n",
    "    hist = pd.DataFrame(history.history)\n",
    "    \n",
    "    #specifically gather the model's root mean squared error at each epoch\n",
    "    rmse = hist[\"root_mean_squared_error\"]\n",
    "    \n",
    "    return trained_weight, trained_bias, epochs, rmse\n",
    "\n",
    "print(\"Defined build model and train model\")"
   ]
  },
  {
   "cell_type": "markdown",
   "id": "62280b86",
   "metadata": {},
   "source": [
    "## Define plotting functions\n",
    "Following two plots using Matplotlib:\n",
    "1. feathure values vs. label values, and a line showing the output of the trained model\n",
    "2. a loss curve\n",
    "\n"
   ]
  },
  {
   "cell_type": "code",
   "execution_count": 11,
   "id": "e234848e",
   "metadata": {},
   "outputs": [
    {
     "name": "stdout",
     "output_type": "stream",
     "text": [
      "Defined plot_the_model and plot_the_loss_curve functions\n"
     ]
    }
   ],
   "source": [
    "def plot_the_model(trained_weight, trained_bias, feature, label):\n",
    "    '''Plot the trained model against the training feature and label'''\n",
    "    #label the axes\n",
    "    plt.xlabel(\"feature\")\n",
    "    plt.ylabel(\"label\")\n",
    "    \n",
    "    #plot feature vs. label\n",
    "    plt.scatter(feature, label)\n",
    "    \n",
    "    #red line (x0, y0) to (x1, y1)\n",
    "    x0 = 0 \n",
    "    y0 = trained_bias\n",
    "    x1 = feature[-1]\n",
    "    y1 = trained_bias + (trained_weight * x1)\n",
    "    plt.plot([x0, x1], [y0, y1], c = 'r')\n",
    "    \n",
    "    #render\n",
    "    plt.show()\n",
    "    \n",
    "    \n",
    "def plot_the_loss_curve(epochs, rmse):\n",
    "    '''Plot the loss curve, which shows loss vs. epoch.'''\n",
    "    \n",
    "    plt.figure()\n",
    "    plt.xlabel(\"Epoch\")\n",
    "    plt.ylabel(\"Root Mean Squared Error\")\n",
    "    \n",
    "    plt.plot(epochs, rmse, label = \"Loss\")\n",
    "    plt.legend()\n",
    "    plt.ylim([rmse.min() * 0.97, rmse.max()])\n",
    "    plt.show()\n",
    "    \n",
    "print(\"Defined plot_the_model and plot_the_loss_curve functions\")"
   ]
  },
  {
   "cell_type": "markdown",
   "id": "add4b56e",
   "metadata": {},
   "source": [
    "## Define the dataset\n",
    "Consists of 12 examples. Each example consists of one feature and one label."
   ]
  },
  {
   "cell_type": "code",
   "execution_count": 12,
   "id": "3fdcf67a",
   "metadata": {},
   "outputs": [],
   "source": [
    "my_feature = ([1.0, 2.0, 3.0, 4.0, 5.0, 6.0, 7.0, 8.0, 9.0, 10.0, 11.0, 12.0])\n",
    "my_label = ([5.0, 8.8, 9.6, 14.2, 18.8, 19.5, 21.4, 26.8, 28.9, 32.0, 33.8, 38.2])"
   ]
  },
  {
   "cell_type": "markdown",
   "id": "ba57bba5",
   "metadata": {},
   "source": [
    "## Specify the hyperparameters\n",
    "1. learning rate\n",
    "2. epochs\n",
    "3. batch size"
   ]
  },
  {
   "cell_type": "code",
   "execution_count": 89,
   "id": "6e40b927",
   "metadata": {
    "scrolled": true
   },
   "outputs": [
    {
     "name": "stdout",
     "output_type": "stream",
     "text": [
      "Epoch 1/60\n",
      "2/2 [==============================] - 0s 2ms/step - loss: 189.9487 - root_mean_squared_error: 13.7822\n",
      "Epoch 2/60\n",
      "2/2 [==============================] - 0s 2ms/step - loss: 92.1123 - root_mean_squared_error: 9.5975\n",
      "Epoch 3/60\n",
      "2/2 [==============================] - 0s 2ms/step - loss: 52.8979 - root_mean_squared_error: 7.2731\n",
      "Epoch 4/60\n",
      "2/2 [==============================] - 0s 2ms/step - loss: 32.7740 - root_mean_squared_error: 5.7249\n",
      "Epoch 5/60\n",
      "2/2 [==============================] - 0s 2ms/step - loss: 22.3515 - root_mean_squared_error: 4.7277\n",
      "Epoch 6/60\n",
      "2/2 [==============================] - 0s 2ms/step - loss: 14.3271 - root_mean_squared_error: 3.7851\n",
      "Epoch 7/60\n",
      "2/2 [==============================] - 0s 1ms/step - loss: 7.6525 - root_mean_squared_error: 2.7663\n",
      "Epoch 8/60\n",
      "2/2 [==============================] - 0s 1ms/step - loss: 4.1687 - root_mean_squared_error: 2.0417\n",
      "Epoch 9/60\n",
      "2/2 [==============================] - 0s 1ms/step - loss: 2.7584 - root_mean_squared_error: 1.6608\n",
      "Epoch 10/60\n",
      "2/2 [==============================] - 0s 1ms/step - loss: 1.8479 - root_mean_squared_error: 1.3594\n",
      "Epoch 11/60\n",
      "2/2 [==============================] - 0s 1ms/step - loss: 1.3579 - root_mean_squared_error: 1.1653\n",
      "Epoch 12/60\n",
      "2/2 [==============================] - 0s 1ms/step - loss: 1.1867 - root_mean_squared_error: 1.0894\n",
      "Epoch 13/60\n",
      "2/2 [==============================] - 0s 1ms/step - loss: 1.0691 - root_mean_squared_error: 1.0340\n",
      "Epoch 14/60\n",
      "2/2 [==============================] - 0s 1ms/step - loss: 0.9369 - root_mean_squared_error: 0.9679\n",
      "Epoch 15/60\n",
      "2/2 [==============================] - 0s 1ms/step - loss: 0.9289 - root_mean_squared_error: 0.9638\n",
      "Epoch 16/60\n",
      "2/2 [==============================] - 0s 1ms/step - loss: 0.9089 - root_mean_squared_error: 0.9533\n",
      "Epoch 17/60\n",
      "2/2 [==============================] - 0s 1ms/step - loss: 0.9063 - root_mean_squared_error: 0.9520\n",
      "Epoch 18/60\n",
      "2/2 [==============================] - 0s 1ms/step - loss: 0.9031 - root_mean_squared_error: 0.9503\n",
      "Epoch 19/60\n",
      "2/2 [==============================] - 0s 1ms/step - loss: 0.9173 - root_mean_squared_error: 0.9577\n",
      "Epoch 20/60\n",
      "2/2 [==============================] - 0s 2ms/step - loss: 0.9331 - root_mean_squared_error: 0.9660\n",
      "Epoch 21/60\n",
      "2/2 [==============================] - 0s 2ms/step - loss: 0.9175 - root_mean_squared_error: 0.9578\n",
      "Epoch 22/60\n",
      "2/2 [==============================] - 0s 2ms/step - loss: 0.9413 - root_mean_squared_error: 0.9702\n",
      "Epoch 23/60\n",
      "2/2 [==============================] - 0s 2ms/step - loss: 1.0146 - root_mean_squared_error: 1.0073\n",
      "Epoch 24/60\n",
      "2/2 [==============================] - 0s 2ms/step - loss: 1.3862 - root_mean_squared_error: 1.1774\n",
      "Epoch 25/60\n",
      "2/2 [==============================] - 0s 2ms/step - loss: 1.0184 - root_mean_squared_error: 1.0091\n",
      "Epoch 26/60\n",
      "2/2 [==============================] - 0s 2ms/step - loss: 0.8953 - root_mean_squared_error: 0.9462\n",
      "Epoch 27/60\n",
      "2/2 [==============================] - 0s 2ms/step - loss: 0.8897 - root_mean_squared_error: 0.9432\n",
      "Epoch 28/60\n",
      "2/2 [==============================] - 0s 2ms/step - loss: 0.9278 - root_mean_squared_error: 0.9632\n",
      "Epoch 29/60\n",
      "2/2 [==============================] - 0s 1ms/step - loss: 1.3521 - root_mean_squared_error: 1.1628\n",
      "Epoch 30/60\n",
      "2/2 [==============================] - 0s 1ms/step - loss: 1.1899 - root_mean_squared_error: 1.0908\n",
      "Epoch 31/60\n",
      "2/2 [==============================] - 0s 1ms/step - loss: 0.9264 - root_mean_squared_error: 0.9625\n",
      "Epoch 32/60\n",
      "2/2 [==============================] - 0s 1ms/step - loss: 1.6248 - root_mean_squared_error: 1.2747\n",
      "Epoch 33/60\n",
      "2/2 [==============================] - 0s 1ms/step - loss: 0.9799 - root_mean_squared_error: 0.9899\n",
      "Epoch 34/60\n",
      "2/2 [==============================] - 0s 2ms/step - loss: 0.9414 - root_mean_squared_error: 0.9703\n",
      "Epoch 35/60\n",
      "2/2 [==============================] - 0s 2ms/step - loss: 1.0538 - root_mean_squared_error: 1.0266\n",
      "Epoch 36/60\n",
      "2/2 [==============================] - 0s 2ms/step - loss: 1.7284 - root_mean_squared_error: 1.3147\n",
      "Epoch 37/60\n",
      "2/2 [==============================] - 0s 2ms/step - loss: 1.2505 - root_mean_squared_error: 1.1183\n",
      "Epoch 38/60\n",
      "2/2 [==============================] - 0s 2ms/step - loss: 1.0610 - root_mean_squared_error: 1.0301\n",
      "Epoch 39/60\n",
      "2/2 [==============================] - 0s 2ms/step - loss: 1.5799 - root_mean_squared_error: 1.2570\n",
      "Epoch 40/60\n",
      "2/2 [==============================] - 0s 2ms/step - loss: 1.0191 - root_mean_squared_error: 1.0095\n",
      "Epoch 41/60\n",
      "2/2 [==============================] - 0s 2ms/step - loss: 0.8962 - root_mean_squared_error: 0.9467\n",
      "Epoch 42/60\n",
      "2/2 [==============================] - 0s 2ms/step - loss: 0.9069 - root_mean_squared_error: 0.9523\n",
      "Epoch 43/60\n",
      "2/2 [==============================] - 0s 1ms/step - loss: 0.9319 - root_mean_squared_error: 0.9654\n",
      "Epoch 44/60\n",
      "2/2 [==============================] - 0s 1ms/step - loss: 1.4377 - root_mean_squared_error: 1.1990\n",
      "Epoch 45/60\n",
      "2/2 [==============================] - 0s 1ms/step - loss: 0.9385 - root_mean_squared_error: 0.9688\n",
      "Epoch 46/60\n",
      "2/2 [==============================] - 0s 1ms/step - loss: 0.8855 - root_mean_squared_error: 0.9410\n",
      "Epoch 47/60\n",
      "2/2 [==============================] - 0s 1ms/step - loss: 0.8975 - root_mean_squared_error: 0.9473\n",
      "Epoch 48/60\n",
      "2/2 [==============================] - 0s 1ms/step - loss: 0.8872 - root_mean_squared_error: 0.9419\n",
      "Epoch 49/60\n",
      "2/2 [==============================] - 0s 2ms/step - loss: 0.8776 - root_mean_squared_error: 0.9368\n",
      "Epoch 50/60\n",
      "2/2 [==============================] - 0s 2ms/step - loss: 1.1582 - root_mean_squared_error: 1.0762\n",
      "Epoch 51/60\n",
      "2/2 [==============================] - 0s 1ms/step - loss: 0.9907 - root_mean_squared_error: 0.9954\n",
      "Epoch 52/60\n",
      "2/2 [==============================] - 0s 2ms/step - loss: 2.4193 - root_mean_squared_error: 1.5554\n",
      "Epoch 53/60\n",
      "2/2 [==============================] - 0s 2ms/step - loss: 1.2517 - root_mean_squared_error: 1.1188\n",
      "Epoch 54/60\n",
      "2/2 [==============================] - 0s 2ms/step - loss: 1.3060 - root_mean_squared_error: 1.1428\n",
      "Epoch 55/60\n",
      "2/2 [==============================] - 0s 1ms/step - loss: 0.9140 - root_mean_squared_error: 0.9560\n",
      "Epoch 56/60\n",
      "2/2 [==============================] - 0s 2ms/step - loss: 0.9946 - root_mean_squared_error: 0.9973\n",
      "Epoch 57/60\n",
      "2/2 [==============================] - 0s 2ms/step - loss: 1.1377 - root_mean_squared_error: 1.0666\n",
      "Epoch 58/60\n",
      "2/2 [==============================] - 0s 2ms/step - loss: 0.9748 - root_mean_squared_error: 0.9873\n",
      "Epoch 59/60\n",
      "2/2 [==============================] - 0s 2ms/step - loss: 1.1840 - root_mean_squared_error: 1.0881\n",
      "Epoch 60/60\n",
      "2/2 [==============================] - 0s 1ms/step - loss: 1.5095 - root_mean_squared_error: 1.2286\n"
     ]
    },
    {
     "data": {
      "image/png": "[encoded data removed]",
      "text/plain": [
       "<Figure size 640x480 with 1 Axes>"
      ]
     },
     "metadata": {},
     "output_type": "display_data"
    },
    {
     "data": {
      "image/png": "[encoded data removed]",
      "text/plain": [
       "<Figure size 640x480 with 1 Axes>"
      ]
     },
     "metadata": {},
     "output_type": "display_data"
    }
   ],
   "source": [
    "learning_rate = .1\n",
    "epochs = 60\n",
    "my_batch_size = 9\n",
    "\n",
    "my_model = build_model(learning_rate)\n",
    "trained_weight, trained_bias, epochs, rmse = train_model(my_model, my_feature,\n",
    "                                                        my_label, epochs,\n",
    "                                                        my_batch_size)\n",
    "\n",
    "plot_the_model(trained_weight, trained_bias, my_feature, my_label)\n",
    "plot_the_loss_curve(epochs, rmse)"
   ]
  },
  {
   "cell_type": "markdown",
   "id": "84230e11",
   "metadata": {},
   "source": [
    "1. Training loss should steadily decrease, steeply at first, and then more slowly until the slope of the curve reaches or approaches zero\n",
    "2. If the training loss does not converge, train for more epochs\n",
    "3. If the training loss decreases too slowly, increase the learning rate. Note that setting the learning rate too high may also prevent training loss from converging\n",
    "4. If the training loss varies wildly (that is, the training loss jumps around), decrease the learning rate\n",
    "5. Lowering the learning rate while increasing the number of epochs or the batch size is often a good combination\n",
    "6. Setting the batch size to a very small batch number can also cause instability. First, try large batch size values. Then, decrease the batch size until you see degradation\n",
    "7. For real-world datasets consisting of a very large number of examples, the entire dataset might not fit into memory. In such cases, you'll need to reduce the batch size to enable a batch to fit into memory"
   ]
  }
 ],
 "metadata": {
  "kernelspec": {
   "display_name": "mlenv",
   "language": "python",
   "name": "mlenv"
  },
  "language_info": {
   "codemirror_mode": {
    "name": "ipython",
    "version": 3
   },
   "file_extension": ".py",
   "mimetype": "text/x-python",
   "name": "python",
   "nbconvert_exporter": "python",
   "pygments_lexer": "ipython3",
   "version": "3.10.0"
  }
 },
 "nbformat": 4,
 "nbformat_minor": 5
}
