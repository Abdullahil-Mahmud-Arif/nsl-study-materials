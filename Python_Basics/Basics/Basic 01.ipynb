{
 "cells": [
  {
   "cell_type": "markdown",
   "id": "5ec7357f",
   "metadata": {},
   "source": [
    "# Basic Operations"
   ]
  },
  {
   "cell_type": "markdown",
   "id": "68042961",
   "metadata": {},
   "source": [
    "## Int"
   ]
  },
  {
   "cell_type": "code",
   "execution_count": 13,
   "id": "301a836a",
   "metadata": {},
   "outputs": [
    {
     "data": {
      "text/plain": [
       "6"
      ]
     },
     "execution_count": 13,
     "metadata": {},
     "output_type": "execute_result"
    }
   ],
   "source": [
    "5 + 4 - 3"
   ]
  },
  {
   "cell_type": "code",
   "execution_count": 14,
   "id": "e7889aac",
   "metadata": {},
   "outputs": [
    {
     "data": {
      "text/plain": [
       "8"
      ]
     },
     "execution_count": 14,
     "metadata": {},
     "output_type": "execute_result"
    }
   ],
   "source": [
    "2 * (2 + 2)"
   ]
  },
  {
   "cell_type": "code",
   "execution_count": 15,
   "id": "704694e6",
   "metadata": {},
   "outputs": [
    {
     "ename": "ZeroDivisionError",
     "evalue": "division by zero",
     "output_type": "error",
     "traceback": [
      "\u001b[0;31m---------------------------------------------------------------------------\u001b[0m",
      "\u001b[0;31mZeroDivisionError\u001b[0m                         Traceback (most recent call last)",
      "Input \u001b[0;32mIn [15]\u001b[0m, in \u001b[0;36m<cell line: 1>\u001b[0;34m()\u001b[0m\n\u001b[0;32m----> 1\u001b[0m \u001b[38;5;241;43m0\u001b[39;49m\u001b[38;5;241;43m/\u001b[39;49m\u001b[38;5;241;43m0\u001b[39;49m\n",
      "\u001b[0;31mZeroDivisionError\u001b[0m: division by zero"
     ]
    }
   ],
   "source": [
    "0/0"
   ]
  },
  {
   "cell_type": "markdown",
   "id": "eb750805",
   "metadata": {},
   "source": [
    "## Float"
   ]
  },
  {
   "cell_type": "code",
   "execution_count": null,
   "id": "af64e82d",
   "metadata": {},
   "outputs": [],
   "source": [
    "4 + 1.69"
   ]
  },
  {
   "cell_type": "code",
   "execution_count": 16,
   "id": "c67eee4d",
   "metadata": {},
   "outputs": [
    {
     "ename": "ZeroDivisionError",
     "evalue": "float division by zero",
     "output_type": "error",
     "traceback": [
      "\u001b[0;31m---------------------------------------------------------------------------\u001b[0m",
      "\u001b[0;31mZeroDivisionError\u001b[0m                         Traceback (most recent call last)",
      "Input \u001b[0;32mIn [16]\u001b[0m, in \u001b[0;36m<cell line: 1>\u001b[0;34m()\u001b[0m\n\u001b[0;32m----> 1\u001b[0m \u001b[38;5;241;43m0.56\u001b[39;49m\u001b[38;5;241;43m/\u001b[39;49m\u001b[38;5;241;43m0\u001b[39;49m\n",
      "\u001b[0;31mZeroDivisionError\u001b[0m: float division by zero"
     ]
    }
   ],
   "source": [
    "0.56/0"
   ]
  },
  {
   "cell_type": "markdown",
   "id": "446b42e4",
   "metadata": {},
   "source": [
    "# More numeric operations"
   ]
  },
  {
   "cell_type": "markdown",
   "id": "5cd19e1f",
   "metadata": {},
   "source": [
    "### power"
   ]
  },
  {
   "cell_type": "code",
   "execution_count": 17,
   "id": "cad0c7a8",
   "metadata": {},
   "outputs": [
    {
     "data": {
      "text/plain": [
       "1024"
      ]
     },
     "execution_count": 17,
     "metadata": {},
     "output_type": "execute_result"
    }
   ],
   "source": [
    "4**5"
   ]
  },
  {
   "cell_type": "markdown",
   "id": "c3969255",
   "metadata": {},
   "source": [
    "### modulo operator"
   ]
  },
  {
   "cell_type": "code",
   "execution_count": 18,
   "id": "3aade38d",
   "metadata": {},
   "outputs": [
    {
     "data": {
      "text/plain": [
       "1"
      ]
     },
     "execution_count": 18,
     "metadata": {},
     "output_type": "execute_result"
    }
   ],
   "source": [
    "7%3"
   ]
  },
  {
   "cell_type": "markdown",
   "id": "50040ebf",
   "metadata": {},
   "source": [
    "# String"
   ]
  },
  {
   "cell_type": "code",
   "execution_count": 19,
   "id": "6680047c",
   "metadata": {},
   "outputs": [
    {
     "data": {
      "text/plain": [
       "'The most popular general purpose programming language'"
      ]
     },
     "execution_count": 19,
     "metadata": {},
     "output_type": "execute_result"
    }
   ],
   "source": [
    "\"We love python!\"\n",
    "'The most popular general purpose programming language'"
   ]
  },
  {
   "cell_type": "code",
   "execution_count": 20,
   "id": "9dcd576d",
   "metadata": {},
   "outputs": [
    {
     "data": {
      "text/plain": [
       "\"Brian's mother: He's not the Messiah. He's a very naughty boy!\""
      ]
     },
     "execution_count": 20,
     "metadata": {},
     "output_type": "execute_result"
    }
   ],
   "source": [
    "'Brian\\'s mother: He\\'s not the Messiah. He\\'s a very naughty boy!'"
   ]
  },
  {
   "cell_type": "code",
   "execution_count": 21,
   "id": "c52f8fef",
   "metadata": {},
   "outputs": [
    {
     "data": {
      "text/plain": [
       "'Me: Hi, there!\\nShe: Yes, please!'"
      ]
     },
     "execution_count": 21,
     "metadata": {},
     "output_type": "execute_result"
    }
   ],
   "source": [
    "\"\"\"Me: Hi, there!\n",
    "... She: Yes, please!\"\"\""
   ]
  },
  {
   "cell_type": "markdown",
   "id": "70eabc9e",
   "metadata": {},
   "source": [
    "## Escape sequence"
   ]
  },
  {
   "cell_type": "code",
   "execution_count": 22,
   "id": "960e457e",
   "metadata": {},
   "outputs": [
    {
     "name": "stdout",
     "output_type": "stream",
     "text": [
      "Who's this?\n",
      "Interview\tBit\n",
      "Interview \bBit\n",
      "['Hello', 'P', 'to', 'D', 'World']\n",
      "Hello\\nWorld\n",
      "\r",
      "\r",
      "\b InterviewBit \r",
      "\r\n",
      "  \n",
      "C:\\Interview Bit\n",
      "Scaler\u0007Academy\n",
      "C:\\Users\\Dell\\OneDrive\\Desktop\n"
     ]
    }
   ],
   "source": [
    "print('Who\\'s this?')\n",
    "\n",
    "print('Interview\\tBit')\n",
    "\n",
    "print('Interview \\bBit')\n",
    "\n",
    "s = ['Hello','\\x50','to','\\x44','World']\n",
    "print(s)\n",
    "\n",
    "print(r\"Hello\\nWorld\")\n",
    "\n",
    "s = '\\r\\r\\b InterviewBit \\r\\r\\n  '\n",
    "s.strip\n",
    "print(s)\n",
    "\n",
    "print(\"C:\\Interview Bit\\nScaler\\aAcademy\")\n",
    "print(r\"C:\\Users\\Dell\\OneDrive\\Desktop\")"
   ]
  },
  {
   "cell_type": "markdown",
   "id": "6c67b86c",
   "metadata": {},
   "source": [
    "# Basic io"
   ]
  },
  {
   "cell_type": "code",
   "execution_count": 24,
   "id": "772eda0f",
   "metadata": {},
   "outputs": [
    {
     "name": "stdout",
     "output_type": "stream",
     "text": [
      "Give me your country name: Bangladesh\n",
      "Name: Bangladesh \n",
      "Population: 156.6M\n"
     ]
    }
   ],
   "source": [
    "c = input(\"Give me your country name: \")\n",
    "\n",
    "print('Name:', c, '\\nPopulation: 156.6M')\n"
   ]
  },
  {
   "cell_type": "markdown",
   "id": "095fa237",
   "metadata": {},
   "source": [
    "# String operation"
   ]
  },
  {
   "cell_type": "markdown",
   "id": "69c84b27",
   "metadata": {},
   "source": [
    "## Concatenation"
   ]
  },
  {
   "cell_type": "code",
   "execution_count": 25,
   "id": "346109da",
   "metadata": {},
   "outputs": [
    {
     "name": "stdout",
     "output_type": "stream",
     "text": [
      "First string, second string\n"
     ]
    }
   ],
   "source": [
    "print(\"First string\" + \", \" + \"second string\")"
   ]
  },
  {
   "cell_type": "markdown",
   "id": "b4287641",
   "metadata": {},
   "source": [
    "## Repetition"
   ]
  },
  {
   "cell_type": "code",
   "execution_count": 26,
   "id": "b3f69c24",
   "metadata": {},
   "outputs": [
    {
     "name": "stdout",
     "output_type": "stream",
     "text": [
      "5555555555\n"
     ]
    }
   ],
   "source": [
    "print(10 * '5')"
   ]
  },
  {
   "cell_type": "markdown",
   "id": "ed5452b1",
   "metadata": {},
   "source": [
    "## String formating"
   ]
  },
  {
   "cell_type": "code",
   "execution_count": 4,
   "id": "867ca556",
   "metadata": {},
   "outputs": [
    {
     "name": "stdout",
     "output_type": "stream",
     "text": [
      "ex.1: 420, ex.2: 69, ex.3: 489\n"
     ]
    }
   ],
   "source": [
    "msg = \"ex.1: {0}, ex.2: {1}, ex.3: {2}\". format(420, 69, 420+69)\n",
    "print(msg)"
   ]
  },
  {
   "cell_type": "code",
   "execution_count": 5,
   "id": "3dba52fb",
   "metadata": {},
   "outputs": [
    {
     "data": {
      "text/plain": [
       "'abracadabra'"
      ]
     },
     "execution_count": 5,
     "metadata": {},
     "output_type": "execute_result"
    }
   ],
   "source": [
    "'{0}{1}{0}'.format('abra', 'cad')"
   ]
  },
  {
   "cell_type": "code",
   "execution_count": 6,
   "id": "e74f29bd",
   "metadata": {},
   "outputs": [
    {
     "name": "stdout",
     "output_type": "stream",
     "text": [
      "apple, orange, banana\n",
      "Hello world\n",
      "True\n",
      "False\n",
      "THIS IS A SENTENCE.\n",
      "an all caps sentence\n",
      "['a', 'e', 'i', 'o', 'u']\n"
     ]
    }
   ],
   "source": [
    "#join\n",
    "print(\", \".join([\"apple\", \"orange\", \"banana\"]))\n",
    "\n",
    "#replace\n",
    "print(\"Hello Me\".replace(\"Me\", \"world\"))\n",
    "\n",
    "#start, end\n",
    "print(\"This is a sentence\".startswith(\"This\"))\n",
    "print(\"This is a sentence\".endswith(\"a\"))\n",
    "\n",
    "#case\n",
    "print(\"This is a sentence.\".upper())\n",
    "print(\"AN ALL CAPS SENTENCE\".lower())\n",
    "\n",
    "#split\n",
    "print(\"a, e, i, o, u\".split(\", \"))"
   ]
  },
  {
   "cell_type": "markdown",
   "id": "a1e29de7",
   "metadata": {},
   "source": [
    "# Type conversion"
   ]
  },
  {
   "cell_type": "code",
   "execution_count": 6,
   "id": "b7254e92",
   "metadata": {},
   "outputs": [
    {
     "data": {
      "text/plain": [
       "123"
      ]
     },
     "execution_count": 6,
     "metadata": {},
     "output_type": "execute_result"
    }
   ],
   "source": [
    "int(\"123\")"
   ]
  },
  {
   "cell_type": "code",
   "execution_count": 7,
   "id": "6f45dda4",
   "metadata": {},
   "outputs": [
    {
     "data": {
      "text/plain": [
       "12"
      ]
     },
     "execution_count": 7,
     "metadata": {},
     "output_type": "execute_result"
    }
   ],
   "source": [
    " int(12.3)"
   ]
  },
  {
   "cell_type": "code",
   "execution_count": 8,
   "id": "665b33ab",
   "metadata": {},
   "outputs": [
    {
     "data": {
      "text/plain": [
       "123.0"
      ]
     },
     "execution_count": 8,
     "metadata": {},
     "output_type": "execute_result"
    }
   ],
   "source": [
    "float(123)"
   ]
  },
  {
   "cell_type": "code",
   "execution_count": 9,
   "id": "99e2e6d5",
   "metadata": {},
   "outputs": [
    {
     "data": {
      "text/plain": [
       "'123'"
      ]
     },
     "execution_count": 9,
     "metadata": {},
     "output_type": "execute_result"
    }
   ],
   "source": [
    "str(123)"
   ]
  },
  {
   "cell_type": "code",
   "execution_count": 10,
   "id": "5375e34a",
   "metadata": {},
   "outputs": [
    {
     "name": "stdout",
     "output_type": "stream",
     "text": [
      "Float = 10.5 Integer = 50\n"
     ]
    }
   ],
   "source": [
    "print(\"Float = \" + str(10.5) + \" Integer = \" + str(50))"
   ]
  },
  {
   "cell_type": "markdown",
   "id": "5b152303",
   "metadata": {},
   "source": [
    "# Variable"
   ]
  },
  {
   "cell_type": "markdown",
   "id": "d138abb0",
   "metadata": {},
   "source": [
    "## Assignment"
   ]
  },
  {
   "cell_type": "code",
   "execution_count": 10,
   "id": "b4bec7f4",
   "metadata": {},
   "outputs": [
    {
     "name": "stdout",
     "output_type": "stream",
     "text": [
      "3\n",
      "8\n"
     ]
    }
   ],
   "source": [
    "x = 3\n",
    "print(x)\n",
    "print(x+5)"
   ]
  },
  {
   "cell_type": "markdown",
   "id": "32c175a0",
   "metadata": {},
   "source": [
    "## Reassignment"
   ]
  },
  {
   "cell_type": "code",
   "execution_count": 11,
   "id": "4f179ca0",
   "metadata": {},
   "outputs": [
    {
     "name": "stdout",
     "output_type": "stream",
     "text": [
      "10.5\n",
      "Hello There\n"
     ]
    }
   ],
   "source": [
    "x = 10.5\n",
    "print(x)\n",
    "x = \"Hello There\"\n",
    "print(x)"
   ]
  },
  {
   "cell_type": "code",
   "execution_count": 12,
   "id": "c29e4b5b",
   "metadata": {},
   "outputs": [
    {
     "name": "stdout",
     "output_type": "stream",
     "text": [
      "Enter your birth year: 1333\n",
      "You are 689 years old!\n"
     ]
    }
   ],
   "source": [
    "user_input = input(\"Enter your birth year: \")\n",
    "age = 2022 - int(user_input)\n",
    "print(\"You are \" + str(age) + \" years old!\")"
   ]
  },
  {
   "cell_type": "markdown",
   "id": "4ba3aec0",
   "metadata": {},
   "source": [
    "# Inplace operator"
   ]
  },
  {
   "cell_type": "code",
   "execution_count": 16,
   "id": "3556fad0",
   "metadata": {},
   "outputs": [
    {
     "name": "stdout",
     "output_type": "stream",
     "text": [
      "Python3\n"
     ]
    }
   ],
   "source": [
    "language = \"Python\"\n",
    "language += \"3\"\n",
    "print(language)"
   ]
  }
 ],
 "metadata": {
  "kernelspec": {
   "display_name": "tenv",
   "language": "python",
   "name": "tenv"
  },
  "language_info": {
   "codemirror_mode": {
    "name": "ipython",
    "version": 3
   },
   "file_extension": ".py",
   "mimetype": "text/x-python",
   "name": "python",
   "nbconvert_exporter": "python",
   "pygments_lexer": "ipython3",
   "version": "3.9.12"
  }
 },
 "nbformat": 4,
 "nbformat_minor": 5
}
