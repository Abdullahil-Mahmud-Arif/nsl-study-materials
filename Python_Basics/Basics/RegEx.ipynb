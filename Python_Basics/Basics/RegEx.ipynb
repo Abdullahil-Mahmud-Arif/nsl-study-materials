{
 "cells": [
  {
   "cell_type": "markdown",
   "id": "40dd9758",
   "metadata": {},
   "source": [
    "# Regular expression (RegEx)"
   ]
  },
  {
   "cell_type": "markdown",
   "id": "39d7a202",
   "metadata": {},
   "source": [
    "A RegEx is a sequence of characters that forms a search pattern. RegEx can be used to check if a string contains the specified search pattern."
   ]
  },
  {
   "cell_type": "code",
   "execution_count": 2,
   "id": "a9ff4d1b",
   "metadata": {},
   "outputs": [],
   "source": [
    "import re\n",
    "\n",
    "pattern = r\"Bangladesh\""
   ]
  },
  {
   "cell_type": "markdown",
   "id": "677206e0",
   "metadata": {},
   "source": [
    "## MetaCharacters\n",
    "\n",
    "Metacharacters are characters that are interpreted in a special way by a RegEx engine. Here's a list of metacharacters:\n",
    "\n",
    "### [] . ^ $ * + ? {} () \\ |\n",
    "\n",
    "\n",
    "\n"
   ]
  },
  {
   "cell_type": "markdown",
   "id": "52f03ed7",
   "metadata": {},
   "source": [
    "## ^ - Caret\n",
    "\n",
    "The caret symbol ^ is used to check if a string starts with a certain character.\n"
   ]
  },
  {
   "cell_type": "code",
   "execution_count": 21,
   "id": "8dbf07e1",
   "metadata": {},
   "outputs": [
    {
     "name": "stdout",
     "output_type": "stream",
     "text": [
      "^a\n",
      "asfrsa\n",
      "Success\n"
     ]
    }
   ],
   "source": [
    "import re\n",
    "\n",
    "pattern=input()\n",
    "\n",
    "test=input()\n",
    "\n",
    "result= re.match(pattern,test)\n",
    "\n",
    "if result:\n",
    "    print(\"Success\")\n",
    "else:\n",
    "    print(\"Unsuccess\")"
   ]
  },
  {
   "cell_type": "markdown",
   "id": "e7ca9848",
   "metadata": {},
   "source": [
    "## $ - Dollar \n",
    "\n",
    "The dollar symbol $ is used to check if a string ends with a certain character."
   ]
  },
  {
   "cell_type": "markdown",
   "id": "ff880671",
   "metadata": {},
   "source": [
    "# .\n",
    "Any character (except newline character)"
   ]
  },
  {
   "cell_type": "code",
   "execution_count": 27,
   "id": "ce2f55dd",
   "metadata": {},
   "outputs": [
    {
     "name": "stdout",
     "output_type": "stream",
     "text": [
      "Search successful\n"
     ]
    }
   ],
   "source": [
    "import re\n",
    "\n",
    "pattern = '^A....s$'\n",
    "test_string = 'Akbars'\n",
    "\n",
    "result  = re.match(pattern,test_string)\n",
    "\n",
    "if result:\n",
    "    print(\"Search successful\")\n",
    "else:\n",
    "    print(\"Search unsuccessful.\")"
   ]
  },
  {
   "cell_type": "markdown",
   "id": "00ee4c13",
   "metadata": {},
   "source": [
    "## * - Star\n",
    "\n",
    "The star symbol * matches zero or more occurrences of the pattern left to it.\n",
    "\n"
   ]
  },
  {
   "cell_type": "code",
   "execution_count": 35,
   "id": "d308f599",
   "metadata": {},
   "outputs": [
    {
     "name": "stdout",
     "output_type": "stream",
     "text": [
      "Search successful matched\n"
     ]
    }
   ],
   "source": [
    "import re\n",
    "\n",
    "pattern = 'ma*n'\n",
    "test_string = 'mannn'\n",
    "\n",
    "result  = re.match(pattern,test_string)\n",
    "\n",
    "if result:\n",
    "    print(\"Search successful matched\")\n",
    "else:\n",
    "    print(\"Search unsuccessful matched\")"
   ]
  },
  {
   "cell_type": "code",
   "execution_count": 36,
   "id": "5e4d4974",
   "metadata": {},
   "outputs": [
    {
     "name": "stdout",
     "output_type": "stream",
     "text": [
      "Search unsuccessful matched\n"
     ]
    }
   ],
   "source": [
    "import re\n",
    "\n",
    "pattern = 'ma*n'\n",
    "test_string = 'main'\n",
    "\n",
    "result  = re.match(pattern,test_string)\n",
    "\n",
    "if result:\n",
    "    print(\"Search successful matched\")\n",
    "else:\n",
    "    print(\"Search unsuccessful matched\")"
   ]
  },
  {
   "cell_type": "markdown",
   "id": "b681e18c",
   "metadata": {},
   "source": [
    "## + - Plus\n",
    "\n",
    "The plus symbol + matches one or more occurrences of the pattern left to it."
   ]
  },
  {
   "cell_type": "code",
   "execution_count": 41,
   "id": "b36f3d6f",
   "metadata": {},
   "outputs": [
    {
     "name": "stdout",
     "output_type": "stream",
     "text": [
      "Search successful matched\n"
     ]
    }
   ],
   "source": [
    "import re\n",
    "\n",
    "pattern = 'he.+o'\n",
    "test_string = 'hello planet'\n",
    "\n",
    "result  = re.match(pattern,test_string)\n",
    "\n",
    "if result:\n",
    "    print(\"Search successful matched\")\n",
    "else:\n",
    "    print(\"Search unsuccessful matched\")"
   ]
  },
  {
   "cell_type": "markdown",
   "id": "7618bd4c",
   "metadata": {},
   "source": [
    "## ? - Question Mark\n",
    "\n",
    "The question mark symbol ? matches zero or one occurrence of the pattern left to it."
   ]
  },
  {
   "cell_type": "code",
   "execution_count": 38,
   "id": "468bbb76",
   "metadata": {},
   "outputs": [
    {
     "name": "stdout",
     "output_type": "stream",
     "text": [
      "[]\n"
     ]
    }
   ],
   "source": [
    "import re\n",
    "\n",
    "pattern = \"he.?o\"\n",
    "test_string = \"hello planet\"\n",
    "\n",
    "result = re.findall(pattern,test_string)\n",
    "\n",
    "print(result)"
   ]
  },
  {
   "cell_type": "markdown",
   "id": "c4dea49d",
   "metadata": {},
   "source": [
    "## {} - Braces\n",
    "\n",
    "Consider this code: {n,m}. This means at least n, and at most m repetitions of the pattern left to it."
   ]
  },
  {
   "cell_type": "code",
   "execution_count": 43,
   "id": "8f25ffd5",
   "metadata": {},
   "outputs": [
    {
     "name": "stdout",
     "output_type": "stream",
     "text": [
      "a{2,3}\n",
      "baaadddd asdhfkalsjdfaaaa\n",
      "Search unsuccessful matched\n"
     ]
    }
   ],
   "source": [
    "import re\n",
    "\n",
    "pattern = input()\n",
    "test_string = input()\n",
    "\n",
    "result  = re.match(pattern,test_string)\n",
    "\n",
    "if result:\n",
    "    print(\"Search successful matched\")\n",
    "else:\n",
    "    print(\"Search unsuccessful matched\")"
   ]
  },
  {
   "cell_type": "markdown",
   "id": "77c3a67b",
   "metadata": {},
   "source": [
    "## () - Group\n",
    "\n",
    "Parentheses () is used to group sub-patterns.\n",
    "\n",
    "For example, (a|b|c)xz match any string that matches either a or b or c followed by xz"
   ]
  },
  {
   "cell_type": "code",
   "execution_count": 34,
   "id": "ef29f3bf",
   "metadata": {},
   "outputs": [
    {
     "name": "stdout",
     "output_type": "stream",
     "text": [
      "Search unsuccessful.\n"
     ]
    }
   ],
   "source": [
    "import re\n",
    "\n",
    "pattern = 's$'\n",
    "test_string = 'abs'\n",
    "\n",
    "result  = re.match(pattern,test_string)\n",
    "\n",
    "if result:\n",
    "    print(\"Search successful\")\n",
    "else:\n",
    "    print(\"Search unsuccessful.\")"
   ]
  },
  {
   "cell_type": "code",
   "execution_count": 28,
   "id": "da4a93a5",
   "metadata": {},
   "outputs": [
    {
     "name": "stdout",
     "output_type": "stream",
     "text": [
      "Search successful.\n"
     ]
    }
   ],
   "source": [
    "import re\n",
    "\n",
    "pattern = '^a...s$'\n",
    "test_string = 'abyss'\n",
    "\n",
    "result = re.match(pattern, test_string)\n",
    "\n",
    "if result:\n",
    "    print(\"Search successful.\")\n",
    "else:\n",
    "    print(\"Search unsuccessful.\")\n"
   ]
  },
  {
   "cell_type": "markdown",
   "id": "ad783973",
   "metadata": {},
   "source": [
    "#### \\d - Matches any decimal digit. Equivalent to [0-9]"
   ]
  },
  {
   "cell_type": "markdown",
   "id": "e7741df4",
   "metadata": {},
   "source": [
    "## search()"
   ]
  },
  {
   "cell_type": "markdown",
   "id": "f2f4298b",
   "metadata": {},
   "source": [
    "The search() function searches the string for a match, and returns a Match object if there is a match. If there is more than one match, only the first occurrence of the match will be returned."
   ]
  },
  {
   "cell_type": "code",
   "execution_count": 3,
   "id": "ba4ee4e4",
   "metadata": {},
   "outputs": [
    {
     "name": "stdout",
     "output_type": "stream",
     "text": [
      "Match Found!\n"
     ]
    }
   ],
   "source": [
    "if re.search(pattern, \"There is country named Bangladesh in south asia!\"):\n",
    "    print(\"Match Found!\")\n",
    "else:\n",
    "    print(\"No match\")"
   ]
  },
  {
   "cell_type": "markdown",
   "id": "f2138c28",
   "metadata": {},
   "source": [
    "## findall()"
   ]
  },
  {
   "cell_type": "markdown",
   "id": "f3ff3166",
   "metadata": {},
   "source": [
    "The findall() function returns a list containing all matches."
   ]
  },
  {
   "cell_type": "code",
   "execution_count": 40,
   "id": "790f6550",
   "metadata": {},
   "outputs": [
    {
     "name": "stdout",
     "output_type": "stream",
     "text": [
      "['bangla', 'bangla']\n"
     ]
    }
   ],
   "source": [
    "sentance = \"Bangladeshi bangla and indian bangla are differnet.\"\n",
    "pattern = r\"bangla\"   \n",
    "\n",
    "# print the matching patterns if any is present\n",
    "print(re.findall(pattern, sentance))"
   ]
  },
  {
   "cell_type": "code",
   "execution_count": 41,
   "id": "89239a60",
   "metadata": {},
   "outputs": [
    {
     "name": "stdout",
     "output_type": "stream",
     "text": [
      "Matches: 3\n"
     ]
    }
   ],
   "source": [
    "string = \"abc abcd 123 1234 12345 123456 1234567 xyz\"\n",
    "\n",
    "# prints number of occurances there are digits in 5-7 range\n",
    "print(\"Matches:\", len(re.findall(\"\\d{5,7}\", num)))"
   ]
  },
  {
   "cell_type": "markdown",
   "id": "4766913e",
   "metadata": {},
   "source": [
    "## span()\n"
   ]
  },
  {
   "cell_type": "markdown",
   "id": "4baa9787",
   "metadata": {},
   "source": [
    "\n",
    "span() method returns a tuple containing starting and ending index of the matched string. If group did not contribute to the match it returns(-1,-1)."
   ]
  },
  {
   "cell_type": "code",
   "execution_count": 46,
   "id": "4c7a6b6e",
   "metadata": {},
   "outputs": [
    {
     "name": "stdout",
     "output_type": "stream",
     "text": [
      "(12, 18)\n",
      "(30, 36)\n"
     ]
    }
   ],
   "source": [
    "for i in re.finditer(r\"bangla\", sentance):\n",
    "    loctup = i.span()\n",
    "    print(loctup)"
   ]
  },
  {
   "cell_type": "markdown",
   "id": "5215bedc",
   "metadata": {},
   "source": [
    "## split()"
   ]
  },
  {
   "cell_type": "markdown",
   "id": "30ee3a80",
   "metadata": {},
   "source": [
    "The split() function returns a list where the string has been split at each match. You can control the number of occurrences by specifying the maxsplit parameter."
   ]
  },
  {
   "cell_type": "code",
   "execution_count": 44,
   "id": "66389f69",
   "metadata": {},
   "outputs": [
    {
     "name": "stdout",
     "output_type": "stream",
     "text": [
      "['Bangladeshi', 'bangla', 'and', 'indian', 'bangla', 'are', 'differnet.']\n"
     ]
    }
   ],
   "source": [
    "import re\n",
    "txt = r\"Bangladeshi bangla and indian bangla are differnet.\"\n",
    "x = re.split(\"\\s\", txt)\n",
    "print(x)"
   ]
  },
  {
   "cell_type": "markdown",
   "id": "8fc5aced",
   "metadata": {},
   "source": [
    "## sub()"
   ]
  },
  {
   "cell_type": "markdown",
   "id": "ab8a2846",
   "metadata": {},
   "source": [
    "The sub() function replaces the matches with the text of your choice. You can control the number of replacements by specifying the count parameter."
   ]
  },
  {
   "cell_type": "code",
   "execution_count": 17,
   "id": "edb280d9",
   "metadata": {},
   "outputs": [
    {
     "name": "stdout",
     "output_type": "stream",
     "text": [
      "Bangladeshi bangla and indian bangla are differnet.\n",
      "Bangladeshi\n",
      "bangla\n",
      "and\n",
      "indian\n",
      "bangla\n",
      "are\n",
      "differnet.\n"
     ]
    }
   ],
   "source": [
    "import re\n",
    "txt = r\"Bangladeshi bangla and indian bangla are differnet.\"\n",
    "print(txt)\n",
    "x = re.sub(\"\\s\", \"\\n\", txt)\n",
    "print(x)"
   ]
  },
  {
   "cell_type": "markdown",
   "id": "db9ed3a2",
   "metadata": {},
   "source": [
    "## subn() \n",
    "subn() is similar to sub() in all ways, except in its way of providing output. It returns a tuple with a count of the total of replacement and the new string rather than just the string. "
   ]
  },
  {
   "cell_type": "code",
   "execution_count": 5,
   "id": "662565dd",
   "metadata": {},
   "outputs": [
    {
     "name": "stdout",
     "output_type": "stream",
     "text": [
      "('S~*ject has Uber booked already', 1)\n",
      "('S~*ject has ~*er booked already', 2)\n",
      "2\n",
      "S~*ject has ~*er booked already\n"
     ]
    }
   ],
   "source": [
    "import re \n",
    "\n",
    "print(re.subn('ub', '~*', 'Subject has Uber booked already'))\n",
    "\n",
    "t = re.subn('ub', '~*', 'Subject has Uber booked already', flags=re.IGNORECASE)\n",
    "\n",
    "print(t)\n",
    "print(len(t))\n",
    "\n",
    "print(t[0]) #Same as sub() output"
   ]
  },
  {
   "cell_type": "markdown",
   "id": "25e64662",
   "metadata": {},
   "source": [
    "## re.escape()\n",
    "Returns string with all non-alphanumerics backslashed, this is useful if you want to match an arbitrary literal string that may have regular expression metacharacters in it."
   ]
  },
  {
   "cell_type": "code",
   "execution_count": 6,
   "id": "c7f53754",
   "metadata": {},
   "outputs": [
    {
     "name": "stdout",
     "output_type": "stream",
     "text": [
      "Subject\\ has\\ Uber\\ booked\\ already\n",
      "I\\ Asked\\ what\\ is\\ this\\ \\[a\\-9\\],\\ he\\ said\\ \\\t\\ \\^WoW\n"
     ]
    }
   ],
   "source": [
    "import re\n",
    "\n",
    "#Returns '\\' before every Non-Alphanumeric Character\n",
    "print(re.escape('Subject has Uber booked already'))\n",
    "print(re.escape('I Asked what is this [a-9], he said \\t ^WoW'))"
   ]
  },
  {
   "cell_type": "markdown",
   "id": "171b8600",
   "metadata": {},
   "source": [
    "### white spaces\n",
    "1. \\s 2-7 (\\S=^\\s)\n",
    "2. \\n newline\n",
    "3. \\b backspace\n",
    "4. \\f formfeed\n",
    "5. \\r carriage return\n",
    "6. \\t tab\n",
    "7. \\v vertical tab"
   ]
  },
  {
   "cell_type": "markdown",
   "id": "0c5c2e5c",
   "metadata": {},
   "source": [
    "## Some Examples"
   ]
  },
  {
   "cell_type": "code",
   "execution_count": 2,
   "id": "891a411e",
   "metadata": {},
   "outputs": [
    {
     "name": "stdout",
     "output_type": "stream",
     "text": [
      "{'Janice': '22', 'Theon': '33', 'Gabriel': '44', 'Joey': '21'}\n"
     ]
    }
   ],
   "source": [
    "# Extracts names and ages from a string and makes a dictionary with them\n",
    "\n",
    "import re\n",
    "\n",
    "NameAge = '''Janice is 22 and Theon is 33\n",
    "Gabriel is 44 and Joey is 21\n",
    "'''\n",
    "\n",
    "ages = re.findall(r'\\d{1,3}', NameAge)\n",
    "names = re.findall(r'[A-Z][a-z]*', NameAge)\n",
    "\n",
    "ageDict = {}\n",
    "x = 0\n",
    "\n",
    "for eachname in names:\n",
    "    ageDict[eachname] = ages[x]\n",
    "    x += 1\n",
    "    \n",
    "print(ageDict)"
   ]
  },
  {
   "cell_type": "markdown",
   "id": "82d231ec",
   "metadata": {},
   "source": [
    "1. \\w [a-zA-Z0-9_]\n",
    "2. \\W [^\\w]"
   ]
  },
  {
   "cell_type": "code",
   "execution_count": 3,
   "id": "57982d9c",
   "metadata": {},
   "outputs": [
    {
     "name": "stdout",
     "output_type": "stream",
     "text": [
      "It is a phone number.\n"
     ]
    }
   ],
   "source": [
    "# Checks if the number is valid\n",
    "\n",
    "phn = \"412-555-1212\"\n",
    "\n",
    "if re.search(\"\\w{3}-\\w{3}-\\w{4}\", phn):\n",
    "    print(\"It is a phone number.\")"
   ]
  },
  {
   "cell_type": "code",
   "execution_count": 4,
   "id": "133dda00",
   "metadata": {},
   "outputs": [
    {
     "name": "stdout",
     "output_type": "stream",
     "text": [
      "Email Matches: 2\n"
     ]
    }
   ],
   "source": [
    "# Checks if the email is valid\n",
    "\n",
    "email = \"sk@aol.com md@.com @seo.com dc@b.com\"\n",
    "\n",
    "print(\"Email Matches:\", len(re.findall(\"[\\w._%+-]{1,20}@[\\w.-]{2,20}.[A-Za-z]{2,3}\", email)))"
   ]
  },
  {
   "cell_type": "markdown",
   "id": "fee5ce5e",
   "metadata": {},
   "source": [
    "### re.VERBOSE\n",
    "Whitespace within the pattern is ignored, except when in a character class, or when preceded by an unescaped backslash, or within tokens like *?, (?: or (?P. When a line contains a # that is not in a character class and is not preceded by an unescaped backslash, all characters from the leftmost such # through the end of the line are ignored."
   ]
  },
  {
   "cell_type": "code",
   "execution_count": 12,
   "id": "3f187094",
   "metadata": {},
   "outputs": [
    {
     "name": "stdout",
     "output_type": "stream",
     "text": [
      "md@.next123\n",
      "mdarif@nextsolutionlab.com\n",
      "\n",
      "md@.next123 is invalid\n",
      "\n",
      "mdarif@nextsolutionlab.com is valid. Details are showed as follow: \n",
      "Local: mdarif\n",
      "Domain: nextsolutionlab\n",
      "Top level domain: com\n",
      "\n"
     ]
    }
   ],
   "source": [
    "# Checks for valid email and gives details if valid\n",
    "\n",
    "import re\n",
    "\n",
    "def validate_email(email):\n",
    "    \n",
    "    regex_email = re.compile(r'''\n",
    "    ^([a-z0-9_\\.-]+)  #local part\n",
    "    @                 #single @ sign\n",
    "    ([0-9a-z\\.-]+)    #domain name\n",
    "    \\.                #single dot\n",
    "    ([a-z]{2,6})$     #top level domain\n",
    "    ''', re.VERBOSE | re.IGNORECASE)\n",
    "\n",
    "    res = regex_email.fullmatch(email)\n",
    "    \n",
    "    if res:\n",
    "        print()\n",
    "        print(\"{} is valid. Details are showed as follow: \".format(email))\n",
    "        \n",
    "        print(\"Local: {}\".format(res.group(1)))\n",
    "        \n",
    "        print(\"Domain: {}\".format(res.group(2)))\n",
    "        \n",
    "        print(\"Top level domain: {}\".format(res.group(3)))\n",
    "        print()\n",
    "        \n",
    "    else:\n",
    "        print()\n",
    "        print(\"{} is invalid\".format(email))\n",
    "        \n",
    "x = input()\n",
    "y = input()\n",
    "\n",
    "validate_email(x)\n",
    "validate_email(y)"
   ]
  }
 ],
 "metadata": {
  "kernelspec": {
   "display_name": "tenv",
   "language": "python",
   "name": "tenv"
  },
  "language_info": {
   "codemirror_mode": {
    "name": "ipython",
    "version": 3
   },
   "file_extension": ".py",
   "mimetype": "text/x-python",
   "name": "python",
   "nbconvert_exporter": "python",
   "pygments_lexer": "ipython3",
   "version": "3.9.12"
  }
 },
 "nbformat": 4,
 "nbformat_minor": 5
}
