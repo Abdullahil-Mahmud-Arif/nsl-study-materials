{
 "cells": [
  {
   "cell_type": "markdown",
   "id": "77712ad1",
   "metadata": {},
   "source": [
    "# functions & modules"
   ]
  },
  {
   "cell_type": "markdown",
   "id": "0f5bea91",
   "metadata": {},
   "source": [
    "## function"
   ]
  },
  {
   "cell_type": "markdown",
   "id": "5b2844f8",
   "metadata": {},
   "source": [
    "A function is a block of code which only runs when it is called. You can pass data, known as parameters, into a function. A function can return data as a result."
   ]
  },
  {
   "cell_type": "code",
   "execution_count": 1,
   "id": "4f8fdb27",
   "metadata": {},
   "outputs": [
    {
     "name": "stdout",
     "output_type": "stream",
     "text": [
      "Hello World!\n",
      "Hello World!\n"
     ]
    }
   ],
   "source": [
    "def hello():\n",
    "    print(\"Hello World!\")\n",
    "    \n",
    "hello()    \n",
    "\n",
    "hello()"
   ]
  },
  {
   "cell_type": "markdown",
   "id": "0ee75ea4",
   "metadata": {},
   "source": [
    "### Arguments"
   ]
  },
  {
   "cell_type": "markdown",
   "id": "d85c2a17",
   "metadata": {},
   "source": [
    "An argument is the value that are sent to the function when it is called."
   ]
  },
  {
   "cell_type": "code",
   "execution_count": 8,
   "id": "cf985866",
   "metadata": {},
   "outputs": [
    {
     "name": "stdout",
     "output_type": "stream",
     "text": [
      "138\n",
      "840\n",
      "15\n",
      "1000\n",
      "100\n",
      "{'a': 1, 'b': 2, 'c': 3}\n",
      "a : 1\n",
      "b : 2\n",
      "c : 3\n",
      "10\n",
      "(20, 30, 50)\n",
      "{'b': 5, 'c': 10}\n"
     ]
    }
   ],
   "source": [
    "#1\n",
    "def show_double(x):\n",
    "    print(x*2)\n",
    "\n",
    "show_double(69)\n",
    "show_double(420)\n",
    "\n",
    "#2\n",
    "def make_sum(x, y):\n",
    "    z = x + y\n",
    "    print(z)\n",
    "\n",
    "make_sum(5, 10)\n",
    "make_sum(500, 500)\n",
    "\n",
    "#multiple\n",
    "def make_sum(*args):\n",
    "    sum = 0\n",
    "    for num in args: \n",
    "        sum += num\n",
    "    return sum\n",
    "\n",
    "print(make_sum(10, 20, 30, 40))\n",
    "\n",
    "#named\n",
    "def print_dict(**aargs):\n",
    "    print(aargs)\n",
    "\n",
    "\n",
    "print_dict(a=1, b=2, c=3)\n",
    "\n",
    "#or\n",
    "def print_dict(**kwargs):\n",
    "    for args in kwargs:\n",
    "        print(\"{0} : {1}\".format(args, kwargs[args]))\n",
    "\n",
    "\n",
    "print_dict(a=1, b=2, c=3)\n",
    "\n",
    "#mixed\n",
    "def print_all(a, *args, **kwargs):\n",
    "    print(a)\n",
    "    print(args)\n",
    "    print(kwargs)\n",
    "\n",
    "\n",
    "print_all(10, 20, 30, 50, b=5, c=10)"
   ]
  },
  {
   "cell_type": "markdown",
   "id": "685d63c4",
   "metadata": {},
   "source": [
    "## return"
   ]
  },
  {
   "cell_type": "markdown",
   "id": "c41a83b2",
   "metadata": {},
   "source": [
    "A return statement is used to end the execution of the function call and “returns” the result (value of the expression following the return keyword) to the caller. The statements after the return statements are not executed."
   ]
  },
  {
   "cell_type": "code",
   "execution_count": 9,
   "id": "1ffff9ae",
   "metadata": {},
   "outputs": [
    {
     "name": "stdout",
     "output_type": "stream",
     "text": [
      "32\n"
     ]
    }
   ],
   "source": [
    "def get_larger(x, y):\n",
    "    if x > y:\n",
    "        return x\n",
    "    else:\n",
    "        return y\n",
    "\n",
    "larger_value = get_larger(23, 32)\n",
    "print(larger_value)"
   ]
  },
  {
   "cell_type": "code",
   "execution_count": 11,
   "id": "667f991c",
   "metadata": {},
   "outputs": [
    {
     "name": "stdout",
     "output_type": "stream",
     "text": [
      "9\n"
     ]
    }
   ],
   "source": [
    "def add_numbers(x, y):\n",
    "    total = x + y\n",
    "    return total\n",
    "    print(\"This won't be printed\")\n",
    "\n",
    "print(add_numbers(4, 5))"
   ]
  },
  {
   "cell_type": "markdown",
   "id": "7b6c3b04",
   "metadata": {},
   "source": [
    "## comments & doc strings"
   ]
  },
  {
   "cell_type": "markdown",
   "id": "85fb3139",
   "metadata": {},
   "source": [
    "### Comments"
   ]
  },
  {
   "cell_type": "markdown",
   "id": "c2c55802",
   "metadata": {},
   "source": [
    "A comment in Python starts with the hash character, # , and extends to the end of the physical line. A hash character within a string value is not seen as a comment, though. To be precise, a comment can be written in three ways - entirely on its own line, next to a statement of code, and as a multi-line comment block."
   ]
  },
  {
   "cell_type": "code",
   "execution_count": 12,
   "id": "12924eba",
   "metadata": {},
   "outputs": [
    {
     "name": "stdout",
     "output_type": "stream",
     "text": [
      "15\n"
     ]
    }
   ],
   "source": [
    "# few variables below\n",
    "x = 10\n",
    "y = 5\n",
    "\n",
    "# make sum of the above two variables\n",
    "# and store the result in z\n",
    "z = x + y\n",
    "\n",
    "print(z) # print the result\n",
    "# print (x // y)\n",
    "# another comment"
   ]
  },
  {
   "cell_type": "markdown",
   "id": "d3a5e47d",
   "metadata": {},
   "source": [
    "### Docstring"
   ]
  },
  {
   "cell_type": "markdown",
   "id": "b4c37475",
   "metadata": {},
   "source": [
    "A Python docstring is a string used to document a Python module, class, function or method, so programmers can understand what it does without having to read the details of the implementation. "
   ]
  },
  {
   "cell_type": "code",
   "execution_count": 2,
   "id": "b6bd918b",
   "metadata": {},
   "outputs": [
    {
     "name": "stdout",
     "output_type": "stream",
     "text": [
      "Hello World!\n"
     ]
    }
   ],
   "source": [
    "def greet(word):\n",
    "    \"\"\"\n",
    "    Print a word with an\n",
    "    exclamation mark following it.\n",
    "    \"\"\"\n",
    "    print(word + \"!\")\n",
    "\n",
    "greet(\"Hello World\")"
   ]
  },
  {
   "cell_type": "markdown",
   "id": "6b1b236d",
   "metadata": {},
   "source": [
    "### Access doc strings"
   ]
  },
  {
   "cell_type": "code",
   "execution_count": 3,
   "id": "748b7ae8",
   "metadata": {},
   "outputs": [
    {
     "name": "stdout",
     "output_type": "stream",
     "text": [
      "\n",
      "    Print a word with an\n",
      "    exclamation mark following it.\n",
      "    \n",
      "Hello World!\n"
     ]
    }
   ],
   "source": [
    "def greet(word):\n",
    "    \"\"\"\n",
    "    Print a word with an\n",
    "    exclamation mark following it.\n",
    "    \"\"\"\n",
    "    print(word + \"!\")\n",
    "\n",
    "# What the fucntion does?\n",
    "print(greet.__doc__)\n",
    "\n",
    "# Make sense, now lets use it    \n",
    "greet(\"Hello World\")"
   ]
  },
  {
   "cell_type": "code",
   "execution_count": 33,
   "id": "eb748c96",
   "metadata": {},
   "outputs": [
    {
     "name": "stdout",
     "output_type": "stream",
     "text": [
      "3.0\n"
     ]
    }
   ],
   "source": [
    "import math\n",
    "def square_root(n):\n",
    "    \"\"\"Calculate the square root of a number.\n",
    "\n",
    "    Args:\n",
    "        n: the number to get the square root of.\n",
    "    Returns:\n",
    "        the square root of n.\n",
    "    Raises:\n",
    "        TypeError: if n is not a number.\n",
    "        ValueError: if n is negative.\n",
    "\n",
    "    \"\"\"\n",
    "    sq = math.sqrt(n)\n",
    "    return sq\n",
    "    pass\n",
    "print(square_root(9.0))"
   ]
  },
  {
   "cell_type": "markdown",
   "id": "ce14221f",
   "metadata": {},
   "source": [
    "## module"
   ]
  },
  {
   "cell_type": "markdown",
   "id": "aa4d441e",
   "metadata": {},
   "source": [
    "A module is simply a “Python file” which contains code we can reuse in multiple Python programs. A module may contain functions, classes, lists, etc. Modules in Python can be of two types: Built-in Modules."
   ]
  },
  {
   "cell_type": "code",
   "execution_count": 1,
   "id": "56ed3972",
   "metadata": {},
   "outputs": [
    {
     "name": "stdout",
     "output_type": "stream",
     "text": [
      "85\n",
      "5.0\n"
     ]
    }
   ],
   "source": [
    "#also the above examples\n",
    "\n",
    "import random\n",
    "from math import sqrt as square_root\n",
    "\n",
    "value = random.randint(1, 100)\n",
    "print(value)\n",
    "print(square_root(25))\n"
   ]
  }
 ],
 "metadata": {
  "kernelspec": {
   "display_name": "tenv",
   "language": "python",
   "name": "tenv"
  },
  "language_info": {
   "codemirror_mode": {
    "name": "ipython",
    "version": 3
   },
   "file_extension": ".py",
   "mimetype": "text/x-python",
   "name": "python",
   "nbconvert_exporter": "python",
   "pygments_lexer": "ipython3",
   "version": "3.9.12"
  }
 },
 "nbformat": 4,
 "nbformat_minor": 5
}
