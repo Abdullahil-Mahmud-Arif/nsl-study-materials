{
 "cells": [
  {
   "cell_type": "markdown",
   "id": "40dd9758",
   "metadata": {},
   "source": [
    "# Regular expression (RegEx)"
   ]
  },
  {
   "cell_type": "markdown",
   "id": "39d7a202",
   "metadata": {},
   "source": [
    "A RegEx is a sequence of characters that forms a search pattern. RegEx can be used to check if a string contains the specified search pattern."
   ]
  },
  {
   "cell_type": "code",
   "execution_count": 2,
   "id": "a9ff4d1b",
   "metadata": {},
   "outputs": [],
   "source": [
    "import re\n",
    "\n",
    "pattern = r\"Bangladesh\""
   ]
  },
  {
   "cell_type": "markdown",
   "id": "e7741df4",
   "metadata": {},
   "source": [
    "### search()"
   ]
  },
  {
   "cell_type": "markdown",
   "id": "f2f4298b",
   "metadata": {},
   "source": [
    "The search() function searches the string for a match, and returns a Match object if there is a match. If there is more than one match, only the first occurrence of the match will be returned."
   ]
  },
  {
   "cell_type": "code",
   "execution_count": 3,
   "id": "ba4ee4e4",
   "metadata": {},
   "outputs": [
    {
     "name": "stdout",
     "output_type": "stream",
     "text": [
      "Match Found!\n"
     ]
    }
   ],
   "source": [
    "if re.search(pattern, \"There is country named Bangladesh in south asia!\"):\n",
    "    print(\"Match Found!\")\n",
    "else:\n",
    "    print(\"No match\")"
   ]
  },
  {
   "cell_type": "markdown",
   "id": "f2138c28",
   "metadata": {},
   "source": [
    "### findall()"
   ]
  },
  {
   "cell_type": "markdown",
   "id": "f3ff3166",
   "metadata": {},
   "source": [
    "The findall() function returns a list containing all matches."
   ]
  },
  {
   "cell_type": "code",
   "execution_count": 4,
   "id": "790f6550",
   "metadata": {},
   "outputs": [
    {
     "name": "stdout",
     "output_type": "stream",
     "text": [
      "['bangla', 'bangla']\n"
     ]
    }
   ],
   "source": [
    "pattern = r\"bangla\"    \n",
    "print(re.findall(pattern, \"Bangladeshi bangla and indian bangla are differnet.\"))"
   ]
  },
  {
   "cell_type": "markdown",
   "id": "5215bedc",
   "metadata": {},
   "source": [
    "### split()"
   ]
  },
  {
   "cell_type": "markdown",
   "id": "30ee3a80",
   "metadata": {},
   "source": [
    "The split() function returns a list where the string has been split at each match. You can control the number of occurrences by specifying the maxsplit parameter."
   ]
  },
  {
   "cell_type": "code",
   "execution_count": 7,
   "id": "66389f69",
   "metadata": {},
   "outputs": [
    {
     "name": "stdout",
     "output_type": "stream",
     "text": [
      "['Bangladeshi', 'bangla', 'and', 'indian', 'bangla', 'are', 'differnet.']\n"
     ]
    }
   ],
   "source": [
    "import re\n",
    "txt = r\"Bangladeshi bangla and indian bangla are differnet.\"\n",
    "x = re.split(\"\\s\", txt)\n",
    "print(x)"
   ]
  },
  {
   "cell_type": "markdown",
   "id": "8fc5aced",
   "metadata": {},
   "source": [
    "### sub()"
   ]
  },
  {
   "cell_type": "markdown",
   "id": "ab8a2846",
   "metadata": {},
   "source": [
    "The sub() function replaces the matches with the text of your choice. You can control the number of replacements by specifying the count parameter."
   ]
  },
  {
   "cell_type": "code",
   "execution_count": 8,
   "id": "edb280d9",
   "metadata": {},
   "outputs": [
    {
     "name": "stdout",
     "output_type": "stream",
     "text": [
      "Bangladeshi9bangla9and9indian9bangla9are9differnet.\n"
     ]
    }
   ],
   "source": [
    "import re\n",
    "txt = r\"Bangladeshi bangla and indian bangla are differnet.\"\n",
    "x = re.sub(\"\\s\", \"9\", txt)\n",
    "print(x)"
   ]
  }
 ],
 "metadata": {
  "kernelspec": {
   "display_name": "Python 3 (ipykernel)",
   "language": "python",
   "name": "python3"
  },
  "language_info": {
   "codemirror_mode": {
    "name": "ipython",
    "version": 3
   },
   "file_extension": ".py",
   "mimetype": "text/x-python",
   "name": "python",
   "nbconvert_exporter": "python",
   "pygments_lexer": "ipython3",
   "version": "3.9.12"
  }
 },
 "nbformat": 4,
 "nbformat_minor": 5
}
