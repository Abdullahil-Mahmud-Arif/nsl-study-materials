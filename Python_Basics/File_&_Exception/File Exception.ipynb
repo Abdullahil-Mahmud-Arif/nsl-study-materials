{
 "cells": [
  {
   "cell_type": "markdown",
   "id": "89e630a6",
   "metadata": {},
   "source": [
    "# File & Exception"
   ]
  },
  {
   "cell_type": "markdown",
   "id": "18b276bb",
   "metadata": {},
   "source": [
    "Files are identified locations on a disk where associated data is stored. Working with files will make your programs fast when analyzing masses of data. Exceptions are special objects that any programming language uses to manage errors that occur when a program is running."
   ]
  },
  {
   "cell_type": "markdown",
   "id": "61c67844",
   "metadata": {},
   "source": [
    "## Exception"
   ]
  },
  {
   "cell_type": "markdown",
   "id": "65ff7c29",
   "metadata": {},
   "source": [
    "An Exception is an error that happens during the execution of a program. Whenever there is an error, Python generates an exception that could be handled. It basically prevents the program from getting crashed."
   ]
  },
  {
   "cell_type": "code",
   "execution_count": 38,
   "id": "8eae076c",
   "metadata": {},
   "outputs": [
    {
     "ename": "ZeroDivisionError",
     "evalue": "division by zero",
     "output_type": "error",
     "traceback": [
      "\u001b[0;31m---------------------------------------------------------------------------\u001b[0m",
      "\u001b[0;31mZeroDivisionError\u001b[0m                         Traceback (most recent call last)",
      "Input \u001b[0;32mIn [38]\u001b[0m, in \u001b[0;36m<cell line: 4>\u001b[0;34m()\u001b[0m\n\u001b[1;32m      1\u001b[0m a \u001b[38;5;241m=\u001b[39m \u001b[38;5;241m2500\u001b[39m\n\u001b[1;32m      2\u001b[0m b \u001b[38;5;241m=\u001b[39m \u001b[38;5;241m0\u001b[39m\n\u001b[0;32m----> 4\u001b[0m \u001b[38;5;28mprint\u001b[39m(\u001b[43ma\u001b[49m\u001b[38;5;241;43m/\u001b[39;49m\u001b[43mb\u001b[49m)\n\u001b[1;32m      5\u001b[0m \u001b[38;5;28mprint\u001b[39m(\u001b[38;5;124m\"\u001b[39m\u001b[38;5;124mI did it\u001b[39m\u001b[38;5;124m\"\u001b[39m)\n",
      "\u001b[0;31mZeroDivisionError\u001b[0m: division by zero"
     ]
    }
   ],
   "source": [
    "a = 2500\n",
    "b = 0\n",
    "\n",
    "print(a/b)\n",
    "print(\"I did it\")"
   ]
  },
  {
   "cell_type": "markdown",
   "id": "23ab8b46",
   "metadata": {},
   "source": [
    "### Exception handling"
   ]
  },
  {
   "cell_type": "markdown",
   "id": "aae38b69",
   "metadata": {},
   "source": [
    "#### try"
   ]
  },
  {
   "cell_type": "markdown",
   "id": "12472c68",
   "metadata": {},
   "source": [
    "The try block lets you test a block of code for errors. The except block lets you handle the error. The else block lets you execute code when there is no error."
   ]
  },
  {
   "cell_type": "code",
   "execution_count": 5,
   "id": "467ad823",
   "metadata": {},
   "outputs": [
    {
     "name": "stdout",
     "output_type": "stream",
     "text": [
      "Enter a divisor to divide 1000: 0\n",
      "You entered 0 which is not permitted!\n"
     ]
    }
   ],
   "source": [
    "try:\n",
    "    a = 1000\n",
    "    b = int(input(\"Enter a divisor to divide 1000: \"))\n",
    "    print(a/b)\n",
    "except ZeroDivisionError:\n",
    "    print(\"You entered 0 which is not permitted!\")"
   ]
  },
  {
   "cell_type": "code",
   "execution_count": 40,
   "id": "73ab571e",
   "metadata": {},
   "outputs": [
    {
     "name": "stdout",
     "output_type": "stream",
     "text": [
      "Type or value error occurred\n"
     ]
    }
   ],
   "source": [
    "try:\n",
    "    variable = 10\n",
    "    print(variable + \"hello\")\n",
    "    print(variable / 2)\n",
    "except ZeroDivisionError:\n",
    "    print(\"Divided by zero\")\n",
    "except (ValueError, TypeError):\n",
    "    print(\"Type or value error occurred\")"
   ]
  },
  {
   "cell_type": "markdown",
   "id": "81a00eeb",
   "metadata": {},
   "source": [
    "#### finally"
   ]
  },
  {
   "cell_type": "markdown",
   "id": "3588def9",
   "metadata": {},
   "source": [
    "It defines a block of code to run when the try... except...else block is final. The finally block will be executed no matter if the try block raises an error or not. This can be useful to close objects and clean up resources."
   ]
  },
  {
   "cell_type": "code",
   "execution_count": 6,
   "id": "a9d94b32",
   "metadata": {},
   "outputs": [
    {
     "name": "stdout",
     "output_type": "stream",
     "text": [
      "1\n",
      "This is executed last\n"
     ]
    },
    {
     "ename": "NameError",
     "evalue": "name 'unknown_var' is not defined",
     "output_type": "error",
     "traceback": [
      "\u001b[0;31m---------------------------------------------------------------------------\u001b[0m",
      "\u001b[0;31mZeroDivisionError\u001b[0m                         Traceback (most recent call last)",
      "Input \u001b[0;32mIn [6]\u001b[0m, in \u001b[0;36m<cell line: 1>\u001b[0;34m()\u001b[0m\n\u001b[1;32m      2\u001b[0m    \u001b[38;5;28mprint\u001b[39m(\u001b[38;5;241m1\u001b[39m)\n\u001b[0;32m----> 3\u001b[0m    \u001b[38;5;28mprint\u001b[39m(\u001b[38;5;241;43m10\u001b[39;49m\u001b[43m \u001b[49m\u001b[38;5;241;43m/\u001b[39;49m\u001b[43m \u001b[49m\u001b[38;5;241;43m0\u001b[39;49m)\n\u001b[1;32m      4\u001b[0m \u001b[38;5;28;01mexcept\u001b[39;00m \u001b[38;5;167;01mZeroDivisionError\u001b[39;00m:\n",
      "\u001b[0;31mZeroDivisionError\u001b[0m: division by zero",
      "\nDuring handling of the above exception, another exception occurred:\n",
      "\u001b[0;31mNameError\u001b[0m                                 Traceback (most recent call last)",
      "Input \u001b[0;32mIn [6]\u001b[0m, in \u001b[0;36m<cell line: 1>\u001b[0;34m()\u001b[0m\n\u001b[1;32m      3\u001b[0m    \u001b[38;5;28mprint\u001b[39m(\u001b[38;5;241m10\u001b[39m \u001b[38;5;241m/\u001b[39m \u001b[38;5;241m0\u001b[39m)\n\u001b[1;32m      4\u001b[0m \u001b[38;5;28;01mexcept\u001b[39;00m \u001b[38;5;167;01mZeroDivisionError\u001b[39;00m:\n\u001b[0;32m----> 5\u001b[0m    \u001b[38;5;28mprint\u001b[39m(\u001b[43munknown_var\u001b[49m)\n\u001b[1;32m      6\u001b[0m \u001b[38;5;28;01mfinally\u001b[39;00m:\n\u001b[1;32m      7\u001b[0m    \u001b[38;5;28mprint\u001b[39m(\u001b[38;5;124m\"\u001b[39m\u001b[38;5;124mThis is executed last\u001b[39m\u001b[38;5;124m\"\u001b[39m)\n",
      "\u001b[0;31mNameError\u001b[0m: name 'unknown_var' is not defined"
     ]
    }
   ],
   "source": [
    "try:\n",
    "   print(1)\n",
    "   print(10 / 0)\n",
    "except ZeroDivisionError:\n",
    "   print(unknown_var)\n",
    "finally:\n",
    "   print(\"This is executed last\")"
   ]
  },
  {
   "cell_type": "markdown",
   "id": "3ce7b56e",
   "metadata": {},
   "source": [
    "#### raise"
   ]
  },
  {
   "cell_type": "markdown",
   "id": "dbcbfda4",
   "metadata": {},
   "source": [
    "The raise keyword is used to raise an exception. You can define what kind of error to raise, and the text to print to the user."
   ]
  },
  {
   "cell_type": "code",
   "execution_count": 44,
   "id": "572342c2",
   "metadata": {},
   "outputs": [
    {
     "ename": "TypeError",
     "evalue": "",
     "output_type": "error",
     "traceback": [
      "\u001b[0;31m---------------------------------------------------------------------------\u001b[0m",
      "\u001b[0;31mTypeError\u001b[0m                                 Traceback (most recent call last)",
      "Input \u001b[0;32mIn [44]\u001b[0m, in \u001b[0;36m<cell line: 2>\u001b[0;34m()\u001b[0m\n\u001b[1;32m      1\u001b[0m \u001b[38;5;66;03m#raise\u001b[39;00m\n\u001b[0;32m----> 2\u001b[0m \u001b[38;5;28;01mraise\u001b[39;00m \u001b[38;5;167;01mTypeError\u001b[39;00m\n",
      "\u001b[0;31mTypeError\u001b[0m: "
     ]
    }
   ],
   "source": [
    "raise TypeError"
   ]
  },
  {
   "cell_type": "code",
   "execution_count": 45,
   "id": "ec37e489",
   "metadata": {},
   "outputs": [
    {
     "name": "stdout",
     "output_type": "stream",
     "text": [
      "Custom message about an error!\n"
     ]
    },
    {
     "ename": "ZeroDivisionError",
     "evalue": "division by zero",
     "output_type": "error",
     "traceback": [
      "\u001b[0;31m---------------------------------------------------------------------------\u001b[0m",
      "\u001b[0;31mZeroDivisionError\u001b[0m                         Traceback (most recent call last)",
      "Input \u001b[0;32mIn [45]\u001b[0m, in \u001b[0;36m<cell line: 1>\u001b[0;34m()\u001b[0m\n\u001b[1;32m      1\u001b[0m \u001b[38;5;28;01mtry\u001b[39;00m:\n\u001b[0;32m----> 2\u001b[0m     num \u001b[38;5;241m=\u001b[39m \u001b[38;5;241;43m5\u001b[39;49m\u001b[43m \u001b[49m\u001b[38;5;241;43m/\u001b[39;49m\u001b[43m \u001b[49m\u001b[38;5;241;43m0\u001b[39;49m\n\u001b[1;32m      3\u001b[0m \u001b[38;5;28;01mexcept\u001b[39;00m:\n\u001b[1;32m      4\u001b[0m     \u001b[38;5;28mprint\u001b[39m(\u001b[38;5;124m\"\u001b[39m\u001b[38;5;124mCustom message about an error!\u001b[39m\u001b[38;5;124m\"\u001b[39m)\n",
      "\u001b[0;31mZeroDivisionError\u001b[0m: division by zero"
     ]
    }
   ],
   "source": [
    "try:\n",
    "    num = 5 / 0\n",
    "except:\n",
    "    print(\"Custom message about an error!\")\n",
    "    raise"
   ]
  },
  {
   "cell_type": "markdown",
   "id": "f3c0a2c3",
   "metadata": {},
   "source": [
    "## assertion"
   ]
  },
  {
   "cell_type": "markdown",
   "id": "7842d4d0",
   "metadata": {},
   "source": [
    "The assert statement is used to continue the execute if the given condition evaluates to True. If the assert condition evaluates to False, then it raises the AssertionError exception with the specified error message."
   ]
  },
  {
   "cell_type": "code",
   "execution_count": 46,
   "id": "dc3901e7",
   "metadata": {},
   "outputs": [
    {
     "name": "stdout",
     "output_type": "stream",
     "text": [
      "1\n",
      "2\n"
     ]
    },
    {
     "ename": "AssertionError",
     "evalue": "",
     "output_type": "error",
     "traceback": [
      "\u001b[0;31m---------------------------------------------------------------------------\u001b[0m",
      "\u001b[0;31mAssertionError\u001b[0m                            Traceback (most recent call last)",
      "Input \u001b[0;32mIn [46]\u001b[0m, in \u001b[0;36m<cell line: 4>\u001b[0;34m()\u001b[0m\n\u001b[1;32m      2\u001b[0m \u001b[38;5;28;01massert\u001b[39;00m \u001b[38;5;241m2\u001b[39m \u001b[38;5;241m+\u001b[39m \u001b[38;5;241m2\u001b[39m \u001b[38;5;241m==\u001b[39m \u001b[38;5;241m4\u001b[39m\n\u001b[1;32m      3\u001b[0m \u001b[38;5;28mprint\u001b[39m(\u001b[38;5;241m2\u001b[39m)\n\u001b[0;32m----> 4\u001b[0m \u001b[38;5;28;01massert\u001b[39;00m \u001b[38;5;241m1\u001b[39m \u001b[38;5;241m+\u001b[39m \u001b[38;5;241m1\u001b[39m \u001b[38;5;241m==\u001b[39m \u001b[38;5;241m3\u001b[39m\n\u001b[1;32m      5\u001b[0m \u001b[38;5;28mprint\u001b[39m(\u001b[38;5;241m3\u001b[39m)\n",
      "\u001b[0;31mAssertionError\u001b[0m: "
     ]
    }
   ],
   "source": [
    "print(1)\n",
    "assert 2 + 2 == 4\n",
    "print(2)\n",
    "assert 1 + 1 == 3\n",
    "print(3)"
   ]
  },
  {
   "cell_type": "code",
   "execution_count": 47,
   "id": "b1b33150",
   "metadata": {},
   "outputs": [
    {
     "name": "stdout",
     "output_type": "stream",
     "text": [
      "32.0\n",
      "451\n"
     ]
    },
    {
     "ename": "AssertionError",
     "evalue": "Colder than absolute zero!",
     "output_type": "error",
     "traceback": [
      "\u001b[0;31m---------------------------------------------------------------------------\u001b[0m",
      "\u001b[0;31mAssertionError\u001b[0m                            Traceback (most recent call last)",
      "Input \u001b[0;32mIn [47]\u001b[0m, in \u001b[0;36m<cell line: 7>\u001b[0;34m()\u001b[0m\n\u001b[1;32m      5\u001b[0m \u001b[38;5;28mprint\u001b[39m(KelvinToFahrenheit(\u001b[38;5;241m273\u001b[39m))\n\u001b[1;32m      6\u001b[0m \u001b[38;5;28mprint\u001b[39m(\u001b[38;5;28mint\u001b[39m(KelvinToFahrenheit(\u001b[38;5;241m505.78\u001b[39m)))\n\u001b[0;32m----> 7\u001b[0m \u001b[38;5;28mprint\u001b[39m(\u001b[43mKelvinToFahrenheit\u001b[49m\u001b[43m(\u001b[49m\u001b[38;5;241;43m-\u001b[39;49m\u001b[38;5;241;43m5\u001b[39;49m\u001b[43m)\u001b[49m)\n",
      "Input \u001b[0;32mIn [47]\u001b[0m, in \u001b[0;36mKelvinToFahrenheit\u001b[0;34m(Temperature)\u001b[0m\n\u001b[1;32m      1\u001b[0m \u001b[38;5;28;01mdef\u001b[39;00m \u001b[38;5;21mKelvinToFahrenheit\u001b[39m(Temperature):\n\u001b[0;32m----> 2\u001b[0m    \u001b[38;5;28;01massert\u001b[39;00m (Temperature \u001b[38;5;241m>\u001b[39m\u001b[38;5;241m=\u001b[39m \u001b[38;5;241m0\u001b[39m),\u001b[38;5;124m\"\u001b[39m\u001b[38;5;124mColder than absolute zero!\u001b[39m\u001b[38;5;124m\"\u001b[39m\n\u001b[1;32m      3\u001b[0m    \u001b[38;5;28;01mreturn\u001b[39;00m ((Temperature\u001b[38;5;241m-\u001b[39m\u001b[38;5;241m273\u001b[39m)\u001b[38;5;241m*\u001b[39m\u001b[38;5;241m1.8\u001b[39m)\u001b[38;5;241m+\u001b[39m\u001b[38;5;241m32\u001b[39m\n",
      "\u001b[0;31mAssertionError\u001b[0m: Colder than absolute zero!"
     ]
    }
   ],
   "source": [
    "def KelvinToFahrenheit(Temperature):\n",
    "   assert (Temperature >= 0),\"Colder than absolute zero!\"\n",
    "   return ((Temperature-273)*1.8)+32\n",
    "\n",
    "print(KelvinToFahrenheit(273))\n",
    "print(int(KelvinToFahrenheit(505.78)))\n",
    "print(KelvinToFahrenheit(-5))"
   ]
  },
  {
   "cell_type": "markdown",
   "id": "3693c16e",
   "metadata": {},
   "source": [
    "## File"
   ]
  },
  {
   "cell_type": "markdown",
   "id": "884b5b58",
   "metadata": {},
   "source": [
    "### open"
   ]
  },
  {
   "cell_type": "code",
   "execution_count": 14,
   "id": "8e77da75",
   "metadata": {},
   "outputs": [],
   "source": [
    "file_to_work_on = open(\"Arif.txt\")"
   ]
  },
  {
   "cell_type": "code",
   "execution_count": 15,
   "id": "20f82013",
   "metadata": {},
   "outputs": [],
   "source": [
    "file_to_work_on = open(\"file_name.txt\", \"w\")"
   ]
  },
  {
   "cell_type": "code",
   "execution_count": 16,
   "id": "6e757dc7",
   "metadata": {},
   "outputs": [],
   "source": [
    "file_to_work_on = open(\"file_name.txt\", \"r\")"
   ]
  },
  {
   "cell_type": "code",
   "execution_count": 17,
   "id": "a53f8834",
   "metadata": {},
   "outputs": [],
   "source": [
    "file_to_work_on = open(\"file_name.txt\", \"a\")"
   ]
  },
  {
   "cell_type": "code",
   "execution_count": 18,
   "id": "d68e3b64",
   "metadata": {},
   "outputs": [],
   "source": [
    "file_to_work_on = open(\"my_file\", \"wb\")"
   ]
  },
  {
   "cell_type": "markdown",
   "id": "15cd967d",
   "metadata": {},
   "source": [
    "### close"
   ]
  },
  {
   "cell_type": "code",
   "execution_count": 19,
   "id": "fe061015",
   "metadata": {},
   "outputs": [],
   "source": [
    "file_to_work_on.close()"
   ]
  },
  {
   "cell_type": "markdown",
   "id": "f4e66064",
   "metadata": {},
   "source": [
    "### read"
   ]
  },
  {
   "cell_type": "code",
   "execution_count": 20,
   "id": "1632686b",
   "metadata": {},
   "outputs": [
    {
     "name": "stdout",
     "output_type": "stream",
     "text": [
      "writing!!!\n"
     ]
    }
   ],
   "source": [
    "file_to_work = open(\"Arif.txt\", \"r\")\n",
    "content = file_to_work.read()\n",
    "\n",
    "print(content)\n",
    "\n",
    "file_to_work.close()"
   ]
  },
  {
   "cell_type": "code",
   "execution_count": 21,
   "id": "c10221d2",
   "metadata": {},
   "outputs": [
    {
     "name": "stdout",
     "output_type": "stream",
     "text": [
      "w\n",
      "riti\n",
      "ng!!!\n"
     ]
    }
   ],
   "source": [
    "file_to_work = open(\"Arif.txt\", \"r\") #open file\n",
    "\n",
    "just_one_character = file_to_work.read(1) #print first character\n",
    "print(just_one_character)\n",
    "\n",
    "remaining_four_characters = file_to_work.read(4) #print following 4 characters\n",
    "print(remaining_four_characters)\n",
    "\n",
    "rest_of_the_file = file_to_work.read() #print the rest\n",
    "print(rest_of_the_file)\n",
    "\n",
    "file_to_work.close() #close file"
   ]
  },
  {
   "cell_type": "code",
   "execution_count": 22,
   "id": "c19cab3f",
   "metadata": {},
   "outputs": [
    {
     "name": "stdout",
     "output_type": "stream",
     "text": [
      "['writing!!!']\n"
     ]
    }
   ],
   "source": [
    "file_to_work = open(\"Arif.txt\", \"r\")\n",
    "\n",
    "lines = file_to_work.readlines()\n",
    "print(lines)\n",
    "\n",
    "file_to_work.close()"
   ]
  },
  {
   "cell_type": "code",
   "execution_count": 23,
   "id": "0f14ea73",
   "metadata": {},
   "outputs": [
    {
     "name": "stdout",
     "output_type": "stream",
     "text": [
      "writing!!!\n"
     ]
    }
   ],
   "source": [
    "file_to_work = open(\"Arif.txt\", \"r\")\n",
    "\n",
    "for my_line in file_to_work:\n",
    "    print(my_line)\n",
    "\n",
    "file_to_work.close()"
   ]
  },
  {
   "cell_type": "markdown",
   "id": "393f7e60",
   "metadata": {},
   "source": [
    "### write"
   ]
  },
  {
   "cell_type": "code",
   "execution_count": 24,
   "id": "0bb5dd16",
   "metadata": {},
   "outputs": [
    {
     "name": "stdout",
     "output_type": "stream",
     "text": [
      "Writing\n"
     ]
    }
   ],
   "source": [
    "file_to_work = open(\"Arif.txt\", \"w\")\n",
    "file_to_work.write(\"Writing\")\n",
    "file_to_work.close()\n",
    "\n",
    "file_to_work = open(\"Arif.txt\", \"r\")\n",
    "print(file_to_work.read())\n",
    "file_to_work.close()"
   ]
  },
  {
   "cell_type": "code",
   "execution_count": 25,
   "id": "4907d319",
   "metadata": {},
   "outputs": [
    {
     "name": "stdout",
     "output_type": "stream",
     "text": [
      "Yes, 10 byte(s) has been written!\n"
     ]
    }
   ],
   "source": [
    "file_to_work = open(\"Arif.txt\", \"w\")\n",
    "is_writing_done = file_to_work.write(\"writing!!!\")\n",
    "\n",
    "if is_writing_done:\n",
    "    print(\"Yes, {0} byte(s) has been written!\".format(is_writing_done))\n",
    "file_to_work.close()"
   ]
  },
  {
   "cell_type": "code",
   "execution_count": 26,
   "id": "4925e1b0",
   "metadata": {},
   "outputs": [
    {
     "name": "stdout",
     "output_type": "stream",
     "text": [
      "writing!!!\n"
     ]
    }
   ],
   "source": [
    "#better way\n",
    "try:\n",
    "    file_to_work = open(\"Arif.txt\", \"r\")\n",
    "    content = file_to_work.read()\n",
    "    print(content)\n",
    "finally:\n",
    "    file_to_work.close()"
   ]
  },
  {
   "cell_type": "code",
   "execution_count": 27,
   "id": "08aa084a",
   "metadata": {},
   "outputs": [
    {
     "name": "stdout",
     "output_type": "stream",
     "text": [
      "writing!!!\n"
     ]
    }
   ],
   "source": [
    "#best way\n",
    "with open(\"Arif.txt\") as f:\n",
    "    print(f.read())"
   ]
  }
 ],
 "metadata": {
  "kernelspec": {
   "display_name": "tenv",
   "language": "python",
   "name": "tenv"
  },
  "language_info": {
   "codemirror_mode": {
    "name": "ipython",
    "version": 3
   },
   "file_extension": ".py",
   "mimetype": "text/x-python",
   "name": "python",
   "nbconvert_exporter": "python",
   "pygments_lexer": "ipython3",
   "version": "3.9.12"
  }
 },
 "nbformat": 4,
 "nbformat_minor": 5
}
