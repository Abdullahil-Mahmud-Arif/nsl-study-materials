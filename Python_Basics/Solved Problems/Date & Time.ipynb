{
 "cells": [
  {
   "cell_type": "markdown",
   "id": "4ab9dd9f",
   "metadata": {},
   "source": [
    "# Calendar Module"
   ]
  },
  {
   "cell_type": "code",
   "execution_count": 2,
   "id": "e5dbf263",
   "metadata": {},
   "outputs": [
    {
     "name": "stdout",
     "output_type": "stream",
     "text": [
      "10 19 1998\n",
      "MONDAY\n"
     ]
    }
   ],
   "source": [
    "import calendar\n",
    "date = list(input())\n",
    "\n",
    "month = int(date[0]+date[1])\n",
    "day = int(date[3]+date[4])\n",
    "year = int(date[6]+date[7]+date[8]+date[9])\n",
    "\n",
    "if year > 1995 and year < 3000:\n",
    "    Day = calendar.weekday(year, month, day)\n",
    "    toShow = [\"MONDAY\", \"TUESDAY\", \"WEDNESDAY\", \"THURSDAY\", \"FRIDAY\", \"SATURDAY\", \"SUNDAY\"]\n",
    "    print(toShow[Day])"
   ]
  }
 ],
 "metadata": {
  "kernelspec": {
   "display_name": "tenv",
   "language": "python",
   "name": "tenv"
  },
  "language_info": {
   "codemirror_mode": {
    "name": "ipython",
    "version": 3
   },
   "file_extension": ".py",
   "mimetype": "text/x-python",
   "name": "python",
   "nbconvert_exporter": "python",
   "pygments_lexer": "ipython3",
   "version": "3.9.12"
  }
 },
 "nbformat": 4,
 "nbformat_minor": 5
}
