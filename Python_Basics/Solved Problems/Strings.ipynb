{
 "cells": [
  {
   "cell_type": "markdown",
   "id": "a234f49a",
   "metadata": {},
   "source": [
    "# Merge the tools"
   ]
  },
  {
   "cell_type": "code",
   "execution_count": 4,
   "id": "f79fdfa5",
   "metadata": {},
   "outputs": [
    {
     "name": "stdout",
     "output_type": "stream",
     "text": [
      "AABDDDAAADACCE\n",
      "2\n",
      "A\n",
      "BD\n",
      "D\n",
      "A\n",
      "AD\n",
      "AC\n",
      "CE\n"
     ]
    }
   ],
   "source": [
    "def merge_the_tools(string, k):\n",
    "    # your code goes here\n",
    "    #s = str(input())\n",
    "    #k = int(input())\n",
    "    n = (len(string))\n",
    "    l = []\n",
    "    t = 0\n",
    "\n",
    "    if (n%k != 0):\n",
    "        print(str(k) + \" is not a factor of the string length \" + str(n))\n",
    "    \n",
    "    else:\n",
    "        for i in string:\n",
    "            t = t+1\n",
    "            l.append(i)\n",
    "\n",
    "            if t == k:\n",
    "                x = ''.join(dict.fromkeys(l))\n",
    "                print(x)\n",
    "                t = 0\n",
    "                l = []\n",
    "\n",
    "if __name__ == '__main__':\n",
    "    string, k = input(), int(input())\n",
    "    merge_the_tools(string, k)"
   ]
  },
  {
   "cell_type": "markdown",
   "id": "0c4dacc6",
   "metadata": {},
   "source": [
    "# The Minion Game"
   ]
  },
  {
   "cell_type": "code",
   "execution_count": 9,
   "id": "a0f8a862",
   "metadata": {},
   "outputs": [
    {
     "name": "stdout",
     "output_type": "stream",
     "text": [
      "BANANA\n",
      "Stuart 12\n"
     ]
    }
   ],
   "source": [
    "def minion_game(s):\n",
    "    vowels = 'AEIOU'\n",
    "    Stuart_score, Kevin_score = 0, 0\n",
    "    length = len(s)\n",
    "    for start_idx in range(length):\n",
    "        score = length - start_idx\n",
    "        if s[start_idx] in vowels:\n",
    "            Kevin_score += score\n",
    "        else:\n",
    "            Stuart_score += score\n",
    "    if Stuart_score == Kevin_score:\n",
    "        print('Draw')\n",
    "    if Stuart_score > Kevin_score:\n",
    "        print('Stuart {}'.format(Stuart_score))\n",
    "    if Stuart_score < Kevin_score:\n",
    "        print('Kevin {}'.format(Kevin_score))\n",
    "        \n",
    "if __name__ == '__main__':\n",
    "    s = input()\n",
    "    minion_game(s)"
   ]
  },
  {
   "cell_type": "markdown",
   "id": "6f2296b1",
   "metadata": {},
   "source": [
    "# sWAP cASE"
   ]
  },
  {
   "cell_type": "code",
   "execution_count": 10,
   "id": "8786f18d",
   "metadata": {},
   "outputs": [
    {
     "name": "stdout",
     "output_type": "stream",
     "text": [
      "HackerRank.com \n",
      "hACKERrANK.COM \n"
     ]
    }
   ],
   "source": [
    "def swap_case(s):\n",
    "    result = \"\"\n",
    "    for i in s:\n",
    "        if i.isupper() == True:\n",
    "            j = i.lower()\n",
    "        elif i == \" \":\n",
    "            j = \" \"\n",
    "        elif i.isdigit() == True:\n",
    "            j = str(i)\n",
    "        else:\n",
    "            j = i.upper()\n",
    "            \n",
    "        result = result + j\n",
    "    return (result)\n",
    "    \n",
    "if __name__ == '__main__':\n",
    "    s = input()\n",
    "    result = swap_case(s)\n",
    "    print(result)"
   ]
  },
  {
   "cell_type": "markdown",
   "id": "4df5733c",
   "metadata": {},
   "source": [
    "# String Split and Join"
   ]
  },
  {
   "cell_type": "code",
   "execution_count": 11,
   "id": "f74ad385",
   "metadata": {},
   "outputs": [
    {
     "name": "stdout",
     "output_type": "stream",
     "text": [
      "this is a string\n",
      "this-is-a-string\n"
     ]
    }
   ],
   "source": [
    "def split_and_join(line):\n",
    "    \n",
    "    line_split = line.split(\" \")\n",
    "    result = \"-\".join(line_split)\n",
    "    \n",
    "    return (result)\n",
    "\n",
    "if __name__ == '__main__':\n",
    "    line = input()\n",
    "    result = split_and_join(line)\n",
    "    print(result)"
   ]
  },
  {
   "cell_type": "markdown",
   "id": "c9f67625",
   "metadata": {},
   "source": [
    "# What's Your Name?"
   ]
  },
  {
   "cell_type": "code",
   "execution_count": 12,
   "id": "afbb134c",
   "metadata": {},
   "outputs": [
    {
     "name": "stdout",
     "output_type": "stream",
     "text": [
      "Mahmud\n",
      "Arif\n",
      "Hello Mahmud Arif! You just delved into python.\n"
     ]
    }
   ],
   "source": [
    "# Complete the 'print_full_name' function below.\n",
    "#\n",
    "# The function is expected to return a STRING.\n",
    "# The function accepts following parameters:\n",
    "#  1. STRING first\n",
    "#  2. STRING last\n",
    "#\n",
    "\n",
    "def print_full_name(first_name, last_name):\n",
    "    \n",
    "    result = first_name + \" \" + last_name\n",
    "    print(\"Hello \" + result + \"! You just delved into python.\")\n",
    "\n",
    "if __name__ == '__main__':\n",
    "    first_name = input()\n",
    "    last_name = input()\n",
    "    print_full_name(first_name, last_name)"
   ]
  },
  {
   "cell_type": "markdown",
   "id": "dac8f341",
   "metadata": {},
   "source": [
    "# Mutations"
   ]
  },
  {
   "cell_type": "code",
   "execution_count": 13,
   "id": "c401fbe5",
   "metadata": {},
   "outputs": [
    {
     "name": "stdout",
     "output_type": "stream",
     "text": [
      "abracadabra\n",
      "6 e\n",
      "abracaeabra\n"
     ]
    }
   ],
   "source": [
    "def mutate_string(string, position, character):\n",
    "     str_new = string[:int(i)] + c + string[int(i)+1:]\n",
    "     return str_new\n",
    "    \n",
    "\n",
    "if __name__ == '__main__':\n",
    "    s = input()\n",
    "    i, c = input().split()\n",
    "    s_new = mutate_string(s, int(i), c)\n",
    "    print(s_new)"
   ]
  },
  {
   "cell_type": "markdown",
   "id": "db37c36f",
   "metadata": {},
   "source": [
    "# Find a string\n"
   ]
  },
  {
   "cell_type": "code",
   "execution_count": 14,
   "id": "b97f5189",
   "metadata": {},
   "outputs": [
    {
     "name": "stdout",
     "output_type": "stream",
     "text": [
      "ABDCDDBD\n",
      "BD\n",
      "2\n"
     ]
    }
   ],
   "source": [
    "def count_substring(string, sub_string):\n",
    "    n = len(sub_string)\n",
    "    c = 0\n",
    "    for i in range(len(string)):\n",
    "        if string[i:n] == sub_string:\n",
    "            \n",
    "            c+=1\n",
    "        n+=1\n",
    "    return c\n",
    "\n",
    "if __name__ == '__main__':\n",
    "    string = input().strip()\n",
    "    sub_string = input().strip()\n",
    "    \n",
    "    count = count_substring(string, sub_string)\n",
    "    print(count)"
   ]
  },
  {
   "cell_type": "markdown",
   "id": "a396b69c",
   "metadata": {},
   "source": [
    "# String Validators"
   ]
  },
  {
   "cell_type": "code",
   "execution_count": 17,
   "id": "3a884087",
   "metadata": {},
   "outputs": [
    {
     "name": "stdout",
     "output_type": "stream",
     "text": [
      "qA4\n",
      "True\n",
      "True\n",
      "True\n",
      "True\n",
      "True\n"
     ]
    }
   ],
   "source": [
    "if __name__ == '__main__':\n",
    "    \n",
    "    is_alphanum = False\n",
    "    is_alpha = False\n",
    "    is_digit = False\n",
    "    is_lower = False\n",
    "    is_upper = False\n",
    "    \n",
    "    s = input()\n",
    "    for i in s:\n",
    "        if i.isalnum() == True: is_alphanum = True\n",
    "        if i.isalpha() == True: is_alpha = True\n",
    "        if i.isdigit() == True: is_digit = True\n",
    "        if i.islower() == True: is_lower = True\n",
    "        if i.isupper() == True: is_upper = True\n",
    "            \n",
    "    print(is_alphanum)\n",
    "    print(is_alpha)\n",
    "    print(is_digit)\n",
    "    print(is_lower)\n",
    "    print(is_upper)"
   ]
  },
  {
   "cell_type": "markdown",
   "id": "ea81d80c",
   "metadata": {},
   "source": [
    "# String Formatting"
   ]
  },
  {
   "cell_type": "code",
   "execution_count": 18,
   "id": "23a9a3d2",
   "metadata": {},
   "outputs": [
    {
     "name": "stdout",
     "output_type": "stream",
     "text": [
      "20\n",
      "    1     1     1     1\n",
      "    2     2     2    10\n",
      "    3     3     3    11\n",
      "    4     4     4   100\n",
      "    5     5     5   101\n",
      "    6     6     6   110\n",
      "    7     7     7   111\n",
      "    8    10     8  1000\n",
      "    9    11     9  1001\n",
      "   10    12     A  1010\n",
      "   11    13     B  1011\n",
      "   12    14     C  1100\n",
      "   13    15     D  1101\n",
      "   14    16     E  1110\n",
      "   15    17     F  1111\n",
      "   16    20    10 10000\n",
      "   17    21    11 10001\n",
      "   18    22    12 10010\n",
      "   19    23    13 10011\n",
      "   20    24    14 10100\n"
     ]
    }
   ],
   "source": [
    "def print_formatted(number):\n",
    "    \n",
    "    w=len(bin(number)[2:])\n",
    "    for i in range(1, number+1):    \n",
    "        print(str(i).rjust(w),oct(i)[2:].rjust(w),format(i, 'X').rjust(w),bin(i)[2:].rjust(w))\n",
    "        \n",
    "if __name__ == '__main__':\n",
    "    n = int(input())\n",
    "    print_formatted(n)"
   ]
  },
  {
   "cell_type": "markdown",
   "id": "a1e888fb",
   "metadata": {},
   "source": [
    "# Capitalize!"
   ]
  },
  {
   "cell_type": "code",
   "execution_count": 23,
   "id": "923d09b7",
   "metadata": {},
   "outputs": [
    {
     "name": "stdout",
     "output_type": "stream",
     "text": [
      "mahmud arif\n",
      "Mahmud Arif\n",
      "\n"
     ]
    }
   ],
   "source": [
    "import os\n",
    "\n",
    "def solve(s):\n",
    "    res = \"\"\n",
    "    for i in range(len(s)):\n",
    "        \n",
    "        if i==0:\n",
    "            res = res + s[i].upper()\n",
    "        elif s[i-1]==\" \":\n",
    "            res = res + s[i].upper()\n",
    "        else:\n",
    "            res = res + s[i]\n",
    "        \n",
    "    return res\n",
    "\n",
    "if __name__ == '__main__':\n",
    "    fptr = open('Arif.txt', 'w')\n",
    "\n",
    "    s = input()\n",
    "\n",
    "    result = solve(s)\n",
    "\n",
    "    fptr.write(result + '\\n')\n",
    "    \n",
    "    fptr1 = open('Arif.txt', 'r')\n",
    "    \n",
    "    content = fptr1.read()\n",
    "    \n",
    "    print(content)\n",
    "\n",
    "    fptr.close()\n"
   ]
  },
  {
   "cell_type": "markdown",
   "id": "215e1da9",
   "metadata": {},
   "source": [
    "# Text Wrap"
   ]
  },
  {
   "cell_type": "code",
   "execution_count": 25,
   "id": "540d0199",
   "metadata": {},
   "outputs": [
    {
     "name": "stdout",
     "output_type": "stream",
     "text": [
      "DSLSFKJLSDGJHSOIFUFHADKA\n",
      "5\n",
      "DSLSF\n",
      "KJLSD\n",
      "GJHSO\n",
      "IFUFH\n",
      "ADKA\n"
     ]
    }
   ],
   "source": [
    "import textwrap\n",
    "\n",
    "def wrap(string, max_width):\n",
    "    wrapper = textwrap.TextWrapper(width=max_width)\n",
    "    \n",
    "    word_list = wrapper.fill(text=string)\n",
    "    return word_list\n",
    "\n",
    "if __name__ == '__main__':\n",
    "    string, max_width = input(), int(input())\n",
    "    result = wrap(string, max_width)\n",
    "    print(result)"
   ]
  }
 ],
 "metadata": {
  "kernelspec": {
   "display_name": "tenv",
   "language": "python",
   "name": "tenv"
  },
  "language_info": {
   "codemirror_mode": {
    "name": "ipython",
    "version": 3
   },
   "file_extension": ".py",
   "mimetype": "text/x-python",
   "name": "python",
   "nbconvert_exporter": "python",
   "pygments_lexer": "ipython3",
   "version": "3.9.12"
  }
 },
 "nbformat": 4,
 "nbformat_minor": 5
}
