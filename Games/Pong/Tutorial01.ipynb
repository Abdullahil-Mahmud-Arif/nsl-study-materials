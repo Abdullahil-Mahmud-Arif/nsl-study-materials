{
 "cells": [
  {
   "cell_type": "markdown",
   "id": "47013f75",
   "metadata": {},
   "source": [
    "# Initialization"
   ]
  },
  {
   "cell_type": "code",
   "execution_count": 6,
   "id": "672c56f8",
   "metadata": {},
   "outputs": [],
   "source": [
    "import pygame\n",
    "pygame.init()\n",
    "\n",
    "BLACK = (0, 0, 0)\n",
    "WHITE = (255, 255, 255)\n",
    "\n",
    "#window\n",
    "size = (700, 500)\n",
    "screen = pygame.display.set_mode(size)\n",
    "pygame.display.set_caption(\"Pong\")\n",
    "\n",
    "carryOn = True\n",
    "\n",
    "clock = pygame.time.Clock()\n",
    "\n",
    "while carryOn:\n",
    "    \n",
    "    for event in pygame.event.get():\n",
    "        if event.type==pygame.QUIT:\n",
    "            carryOn = False\n",
    "            \n",
    "    #game logic\n",
    "    \n",
    "    \n",
    "    \n",
    "    #drawing\n",
    "    screen.fill(BLACK)\n",
    "    #middle line / net\n",
    "    pygame.draw.line(screen, WHITE, [349, 0], [349, 500], 3)\n",
    "    \n",
    "    #update screen\n",
    "    pygame.display.flip()\n",
    "    \n",
    "    clock.tick(60)\n",
    "    \n",
    "pygame.quit()"
   ]
  }
 ],
 "metadata": {
  "kernelspec": {
   "display_name": "tenv",
   "language": "python",
   "name": "tenv"
  },
  "language_info": {
   "codemirror_mode": {
    "name": "ipython",
    "version": 3
   },
   "file_extension": ".py",
   "mimetype": "text/x-python",
   "name": "python",
   "nbconvert_exporter": "python",
   "pygments_lexer": "ipython3",
   "version": "3.9.12"
  }
 },
 "nbformat": 4,
 "nbformat_minor": 5
}
