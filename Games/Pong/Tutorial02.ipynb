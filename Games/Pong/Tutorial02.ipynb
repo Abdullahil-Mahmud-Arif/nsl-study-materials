{
 "cells": [
  {
   "cell_type": "markdown",
   "id": "e7dec5d4",
   "metadata": {},
   "source": [
    "# Paddle class"
   ]
  },
  {
   "cell_type": "code",
   "execution_count": 4,
   "id": "ec7863ae",
   "metadata": {},
   "outputs": [],
   "source": [
    "import pygame\n",
    "BLACK = (0, 0, 0)\n",
    "\n",
    "class Paddle(pygame.sprite.Sprite):\n",
    "    \n",
    "    def __init__(self, color, width, height):\n",
    "        super().__init__()\n",
    "    \n",
    "        self.image = pygame.Surface([width, height])\n",
    "        self.image.fill(BLACK)\n",
    "        self.image.set_colorkey(BLACK)\n",
    "\n",
    "        pygame.draw.rect(self.image, color, [0, 0, width, height])\n",
    "\n",
    "        self.rect = self.get_rect()"
   ]
  },
  {
   "cell_type": "markdown",
   "id": "7a1b08fc",
   "metadata": {},
   "source": [
    "# Adding paddle objects"
   ]
  },
  {
   "cell_type": "code",
   "execution_count": 1,
   "id": "5279a9d6",
   "metadata": {},
   "outputs": [
    {
     "name": "stdout",
     "output_type": "stream",
     "text": [
      "pygame 2.1.2 (SDL 2.0.16, Python 3.9.12)\n",
      "Hello from the pygame community. https://www.pygame.org/contribute.html\n"
     ]
    }
   ],
   "source": [
    "import pygame\n",
    "from paddle import Paddle\n",
    "\n",
    "pygame.init()\n",
    "\n",
    "BLACK = (0, 0, 0)\n",
    "WHITE = (255, 255, 255)\n",
    "\n",
    "#window\n",
    "size = (700, 500)\n",
    "screen = pygame.display.set_mode(size)\n",
    "pygame.display.set_caption(\"Pong\")\n",
    "\n",
    "\n",
    "#paddles------------------------\n",
    "paddleA = Paddle(WHITE, 10, 100)\n",
    "paddleA.rect.x = 20\n",
    "paddleA.rect.y = 200\n",
    "\n",
    "paddleB = Paddle(WHITE, 10, 100)\n",
    "paddleB.rect.x = 670\n",
    "paddleB.rect.y = 200\n",
    "\n",
    "#sprites list\n",
    "all_sprites_list = pygame.sprite.Group()\n",
    "\n",
    "all_sprites_list.add(paddleA)\n",
    "all_sprites_list.add(paddleB)\n",
    "\n",
    "\n",
    "carryOn = True\n",
    "\n",
    "clock = pygame.time.Clock()\n",
    "\n",
    "while carryOn:\n",
    "    \n",
    "    for event in pygame.event.get():\n",
    "        if event.type==pygame.QUIT:\n",
    "            carryOn = False\n",
    "            \n",
    "        elif event.type==pygame.KEYDOWN:\n",
    "            if event.key==pygame.K_q:\n",
    "                carryOn = False\n",
    "                \n",
    "            \n",
    "    #game logic\n",
    "    all_sprites_list.update()\n",
    "    \n",
    "    \n",
    "    #drawing\n",
    "    screen.fill(BLACK)\n",
    "    #middle line / net\n",
    "    pygame.draw.line(screen, WHITE, [349, 0], [349, 500], 3)\n",
    "    \n",
    "    #paddles\n",
    "    all_sprites_list.draw(screen)\n",
    "    \n",
    "    #update screen\n",
    "    pygame.display.flip()\n",
    "    \n",
    "    clock.tick(60)\n",
    "    \n",
    "pygame.quit()"
   ]
  }
 ],
 "metadata": {
  "kernelspec": {
   "display_name": "tenv",
   "language": "python",
   "name": "tenv"
  },
  "language_info": {
   "codemirror_mode": {
    "name": "ipython",
    "version": 3
   },
   "file_extension": ".py",
   "mimetype": "text/x-python",
   "name": "python",
   "nbconvert_exporter": "python",
   "pygments_lexer": "ipython3",
   "version": "3.9.12"
  }
 },
 "nbformat": 4,
 "nbformat_minor": 5
}
