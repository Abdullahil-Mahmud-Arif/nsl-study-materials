{
 "cells": [
  {
   "cell_type": "code",
   "execution_count": 20,
   "id": "0484f4c4",
   "metadata": {},
   "outputs": [
    {
     "data": {
      "text/plain": [
       "(5, 0)"
      ]
     },
     "execution_count": 20,
     "metadata": {},
     "output_type": "execute_result"
    }
   ],
   "source": [
    "import pygame\n",
    "pygame.init()"
   ]
  },
  {
   "cell_type": "markdown",
   "id": "6a3c047b",
   "metadata": {},
   "source": [
    "# Define colors"
   ]
  },
  {
   "cell_type": "code",
   "execution_count": 21,
   "id": "a233d6d7",
   "metadata": {},
   "outputs": [],
   "source": [
    "#define colors\n",
    "WHITE = (255,255,255)\n",
    "DARKBLUE = (36,90,190)\n",
    "LIGHTBLUE = (0,176,240)\n",
    "RED = (255,0,0)\n",
    "ORANGE = (255,100,0)\n",
    "YELLOW = (255,255,0)\n",
    "\n",
    "score = 0\n",
    "lives = 3"
   ]
  },
  {
   "cell_type": "markdown",
   "id": "35fff8a9",
   "metadata": {},
   "source": [
    "# Open new window"
   ]
  },
  {
   "cell_type": "code",
   "execution_count": 22,
   "id": "b99d19bf",
   "metadata": {},
   "outputs": [],
   "source": [
    "size = (800,600)\n",
    "screen = pygame.display.set_mode(size)\n",
    "pygame.display.set_caption(\"Breakout-1\")"
   ]
  },
  {
   "cell_type": "markdown",
   "id": "80f7ce27",
   "metadata": {},
   "source": [
    "# Main program loop"
   ]
  },
  {
   "cell_type": "code",
   "execution_count": 23,
   "id": "e44bcd54",
   "metadata": {},
   "outputs": [],
   "source": [
    "#loop carries on until user exits\n",
    "carryOn = True\n",
    "\n",
    "#to control screen update speed\n",
    "clock = pygame.time.Clock()\n",
    "\n",
    "#loop\n",
    "while carryOn:\n",
    "    \n",
    "    #main event\n",
    "    for event in pygame.event.get(): #user update\n",
    "        if event.type == pygame.QUIT:\n",
    "            carryOn =False\n",
    "            \n",
    "            \n",
    "    #game logic\n",
    "    \n",
    "    \n",
    "    #Drawing code\n",
    "    #clear screen to dark blue\n",
    "    screen.fill(DARKBLUE)\n",
    "    pygame.draw.line(screen, WHITE, [0,38], [800,38], 2)\n",
    "    \n",
    "    #display score and lives\n",
    "    font = pygame.font.Font(None, 34)\n",
    "    text = font.render(\"Score: \" + str(score), 1, WHITE)\n",
    "    screen.blit(text, (20,10))\n",
    "    text = font.render(\"Lives: \" + str(lives), 1, WHITE)\n",
    "    screen.blit(text, (650,10))\n",
    "    \n",
    "    #update screen with drawing\n",
    "    pygame.display.flip()\n",
    "    \n",
    "    #limit to 60 fps\n",
    "    clock.tick(60)\n",
    "    \n",
    "#Once we have exited the main program loop we can stop the game engine\n",
    "pygame.quit()"
   ]
  }
 ],
 "metadata": {
  "kernelspec": {
   "display_name": "tenv",
   "language": "python",
   "name": "tenv"
  },
  "language_info": {
   "codemirror_mode": {
    "name": "ipython",
    "version": 3
   },
   "file_extension": ".py",
   "mimetype": "text/x-python",
   "name": "python",
   "nbconvert_exporter": "python",
   "pygments_lexer": "ipython3",
   "version": "3.9.12"
  }
 },
 "nbformat": 4,
 "nbformat_minor": 5
}
